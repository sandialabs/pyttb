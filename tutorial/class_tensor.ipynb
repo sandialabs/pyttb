{
 "cells": [
  {
   "cell_type": "markdown",
   "metadata": {},
   "source": [
    "# Tensors\n"
   ]
  },
  {
   "cell_type": "markdown",
   "metadata": {},
   "source": [
    "Tensors are extensions of multidimensial arrays with additional operations defined on them.  Here we explain the basics for creating and working with tensors."
   ]
  },
  {
   "cell_type": "markdown",
   "metadata": {},
   "source": [
    "## Contents"
   ]
  },
  {
   "cell_type": "markdown",
   "metadata": {},
   "source": [
    "* [Creating a tensor from an array](#Creating-a-tensor-from-an-array)\n",
    "* [Creating a one-dimensional tensor](#Creating-a-one-dimensional-tensor)\n",
    "* [Specifying trailing singleton dimensions in a tensor](#Specifying-trailing-singleton-dimensions-in-a-tensor)\n",
    "* [The constituent parts of a tensor](#The-constitutent-parts-of-a-tensor)\n",
    "* [Creating a tensor from its constituent parts](#Creating-a-tensor-from-its-constituent-parts)\n",
    "* [Creating an empty tensor](#Creating-an-empty-tensor)\n",
    "* [Use tenones to create a tensor of all ones](#Use-tenones-to-create-a-tensor-of-all-ones)\n",
    "* [Use tenzeros to create a tensor of all zeros](#Use-tenzeros-to-create-a-tensor-of-all-zeros)\n",
    "* [Use tenrand to create a random tensor](#Use-tenrand-to-create-a-random-tensor)\n",
    "* [Use squeeze to remove singleton dimensions from a tensor](#Use-squeeze-to-remove-singleton-dimensions-from-a-tensor)\n",
    "* [Use double to convert a tensor to a (multidimensional) array](#Use-double-to-convert-a-tensor-to-a-(multidimensional)-array)\n",
    "* [Use ndims and size to get the size of a tensor](#Use-ndims-and-size-to-get-the-size-of-a-tensor)\n",
    "* [Subscripted reference for a tensor](#Subscripted-reference-for-a-tensor)\n",
    "* [Subscripted assignment for a tensor](#Subscripted-assignment-for-a-tensor)\n",
    "* [Using end for the last array index](#Using-end-for-the-last-array-index)\n",
    "* [Use find for subscripts of nonzero elements of a tensor](#Use-find-for-subscripts-of-nonzero-elements-of-a-tensor)\n",
    "* [Computing the Frobenius norm of a tensor](#Computing-the-Frobenius-norm-of-a-tensor)\n",
    "* [Using reshape to rearrange elements in a tensor](#Using-reshape-to-rearrange-elements-in-a-tensor)\n",
    "* [Basic operations (plus, minus, and, or, etc.) on a tensor](#Basic-operations-(plus,-minus,-and,-or,-etc.)-on-a-tensor)\n",
    "* [Using tenfun for elementwise operations on one or more tensors](#Using-tenfun-for-elementwise-operations-on-one-or-more-tensors)\n",
    "* [Use permute to reorder the modes of a tensor](#Use-permute-to-reorder-the-modes-of-a-tensor)\n",
    "* [Symmetrizing and checking for symmetry in a tensor](#Symmetrizing-and-checking-for-symmetry-in-a-tensor)\n",
    "* [Displaying a tensor](#Displaying-a-tensor)"
   ]
  },
  {
   "cell_type": "code",
   "execution_count": null,
   "metadata": {},
   "outputs": [],
   "source": [
    "import pyttb as ttb\n",
    "import numpy as np\n",
    "import sys"
   ]
  },
  {
   "cell_type": "markdown",
   "metadata": {},
   "source": [
    "## Creating a tensor from an array"
   ]
  },
  {
   "cell_type": "code",
   "execution_count": null,
   "metadata": {},
   "outputs": [],
   "source": [
    "M = np.ones((2,4,3)) # A 2x4x3 array.\n",
    "X = ttb.tensor.from_data(M) # Convert to a tensor object\n",
    "X"
   ]
  },
  {
   "cell_type": "markdown",
   "metadata": {},
   "source": [
    "Optionally, you can specify a different shape for the tensor, so long as the input array has the right number of elements. "
   ]
  },
  {
   "cell_type": "code",
   "execution_count": null,
   "metadata": {},
   "outputs": [],
   "source": [
    "X = X.reshape((4,2,3))\n",
    "X"
   ]
  },
  {
   "cell_type": "markdown",
   "metadata": {},
   "source": [
    "## Creating a one-dimensional tensor"
   ]
  },
  {
   "cell_type": "markdown",
   "metadata": {},
   "source": [
    "`np.random.rand(m,n)` creates a two-dimensional tensor with `m` rows and `n` columns."
   ]
  },
  {
   "cell_type": "code",
   "execution_count": null,
   "metadata": {},
   "outputs": [],
   "source": [
    "np.random.seed(0)\n",
    "X = ttb.tensor.from_data(np.random.rand(5,1)) # Creates a 2-way tensor.\n",
    "X"
   ]
  },
  {
   "cell_type": "markdown",
   "metadata": {},
   "source": [
    "To specify a 1-way tensor, use `(m,)` syntax, signifying a vector with `m` elements."
   ]
  },
  {
   "cell_type": "code",
   "execution_count": null,
   "metadata": {},
   "outputs": [],
   "source": [
    "np.random.seed(0)\n",
    "X = ttb.tensor.from_data(np.random.rand(5), shape=(5,)) # Creates a 1-way tensor.\n",
    "X"
   ]
  },
  {
   "cell_type": "markdown",
   "metadata": {},
   "source": [
    "## Specifying trailing singleton dimensions in a tensor"
   ]
  },
  {
   "cell_type": "markdown",
   "metadata": {},
   "source": [
    "Likewise, trailing singleton dimensions must be explictly specified."
   ]
  },
  {
   "cell_type": "code",
   "execution_count": null,
   "metadata": {},
   "outputs": [],
   "source": [
    "np.random.seed(0)\n",
    "Y = ttb.tensor.from_data(np.random.rand(4,3)) # Creates a 2-way tensor.\n",
    "Y"
   ]
  },
  {
   "cell_type": "code",
   "execution_count": null,
   "metadata": {},
   "outputs": [],
   "source": [
    "np.random.seed(0)\n",
    "Y = ttb.tensor().from_data(np.random.rand(3,4,1), (3,4,1)) # Creates a 3-way tensor.\n",
    "Y"
   ]
  },
  {
   "cell_type": "markdown",
   "metadata": {},
   "source": [
    "Using the `whos` commmand equivalent for obtaining details about the workspace tensors."
   ]
  },
  {
   "cell_type": "code",
   "execution_count": null,
   "metadata": {},
   "outputs": [],
   "source": [
    "%whos"
   ]
  },
  {
   "cell_type": "markdown",
   "metadata": {},
   "source": [
    "## The constitutent parts of a tensor"
   ]
  },
  {
   "cell_type": "code",
   "execution_count": null,
   "metadata": {},
   "outputs": [],
   "source": [
    "np.random.seed(0)\n",
    "X = ttb.tenrand((2,4,3)) # Create data.\n",
    "X.data # The array."
   ]
  },
  {
   "cell_type": "code",
   "execution_count": null,
   "metadata": {},
   "outputs": [],
   "source": [
    "X.shape # The size."
   ]
  },
  {
   "cell_type": "markdown",
   "metadata": {},
   "source": [
    "## Creating a tensor from its constituent parts"
   ]
  },
  {
   "cell_type": "code",
   "execution_count": null,
   "metadata": {},
   "outputs": [],
   "source": [
    "np.random.seed(0)\n",
    "X = ttb.tenrand((2,4,3)) # Create data.\n",
    "Y = ttb.tensor.from_tensor_type(X) # Copies X.\n",
    "Y"
   ]
  },
  {
   "cell_type": "markdown",
   "metadata": {},
   "source": [
    "## Creating an empty tensor"
   ]
  },
  {
   "cell_type": "markdown",
   "metadata": {},
   "source": [
    "An empty constructor exists."
   ]
  },
  {
   "cell_type": "code",
   "execution_count": null,
   "metadata": {},
   "outputs": [],
   "source": [
    "X = ttb.tensor() # Creates an empty tensor\n",
    "X"
   ]
  },
  {
   "cell_type": "markdown",
   "metadata": {},
   "source": [
    "## Use tenones to create a tensor of all ones"
   ]
  },
  {
   "cell_type": "code",
   "execution_count": null,
   "metadata": {},
   "outputs": [],
   "source": [
    "X = ttb.tenones((2,3,4)) # Creates a 2x3x4 tensor of ones.\n",
    "X"
   ]
  },
  {
   "cell_type": "markdown",
   "metadata": {},
   "source": [
    "## Use tenzeros to create a tensor of all zeros"
   ]
  },
  {
   "cell_type": "code",
   "execution_count": null,
   "metadata": {},
   "outputs": [],
   "source": [
    "X = ttb.tenzeros((2,1,4)) # Creates a 2x1x4 tensor of zeroes.\n",
    "X"
   ]
  },
  {
   "cell_type": "markdown",
   "metadata": {},
   "source": [
    "## Use tenrand to create a random tensor"
   ]
  },
  {
   "cell_type": "code",
   "execution_count": null,
   "metadata": {},
   "outputs": [],
   "source": [
    "np.random.seed(0)\n",
    "X = ttb.tenrand((2,5,4))\n",
    "X"
   ]
  },
  {
   "cell_type": "markdown",
   "metadata": {},
   "source": [
    "## Use squeeze to remove singleton dimensions from a tensor"
   ]
  },
  {
   "cell_type": "code",
   "execution_count": null,
   "metadata": {},
   "outputs": [],
   "source": [
    "np.random.seed(0)\n",
    "X = ttb.tenrand((2,5,4)) # Create the data.\n",
    "X.squeeze() # Removes singleton dimensions."
   ]
  },
  {
   "cell_type": "markdown",
   "metadata": {},
   "source": [
    "## Use double to convert a tensor to a (multidimensional) array"
   ]
  },
  {
   "cell_type": "code",
   "execution_count": null,
   "metadata": {},
   "outputs": [],
   "source": [
    "np.random.seed(0)\n",
    "X = ttb.tenrand((2,5,4)) # Create the data.\n",
    "X.double() # Converts Y to an array of doubles."
   ]
  },
  {
   "cell_type": "code",
   "execution_count": null,
   "metadata": {},
   "outputs": [],
   "source": [
    "X.data # Same thing."
   ]
  },
  {
   "cell_type": "markdown",
   "metadata": {},
   "source": [
    "## Use ndims and size to get the size of a tensor"
   ]
  },
  {
   "cell_type": "code",
   "execution_count": null,
   "metadata": {},
   "outputs": [],
   "source": [
    "X.ndims # Number of dimensions (or ways)."
   ]
  },
  {
   "cell_type": "code",
   "execution_count": null,
   "metadata": {},
   "outputs": [],
   "source": [
    "X.shape # Row vector with the sizes of all dimensions."
   ]
  },
  {
   "cell_type": "code",
   "execution_count": null,
   "metadata": {},
   "outputs": [],
   "source": [
    "X.shape[2] # Size of a single dimension."
   ]
  },
  {
   "cell_type": "markdown",
   "metadata": {},
   "source": [
    "## Subscripted reference for a tensor"
   ]
  },
  {
   "cell_type": "code",
   "execution_count": null,
   "metadata": {},
   "outputs": [],
   "source": [
    "np.random.seed(0)\n",
    "X = ttb.tenrand((2,3,4,1)) # Create a 3x4x2x1 random tensor.\n",
    "X[0,0,0,0] # Extract a single element."
   ]
  },
  {
   "cell_type": "markdown",
   "metadata": {},
   "source": [
    "It is possible to extract a subtensor that contains a single element. Observe that singleton dimensions are **not** dropped unless they are specifically specified, e.g., as above."
   ]
  },
  {
   "cell_type": "code",
   "execution_count": null,
   "metadata": {},
   "outputs": [],
   "source": [
    "X[0,0,0,:] # Produces a tensor of order 1 and size 1."
   ]
  },
  {
   "cell_type": "code",
   "execution_count": null,
   "metadata": {},
   "outputs": [],
   "source": [
    "X[0,:,0,:] # Produces a tensor of size 3x1."
   ]
  },
  {
   "cell_type": "markdown",
   "metadata": {},
   "source": [
    "Moreover, the subtensor is automatically renumbered/resized in the same way that MATLAB works for arrays except that singleton dimensions are handled explicitly."
   ]
  },
  {
   "cell_type": "code",
   "execution_count": null,
   "metadata": {},
   "outputs": [],
   "source": [
    "X[0:2,0,[1, 3],:] # Produces a tensor of size 2x2x1."
   ]
  },
  {
   "cell_type": "markdown",
   "metadata": {},
   "source": [
    "It's also possible to extract a list of elements by passing in an array of subscripts or a column array of linear indices."
   ]
  },
  {
   "cell_type": "code",
   "execution_count": null,
   "metadata": {},
   "outputs": [],
   "source": [
    "subs = [[0,0,0,0], [2,3,4,0]]; X[subs] # Extract 2 values by subscript."
   ]
  },
  {
   "cell_type": "code",
   "execution_count": null,
   "metadata": {},
   "outputs": [],
   "source": [
    "inds = [[0], [23]]; X[inds] # Same thing with linear indices."
   ]
  },
  {
   "cell_type": "markdown",
   "metadata": {},
   "source": [
    "The difference between extracting a subtensor and a list of linear indices is ambiguous for 1-dimensional tensors. We can specify 'extract' as a second argument whenever we are using a list of subscripts."
   ]
  },
  {
   "cell_type": "code",
   "execution_count": null,
   "metadata": {},
   "outputs": [],
   "source": [
    "np.random.seed(0)\n",
    "X = ttb.tenrand((10,)) # Create a random tensor."
   ]
  },
  {
   "cell_type": "code",
   "execution_count": null,
   "metadata": {},
   "outputs": [],
   "source": [
    "X[0:5] # Extract a subtensor."
   ]
  },
  {
   "cell_type": "markdown",
   "metadata": {},
   "source": [
    "### <font color='red'>**TODO:** : Depends on Open Issue</font> (https://github.com/sandialabs/pyttb/issues/160)"
   ]
  },
  {
   "cell_type": "code",
   "execution_count": null,
   "metadata": {},
   "outputs": [],
   "source": [
    "# X[:6, 'extract']"
   ]
  },
  {
   "cell_type": "markdown",
   "metadata": {},
   "source": [
    "## Subscripted assignment for a tensor"
   ]
  },
  {
   "cell_type": "markdown",
   "metadata": {},
   "source": [
    "We can assign a single element, an entire subtensor, or a list of values for a tensor."
   ]
  },
  {
   "cell_type": "code",
   "execution_count": null,
   "metadata": {},
   "outputs": [],
   "source": [
    "np.random.seed(0)\n",
    "X = ttb.tenrand((2,3,4)) # Create some data.\n",
    "X[0,0,0] = 0 # Replaces the [0,0,0] element.\n",
    "X"
   ]
  },
  {
   "cell_type": "code",
   "execution_count": null,
   "metadata": {},
   "outputs": [],
   "source": [
    "X[0, 0:2, 0:2] = np.ones((2,2)) # Replaces a subtensor.\n",
    "X"
   ]
  },
  {
   "cell_type": "code",
   "execution_count": null,
   "metadata": {},
   "outputs": [],
   "source": [
    "X[(0,0,0)], X[1,0,0] = [5,7] # Replaces the (0,0,0) and (1,0,0) elements."
   ]
  },
  {
   "cell_type": "code",
   "execution_count": null,
   "metadata": {},
   "outputs": [],
   "source": [
    "X[[0,1]] = [5,7] # Same as above using linear indices.\n",
    "X"
   ]
  },
  {
   "cell_type": "markdown",
   "metadata": {},
   "source": [
    "It is possible to **grow** the tensor automatically by assigning elements outside the original range of the tensor."
   ]
  },
  {
   "cell_type": "code",
   "execution_count": null,
   "metadata": {},
   "outputs": [],
   "source": [
    "X[2,1,1] = 1 # Grows the size of the tensor.\n",
    "X"
   ]
  },
  {
   "cell_type": "markdown",
   "metadata": {},
   "source": [
    "## Using end for the last array index"
   ]
  },
  {
   "cell_type": "markdown",
   "metadata": {},
   "source": [
    "### <font color='red'>**TODO:** : Depends on Open Issue</font> (https://github.com/sandialabs/pyttb/issues/161)"
   ]
  },
  {
   "cell_type": "code",
   "execution_count": null,
   "metadata": {},
   "outputs": [],
   "source": [
    "if False: \n",
    "    np.random.seed(0)\n",
    "    X = ttb.tenrand((2,3,4)) # Create some data.\n",
    "    X.end() # Same as np.prod(X.shape)-1, i.e. 3*3*4-1"
   ]
  },
  {
   "cell_type": "code",
   "execution_count": null,
   "metadata": {},
   "outputs": [],
   "source": [
    "if False:\n",
    "    X[2,2,3] = 99 # Inserting 99 into last element\n",
    "    X[X.end()] # Same as X[2,2,3]"
   ]
  },
  {
   "cell_type": "code",
   "execution_count": null,
   "metadata": {},
   "outputs": [],
   "source": [
    "if False:\n",
    "    X[0:X.end()]"
   ]
  },
  {
   "cell_type": "markdown",
   "metadata": {},
   "source": [
    "## Use find for subscripts of nonzero elements of a tensor"
   ]
  },
  {
   "cell_type": "code",
   "execution_count": null,
   "metadata": {},
   "outputs": [],
   "source": [
    "np.random.seed(0)\n",
    "X = ttb.tensor.from_data(3*np.random.rand(2,2,2)) # Generate some data.\n",
    "X"
   ]
  },
  {
   "cell_type": "code",
   "execution_count": null,
   "metadata": {},
   "outputs": [],
   "source": [
    "S, V = X.find() # Find all the nonzero subscripts and values."
   ]
  },
  {
   "cell_type": "code",
   "execution_count": null,
   "metadata": {},
   "outputs": [],
   "source": [
    "S # Nonzero subscripts"
   ]
  },
  {
   "cell_type": "code",
   "execution_count": null,
   "metadata": {},
   "outputs": [],
   "source": [
    "V # Values"
   ]
  },
  {
   "cell_type": "code",
   "execution_count": null,
   "metadata": {},
   "outputs": [],
   "source": [
    "larger_entries = (X >= 2)\n",
    "S = larger_entries.find() # Find subscripts of values >= 2.\n",
    "S"
   ]
  },
  {
   "cell_type": "markdown",
   "metadata": {},
   "source": [
    "### <font color='red'>**TODO:** : Depends on Open Issue</font> (https://github.com/sandialabs/pyttb/issues/160)\n"
   ]
  },
  {
   "cell_type": "code",
   "execution_count": null,
   "metadata": {},
   "outputs": [],
   "source": [
    "if False: \n",
    "    V = X[S]"
   ]
  },
  {
   "cell_type": "markdown",
   "metadata": {},
   "source": [
    "## Computing the Frobenius norm of a tensor"
   ]
  },
  {
   "cell_type": "markdown",
   "metadata": {},
   "source": [
    "`norm` computes the Frobenius norm of a tensor. This corresponds to the Euclidean norm of the vectorized tensor."
   ]
  },
  {
   "cell_type": "code",
   "execution_count": null,
   "metadata": {},
   "outputs": [],
   "source": [
    "np.random.seed(0)\n",
    "X = ttb.tensor.from_data(np.ones((3,2,3)))\n",
    "X.norm()"
   ]
  },
  {
   "cell_type": "markdown",
   "metadata": {},
   "source": [
    "## Using reshape to rearrange elements in a tensor"
   ]
  },
  {
   "cell_type": "markdown",
   "metadata": {},
   "source": [
    "**reshape** reshapes a tensor into a given size array. The total number of elements in the tensor cannot change."
   ]
  },
  {
   "cell_type": "code",
   "execution_count": null,
   "metadata": {},
   "outputs": [],
   "source": [
    "np.random.seed(0)\n",
    "X = ttb.tensor.from_data(np.random.rand(3,2,3,10))\n",
    "X.reshape((6,30))"
   ]
  },
  {
   "cell_type": "markdown",
   "metadata": {},
   "source": [
    "## Basic operations (plus, minus, and, or, etc.) on a tensor"
   ]
  },
  {
   "cell_type": "markdown",
   "metadata": {},
   "source": [
    "Tensors support plus, minus, times, divide, power, equals, and not-equals operators.  Tensors can use their operators with another tensor or a scalar (with the exception of equalities which only takes tensors). All mathematical operators are elementwise operations."
   ]
  },
  {
   "cell_type": "code",
   "execution_count": null,
   "metadata": {},
   "outputs": [],
   "source": [
    "np.random.seed(0)\n",
    "A = ttb.tensor.from_data(np.floor(3 * np.random.rand(2,2,3))) # Generate some data.\n",
    "B = ttb.tensor.from_data(np.floor(3 * np.random.rand(2,2,3)))"
   ]
  },
  {
   "cell_type": "code",
   "execution_count": null,
   "metadata": {},
   "outputs": [],
   "source": [
    "A.logical_and(B) # Calls and."
   ]
  },
  {
   "cell_type": "code",
   "execution_count": null,
   "metadata": {},
   "outputs": [],
   "source": [
    "A.logical_or(B)"
   ]
  },
  {
   "cell_type": "code",
   "execution_count": null,
   "metadata": {},
   "outputs": [],
   "source": [
    "A.logical_xor(B)"
   ]
  },
  {
   "cell_type": "code",
   "execution_count": null,
   "metadata": {},
   "outputs": [],
   "source": [
    "A == B # Calls eq."
   ]
  },
  {
   "cell_type": "code",
   "execution_count": null,
   "metadata": {},
   "outputs": [],
   "source": [
    "A != B # Calls neq."
   ]
  },
  {
   "cell_type": "code",
   "execution_count": null,
   "metadata": {},
   "outputs": [],
   "source": [
    "A > B # Calls gt."
   ]
  },
  {
   "cell_type": "code",
   "execution_count": null,
   "metadata": {},
   "outputs": [],
   "source": [
    "A >= B # Calls ge."
   ]
  },
  {
   "cell_type": "code",
   "execution_count": null,
   "metadata": {},
   "outputs": [],
   "source": [
    "A < B # Calls lt."
   ]
  },
  {
   "cell_type": "code",
   "execution_count": null,
   "metadata": {},
   "outputs": [],
   "source": [
    "A <= B # Calls le."
   ]
  },
  {
   "cell_type": "code",
   "execution_count": null,
   "metadata": {},
   "outputs": [],
   "source": [
    "A.logical_not() # Calls not."
   ]
  },
  {
   "cell_type": "code",
   "execution_count": null,
   "metadata": {},
   "outputs": [],
   "source": [
    "+A # Calls uplus."
   ]
  },
  {
   "cell_type": "code",
   "execution_count": null,
   "metadata": {},
   "outputs": [],
   "source": [
    "-A # Calls uminus."
   ]
  },
  {
   "cell_type": "code",
   "execution_count": null,
   "metadata": {},
   "outputs": [],
   "source": [
    "A + B # Calls plus."
   ]
  },
  {
   "cell_type": "code",
   "execution_count": null,
   "metadata": {},
   "outputs": [],
   "source": [
    "A - B # Calls minus."
   ]
  },
  {
   "cell_type": "code",
   "execution_count": null,
   "metadata": {},
   "outputs": [],
   "source": [
    "A * B # Calls times."
   ]
  },
  {
   "cell_type": "code",
   "execution_count": null,
   "metadata": {},
   "outputs": [],
   "source": [
    "5 * A # Calls mtimes."
   ]
  },
  {
   "cell_type": "code",
   "execution_count": null,
   "metadata": {},
   "outputs": [],
   "source": [
    "A ** B # Calls power."
   ]
  },
  {
   "cell_type": "code",
   "execution_count": null,
   "metadata": {},
   "outputs": [],
   "source": [
    "A ** 2 # Calls power."
   ]
  },
  {
   "cell_type": "code",
   "execution_count": null,
   "metadata": {},
   "outputs": [],
   "source": [
    "A / B # Calls ldivide."
   ]
  },
  {
   "cell_type": "code",
   "execution_count": null,
   "metadata": {},
   "outputs": [],
   "source": [
    "A.__rtruediv__(2) # Calls rdivide."
   ]
  },
  {
   "cell_type": "code",
   "execution_count": null,
   "metadata": {},
   "outputs": [],
   "source": [
    "A / B "
   ]
  },
  {
   "cell_type": "markdown",
   "metadata": {},
   "source": [
    "## Using tenfun for elementwise operations on one or more tensors"
   ]
  },
  {
   "cell_type": "markdown",
   "metadata": {},
   "source": [
    "The function **tenfun** applies a specified function to a number of tensors. This can be used for any function that is not predefined for tensors."
   ]
  },
  {
   "cell_type": "code",
   "execution_count": null,
   "metadata": {},
   "outputs": [],
   "source": [
    "np.random.seed(0)\n",
    "A = ttb.tensor.from_data(np.floor(3 * np.random.rand(2,2,3))) # Generate some data.\n",
    "ttb.tt_tenfun(lambda x : x + 1, A) # Increment every element of A by one."
   ]
  },
  {
   "cell_type": "code",
   "execution_count": null,
   "metadata": {},
   "outputs": [],
   "source": [
    "# Wrap np.maximum in a function with a function signature that Python's inspect.signature can handle.\n",
    "def max_elements(a, b):\n",
    "    return np.maximum(a, b)\n",
    "\n",
    "ttb.tt_tenfun(max_elements, A, B) # Max of A and B, elementwise."
   ]
  },
  {
   "cell_type": "code",
   "execution_count": null,
   "metadata": {},
   "outputs": [],
   "source": [
    "np.random.seed(0)\n",
    "C = ttb.tensor.from_data(np.floor(5 * np.random.rand(2,2,3))) # Create another tensor.\n",
    "def elementwise_mean(X):\n",
    "    # finding mean for the columns\n",
    "    return np.floor(np.mean(X, axis = 0))\n",
    "\n",
    "ttb.tt_tenfun(elementwise_mean, A, B, C) # Elementwise means for A, B, and C."
   ]
  },
  {
   "cell_type": "markdown",
   "metadata": {},
   "source": [
    "## Use permute to reorder the modes of a tensor"
   ]
  },
  {
   "cell_type": "code",
   "execution_count": null,
   "metadata": {},
   "outputs": [],
   "source": [
    "X = ttb.tensor.from_data(np.arange(1,25), shape=(2,3,4))\n",
    "print(f\"X is a {X}\")"
   ]
  },
  {
   "cell_type": "code",
   "execution_count": null,
   "metadata": {},
   "outputs": [],
   "source": [
    "X.permute(np.array((2,1,0))) # Reverse the modes."
   ]
  },
  {
   "cell_type": "markdown",
   "metadata": {},
   "source": [
    "Permuting a 1-dimensional tensor works correctly."
   ]
  },
  {
   "cell_type": "code",
   "execution_count": null,
   "metadata": {},
   "outputs": [],
   "source": [
    "X = ttb.tensor.from_data(np.arange(1,5), (4,))\n",
    "X.permute(np.array(1,))"
   ]
  },
  {
   "cell_type": "markdown",
   "metadata": {},
   "source": [
    "## Symmetrizing and checking for symmetry in a tensor"
   ]
  },
  {
   "cell_type": "markdown",
   "metadata": {},
   "source": [
    "A tensor can be symmetrized in a collection of modes with the command **symmetrize**. The new, symmetric tensor is formed by averaging over all elements in the tensor which are required to be equal."
   ]
  },
  {
   "cell_type": "code",
   "execution_count": null,
   "metadata": {},
   "outputs": [],
   "source": [
    "np.random.rand(0)\n",
    "X = ttb.tensor.from_data(np.arange(1,5), (4,)) # Create some data\n",
    "W = ttb.tensor.from_data(np.random.rand(4,4,4))\n",
    "Y = X.symmetrize()"
   ]
  },
  {
   "cell_type": "markdown",
   "metadata": {},
   "source": [
    "A second argument can also be passed to **symmetrize** which specifies an array of modes with respect to which the tensor should be symmetrized."
   ]
  },
  {
   "cell_type": "code",
   "execution_count": null,
   "metadata": {},
   "outputs": [],
   "source": [
    "np.random.seed(0)\n",
    "X = ttb.tensor.from_data(np.random.rand(3,3,2))\n",
    "Z = X.symmetrize(np.array((0,1)))"
   ]
  },
  {
   "cell_type": "markdown",
   "metadata": {},
   "source": [
    "Additionally, one can check for symmetry in tensors with the **issymmetric** function. Similar to **symmetrize**, a collection of modes can be passed as a second argument."
   ]
  },
  {
   "cell_type": "code",
   "execution_count": null,
   "metadata": {},
   "outputs": [],
   "source": [
    "Y.issymmetric()"
   ]
  },
  {
   "cell_type": "code",
   "execution_count": null,
   "metadata": {},
   "outputs": [],
   "source": [
    "Z.issymmetric(np.array((1,2)))"
   ]
  },
  {
   "cell_type": "markdown",
   "metadata": {},
   "source": [
    "## Displaying a tensor"
   ]
  },
  {
   "cell_type": "code",
   "execution_count": null,
   "metadata": {},
   "outputs": [],
   "source": [
    "print(X)"
   ]
  },
  {
   "cell_type": "code",
   "execution_count": null,
   "metadata": {},
   "outputs": [],
   "source": [
    "X #In the python interface"
   ]
  }
 ],
 "metadata": {
  "kernelspec": {
   "display_name": "Python 3 (ipykernel)",
   "language": "python",
   "name": "python3"
  },
  "language_info": {
   "codemirror_mode": {
    "name": "ipython",
    "version": 3
   },
   "file_extension": ".py",
   "mimetype": "text/x-python",
   "name": "python",
   "nbconvert_exporter": "python",
   "pygments_lexer": "ipython3",
   "version": "3.9.13"
  }
 },
 "nbformat": 4,
 "nbformat_minor": 1
}
