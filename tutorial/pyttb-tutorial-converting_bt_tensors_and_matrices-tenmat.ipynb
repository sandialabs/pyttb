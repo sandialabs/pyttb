{
 "cells": [
  {
   "cell_type": "markdown",
   "metadata": {},
   "source": [
    "# Converting a Tensor to a Matrix and Vice Versa\n",
    "\n",
    "```\n",
    "Copyright 2022 National Technology & Engineering Solutions of Sandia,\n",
    "LLC (NTESS). Under the terms of Contract DE-NA0003525 with NTESS, the\n",
    "U.S. Government retains certain rights in this software.\n",
    "```"
   ]
  },
  {
   "cell_type": "markdown",
   "metadata": {},
   "source": [
    "We show how to convert a tensor to a matrix stored with extra information so that it can be converted back to a tensor. Converting to a matrix requies an ordered mapping of the tensor indices to the rows and the columns of the matrix."
   ]
  },
  {
   "cell_type": "markdown",
   "metadata": {},
   "source": [
    "## Contents"
   ]
  },
  {
   "cell_type": "markdown",
   "metadata": {},
   "source": [
    "* [Creating a tenmat (tensor as matrix) object](#Creating-a-tenmat-(tensor-as-matrix)-object)\n",
    "* [Creating a tenmat by specifying the dimensions mapped to the rows\n",
    "](#Creating-a-tenmat-by-specifying-the-dimensions-mapped-to-the-rows\n",
    ")\n",
    "* [Creating a tenmat by specifying the dimensions mapped to the columns](#Creating-a-tenmat-by-specifying-the-dimensions-mapped-to-the-columns)\n",
    "* [Vectorize via tenmat](#Vectorize-via-tenmat)\n",
    "* [Alternative ordering for the columns for mode-n matricization](#Alternative-ordering-for-the-columns-for-mode-n-matricization)\n",
    "* [Constituent parts of a tenmat](#Constituent-parts-of-a-tenmat)\n",
    "* [Creating a tenmat from its constituent parts](#Creating-a-tenmat-from-its-constituent-parts)\n",
    "* [Creating an empty tenmat](#Creating-an-empty-tenmat)\n",
    "* [Use double to convert a tenmat to a MATLAB matrix](#Use-double-to-convert-a-tenmat-to-a-MATLAB-matrix)\n",
    "* [Use tensor to convert a tenmat to a tensor](#Use-tensor-to-convert-a-tenmat-to-a-tensor)\n",
    "* [Use size and tsize for the dimensions of a tenmat](#Use-size-and-tsize-for-the-dimensions-of-a-tenmat)\n",
    "* [Subscripted reference for a tenmat](#Subscripted-reference-for-a-tenmat)\n",
    "* [Subscripted assignment for a tenmat](#Subscripted-assignment-for-a-tenmat)\n",
    "* [Use end for the last index](#Use-end-for-the-last-index)\n",
    "* [Basic operations for tenmat](#Basic-operations-for-tenmat)\n",
    "* [Multiplying two tenmats](#Multiplying-two-tenmats)\n",
    "* [Displaying a tenmat](#Displaying-a-tenmat)"
   ]
  },
  {
   "cell_type": "code",
   "execution_count": 1,
   "metadata": {},
   "outputs": [],
   "source": [
    "import pyttb as ttb\n",
    "import numpy as np"
   ]
  },
  {
   "cell_type": "markdown",
   "metadata": {},
   "source": [
    "## Creating a tenmat (tensor as matrix) object"
   ]
  },
  {
   "cell_type": "code",
   "execution_count": 2,
   "metadata": {
    "scrolled": false
   },
   "outputs": [
    {
     "data": {
      "text/plain": [
       "tensor of shape 3 x 2 x 2 x 2\n",
       "data[0, 0, :, :] = \n",
       "[[ 1 13]\n",
       " [ 7 19]]\n",
       "data[1, 0, :, :] = \n",
       "[[ 2 14]\n",
       " [ 8 20]]\n",
       "data[2, 0, :, :] = \n",
       "[[ 3 15]\n",
       " [ 9 21]]\n",
       "data[0, 1, :, :] = \n",
       "[[ 4 16]\n",
       " [10 22]]\n",
       "data[1, 1, :, :] = \n",
       "[[ 5 17]\n",
       " [11 23]]\n",
       "data[2, 1, :, :] = \n",
       "[[ 6 18]\n",
       " [12 24]]"
      ]
     },
     "execution_count": 2,
     "metadata": {},
     "output_type": "execute_result"
    }
   ],
   "source": [
    "X = ttb.tensor.from_data(np.arange(1, 25), shape=(3, 2, 2, 2)) # Create a tensor.\n",
    "X"
   ]
  },
  {
   "cell_type": "code",
   "execution_count": 3,
   "metadata": {},
   "outputs": [
    {
     "data": {
      "text/plain": [
       "matrix corresponding to a tensor of shape 3 x 2 x 2 x 2\n",
       "rindices = [ 0, 1 ] (modes of tensor corresponding to rows)\n",
       "cindices = [ 2, 3 ] (modes of tensor corresponding to columns)\n",
       "data[:, :] = \n",
       "[[ 1  7 13 19]\n",
       " [ 2  8 14 20]\n",
       " [ 3  9 15 21]\n",
       " [ 4 10 16 22]\n",
       " [ 5 11 17 23]\n",
       " [ 6 12 18 24]]"
      ]
     },
     "execution_count": 3,
     "metadata": {},
     "output_type": "execute_result"
    }
   ],
   "source": [
    "A = ttb.tenmat.from_tensor_type(X, np.array([0,1]), np.array([2,3])) # Dims [0,1] map to rows, [2,3] to columns.\n",
    "A"
   ]
  },
  {
   "cell_type": "code",
   "execution_count": 4,
   "metadata": {},
   "outputs": [
    {
     "data": {
      "text/plain": [
       "matrix corresponding to a tensor of shape 3 x 2 x 2 x 2\n",
       "rindices = [ 1, 0 ] (modes of tensor corresponding to rows)\n",
       "cindices = [ 2, 3 ] (modes of tensor corresponding to columns)\n",
       "data[:, :] = \n",
       "[[ 1  7 13 19]\n",
       " [ 4 10 16 22]\n",
       " [ 2  8 14 20]\n",
       " [ 5 11 17 23]\n",
       " [ 3  9 15 21]\n",
       " [ 6 12 18 24]]"
      ]
     },
     "execution_count": 4,
     "metadata": {},
     "output_type": "execute_result"
    }
   ],
   "source": [
    "B = ttb.tenmat.from_tensor_type(X, np.array([1,0]), np.array([2,3])) # Order matters!\n",
    "B"
   ]
  },
  {
   "cell_type": "code",
   "execution_count": 5,
   "metadata": {},
   "outputs": [
    {
     "data": {
      "text/plain": [
       "matrix corresponding to a tensor of shape 3 x 2 x 2 x 2\n",
       "rindices = [ 0, 1 ] (modes of tensor corresponding to rows)\n",
       "cindices = [ 3, 2 ] (modes of tensor corresponding to columns)\n",
       "data[:, :] = \n",
       "[[ 1 13  7 19]\n",
       " [ 2 14  8 20]\n",
       " [ 3 15  9 21]\n",
       " [ 4 16 10 22]\n",
       " [ 5 17 11 23]\n",
       " [ 6 18 12 24]]"
      ]
     },
     "execution_count": 5,
     "metadata": {},
     "output_type": "execute_result"
    }
   ],
   "source": [
    "C = ttb.tenmat.from_tensor_type(X, np.array([0,1]), np.array([3,2]))\n",
    "C"
   ]
  },
  {
   "cell_type": "markdown",
   "metadata": {},
   "source": [
    "## Creating a tenmat by specifying the dimensions mapped to the rows"
   ]
  },
  {
   "cell_type": "markdown",
   "metadata": {},
   "source": [
    "If just the row indices are specified, then the columns are arranged in increasing order."
   ]
  },
  {
   "cell_type": "code",
   "execution_count": 6,
   "metadata": {},
   "outputs": [
    {
     "data": {
      "text/plain": [
       "matrix corresponding to a tensor of shape 3 x 2 x 2 x 2\n",
       "rindices = [ 1 ] (modes of tensor corresponding to rows)\n",
       "cindices = [ 0, 2, 3 ] (modes of tensor corresponding to columns)\n",
       "data[:, :] = \n",
       "[[ 1  2  3  7  8  9 13 14 15 19 20 21]\n",
       " [ 4  5  6 10 11 12 16 17 18 22 23 24]]"
      ]
     },
     "execution_count": 6,
     "metadata": {},
     "output_type": "execute_result"
    }
   ],
   "source": [
    "X = ttb.tensor.from_data(np.arange(1, 25), shape=(3, 2, 2, 2)) # Create a tensor.\n",
    "A = ttb.tenmat.from_tensor_type(X, np.array([1])) # np.array([1]) passed to the `rdims` parameter\n",
    "A"
   ]
  },
  {
   "cell_type": "markdown",
   "metadata": {},
   "source": [
    "## Creating a tenmat by specifying the dimensions mapped to the columns"
   ]
  },
  {
   "cell_type": "markdown",
   "metadata": {},
   "source": [
    "Likewise, just the columns can be specified if the `cdims` argument is given. The columns are arranged in increasing order."
   ]
  },
  {
   "cell_type": "code",
   "execution_count": 7,
   "metadata": {},
   "outputs": [
    {
     "data": {
      "text/plain": [
       "matrix corresponding to a tensor of shape 3 x 2 x 2 x 2\n",
       "rindices = [ 0, 3 ] (modes of tensor corresponding to rows)\n",
       "cindices = [ 1, 2 ] (modes of tensor corresponding to columns)\n",
       "data[:, :] = \n",
       "[[ 1  4  7 10]\n",
       " [ 2  5  8 11]\n",
       " [ 3  6  9 12]\n",
       " [13 16 19 22]\n",
       " [14 17 20 23]\n",
       " [15 18 21 24]]"
      ]
     },
     "execution_count": 7,
     "metadata": {},
     "output_type": "execute_result"
    }
   ],
   "source": [
    "X = ttb.tensor.from_data(np.arange(1, 25), shape=(3, 2, 2, 2)) # Create a tensor.\n",
    "A = ttb.tenmat.from_tensor_type(X, cdims=np.array([1,2])) # Same as A = ttb.tenmat.from_tensor_type(X, np.array([0,3]), np.array([1,2]))\n",
    "A"
   ]
  },
  {
   "cell_type": "markdown",
   "metadata": {},
   "source": [
    "## Vectorize via tenmat"
   ]
  },
  {
   "cell_type": "code",
   "execution_count": 8,
   "metadata": {},
   "outputs": [
    {
     "data": {
      "text/plain": [
       "matrix corresponding to a tensor of shape 3 x 2 x 2 x 2\n",
       "rindices = [  ] (modes of tensor corresponding to rows)\n",
       "cindices = [ 0, 1, 2, 3 ] (modes of tensor corresponding to columns)\n",
       "data[:, :] = \n",
       "[[ 1  2  3  4  5  6  7  8  9 10 11 12 13 14 15 16 17 18 19 20 21 22 23 24]]"
      ]
     },
     "execution_count": 8,
     "metadata": {},
     "output_type": "execute_result"
    }
   ],
   "source": [
    "X = ttb.tensor.from_data(np.arange(1, 25), shape=(3, 2, 2, 2)) # Create a tensor.\n",
    "A = ttb.tenmat.from_tensor_type(X, cdims=np.arange(0,4)) # Map all the dimensions to the columns\n",
    "A"
   ]
  },
  {
   "cell_type": "markdown",
   "metadata": {},
   "source": [
    "## Alternative ordering for the columns for mode-n matricization"
   ]
  },
  {
   "cell_type": "markdown",
   "metadata": {},
   "source": [
    "Mode-n matricization means that only mode n is mapped to the rows. Different column orderings are available."
   ]
  },
  {
   "cell_type": "code",
   "execution_count": 9,
   "metadata": {},
   "outputs": [
    {
     "data": {
      "text/plain": [
       "matrix corresponding to a tensor of shape 3 x 2 x 2 x 2\n",
       "rindices = [ 2 ] (modes of tensor corresponding to rows)\n",
       "cindices = [ 0, 1, 3 ] (modes of tensor corresponding to columns)\n",
       "data[:, :] = \n",
       "[[ 1  2  3  4  5  6 13 14 15 16 17 18]\n",
       " [ 7  8  9 10 11 12 19 20 21 22 23 24]]"
      ]
     },
     "execution_count": 9,
     "metadata": {},
     "output_type": "execute_result"
    }
   ],
   "source": [
    "X = ttb.tensor.from_data(np.arange(1, 25), shape=(3, 2, 2, 2)) # Create a tensor.\n",
    "A = ttb.tenmat.from_tensor_type(X, np.array([2])) # By default, columns are ordered as [0, 1, 3].\n",
    "A"
   ]
  },
  {
   "cell_type": "code",
   "execution_count": 10,
   "metadata": {},
   "outputs": [
    {
     "data": {
      "text/plain": [
       "matrix corresponding to a tensor of shape 3 x 2 x 2 x 2\n",
       "rindices = [ 1 ] (modes of tensor corresponding to rows)\n",
       "cindices = [ 2, 0, 3 ] (modes of tensor corresponding to columns)\n",
       "data[:, :] = \n",
       "[[ 1  7  2  8  3  9 13 19 14 20 15 21]\n",
       " [ 4 10  5 11  6 12 16 22 17 23 18 24]]"
      ]
     },
     "execution_count": 10,
     "metadata": {},
     "output_type": "execute_result"
    }
   ],
   "source": [
    "X = ttb.tensor.from_data(np.arange(1, 25), shape=(3, 2, 2, 2)) # Create a tensor.\n",
    "A = ttb.tenmat.from_tensor_type(X, np.array([1]), np.array([2,0,3])) # Explicit specification.\n",
    "A"
   ]
  },
  {
   "cell_type": "code",
   "execution_count": 11,
   "metadata": {},
   "outputs": [
    {
     "data": {
      "text/plain": [
       "matrix corresponding to a tensor of shape 3 x 2 x 2 x 2\n",
       "rindices = [ 1 ] (modes of tensor corresponding to rows)\n",
       "cindices = [ 2, 3, 0 ] (modes of tensor corresponding to columns)\n",
       "data[:, :] = \n",
       "[[ 1  7 13 19  2  8 14 20  3  9 15 21]\n",
       " [ 4 10 16 22  5 11 17 23  6 12 18 24]]"
      ]
     },
     "execution_count": 11,
     "metadata": {},
     "output_type": "execute_result"
    }
   ],
   "source": [
    "A = ttb.tenmat.from_tensor_type(X, np.array([1]), cdims_cyclic='fc') # Forward cyclic, [2,3,0].\n",
    "A"
   ]
  },
  {
   "cell_type": "code",
   "execution_count": 12,
   "metadata": {},
   "outputs": [
    {
     "data": {
      "text/plain": [
       "matrix corresponding to a tensor of shape 3 x 2 x 2 x 2\n",
       "rindices = [ 1 ] (modes of tensor corresponding to rows)\n",
       "cindices = [ 0, 3, 2 ] (modes of tensor corresponding to columns)\n",
       "data[:, :] = \n",
       "[[ 1  2  3 13 14 15  7  8  9 19 20 21]\n",
       " [ 4  5  6 16 17 18 10 11 12 22 23 24]]"
      ]
     },
     "execution_count": 12,
     "metadata": {},
     "output_type": "execute_result"
    }
   ],
   "source": [
    "A = ttb.tenmat.from_tensor_type(X, np.array([1]), cdims_cyclic='bc') # Backward cyclic, [0,3,2].\n",
    "A"
   ]
  },
  {
   "cell_type": "markdown",
   "metadata": {},
   "source": [
    "## Constituent parts of a tenmat"
   ]
  },
  {
   "cell_type": "code",
   "execution_count": 13,
   "metadata": {},
   "outputs": [
    {
     "data": {
      "text/plain": [
       "array([[ 1,  2,  3, 13, 14, 15,  7,  8,  9, 19, 20, 21],\n",
       "       [ 4,  5,  6, 16, 17, 18, 10, 11, 12, 22, 23, 24]])"
      ]
     },
     "execution_count": 13,
     "metadata": {},
     "output_type": "execute_result"
    }
   ],
   "source": [
    "X = ttb.tensor.from_data(np.arange(1, 25), shape=(3, 2, 2, 2)) # Create a tensor.\n",
    "A = ttb.tenmat.from_tensor_type(X, np.array([1]), cdims_cyclic='bc') # Backward cyclic, [0,3,2].\n",
    "A.data # The matrix itself."
   ]
  },
  {
   "cell_type": "code",
   "execution_count": 14,
   "metadata": {},
   "outputs": [
    {
     "data": {
      "text/plain": [
       "(3, 2, 2, 2)"
      ]
     },
     "execution_count": 14,
     "metadata": {},
     "output_type": "execute_result"
    }
   ],
   "source": [
    "A.tshape # Size of the original tensor."
   ]
  },
  {
   "cell_type": "code",
   "execution_count": 15,
   "metadata": {},
   "outputs": [
    {
     "data": {
      "text/plain": [
       "array([1])"
      ]
     },
     "execution_count": 15,
     "metadata": {},
     "output_type": "execute_result"
    }
   ],
   "source": [
    "A.rindices # Dimensions that were mapped to the rows."
   ]
  },
  {
   "cell_type": "code",
   "execution_count": 16,
   "metadata": {},
   "outputs": [
    {
     "data": {
      "text/plain": [
       "array([0, 3, 2])"
      ]
     },
     "execution_count": 16,
     "metadata": {},
     "output_type": "execute_result"
    }
   ],
   "source": [
    "A.cindices # Dimensions that were mapped to the columns."
   ]
  },
  {
   "cell_type": "markdown",
   "metadata": {},
   "source": [
    "## Creating a tenmat from its constituent parts"
   ]
  },
  {
   "cell_type": "code",
   "execution_count": 17,
   "metadata": {},
   "outputs": [
    {
     "data": {
      "text/plain": [
       "matrix corresponding to a tensor of shape 3 x 2 x 2 x 2\n",
       "rindices = [ 1 ] (modes of tensor corresponding to rows)\n",
       "cindices = [ 0, 3, 2 ] (modes of tensor corresponding to columns)\n",
       "data[:, :] = \n",
       "[[ 1  4  2  7 10  8 13 16 14 19 22 20]\n",
       " [ 5  3  6 11  9 12 17 15 18 23 21 24]]"
      ]
     },
     "execution_count": 17,
     "metadata": {},
     "output_type": "execute_result"
    }
   ],
   "source": [
    "X = ttb.tensor.from_data(np.arange(1, 25), shape=(3, 2, 2, 2)) # Create a tensor.\n",
    "A = ttb.tenmat.from_tensor_type(X, np.array([1]), cdims_cyclic='bc') # Backward cyclic, [0,3,2].\n",
    "B = ttb.tenmat.from_data(A.data, A.rindices, A.cindices, A.tshape)\n",
    "B # Recreates A"
   ]
  },
  {
   "cell_type": "markdown",
   "metadata": {},
   "source": [
    "## Creating an empty tenmat"
   ]
  },
  {
   "cell_type": "code",
   "execution_count": 18,
   "metadata": {},
   "outputs": [
    {
     "data": {
      "text/plain": [
       "matrix corresponding to a tensor of shape ()\n",
       "rindices = [  ] (modes of tensor corresponding to rows)\n",
       "cindices = [  ] (modes of tensor corresponding to columns)\n",
       "data = []"
      ]
     },
     "execution_count": 18,
     "metadata": {},
     "output_type": "execute_result"
    }
   ],
   "source": [
    "B = ttb.tenmat() # Empty tenmat.\n",
    "B"
   ]
  },
  {
   "cell_type": "markdown",
   "metadata": {},
   "source": [
    "## Use double to convert a tenmat to a MATLAB matrix"
   ]
  },
  {
   "cell_type": "code",
   "execution_count": 19,
   "metadata": {},
   "outputs": [
    {
     "data": {
      "text/plain": [
       "array([[ 1.,  2.,  3., 13., 14., 15.,  7.,  8.,  9., 19., 20., 21.],\n",
       "       [ 4.,  5.,  6., 16., 17., 18., 10., 11., 12., 22., 23., 24.]])"
      ]
     },
     "execution_count": 19,
     "metadata": {},
     "output_type": "execute_result"
    }
   ],
   "source": [
    "X = ttb.tensor.from_data(np.arange(1, 25), shape=(3, 2, 2, 2)) # Create a tensor.\n",
    "A = ttb.tenmat.from_tensor_type(X, np.array([1]), cdims_cyclic='bc') # Backward cyclic, [0,3,2].\n",
    "A.double() # Converts A to a standard matrix"
   ]
  },
  {
   "cell_type": "markdown",
   "metadata": {},
   "source": [
    "## Use tensor to convert a tenmat to a tensor"
   ]
  },
  {
   "cell_type": "code",
   "execution_count": 20,
   "metadata": {},
   "outputs": [
    {
     "data": {
      "text/plain": [
       "tensor of shape 3 x 2 x 2 x 2\n",
       "data[0, 0, :, :] = \n",
       "[[ 1 13]\n",
       " [ 7 19]]\n",
       "data[1, 0, :, :] = \n",
       "[[ 2 14]\n",
       " [ 8 20]]\n",
       "data[2, 0, :, :] = \n",
       "[[ 3 15]\n",
       " [ 9 21]]\n",
       "data[0, 1, :, :] = \n",
       "[[ 4 16]\n",
       " [10 22]]\n",
       "data[1, 1, :, :] = \n",
       "[[ 5 17]\n",
       " [11 23]]\n",
       "data[2, 1, :, :] = \n",
       "[[ 6 18]\n",
       " [12 24]]"
      ]
     },
     "execution_count": 20,
     "metadata": {},
     "output_type": "execute_result"
    }
   ],
   "source": [
    "X = ttb.tensor.from_data(np.arange(1, 25), shape=(3, 2, 2, 2)) # Create a tensor.\n",
    "A = ttb.tenmat.from_tensor_type(X, np.array([1]), cdims_cyclic='bc') # Backward cyclic, [0,3,2].\n",
    "Y = ttb.tensor.from_tensor_type(A)\n",
    "Y"
   ]
  },
  {
   "cell_type": "markdown",
   "metadata": {},
   "source": [
    "## Use size and tsize for the dimensions of a tenmat"
   ]
  },
  {
   "cell_type": "code",
   "execution_count": 21,
   "metadata": {},
   "outputs": [
    {
     "data": {
      "text/plain": [
       "(2, 12)"
      ]
     },
     "execution_count": 21,
     "metadata": {},
     "output_type": "execute_result"
    }
   ],
   "source": [
    "X = ttb.tensor.from_data(np.arange(1, 25), shape=(3, 2, 2, 2)) # Create a tensor.\n",
    "A = ttb.tenmat.from_tensor_type(X, np.array([1]), cdims_cyclic='bc') # Backward cyclic, [0,3,2].\n",
    "A.shape # Matrix size"
   ]
  },
  {
   "cell_type": "code",
   "execution_count": 22,
   "metadata": {},
   "outputs": [
    {
     "data": {
      "text/plain": [
       "(3, 2, 2, 2)"
      ]
     },
     "execution_count": 22,
     "metadata": {},
     "output_type": "execute_result"
    }
   ],
   "source": [
    "A.tshape # Corresponding tensor size"
   ]
  },
  {
   "cell_type": "markdown",
   "metadata": {},
   "source": [
    "## Subscripted reference for a tenmat"
   ]
  },
  {
   "cell_type": "code",
   "execution_count": 23,
   "metadata": {},
   "outputs": [
    {
     "data": {
      "text/plain": [
       "4"
      ]
     },
     "execution_count": 23,
     "metadata": {},
     "output_type": "execute_result"
    }
   ],
   "source": [
    "X = ttb.tensor.from_data(np.arange(1, 25), shape=(3, 2, 2, 2)) # Create a tensor.\n",
    "A = ttb.tenmat.from_tensor_type(X, np.array([1]), cdims_cyclic='bc') # Backward cyclic, [0,3,2].\n",
    "A[1,0] # Returns the (1,0) element of the matrix."
   ]
  },
  {
   "cell_type": "markdown",
   "metadata": {},
   "source": [
    "## Subscripted assignment for a tenmat"
   ]
  },
  {
   "cell_type": "code",
   "execution_count": 24,
   "metadata": {},
   "outputs": [
    {
     "data": {
      "text/plain": [
       "matrix corresponding to a tensor of shape 3 x 2 x 2 x 2\n",
       "rindices = [ 1 ] (modes of tensor corresponding to rows)\n",
       "cindices = [ 0, 3, 2 ] (modes of tensor corresponding to columns)\n",
       "data[:, :] = \n",
       "[[ 1  1  3 13 14 15  7  8  9 19 20 21]\n",
       " [ 1  1  6 16 17 18 10 11 12 22 23 24]]"
      ]
     },
     "execution_count": 24,
     "metadata": {},
     "output_type": "execute_result"
    }
   ],
   "source": [
    "X = ttb.tensor.from_data(np.arange(1, 25), shape=(3, 2, 2, 2)) # Create a tensor.\n",
    "A = ttb.tenmat.from_tensor_type(X, np.array([1]), cdims_cyclic='bc') # Backward cyclic, [0,3,2].\n",
    "A[0:2,0:2] = np.ones((2,2))\n",
    "A"
   ]
  },
  {
   "cell_type": "markdown",
   "metadata": {},
   "source": [
    "## Use end for the last index"
   ]
  },
  {
   "cell_type": "code",
   "execution_count": 25,
   "metadata": {},
   "outputs": [
    {
     "data": {
      "text/plain": [
       "24"
      ]
     },
     "execution_count": 25,
     "metadata": {},
     "output_type": "execute_result"
    }
   ],
   "source": [
    "A[-1][-1] # Same as A[1, 11]."
   ]
  },
  {
   "cell_type": "markdown",
   "metadata": {},
   "source": [
    "## Basic operations for tenmat"
   ]
  },
  {
   "cell_type": "code",
   "execution_count": 26,
   "metadata": {},
   "outputs": [
    {
     "data": {
      "text/plain": [
       "70.0"
      ]
     },
     "execution_count": 26,
     "metadata": {},
     "output_type": "execute_result"
    }
   ],
   "source": [
    "X = ttb.tensor.from_data(np.arange(1, 25), shape=(3, 2, 2, 2)) # Create a tensor.\n",
    "A = ttb.tenmat.from_tensor_type(X, np.array([1]), cdims_cyclic='bc') # Backward cyclic, [0,3,2].\n",
    "A.norm() # Norm of the matrix."
   ]
  },
  {
   "cell_type": "code",
   "execution_count": 27,
   "metadata": {},
   "outputs": [
    {
     "data": {
      "text/plain": [
       "matrix corresponding to a tensor of shape 3 x 2 x 2 x 2\n",
       "rindices = [ 0, 3, 2 ] (modes of tensor corresponding to rows)\n",
       "cindices = [ 1 ] (modes of tensor corresponding to columns)\n",
       "data[:, :] = \n",
       "[[ 1  4]\n",
       " [ 2  5]\n",
       " [ 3  6]\n",
       " [13 16]\n",
       " [14 17]\n",
       " [15 18]\n",
       " [ 7 10]\n",
       " [ 8 11]\n",
       " [ 9 12]\n",
       " [19 22]\n",
       " [20 23]\n",
       " [21 24]]"
      ]
     },
     "execution_count": 27,
     "metadata": {},
     "output_type": "execute_result"
    }
   ],
   "source": [
    "A.ctranspose() # Also swaps mapped dimensions."
   ]
  },
  {
   "cell_type": "code",
   "execution_count": 28,
   "metadata": {},
   "outputs": [
    {
     "data": {
      "text/plain": [
       "matrix corresponding to a tensor of shape 3 x 2 x 2 x 2\n",
       "rindices = [ 1 ] (modes of tensor corresponding to rows)\n",
       "cindices = [ 0, 3, 2 ] (modes of tensor corresponding to columns)\n",
       "data[:, :] = \n",
       "[[ 1  2  3 13 14 15  7  8  9 19 20 21]\n",
       " [ 4  5  6 16 17 18 10 11 12 22 23 24]]"
      ]
     },
     "execution_count": 28,
     "metadata": {},
     "output_type": "execute_result"
    }
   ],
   "source": [
    "+A # Calls uplus."
   ]
  },
  {
   "cell_type": "code",
   "execution_count": 29,
   "metadata": {},
   "outputs": [
    {
     "data": {
      "text/plain": [
       "matrix corresponding to a tensor of shape 3 x 2 x 2 x 2\n",
       "rindices = [ 1 ] (modes of tensor corresponding to rows)\n",
       "cindices = [ 0, 3, 2 ] (modes of tensor corresponding to columns)\n",
       "data[:, :] = \n",
       "[[ -1  -2  -3 -13 -14 -15  -7  -8  -9 -19 -20 -21]\n",
       " [ -4  -5  -6 -16 -17 -18 -10 -11 -12 -22 -23 -24]]"
      ]
     },
     "execution_count": 29,
     "metadata": {},
     "output_type": "execute_result"
    }
   ],
   "source": [
    "-A # Calls uminus."
   ]
  },
  {
   "cell_type": "code",
   "execution_count": 30,
   "metadata": {},
   "outputs": [
    {
     "data": {
      "text/plain": [
       "matrix corresponding to a tensor of shape 3 x 2 x 2 x 2\n",
       "rindices = [ 1 ] (modes of tensor corresponding to rows)\n",
       "cindices = [ 0, 3, 2 ] (modes of tensor corresponding to columns)\n",
       "data[:, :] = \n",
       "[[ 2  4  6 26 28 30 14 16 18 38 40 42]\n",
       " [ 8 10 12 32 34 36 20 22 24 44 46 48]]"
      ]
     },
     "execution_count": 30,
     "metadata": {},
     "output_type": "execute_result"
    }
   ],
   "source": [
    "A+A # Calls plus"
   ]
  },
  {
   "cell_type": "code",
   "execution_count": 31,
   "metadata": {},
   "outputs": [
    {
     "data": {
      "text/plain": [
       "matrix corresponding to a tensor of shape 3 x 2 x 2 x 2\n",
       "rindices = [ 1 ] (modes of tensor corresponding to rows)\n",
       "cindices = [ 0, 3, 2 ] (modes of tensor corresponding to columns)\n",
       "data[:, :] = \n",
       "[[0 0 0 0 0 0 0 0 0 0 0 0]\n",
       " [0 0 0 0 0 0 0 0 0 0 0 0]]"
      ]
     },
     "execution_count": 31,
     "metadata": {},
     "output_type": "execute_result"
    }
   ],
   "source": [
    "A-A # Calls minus."
   ]
  },
  {
   "cell_type": "markdown",
   "metadata": {},
   "source": [
    "## Multiplying two tenmats"
   ]
  },
  {
   "cell_type": "markdown",
   "metadata": {},
   "source": [
    "It is possible to compute the product of two tenmats and have a result that can be converted into a tensor."
   ]
  },
  {
   "cell_type": "code",
   "execution_count": 32,
   "metadata": {},
   "outputs": [
    {
     "data": {
      "text/plain": [
       "matrix corresponding to a tensor of shape 2 x 2\n",
       "rindices = [ 0 ] (modes of tensor corresponding to rows)\n",
       "cindices = [ 1 ] (modes of tensor corresponding to columns)\n",
       "data[:, :] = \n",
       "[[2000 2396]\n",
       " [2396 2900]]"
      ]
     },
     "execution_count": 32,
     "metadata": {},
     "output_type": "execute_result"
    }
   ],
   "source": [
    "X = ttb.tensor.from_data(np.arange(1, 25), shape=(3, 2, 2, 2)) # Create a tensor.\n",
    "A = ttb.tenmat.from_tensor_type(X, np.array([1]), cdims_cyclic='bc') # Backward cyclic, [0,3,2].\n",
    "B = A * A.ctranspose() # Tenmat that is the product of two tenmats.\n",
    "B"
   ]
  },
  {
   "cell_type": "code",
   "execution_count": 33,
   "metadata": {},
   "outputs": [
    {
     "data": {
      "text/plain": [
       "tensor of shape 2 x 2\n",
       "data[:, :] = \n",
       "[[2000 2396]\n",
       " [2396 2900]]"
      ]
     },
     "execution_count": 33,
     "metadata": {},
     "output_type": "execute_result"
    }
   ],
   "source": [
    "ttb.tensor.from_tensor_type(B) # Corresponding tensor."
   ]
  },
  {
   "cell_type": "markdown",
   "metadata": {},
   "source": [
    "## Displaying a tenmat"
   ]
  },
  {
   "cell_type": "markdown",
   "metadata": {},
   "source": [
    "Shows the original tensor dimensions, the modes mapped to rows, the modes mapped to columns, and the matrix."
   ]
  },
  {
   "cell_type": "code",
   "execution_count": 34,
   "metadata": {},
   "outputs": [
    {
     "data": {
      "text/plain": [
       "matrix corresponding to a tensor of shape 3 x 2 x 2 x 2\n",
       "rindices = [ 1 ] (modes of tensor corresponding to rows)\n",
       "cindices = [ 0, 3, 2 ] (modes of tensor corresponding to columns)\n",
       "data[:, :] = \n",
       "[[ 1  2  3 13 14 15  7  8  9 19 20 21]\n",
       " [ 4  5  6 16 17 18 10 11 12 22 23 24]]"
      ]
     },
     "execution_count": 34,
     "metadata": {},
     "output_type": "execute_result"
    }
   ],
   "source": [
    "A  "
   ]
  }
 ],
 "metadata": {
  "kernelspec": {
   "display_name": "Python 3 (ipykernel)",
   "language": "python",
   "name": "python3"
  },
  "language_info": {
   "codemirror_mode": {
    "name": "ipython",
    "version": 3
   },
   "file_extension": ".py",
   "mimetype": "text/x-python",
   "name": "python",
   "nbconvert_exporter": "python",
   "pygments_lexer": "ipython3",
   "version": "3.11.3"
  },
  "vscode": {
   "interpreter": {
    "hash": "b0fa6594d8f4cbf19f97940f81e996739fb7646882a419484c72d19e05852a7e"
   }
  }
 },
 "nbformat": 4,
 "nbformat_minor": 1
}
