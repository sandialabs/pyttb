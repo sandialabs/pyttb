{
 "cells": [
  {
   "cell_type": "markdown",
   "metadata": {},
   "source": [
    "# Sparse Tensors\n",
    "\n",
    "```\n",
    "Copyright 2022 National Technology & Engineering Solutions of Sandia,\n",
    "LLC (NTESS). Under the terms of Contract DE-NA0003525 with NTESS, the\n",
    "U.S. Government retains certain rights in this software.\n",
    "```"
   ]
  },
  {
   "cell_type": "markdown",
   "metadata": {},
   "source": [
    "The Sptensor class stores the data in coordinate format."
   ]
  },
  {
   "cell_type": "markdown",
   "metadata": {},
   "source": [
    "## Contents"
   ]
  },
  {
   "cell_type": "markdown",
   "metadata": {},
   "source": [
    "* [Creating a Sptensor](#Creating-a-Sptensor)\n",
    "* [Specifying the accumulation method for the constructor](#Specifying-the-accumulation-method-for-the-constructor)\n",
    "* [Creating a one-dimensional Sptensor](#Creating-a-one-dimensional-Sptensor)\n",
    "* [Creating an all-zero Sptensor](#Creating-an-all-zero-Sptensor)\n",
    "* [Constituent parts of a Sptensor](#Constituent-parts-of-a-Sptensor)\n",
    "* [Creating a sparse tensor from its constituent parts](#Creating-a-sparse-tensor-from-its-constituent-parts)\n",
    "* [Creating an empty Sptensor](#Creating-an-empty-Sptensor)\n",
    "* [Use sptenrand to create a random Sptensor](#Use-sptenrand-to-create-a-random-Sptensor)\n",
    "* [Use squeeze to remove singleton dimensions from a Sptensor](#Use-squeeze-to-remove-singleton-dimensions-from-a-Sptensor)\n",
    "* [Use squash to remove empty slices from a Sptensor](#Use-squash-to-remove-empty-slices-from-a-Sptensor)\n",
    "* [Use full or tensor to convert a sptensor to a (dense) tensor](#Use-full-or-tensor-to-convert-a-sptensor-to-a-(dense)-tensor)\n",
    "* [Use Sptensor to convert a (dense) tensor to a Sptensor](#Use-Sptensor-to-convert-a-(dense)-tensor-to-a-Sptensor)\n",
    "* [Use double to convert a sptensor to a (dense) multidimensional array](#Use-double-to-convert-a-sptensor-to-a-(dense)-multidimensional-array)\n",
    "* [Use find to extract nonzeros from a tensor and then create a Sptensor](#Use-find-to-extract-nonzeros-from-a-tensor-and-then-create-a-Sptensor)\n",
    "* [Use ndims and size to get the size of a Sptensor](#Use-ndims-and-size-to-get-the-size-of-a-Sptensor)\n",
    "* [Use nnz to get the number of nonzeroes of a Sptensor](#Use-nnz-to-get-the-number-of-nonzeroes-of-a-Sptensor)\n",
    "* [Subscripted reference for a Sptensor](#Subscripted-reference-for-a-Sptensor)\n",
    "* [Subscripted assignment for a Sptensor](#Subscripted-assignment-for-a-Sptensor)\n",
    "* [**BREAK**](#BREAK)\n",
    "* [Nonzero reference for a Sptensor](#Nonzero-reference-for-a-Sptensor)\n",
    "* [Nonzero assignment for a Sptensor](#Nonzero-assignment-for-a-Sptensor)\n",
    "\n",
    "* [Basic operations on a Sptensor](#Basic-operations-on-a-Sptensor)\n",
    "     * [Addition](#Addition)\n",
    "     * [Subtraction](#Subtraction)\n",
    "     * [Multiplication](#Multiplication)\n",
    "     * [Division](#Division)\n",
    "     * [Power](#Power)\n",
    "     * [Equality](#Equality)\n",
    "* [Displaying a Sptensor](#Displaying-a-Sptensor)"
   ]
  },
  {
   "cell_type": "markdown",
   "metadata": {},
   "source": [
    "## Creating a Sptensor"
   ]
  },
  {
   "cell_type": "markdown",
   "metadata": {},
   "source": [
    "A sparse tensor can be created by passing in a list of subscripts and values. For example, here we pass in three subscripts and a scalar value. The resuling sparse tensor has three nonzero entries, and the shape is the size of the largest subscript in each dimension."
   ]
  },
  {
   "cell_type": "code",
   "execution_count": 1,
   "metadata": {},
   "outputs": [],
   "source": [
    "import pyttb as ttb\n",
    "import numpy as np"
   ]
  },
  {
   "cell_type": "code",
   "execution_count": 2,
   "metadata": {},
   "outputs": [],
   "source": [
    "np.random.seed(0)\n",
    "subs =  np.array([[0,0,0],[0,1,0],[2,3,1]]) # Subscripts of the nonzeros.\n",
    "vals = np.array([[1],[2],[3]]) # Vals is a column vector; values of the nonzeros.\n",
    "X = ttb.sptensor.from_aggregator(subs,vals) # Sparse tensor with 3 nonzeros."
   ]
  },
  {
   "cell_type": "code",
   "execution_count": 3,
   "metadata": {},
   "outputs": [
    {
     "data": {
      "text/plain": [
       "Sparse tensor of shape 3 x 5 x 2 with 3 nonzeros \n",
       "\t[0, 0, 0] = 1\n",
       "\t[0, 1, 0] = 2\n",
       "\t[2, 3, 1] = 3"
      ]
     },
     "execution_count": 3,
     "metadata": {},
     "output_type": "execute_result"
    }
   ],
   "source": [
    "X = ttb.sptensor.from_data(subs,vals,(3, 5, 2))   # Or, specify the shape explicitly.\n",
    "X"
   ]
  },
  {
   "cell_type": "markdown",
   "metadata": {},
   "source": [
    "Values corresponding to repeated subscripts are summed."
   ]
  },
  {
   "cell_type": "code",
   "execution_count": 4,
   "metadata": {},
   "outputs": [
    {
     "data": {
      "text/plain": [
       "Sparse tensor of shape 4 x 4 x 4 with 4 nonzeros \n",
       "\t[0, 0, 0] = 6\n",
       "\t[0, 0, 2] = 2\n",
       "\t[2, 2, 2] = 2\n",
       "\t[3, 3, 3] = 2"
      ]
     },
     "execution_count": 4,
     "metadata": {},
     "output_type": "execute_result"
    }
   ],
   "source": [
    "subs = np.array([[0,0,0],[0,0,2],[2,2,2],[3,3,3],[0,0,0],[0,0,0]])  # (1,1,1) is repeated.\n",
    "vals = np.array([2,2,2,2,2,2])[:, None]  # Vals is a column vector.\n",
    "X = ttb.sptensor.from_aggregator(subs,vals)\n",
    "X"
   ]
  },
  {
   "cell_type": "markdown",
   "metadata": {},
   "source": [
    "## Specifying the accumulation method for the constructor"
   ]
  },
  {
   "cell_type": "code",
   "execution_count": 5,
   "metadata": {},
   "outputs": [
    {
     "data": {
      "text/plain": [
       "Sparse tensor of shape 4 x 4 x 4 with 4 nonzeros \n",
       "\t[0, 0, 0] = 2.0\n",
       "\t[0, 0, 2] = 2.0\n",
       "\t[2, 2, 2] = 2.0\n",
       "\t[3, 3, 3] = 2.0"
      ]
     },
     "execution_count": 5,
     "metadata": {},
     "output_type": "execute_result"
    }
   ],
   "source": [
    "subs = np.array([[0,0,0],[0,0,2],[2,2,2],[3,3,3],[0,0,0],[0,0,0]])\n",
    "vals = 2 * np.ones((6, 1))  # A column vector of 2s\n",
    "shape = (4, 4, 4)\n",
    "X = ttb.sptensor.from_aggregator(subs, vals, shape, np.max) # Maximum element.\n",
    "X"
   ]
  },
  {
   "cell_type": "code",
   "execution_count": 6,
   "metadata": {},
   "outputs": [
    {
     "data": {
      "text/plain": [
       "Sparse tensor of shape 4 x 4 x 4 with 4 nonzeros \n",
       "\t[0, 0, 0] = 2.0\n",
       "\t[0, 0, 2] = 0.6666666666666666\n",
       "\t[2, 2, 2] = 0.6666666666666666\n",
       "\t[3, 3, 3] = 0.6666666666666666"
      ]
     },
     "execution_count": 6,
     "metadata": {},
     "output_type": "execute_result"
    }
   ],
   "source": [
    "myfun = myfun = lambda x: np.sum(x) / 3 # Total sum divided by three.\n",
    "X = ttb.sptensor.from_aggregator(subs, vals, shape, myfun) # Custom accumulation function.\n",
    "X"
   ]
  },
  {
   "cell_type": "markdown",
   "metadata": {},
   "source": [
    "## Creating a one-dimensional Sptensor"
   ]
  },
  {
   "cell_type": "code",
   "execution_count": 7,
   "metadata": {},
   "outputs": [
    {
     "data": {
      "text/plain": [
       "Sparse tensor of shape 5 with 3 nonzeros \n",
       "\t[0] = 1.0\n",
       "\t[2] = 1.0\n",
       "\t[4] = 1.0"
      ]
     },
     "execution_count": 7,
     "metadata": {},
     "output_type": "execute_result"
    }
   ],
   "source": [
    "X = ttb.sptensor.from_aggregator(np.array([[0],[2],[4]]),np.ones((3,1)))\n",
    "X"
   ]
  },
  {
   "cell_type": "code",
   "execution_count": 8,
   "metadata": {},
   "outputs": [
    {
     "data": {
      "text/plain": [
       "Sparse tensor of shape 50 with 5 nonzeros \n",
       "\t[19] = 0.7917250380826646\n",
       "\t[21] = 0.5288949197529045\n",
       "\t[32] = 0.5680445610939323\n",
       "\t[44] = 0.925596638292661\n",
       "\t[48] = 0.07103605819788694"
      ]
     },
     "execution_count": 8,
     "metadata": {},
     "output_type": "execute_result"
    }
   ],
   "source": [
    "np.random.seed(0)\n",
    "X = ttb.sptenrand((50,), nonzeros=5)\n",
    "X"
   ]
  },
  {
   "cell_type": "markdown",
   "metadata": {},
   "source": [
    "## Creating an all-zero Sptensor"
   ]
  },
  {
   "cell_type": "code",
   "execution_count": 9,
   "metadata": {},
   "outputs": [
    {
     "data": {
      "text/plain": [
       "All-zero sparse tensor of shape 10 x 10 x 10"
      ]
     },
     "execution_count": 9,
     "metadata": {},
     "output_type": "execute_result"
    }
   ],
   "source": [
    "X = ttb.sptensor()\n",
    "X[9,9,9] = 0 # Creates an all-zero tensor.\n",
    "X"
   ]
  },
  {
   "cell_type": "markdown",
   "metadata": {},
   "source": [
    "## Constituent parts of a Sptensor"
   ]
  },
  {
   "cell_type": "code",
   "execution_count": 10,
   "metadata": {},
   "outputs": [
    {
     "data": {
      "text/plain": [
       "array([[15, 23, 10],\n",
       "       [17, 26, 19],\n",
       "       [21, 12, 12],\n",
       "       [21, 21, 12],\n",
       "       [22, 27,  1]])"
      ]
     },
     "execution_count": 10,
     "metadata": {},
     "output_type": "execute_result"
    }
   ],
   "source": [
    "np.random.seed(0)\n",
    "X = ttb.sptenrand([40, 30, 20], nonzeros=5) # Create data.\n",
    "X.subs # Subscripts of nonzeros."
   ]
  },
  {
   "cell_type": "code",
   "execution_count": 11,
   "metadata": {},
   "outputs": [
    {
     "data": {
      "text/plain": [
       "array([[0.0871293 ],\n",
       "       [0.0202184 ],\n",
       "       [0.83261985],\n",
       "       [0.77815675],\n",
       "       [0.87001215]])"
      ]
     },
     "execution_count": 11,
     "metadata": {},
     "output_type": "execute_result"
    }
   ],
   "source": [
    "X.vals # Corresponding nonzero values."
   ]
  },
  {
   "cell_type": "code",
   "execution_count": 12,
   "metadata": {},
   "outputs": [
    {
     "data": {
      "text/plain": [
       "[40, 30, 20]"
      ]
     },
     "execution_count": 12,
     "metadata": {},
     "output_type": "execute_result"
    }
   ],
   "source": [
    "X.shape # The shape."
   ]
  },
  {
   "cell_type": "markdown",
   "metadata": {},
   "source": [
    "## Creating a sparse tensor from its constituent parts"
   ]
  },
  {
   "cell_type": "code",
   "execution_count": 13,
   "metadata": {},
   "outputs": [
    {
     "data": {
      "text/plain": [
       "Sparse tensor of shape 40 x 30 x 20 with 5 nonzeros \n",
       "\t[15, 23, 10] = 0.08712929970154071\n",
       "\t[17, 26, 19] = 0.02021839744032572\n",
       "\t[21, 12, 12] = 0.832619845547938\n",
       "\t[21, 21, 12] = 0.7781567509498505\n",
       "\t[22, 27, 1] = 0.8700121482468192"
      ]
     },
     "execution_count": 13,
     "metadata": {},
     "output_type": "execute_result"
    }
   ],
   "source": [
    "np.random.seed(0)\n",
    "X = ttb.sptenrand([40, 30, 20], nonzeros=5) # Create data.\n",
    "Y = ttb.sptensor.from_tensor_type(X)\n",
    "Y"
   ]
  },
  {
   "cell_type": "markdown",
   "metadata": {},
   "source": [
    "## Creating an empty Sptensor"
   ]
  },
  {
   "cell_type": "code",
   "execution_count": 14,
   "metadata": {},
   "outputs": [
    {
     "data": {
      "text/plain": [
       "All-zero sparse tensor of shape ()"
      ]
     },
     "execution_count": 14,
     "metadata": {},
     "output_type": "execute_result"
    }
   ],
   "source": [
    "Y = ttb.sptensor() # Create an empty sptensor.\n",
    "Y"
   ]
  },
  {
   "cell_type": "markdown",
   "metadata": {},
   "source": [
    "## Use sptenrand to create a random Sptensor"
   ]
  },
  {
   "cell_type": "code",
   "execution_count": 15,
   "metadata": {},
   "outputs": [
    {
     "data": {
      "text/plain": [
       "Sparse tensor of shape 10 x 10 x 10 with 10 nonzeros \n",
       "\t[0, 0, 8] = 0.26455561210462697\n",
       "\t[1, 6, 1] = 0.7742336894342167\n",
       "\t[3, 7, 5] = 0.45615033221654855\n",
       "\t[4, 8, 9] = 0.5684339488686485\n",
       "\t[5, 4, 6] = 0.018789800436355142\n",
       "\t[5, 7, 6] = 0.6176354970758771\n",
       "\t[5, 9, 0] = 0.6120957227224214\n",
       "\t[7, 4, 7] = 0.6169339968747569\n",
       "\t[7, 8, 9] = 0.9437480785146242\n",
       "\t[9, 5, 4] = 0.6818202991034834"
      ]
     },
     "execution_count": 15,
     "metadata": {},
     "output_type": "execute_result"
    }
   ],
   "source": [
    "np.random.seed(0)\n",
    "X = ttb.sptenrand([10, 10, 10], 0.01) # Create a tesnor with 1% nonzeros using the 'density' param.\n",
    "X"
   ]
  },
  {
   "cell_type": "code",
   "execution_count": 16,
   "metadata": {},
   "outputs": [
    {
     "data": {
      "text/plain": [
       "Sparse tensor of shape 10 x 10 x 10 with 10 nonzeros \n",
       "\t[0, 0, 8] = 0.26455561210462697\n",
       "\t[1, 6, 1] = 0.7742336894342167\n",
       "\t[3, 7, 5] = 0.45615033221654855\n",
       "\t[4, 8, 9] = 0.5684339488686485\n",
       "\t[5, 4, 6] = 0.018789800436355142\n",
       "\t[5, 7, 6] = 0.6176354970758771\n",
       "\t[5, 9, 0] = 0.6120957227224214\n",
       "\t[7, 4, 7] = 0.6169339968747569\n",
       "\t[7, 8, 9] = 0.9437480785146242\n",
       "\t[9, 5, 4] = 0.6818202991034834"
      ]
     },
     "execution_count": 16,
     "metadata": {},
     "output_type": "execute_result"
    }
   ],
   "source": [
    "np.random.seed(0)\n",
    "X = ttb.sptenrand([10, 10, 10], nonzeros=10) # Create a tensor with 10 nonzeros using the 'nonzeros' param.\n",
    "X"
   ]
  },
  {
   "cell_type": "markdown",
   "metadata": {},
   "source": [
    "## Use squeeze to remove singleton dimensions from a Sptensor"
   ]
  },
  {
   "cell_type": "code",
   "execution_count": 17,
   "metadata": {
    "scrolled": false
   },
   "outputs": [
    {
     "data": {
      "text/plain": [
       "Sparse tensor of shape 2 x 1 x 1 with 2 nonzeros \n",
       "\t[0, 0, 0] = 1.0\n",
       "\t[1, 0, 0] = 1.0"
      ]
     },
     "execution_count": 17,
     "metadata": {},
     "output_type": "execute_result"
    }
   ],
   "source": [
    "indices = np.array([[0, 0, 0], [1, 0, 0]])\n",
    "values = np.ones((2,))\n",
    "\n",
    "Y = ttb.sptensor.from_aggregator(indices, values) # Create a sparse tensor.\n",
    "Y"
   ]
  },
  {
   "cell_type": "code",
   "execution_count": 18,
   "metadata": {},
   "outputs": [
    {
     "data": {
      "text/plain": [
       "Sparse tensor of shape 2 with 2 nonzeros \n",
       "\t[0] = 1.0\n",
       "\t[1] = 1.0"
      ]
     },
     "execution_count": 18,
     "metadata": {},
     "output_type": "execute_result"
    }
   ],
   "source": [
    "Y.squeeze() # Remove singleton dimensions."
   ]
  },
  {
   "cell_type": "markdown",
   "metadata": {},
   "source": [
    "## Use squash to remove empty slices from a Sptensor"
   ]
  },
  {
   "cell_type": "code",
   "execution_count": 19,
   "metadata": {},
   "outputs": [
    {
     "data": {
      "text/plain": [
       "Sparse tensor of shape 3 x 3 x 3 with 2 nonzeros \n",
       "\t[0, 0, 0] = 1\n",
       "\t[2, 2, 2] = 3"
      ]
     },
     "execution_count": 19,
     "metadata": {},
     "output_type": "execute_result"
    }
   ],
   "source": [
    "indices = np.array([[0, 0, 0], [2, 2, 2]])\n",
    "values = np.array([1,3])\n",
    "\n",
    "Y = ttb.sptensor.from_aggregator(indices, values) # Create a sparse tensor.\n",
    "Y"
   ]
  },
  {
   "cell_type": "markdown",
   "metadata": {},
   "source": [
    "## TODO: SQUASH IS not implemented"
   ]
  },
  {
   "cell_type": "code",
   "execution_count": 20,
   "metadata": {},
   "outputs": [],
   "source": [
    "# Y.squash()"
   ]
  },
  {
   "cell_type": "markdown",
   "metadata": {},
   "source": [
    "## Use full or tensor to convert a sptensor to a (dense) tensor"
   ]
  },
  {
   "cell_type": "code",
   "execution_count": 21,
   "metadata": {},
   "outputs": [
    {
     "data": {
      "text/plain": [
       "tensor of shape 2 x 2 x 2\n",
       "data[0, :, :] = \n",
       "[[1. 0.]\n",
       " [0. 0.]]\n",
       "data[1, :, :] = \n",
       "[[0. 0.]\n",
       " [0. 1.]]"
      ]
     },
     "execution_count": 21,
     "metadata": {},
     "output_type": "execute_result"
    }
   ],
   "source": [
    "indices = np.array([[0, 0, 0], [1, 1, 1]])\n",
    "values = np.array([[1], [1]])\n",
    "X = ttb.sptensor.from_aggregator(indices, values) # Create a sparse tensor.\n",
    "X.full() # Convert it to a (dense) tensor."
   ]
  },
  {
   "cell_type": "code",
   "execution_count": 22,
   "metadata": {},
   "outputs": [
    {
     "data": {
      "text/plain": [
       "tensor of shape 2 x 2 x 2\n",
       "data[0, :, :] = \n",
       "[[1. 0.]\n",
       " [0. 0.]]\n",
       "data[1, :, :] = \n",
       "[[0. 0.]\n",
       " [0. 1.]]"
      ]
     },
     "execution_count": 22,
     "metadata": {},
     "output_type": "execute_result"
    }
   ],
   "source": [
    "Y = ttb.tensor.from_tensor_type(X) # Same as above.\n",
    "Y"
   ]
  },
  {
   "cell_type": "markdown",
   "metadata": {},
   "source": [
    "## Use Sptensor to convert a (dense) tensor to a Sptensor"
   ]
  },
  {
   "cell_type": "code",
   "execution_count": 23,
   "metadata": {},
   "outputs": [
    {
     "data": {
      "text/plain": [
       "Sparse tensor of shape 2 x 2 x 2 with 2 nonzeros \n",
       "\t[0, 0, 0] = 1.0\n",
       "\t[1, 1, 1] = 1.0"
      ]
     },
     "execution_count": 23,
     "metadata": {},
     "output_type": "execute_result"
    }
   ],
   "source": [
    "indices = np.array([[0, 0, 0], [1, 1, 1]])\n",
    "values = np.array([[1], [1]])\n",
    "X = ttb.sptensor.from_aggregator(indices, values) # Create a sparse tensor.\n",
    "Y = ttb.tensor.from_tensor_type(X) # Convert it to a (dense) tensor.\n",
    "Z = ttb.sptensor.from_tensor_type(Y) # Convert a tensor to a sptensor.\n",
    "Z"
   ]
  },
  {
   "cell_type": "markdown",
   "metadata": {},
   "source": [
    "## Use double to convert a sptensor to a (dense) multidimensional array"
   ]
  },
  {
   "cell_type": "code",
   "execution_count": 24,
   "metadata": {},
   "outputs": [
    {
     "data": {
      "text/plain": [
       "array([[[1., 0.],\n",
       "        [0., 0.]],\n",
       "\n",
       "       [[0., 0.],\n",
       "        [0., 1.]]])"
      ]
     },
     "execution_count": 24,
     "metadata": {},
     "output_type": "execute_result"
    }
   ],
   "source": [
    "indices = np.array([[0, 0, 0], [1, 1, 1]])\n",
    "values = np.array([[1], [1]])\n",
    "X = ttb.sptensor.from_aggregator(indices, values) # Create a sparse tensor.\n",
    "Y = ttb.sptensor.double(X) # Creates numpy.ndarray\n",
    "Y "
   ]
  },
  {
   "cell_type": "markdown",
   "metadata": {},
   "source": [
    "## Use find to extract nonzeros from a tensor and then create a Sptensor"
   ]
  },
  {
   "cell_type": "code",
   "execution_count": 25,
   "metadata": {},
   "outputs": [
    {
     "data": {
      "text/plain": [
       "Sparse tensor of shape 5 x 4 x 2 with 5 nonzeros \n",
       "\t[1, 0, 0] = 1\n",
       "\t[1, 2, 1] = 1\n",
       "\t[2, 2, 0] = 1\n",
       "\t[3, 1, 1] = 1\n",
       "\t[4, 3, 0] = 1"
      ]
     },
     "execution_count": 25,
     "metadata": {},
     "output_type": "execute_result"
    }
   ],
   "source": [
    "np.random.seed(0)\n",
    "X = ttb.tensor.from_data(np.random.rand(5,4,2)) # Create a tensor.\n",
    "larger_entries = X > 0.9 # Extract subscipts of values greater than 0.9.\n",
    "subs, vals = larger_entries.find() # Extract corresponding subscripts and values.\n",
    "Y = ttb.sptensor.from_aggregator(subs, vals) # Create a new sptensor.\n",
    "Y"
   ]
  },
  {
   "cell_type": "markdown",
   "metadata": {},
   "source": [
    "## Use ndims and size to get the size of a Sptensor"
   ]
  },
  {
   "cell_type": "code",
   "execution_count": 26,
   "metadata": {},
   "outputs": [
    {
     "data": {
      "text/plain": [
       "Sparse tensor of shape 4 x 5 x 3 with 4 nonzeros \n",
       "\t[1, 1, 1] = 3\n",
       "\t[2, 3, 2] = 2\n",
       "\t[3, 4, 1] = 1\n",
       "\t[1, 0, 0] = 3"
      ]
     },
     "execution_count": 26,
     "metadata": {},
     "output_type": "execute_result"
    }
   ],
   "source": [
    "X = ttb.sptensor.from_data(np.array([[1,1,1],[2,3,2],[3,4,1],[1,0,0]]),np.array([[3],[2],[1],[3]]), (4, 5, 3))\n",
    "X"
   ]
  },
  {
   "cell_type": "code",
   "execution_count": 27,
   "metadata": {},
   "outputs": [
    {
     "data": {
      "text/plain": [
       "3"
      ]
     },
     "execution_count": 27,
     "metadata": {},
     "output_type": "execute_result"
    }
   ],
   "source": [
    "X.ndims # Number of dimensions or modes."
   ]
  },
  {
   "cell_type": "code",
   "execution_count": 28,
   "metadata": {},
   "outputs": [
    {
     "data": {
      "text/plain": [
       "(4, 5, 3)"
      ]
     },
     "execution_count": 28,
     "metadata": {},
     "output_type": "execute_result"
    }
   ],
   "source": [
    "X.shape # Size of X."
   ]
  },
  {
   "cell_type": "code",
   "execution_count": 29,
   "metadata": {},
   "outputs": [
    {
     "data": {
      "text/plain": [
       "3"
      ]
     },
     "execution_count": 29,
     "metadata": {},
     "output_type": "execute_result"
    }
   ],
   "source": [
    "X.shape[2] # Size of mode 3 of X."
   ]
  },
  {
   "cell_type": "markdown",
   "metadata": {},
   "source": [
    "## Use nnz to get the number of nonzeroes of a Sptensor"
   ]
  },
  {
   "cell_type": "code",
   "execution_count": 30,
   "metadata": {},
   "outputs": [
    {
     "data": {
      "text/plain": [
       "4"
      ]
     },
     "execution_count": 30,
     "metadata": {},
     "output_type": "execute_result"
    }
   ],
   "source": [
    "X = ttb.sptensor.from_data(np.array([[1,1,1],[2,3,2],[3,4,1],[1,0,0]]),np.array([[3],[2],[1],[3]]), (4, 5, 3))\n",
    "X.nnz # Number of nonzeros of X."
   ]
  },
  {
   "cell_type": "markdown",
   "metadata": {},
   "source": [
    "## Subscripted reference for a Sptensor"
   ]
  },
  {
   "cell_type": "code",
   "execution_count": 72,
   "metadata": {},
   "outputs": [
    {
     "data": {
      "text/plain": [
       "Sparse tensor of shape 4 x 4 x 4 with 3 nonzeros \n",
       "\t[3, 3, 3] = 3\n",
       "\t[1, 1, 0] = 5\n",
       "\t[1, 2, 1] = 1"
      ]
     },
     "execution_count": 72,
     "metadata": {},
     "output_type": "execute_result"
    }
   ],
   "source": [
    "X = ttb.sptensor.from_data(np.array([[3,3,3],[1,1,0],[1,2,1]]), np.array([[3],[5],[1]]), (4, 4, 4)) # Create a sptensor.\n",
    "X"
   ]
  },
  {
   "cell_type": "code",
   "execution_count": 73,
   "metadata": {},
   "outputs": [
    {
     "data": {
      "text/plain": [
       "0"
      ]
     },
     "execution_count": 73,
     "metadata": {},
     "output_type": "execute_result"
    }
   ],
   "source": [
    "X[0, 1, 0].item() # Extract the (0,1,0) element, which is zero."
   ]
  },
  {
   "cell_type": "code",
   "execution_count": 74,
   "metadata": {},
   "outputs": [
    {
     "data": {
      "text/plain": [
       "3"
      ]
     },
     "execution_count": 74,
     "metadata": {},
     "output_type": "execute_result"
    }
   ],
   "source": [
    "X[3,3,3].item()  # Extract the (3,3,3) element, which is non-zero."
   ]
  },
  {
   "cell_type": "code",
   "execution_count": 75,
   "metadata": {},
   "outputs": [
    {
     "data": {
      "text/plain": [
       "Sparse tensor of shape 2 x 3 x 4 with 2 nonzeros \n",
       "\t[1, 0, 0] = 5\n",
       "\t[1, 1, 1] = 1"
      ]
     },
     "execution_count": 75,
     "metadata": {},
     "output_type": "execute_result"
    }
   ],
   "source": [
    "X[0:2,1:4,:] # Extract the 2x3x4 subtensor."
   ]
  },
  {
   "cell_type": "code",
   "execution_count": 83,
   "metadata": {},
   "outputs": [
    {
     "data": {
      "text/plain": [
       "array([[0]])"
      ]
     },
     "execution_count": 83,
     "metadata": {},
     "output_type": "execute_result"
    }
   ],
   "source": [
    "X[1,1,1]"
   ]
  },
  {
   "cell_type": "code",
   "execution_count": 84,
   "metadata": {},
   "outputs": [
    {
     "data": {
      "text/plain": [
       "array([[5]])"
      ]
     },
     "execution_count": 84,
     "metadata": {},
     "output_type": "execute_result"
    }
   ],
   "source": [
    "X[1,1,0]"
   ]
  },
  {
   "cell_type": "code",
   "execution_count": 86,
   "metadata": {},
   "outputs": [
    {
     "ename": "AssertionError",
     "evalue": "Invalid indexing",
     "output_type": "error",
     "traceback": [
      "\u001b[0;31m---------------------------------------------------------------------------\u001b[0m",
      "\u001b[0;31mAssertionError\u001b[0m                            Traceback (most recent call last)",
      "Cell \u001b[0;32mIn[86], line 1\u001b[0m\n\u001b[0;32m----> 1\u001b[0m X[(\u001b[38;5;241m1\u001b[39m,)]\n",
      "File \u001b[0;32m~/code/pyttb-fork/pyttb/sptensor.py:1377\u001b[0m, in \u001b[0;36msptensor.__getitem__\u001b[0;34m(self, item)\u001b[0m\n\u001b[1;32m   1375\u001b[0m     idx \u001b[38;5;241m=\u001b[39m item\n\u001b[1;32m   1376\u001b[0m \u001b[38;5;28;01melse\u001b[39;00m:\n\u001b[0;32m-> 1377\u001b[0m     \u001b[38;5;28;01massert\u001b[39;00m \u001b[38;5;28;01mFalse\u001b[39;00m, \u001b[38;5;124m\"\u001b[39m\u001b[38;5;124mInvalid indexing\u001b[39m\u001b[38;5;124m\"\u001b[39m\n\u001b[1;32m   1379\u001b[0m \u001b[38;5;28;01mif\u001b[39;00m \u001b[38;5;28mlen\u001b[39m(idx\u001b[38;5;241m.\u001b[39mshape) \u001b[38;5;241m!=\u001b[39m \u001b[38;5;241m1\u001b[39m:\n\u001b[1;32m   1380\u001b[0m     \u001b[38;5;28;01massert\u001b[39;00m \u001b[38;5;28;01mFalse\u001b[39;00m, \u001b[38;5;124m\"\u001b[39m\u001b[38;5;124mExpecting a row index\u001b[39m\u001b[38;5;124m\"\u001b[39m\n",
      "\u001b[0;31mAssertionError\u001b[0m: Invalid indexing"
     ]
    }
   ],
   "source": [
    "X[(1,)]"
   ]
  },
  {
   "cell_type": "markdown",
   "metadata": {},
   "source": [
    "## Subscripted assignment for a Sptensor"
   ]
  },
  {
   "cell_type": "code",
   "execution_count": 36,
   "metadata": {},
   "outputs": [
    {
     "name": "stdout",
     "output_type": "stream",
     "text": [
      "[[5]]\n"
     ]
    }
   ],
   "source": [
    "X[1,2,1] = 5\n",
    "print(X[1,2,1])"
   ]
  },
  {
   "cell_type": "code",
   "execution_count": 37,
   "metadata": {},
   "outputs": [
    {
     "name": "stdout",
     "output_type": "stream",
     "text": [
      "Sparse tensor of shape 4 x 4 x 4 with 3 nonzeros \n",
      "\t[3, 3, 3] = 3\n",
      "\t[1, 1, 0] = 5\n",
      "\t[1, 2, 1] = 5\n"
     ]
    }
   ],
   "source": [
    "print(X)   #Note that (1,2,1) is now a nonzero"
   ]
  },
  {
   "cell_type": "markdown",
   "metadata": {},
   "source": [
    "## Nonzero reference for a Sptensor"
   ]
  },
  {
   "cell_type": "code",
   "execution_count": 71,
   "metadata": {},
   "outputs": [
    {
     "ename": "AssertionError",
     "evalue": "Invalid indexing",
     "output_type": "error",
     "traceback": [
      "\u001b[0;31m---------------------------------------------------------------------------\u001b[0m",
      "\u001b[0;31mAssertionError\u001b[0m                            Traceback (most recent call last)",
      "Cell \u001b[0;32mIn[71], line 1\u001b[0m\n\u001b[0;32m----> 1\u001b[0m X[\u001b[38;5;241m1\u001b[39m, \u001b[38;5;241m1\u001b[39m, \u001b[38;5;241m1\u001b[39m]\n",
      "File \u001b[0;32m~/code/pyttb-fork/pyttb/sptensor.py:1377\u001b[0m, in \u001b[0;36msptensor.__getitem__\u001b[0;34m(self, item)\u001b[0m\n\u001b[1;32m   1375\u001b[0m     idx \u001b[38;5;241m=\u001b[39m item\n\u001b[1;32m   1376\u001b[0m \u001b[38;5;28;01melse\u001b[39;00m:\n\u001b[0;32m-> 1377\u001b[0m     \u001b[38;5;28;01massert\u001b[39;00m \u001b[38;5;28;01mFalse\u001b[39;00m, \u001b[38;5;124m\"\u001b[39m\u001b[38;5;124mInvalid indexing\u001b[39m\u001b[38;5;124m\"\u001b[39m\n\u001b[1;32m   1379\u001b[0m \u001b[38;5;28;01mif\u001b[39;00m \u001b[38;5;28mlen\u001b[39m(idx\u001b[38;5;241m.\u001b[39mshape) \u001b[38;5;241m!=\u001b[39m \u001b[38;5;241m1\u001b[39m:\n\u001b[1;32m   1380\u001b[0m     \u001b[38;5;28;01massert\u001b[39;00m \u001b[38;5;28;01mFalse\u001b[39;00m, \u001b[38;5;124m\"\u001b[39m\u001b[38;5;124mExpecting a row index\u001b[39m\u001b[38;5;124m\"\u001b[39m\n",
      "\u001b[0;31mAssertionError\u001b[0m: Invalid indexing"
     ]
    }
   ],
   "source": [
    "X[1, 1, 1]"
   ]
  },
  {
   "cell_type": "markdown",
   "metadata": {},
   "source": [
    "## Nonzero assignment for a Sptensor"
   ]
  },
  {
   "cell_type": "code",
   "execution_count": 39,
   "metadata": {},
   "outputs": [
    {
     "name": "stdout",
     "output_type": "stream",
     "text": [
      "Sparse tensor of shape 4 x 4 x 4 with 4 nonzeros \n",
      "\t[3, 3, 3] = 3.0\n",
      "\t[1, 1, 0] = 5.0\n",
      "\t[1, 2, 1] = 5.0\n",
      "\t[2, 2, 2] = 3.3\n"
     ]
    }
   ],
   "source": [
    "X[2, 2, 2] = 3.3\n",
    "print(X)"
   ]
  },
  {
   "cell_type": "markdown",
   "metadata": {},
   "source": [
    "You can also modify just the value"
   ]
  },
  {
   "cell_type": "code",
   "execution_count": 40,
   "metadata": {},
   "outputs": [
    {
     "name": "stdout",
     "output_type": "stream",
     "text": [
      "Sparse tensor of shape 4 x 4 x 4 with 4 nonzeros \n",
      "\t[3, 3, 3] = 3.0\n",
      "\t[1, 1, 0] = 5.0\n",
      "\t[1, 2, 1] = 5.0\n",
      "\t[2, 2, 2] = -44.1\n"
     ]
    }
   ],
   "source": [
    "X[2, 2, 2] = -44.1\n",
    "print(X)"
   ]
  },
  {
   "cell_type": "markdown",
   "metadata": {},
   "source": [
    "## Basic operations on a Sptensor"
   ]
  },
  {
   "cell_type": "markdown",
   "metadata": {},
   "source": [
    "Sptensors support plus, minus, times, divide, power, equals, and not-equals operators.  Sptensors can use there operators with another Sptensor or a scalar (with the exception of equalities which only takes Sptensors).  All mathematical operators are elementwise operations."
   ]
  },
  {
   "cell_type": "markdown",
   "metadata": {},
   "source": [
    "### Addition"
   ]
  },
  {
   "cell_type": "code",
   "execution_count": 41,
   "metadata": {},
   "outputs": [
    {
     "name": "stdout",
     "output_type": "stream",
     "text": [
      "Sparse tensor of shape 2 x 2 with 2 nonzeros \n",
      "\t[0, 0] = 2\n",
      "\t[1, 1] = 2\n"
     ]
    }
   ],
   "source": [
    "X = ttb.sptensor.from_data(np.array([[0,0],[1,1]]),np.array([[2],[2]]),(2,2))\n",
    "print(X)"
   ]
  },
  {
   "cell_type": "code",
   "execution_count": 42,
   "metadata": {},
   "outputs": [
    {
     "name": "stdout",
     "output_type": "stream",
     "text": [
      "Sparse tensor of shape 2 x 2 with 2 nonzeros \n",
      "\t[0, 0] = 3\n",
      "\t[0, 1] = 3\n"
     ]
    }
   ],
   "source": [
    "Y = ttb.sptensor.from_data(np.array([[0,0],[0,1]]),np.array([[3],[3]]),(2,2))\n",
    "print(Y)"
   ]
  },
  {
   "cell_type": "code",
   "execution_count": 43,
   "metadata": {},
   "outputs": [
    {
     "data": {
      "text/plain": [
       "tensor of shape 2 x 2\n",
       "data[:, :] = \n",
       "[[3. 1.]\n",
       " [1. 3.]]"
      ]
     },
     "execution_count": 43,
     "metadata": {},
     "output_type": "execute_result"
    }
   ],
   "source": [
    "X + 1  # This addition yields dense tensor"
   ]
  },
  {
   "cell_type": "code",
   "execution_count": 44,
   "metadata": {},
   "outputs": [
    {
     "data": {
      "text/plain": [
       "Sparse tensor of shape 2 x 2 with 3 nonzeros \n",
       "\t[0, 0] = 5\n",
       "\t[0, 1] = 3\n",
       "\t[1, 1] = 2"
      ]
     },
     "execution_count": 44,
     "metadata": {},
     "output_type": "execute_result"
    }
   ],
   "source": [
    "X + Y  # This addition yields sparse tensor"
   ]
  },
  {
   "cell_type": "code",
   "execution_count": 45,
   "metadata": {},
   "outputs": [
    {
     "name": "stdout",
     "output_type": "stream",
     "text": [
      "tensor of shape 2 x 2\n",
      "data[:, :] = \n",
      "[[4. 2.]\n",
      " [2. 4.]]\n",
      "\n"
     ]
    }
   ],
   "source": [
    "X += 2\n",
    "print(X)"
   ]
  },
  {
   "cell_type": "markdown",
   "metadata": {},
   "source": [
    "### Subtraction"
   ]
  },
  {
   "cell_type": "code",
   "execution_count": 46,
   "metadata": {},
   "outputs": [
    {
     "name": "stdout",
     "output_type": "stream",
     "text": [
      "Sparse tensor of shape 2 x 2 with 2 nonzeros \n",
      "\t[0, 0] = 2\n",
      "\t[1, 1] = 2\n"
     ]
    }
   ],
   "source": [
    "X = ttb.sptensor.from_data(np.array([[0,0],[1,1]]),np.array([[2],[2]]),(2,2))\n",
    "print(X)"
   ]
  },
  {
   "cell_type": "code",
   "execution_count": 47,
   "metadata": {},
   "outputs": [
    {
     "name": "stdout",
     "output_type": "stream",
     "text": [
      "Sparse tensor of shape 2 x 2 with 2 nonzeros \n",
      "\t[0, 0] = 3\n",
      "\t[0, 1] = 3\n"
     ]
    }
   ],
   "source": [
    "Y = ttb.sptensor.from_data(np.array([[0,0],[0,1]]),np.array([[3],[3]]),(2,2))\n",
    "print(Y)"
   ]
  },
  {
   "cell_type": "code",
   "execution_count": 48,
   "metadata": {},
   "outputs": [
    {
     "data": {
      "text/plain": [
       "tensor of shape 2 x 2\n",
       "data[:, :] = \n",
       "[[ 1. -1.]\n",
       " [-1.  1.]]"
      ]
     },
     "execution_count": 48,
     "metadata": {},
     "output_type": "execute_result"
    }
   ],
   "source": [
    "X - 1"
   ]
  },
  {
   "cell_type": "code",
   "execution_count": 49,
   "metadata": {},
   "outputs": [
    {
     "data": {
      "text/plain": [
       "Sparse tensor of shape 2 x 2 with 3 nonzeros \n",
       "\t[0, 0] = -1\n",
       "\t[0, 1] = -3\n",
       "\t[1, 1] = 2"
      ]
     },
     "execution_count": 49,
     "metadata": {},
     "output_type": "execute_result"
    }
   ],
   "source": [
    "X - Y"
   ]
  },
  {
   "cell_type": "code",
   "execution_count": 50,
   "metadata": {},
   "outputs": [
    {
     "name": "stdout",
     "output_type": "stream",
     "text": [
      "tensor of shape 2 x 2\n",
      "data[:, :] = \n",
      "[[ 0. -2.]\n",
      " [-2.  0.]]\n",
      "\n"
     ]
    }
   ],
   "source": [
    "X -= 2\n",
    "print(X)"
   ]
  },
  {
   "cell_type": "markdown",
   "metadata": {},
   "source": [
    "### Multiplication"
   ]
  },
  {
   "cell_type": "code",
   "execution_count": 51,
   "metadata": {},
   "outputs": [
    {
     "name": "stdout",
     "output_type": "stream",
     "text": [
      "Sparse tensor of shape 2 x 2 with 2 nonzeros \n",
      "\t[0, 0] = 2\n",
      "\t[1, 1] = 2\n"
     ]
    }
   ],
   "source": [
    "X = ttb.sptensor.from_data(np.array([[0,0],[1,1]]),np.array([[2],[2]]),(2,2))\n",
    "print(X)"
   ]
  },
  {
   "cell_type": "code",
   "execution_count": 52,
   "metadata": {},
   "outputs": [
    {
     "name": "stdout",
     "output_type": "stream",
     "text": [
      "Sparse tensor of shape 2 x 2 with 2 nonzeros \n",
      "\t[0, 0] = 3\n",
      "\t[0, 1] = 3\n"
     ]
    }
   ],
   "source": [
    "Y = ttb.sptensor.from_data(np.array([[0,0],[0,1]]),np.array([[3],[3]]),(2,2))\n",
    "print(Y)"
   ]
  },
  {
   "cell_type": "code",
   "execution_count": 53,
   "metadata": {},
   "outputs": [
    {
     "data": {
      "text/plain": [
       "Sparse tensor of shape 2 x 2 with 2 nonzeros \n",
       "\t[0, 0] = 5.0\n",
       "\t[1, 1] = 5.0"
      ]
     },
     "execution_count": 53,
     "metadata": {},
     "output_type": "execute_result"
    }
   ],
   "source": [
    "X * 2.5"
   ]
  },
  {
   "cell_type": "code",
   "execution_count": 54,
   "metadata": {},
   "outputs": [
    {
     "data": {
      "text/plain": [
       "Sparse tensor of shape 2 x 2 with 1 nonzeros \n",
       "\t[0, 0] = 6"
      ]
     },
     "execution_count": 54,
     "metadata": {},
     "output_type": "execute_result"
    }
   ],
   "source": [
    "X * Y"
   ]
  },
  {
   "cell_type": "code",
   "execution_count": 55,
   "metadata": {},
   "outputs": [
    {
     "name": "stdout",
     "output_type": "stream",
     "text": [
      "Sparse tensor of shape 2 x 2 with 2 nonzeros \n",
      "\t[0, 0] = 6.6\n",
      "\t[1, 1] = 6.6\n"
     ]
    }
   ],
   "source": [
    "X *= 3.3\n",
    "print(X)"
   ]
  },
  {
   "cell_type": "markdown",
   "metadata": {},
   "source": [
    "### Division"
   ]
  },
  {
   "cell_type": "code",
   "execution_count": 56,
   "metadata": {},
   "outputs": [
    {
     "name": "stdout",
     "output_type": "stream",
     "text": [
      "Sparse tensor of shape 2 x 2 with 2 nonzeros \n",
      "\t[0, 0] = 2\n",
      "\t[1, 1] = 2\n"
     ]
    }
   ],
   "source": [
    "X = ttb.sptensor.from_data(np.array([[0,0],[1,1]]),np.array([[2],[2]]),(2,2))\n",
    "print(X)"
   ]
  },
  {
   "cell_type": "code",
   "execution_count": 57,
   "metadata": {},
   "outputs": [
    {
     "name": "stdout",
     "output_type": "stream",
     "text": [
      "Sparse tensor of shape 2 x 2 with 2 nonzeros \n",
      "\t[0, 0] = 3\n",
      "\t[0, 1] = 3\n"
     ]
    }
   ],
   "source": [
    "Y = ttb.sptensor.from_data(np.array([[0,0],[0,1]]),np.array([[3],[3]]),(2,2))\n",
    "print(Y)"
   ]
  },
  {
   "cell_type": "code",
   "execution_count": 58,
   "metadata": {},
   "outputs": [
    {
     "data": {
      "text/plain": [
       "Sparse tensor of shape 2 x 2 with 2 nonzeros \n",
       "\t[0, 0] = 0.6666666666666666\n",
       "\t[1, 1] = 0.6666666666666666"
      ]
     },
     "execution_count": 58,
     "metadata": {},
     "output_type": "execute_result"
    }
   ],
   "source": [
    "X / 3"
   ]
  },
  {
   "cell_type": "code",
   "execution_count": 59,
   "metadata": {},
   "outputs": [
    {
     "data": {
      "text/plain": [
       "Sparse tensor of shape 2 x 2 with 4 nonzeros \n",
       "\t[0, 0] = 0.6666666666666666\n",
       "\t[1, 0] = nan\n",
       "\t[1, 1] = 0.0\n",
       "\t[1, 0] = nan"
      ]
     },
     "execution_count": 59,
     "metadata": {},
     "output_type": "execute_result"
    }
   ],
   "source": [
    "X / Y"
   ]
  },
  {
   "cell_type": "code",
   "execution_count": 60,
   "metadata": {},
   "outputs": [
    {
     "name": "stdout",
     "output_type": "stream",
     "text": [
      "Sparse tensor of shape 2 x 2 with 2 nonzeros \n",
      "\t[0, 0] = 0.5\n",
      "\t[1, 1] = 0.5\n"
     ]
    }
   ],
   "source": [
    "X /= 4\n",
    "print(X)"
   ]
  },
  {
   "cell_type": "markdown",
   "metadata": {},
   "source": [
    "### Equality"
   ]
  },
  {
   "cell_type": "code",
   "execution_count": 61,
   "metadata": {},
   "outputs": [
    {
     "name": "stdout",
     "output_type": "stream",
     "text": [
      "Sparse tensor of shape 2 x 2 with 2 nonzeros \n",
      "\t[0, 0] = 2\n",
      "\t[1, 1] = 2\n"
     ]
    }
   ],
   "source": [
    "X = ttb.sptensor.from_data(np.array([[0,0],[1,1]]),np.array([[2],[2]]),(2,2))\n",
    "print(X)"
   ]
  },
  {
   "cell_type": "code",
   "execution_count": 62,
   "metadata": {},
   "outputs": [
    {
     "name": "stdout",
     "output_type": "stream",
     "text": [
      "Sparse tensor of shape 2 x 2 with 2 nonzeros \n",
      "\t[0, 0] = 3\n",
      "\t[0, 1] = 3\n"
     ]
    }
   ],
   "source": [
    "Y = ttb.sptensor.from_data(np.array([[0,0],[0,1]]),np.array([[3],[3]]),(2,2))\n",
    "print(Y)"
   ]
  },
  {
   "cell_type": "code",
   "execution_count": 63,
   "metadata": {},
   "outputs": [
    {
     "data": {
      "text/plain": [
       "Sparse tensor of shape 2 x 2 with 1 nonzeros \n",
       "\t[1, 0] = True"
      ]
     },
     "execution_count": 63,
     "metadata": {},
     "output_type": "execute_result"
    }
   ],
   "source": [
    "(X == Y)"
   ]
  },
  {
   "cell_type": "code",
   "execution_count": 64,
   "metadata": {},
   "outputs": [
    {
     "data": {
      "text/plain": [
       "False"
      ]
     },
     "execution_count": 64,
     "metadata": {},
     "output_type": "execute_result"
    }
   ],
   "source": [
    "X.isequal(Y)"
   ]
  },
  {
   "cell_type": "code",
   "execution_count": 65,
   "metadata": {},
   "outputs": [
    {
     "data": {
      "text/plain": [
       "Sparse tensor of shape 2 x 2 with 3 nonzeros \n",
       "\t[1, 1] = True\n",
       "\t[0, 1] = True\n",
       "\t[0, 0] = True"
      ]
     },
     "execution_count": 65,
     "metadata": {},
     "output_type": "execute_result"
    }
   ],
   "source": [
    "X != Y"
   ]
  },
  {
   "cell_type": "markdown",
   "metadata": {},
   "source": [
    "## Displaying a Sptensor"
   ]
  },
  {
   "cell_type": "code",
   "execution_count": 66,
   "metadata": {},
   "outputs": [
    {
     "name": "stdout",
     "output_type": "stream",
     "text": [
      "Sparse tensor of shape 2 x 2 with 2 nonzeros \n",
      "\t[0, 0] = 2\n",
      "\t[1, 1] = 2\n"
     ]
    }
   ],
   "source": [
    "print(X)"
   ]
  },
  {
   "cell_type": "code",
   "execution_count": 67,
   "metadata": {},
   "outputs": [
    {
     "data": {
      "text/plain": [
       "Sparse tensor of shape 2 x 2 with 2 nonzeros \n",
       "\t[0, 0] = 2\n",
       "\t[1, 1] = 2"
      ]
     },
     "execution_count": 67,
     "metadata": {},
     "output_type": "execute_result"
    }
   ],
   "source": [
    "X     #In the python interface"
   ]
  },
  {
   "cell_type": "code",
   "execution_count": null,
   "metadata": {},
   "outputs": [],
   "source": []
  }
 ],
 "metadata": {
  "kernelspec": {
   "display_name": "Python 3 (ipykernel)",
   "language": "python",
   "name": "python3"
  },
  "language_info": {
   "codemirror_mode": {
    "name": "ipython",
    "version": 3
   },
   "file_extension": ".py",
   "mimetype": "text/x-python",
   "name": "python",
   "nbconvert_exporter": "python",
   "pygments_lexer": "ipython3",
   "version": "3.11.3"
  }
 },
 "nbformat": 4,
 "nbformat_minor": 1
}
