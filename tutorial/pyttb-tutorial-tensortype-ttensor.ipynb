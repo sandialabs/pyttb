{
 "cells": [
  {
   "cell_type": "markdown",
   "metadata": {},
   "source": [
    "# Tucker Tensors\n",
    "\n",
    "```\n",
    "Copyright 2022 National Technology & Engineering Solutions of Sandia,\n",
    "LLC (NTESS). Under the terms of Contract DE-NA0003525 with NTESS, the\n",
    "U.S. Government retains certain rights in this software.\n",
    "```"
   ]
  },
  {
   "cell_type": "markdown",
   "metadata": {},
   "source": [
    "Tucker format is a decomposition of a tensor X as the product of a core tensor G and matrices (e.g., A,B,C) in each dimension. In other words, a tensor X is expressed as:\n",
    "\n",
    "$\n",
    "\\mathcal{X} = \\mathcal{G} \\times_1 A \\times_2 B \\times_3 C\n",
    "$\n",
    "\n",
    "In MATLAB notation: `X=ttm(G,{A,B,C})`"
   ]
  },
  {
   "cell_type": "markdown",
   "metadata": {},
   "source": [
    "## Contents"
   ]
  },
  {
   "cell_type": "markdown",
   "metadata": {},
   "source": [
    "* [Creating a ttensor with a tensor core](#Creating-a-ttensor-with-a-tensor-core)\n",
    "* [Alternate core formats: sptensor, ktensor, or ttensor](#Alternate-core-formats:-sptensor,-ktensor,-or-ttensor)\n",
    "* [Creating a one-dimensional ttensor](#Creating-a-one-dimensional-ttensor)\n",
    "* [Constituent parts of a ttensor](#Constituent-parts-of-a-ttensor)\n",
    "* [Creating a ttensor from its constituent parts](#Creating-a-ttensor-from-its-constituent-parts)\n",
    "* [Creating an empty ttensor](#Creating-an-empty-ttensor)\n",
    "* [Use full or tensor to convert a ttensor to a tensor](#Use-full-or-tensor-to-convert-a-ttensor-to-a-tensor)\n",
    "* [Use reconstruct to compute part of a full tensor](#Use-reconstruct-to-compute-part-of-a-full-tensor)\n",
    "* [Use double to convert a ttensor to a (multidimensional) array](#Use-double-to-convert-a-ttensor-to-a-(multidimensional)-array)\n",
    "* [Use ndims and size to get the size of a ttensor](#Use-ndims-and-size-to-get-the-size-of-a-ttensor)\n",
    "* [Subscripted reference for a ttensor](#Subscripted-reference-for-a-ttensor)\n",
    "* [Subscripted assignment for a ttensor](#Subscripted-assignment-for-a-ttensor)\n",
    "* [Last index](#Last-index)\n",
    "* [Basic operations (uplus, uminus, mtimes, etc.) on a ttensor](#Basic-operations-(uplus,-uminus,-mtimes,-etc.)-on-a-ttensor)\n",
    "     * [Addition](#Addition)\n",
    "     * [Subtraction](#Subtraction)\n",
    "     * [Multiplication](#Multiplication)\n",
    "* [Use permute to reorder the modes of a ttensor](#Use-permute-to-reorder-the-modes-of-a-ttensor)"
   ]
  },
  {
   "cell_type": "code",
   "execution_count": 1,
   "metadata": {},
   "outputs": [],
   "source": [
    "import pyttb as ttb\n",
    "import numpy as np"
   ]
  },
  {
   "cell_type": "code",
   "execution_count": 2,
   "metadata": {},
   "outputs": [],
   "source": [
    "# Upcoming ttensors will be generated with this same initialization. \n",
    "def generate_sample_ttensor() -> ttb.ttensor:\n",
    "    np.random.seed(0)\n",
    "    core = ttb.tensor.from_data(np.random.rand(3,2,1), shape=(3,2,1)) # The core tensor.\n",
    "    U = [np.random.rand(5,3), np.random.rand(4,2), np.random.rand(3,1)] # The factor matrices.\n",
    "    X = ttb.ttensor.from_data(core, U) # Create the ttensor.\n",
    "    \n",
    "    return X"
   ]
  },
  {
   "cell_type": "markdown",
   "metadata": {},
   "source": [
    "## Creating a ttensor with a tensor core"
   ]
  },
  {
   "cell_type": "code",
   "execution_count": 3,
   "metadata": {
    "scrolled": false
   },
   "outputs": [
    {
     "data": {
      "text/plain": [
       "Tensor of shape: (5, 4, 3)\n",
       "\tCore is a \ttensor of shape 3 x 2 x 1\n",
       "\tdata[0, :, :] = \n",
       "\t[[0.5488135 ]\n",
       "\t [0.71518937]]\n",
       "\tdata[1, :, :] = \n",
       "\t[[0.60276338]\n",
       "\t [0.54488318]]\n",
       "\tdata[2, :, :] = \n",
       "\t[[0.4236548 ]\n",
       "\t [0.64589411]]\n",
       "\tU[0] = \n",
       "\t\t[[0.43758721 0.891773   0.96366276]\n",
       "\t\t [0.38344152 0.79172504 0.52889492]\n",
       "\t\t [0.56804456 0.92559664 0.07103606]\n",
       "\t\t [0.0871293  0.0202184  0.83261985]\n",
       "\t\t [0.77815675 0.87001215 0.97861834]]\n",
       "\tU[1] = \n",
       "\t\t[[0.79915856 0.46147936]\n",
       "\t\t [0.78052918 0.11827443]\n",
       "\t\t [0.63992102 0.14335329]\n",
       "\t\t [0.94466892 0.52184832]]\n",
       "\tU[2] = \n",
       "\t\t[[0.41466194]\n",
       "\t\t [0.26455561]\n",
       "\t\t [0.77423369]]"
      ]
     },
     "execution_count": 3,
     "metadata": {},
     "output_type": "execute_result"
    }
   ],
   "source": [
    "X = generate_sample_ttensor() # Create the ttensor.\n",
    "X"
   ]
  },
  {
   "cell_type": "markdown",
   "metadata": {},
   "source": [
    "## Alternate core formats: sptensor, ktensor, or ttensor"
   ]
  },
  {
   "cell_type": "markdown",
   "metadata": {},
   "source": [
    "## **TODO**: \"support any tensor type with supported ops\""
   ]
  },
  {
   "cell_type": "code",
   "execution_count": 4,
   "metadata": {},
   "outputs": [],
   "source": [
    "np.random.seed(0)\n",
    "# sptensor_core = ttb.sptenrand([3,2,1], nonzeros=3) # Create a 3 x 2 x 1 sptensor.\n",
    "# U = [np.random.rand(5,3), np.random.rand(4,2), np.random.rand(3,1)] # The factor matrices.\n",
    "# Y = ttb.ttensor.from_data(sptensor_core, U) # # Core is a sptensor."
   ]
  },
  {
   "cell_type": "code",
   "execution_count": 5,
   "metadata": {},
   "outputs": [],
   "source": [
    "V = [np.random.rand(3,2), np.random.rand(2,2), np.random.rand(1,2)] # Create some random matrices.\n",
    "# ktensor_core = ttb.ktensor.from_factor_matrices(V) # Create a 3 x 2 x 1  ktensor.\n",
    "# Y = ttb.ttensor.from_data(ktensor_core, V) # Core is a ktensor."
   ]
  },
  {
   "cell_type": "code",
   "execution_count": 6,
   "metadata": {},
   "outputs": [
    {
     "data": {
      "text/plain": [
       "Tensor of shape: (5, 4, 3)\n",
       "\tCore is a \ttensor of shape 3 x 2 x 1\n",
       "\tdata[0, :, :] = \n",
       "\t[[0.56804456]\n",
       "\t [0.92559664]]\n",
       "\tdata[1, :, :] = \n",
       "\t[[0.07103606]\n",
       "\t [0.0871293 ]]\n",
       "\tdata[2, :, :] = \n",
       "\t[[0.0202184 ]\n",
       "\t [0.83261985]]\n",
       "\tU[0] = \n",
       "\t\t[[0.77815675 0.87001215 0.97861834]\n",
       "\t\t [0.79915856 0.46147936 0.78052918]\n",
       "\t\t [0.11827443 0.63992102 0.14335329]\n",
       "\t\t [0.94466892 0.52184832 0.41466194]\n",
       "\t\t [0.26455561 0.77423369 0.45615033]]\n",
       "\tU[1] = \n",
       "\t\t[[0.56843395 0.0187898 ]\n",
       "\t\t [0.6176355  0.61209572]\n",
       "\t\t [0.616934   0.94374808]\n",
       "\t\t [0.6818203  0.3595079 ]]\n",
       "\tU[2] = \n",
       "\t\t[[0.43703195]\n",
       "\t\t [0.6976312 ]\n",
       "\t\t [0.06022547]]"
      ]
     },
     "execution_count": 6,
     "metadata": {},
     "output_type": "execute_result"
    }
   ],
   "source": [
    "dense_tensor = ttb.tensor.from_data(np.random.rand(3,2,1), (3,2,1)) # Core is a tensor.\n",
    "U = [np.random.rand(5,3), np.random.rand(4,2), np.random.rand(3,1)] # The factor matrices.\n",
    "Y = ttb.ttensor.from_data(dense_tensor, U) # Create the ttensor.\n",
    "Y"
   ]
  },
  {
   "cell_type": "markdown",
   "metadata": {},
   "source": [
    "## Creating a one-dimensional ttensor"
   ]
  },
  {
   "cell_type": "code",
   "execution_count": 7,
   "metadata": {},
   "outputs": [
    {
     "data": {
      "text/plain": [
       "Tensor of shape: (4,)\n",
       "\tCore is a \ttensor of shape 2\n",
       "\tdata[:] = \n",
       "\t[1.09762701 1.43037873]\n",
       "\tU[0] = \n",
       "\t\t[[0.60276338 0.54488318]\n",
       "\t\t [0.4236548  0.64589411]\n",
       "\t\t [0.43758721 0.891773  ]\n",
       "\t\t [0.96366276 0.38344152]]"
      ]
     },
     "execution_count": 7,
     "metadata": {},
     "output_type": "execute_result"
    }
   ],
   "source": [
    "np.random.seed(0)\n",
    "dense_tensor = ttb.tensor.from_data(2*np.random.rand(2,1), (2,)) # Core tensor.\n",
    "Z = ttb.ttensor.from_data(dense_tensor, [np.random.rand(4,2)]) # One-dimensional ttensor.\n",
    "Z"
   ]
  },
  {
   "cell_type": "markdown",
   "metadata": {},
   "source": [
    "## Constituent parts of a ttensor"
   ]
  },
  {
   "cell_type": "code",
   "execution_count": 8,
   "metadata": {},
   "outputs": [
    {
     "data": {
      "text/plain": [
       "tensor of shape 3 x 2 x 1\n",
       "data[0, :, :] = \n",
       "[[0.5488135 ]\n",
       " [0.71518937]]\n",
       "data[1, :, :] = \n",
       "[[0.60276338]\n",
       " [0.54488318]]\n",
       "data[2, :, :] = \n",
       "[[0.4236548 ]\n",
       " [0.64589411]]"
      ]
     },
     "execution_count": 8,
     "metadata": {},
     "output_type": "execute_result"
    }
   ],
   "source": [
    "X = generate_sample_ttensor() # Create the ttensor.\n",
    "X.core # Core tensor."
   ]
  },
  {
   "cell_type": "code",
   "execution_count": 9,
   "metadata": {},
   "outputs": [
    {
     "data": {
      "text/plain": [
       "[array([[0.43758721, 0.891773  , 0.96366276],\n",
       "        [0.38344152, 0.79172504, 0.52889492],\n",
       "        [0.56804456, 0.92559664, 0.07103606],\n",
       "        [0.0871293 , 0.0202184 , 0.83261985],\n",
       "        [0.77815675, 0.87001215, 0.97861834]]),\n",
       " array([[0.79915856, 0.46147936],\n",
       "        [0.78052918, 0.11827443],\n",
       "        [0.63992102, 0.14335329],\n",
       "        [0.94466892, 0.52184832]]),\n",
       " array([[0.41466194],\n",
       "        [0.26455561],\n",
       "        [0.77423369]])]"
      ]
     },
     "execution_count": 9,
     "metadata": {},
     "output_type": "execute_result"
    }
   ],
   "source": [
    "X.u # Cell array of matrices."
   ]
  },
  {
   "cell_type": "markdown",
   "metadata": {},
   "source": [
    "## Creating a ttensor from its constituent parts"
   ]
  },
  {
   "cell_type": "code",
   "execution_count": 10,
   "metadata": {},
   "outputs": [
    {
     "data": {
      "text/plain": [
       "Tensor of shape: (5, 4, 3)\n",
       "\tCore is a \ttensor of shape 3 x 2 x 1\n",
       "\tdata[0, :, :] = \n",
       "\t[[0.5488135 ]\n",
       "\t [0.71518937]]\n",
       "\tdata[1, :, :] = \n",
       "\t[[0.60276338]\n",
       "\t [0.54488318]]\n",
       "\tdata[2, :, :] = \n",
       "\t[[0.4236548 ]\n",
       "\t [0.64589411]]\n",
       "\tU[0] = \n",
       "\t\t[[0.43758721 0.891773   0.96366276]\n",
       "\t\t [0.38344152 0.79172504 0.52889492]\n",
       "\t\t [0.56804456 0.92559664 0.07103606]\n",
       "\t\t [0.0871293  0.0202184  0.83261985]\n",
       "\t\t [0.77815675 0.87001215 0.97861834]]\n",
       "\tU[1] = \n",
       "\t\t[[0.79915856 0.46147936]\n",
       "\t\t [0.78052918 0.11827443]\n",
       "\t\t [0.63992102 0.14335329]\n",
       "\t\t [0.94466892 0.52184832]]\n",
       "\tU[2] = \n",
       "\t\t[[0.41466194]\n",
       "\t\t [0.26455561]\n",
       "\t\t [0.77423369]]"
      ]
     },
     "execution_count": 10,
     "metadata": {},
     "output_type": "execute_result"
    }
   ],
   "source": [
    "X = generate_sample_ttensor() # Create the ttensor.\n",
    "Y = ttb.ttensor.from_data(X.core, X.u) # Recreate a ttensor from its parts.\n",
    "Y"
   ]
  },
  {
   "cell_type": "markdown",
   "metadata": {},
   "source": [
    "## Creating an empty ttensor"
   ]
  },
  {
   "cell_type": "code",
   "execution_count": 11,
   "metadata": {},
   "outputs": [
    {
     "data": {
      "text/plain": [
       "Tensor of shape: ()\n",
       "\tCore is a \tempty tensor of shape ()\n",
       "\tdata = []"
      ]
     },
     "execution_count": 11,
     "metadata": {},
     "output_type": "execute_result"
    }
   ],
   "source": [
    "X = ttb.ttensor() # Empty ttensor.\n",
    "X"
   ]
  },
  {
   "cell_type": "markdown",
   "metadata": {},
   "source": [
    "## Use full or tensor to convert a ttensor to a tensor"
   ]
  },
  {
   "cell_type": "code",
   "execution_count": 12,
   "metadata": {},
   "outputs": [
    {
     "data": {
      "text/plain": [
       "Tensor of shape: (5, 4, 3)\n",
       "\tCore is a \ttensor of shape 3 x 2 x 1\n",
       "\tdata[0, :, :] = \n",
       "\t[[0.5488135 ]\n",
       "\t [0.71518937]]\n",
       "\tdata[1, :, :] = \n",
       "\t[[0.60276338]\n",
       "\t [0.54488318]]\n",
       "\tdata[2, :, :] = \n",
       "\t[[0.4236548 ]\n",
       "\t [0.64589411]]\n",
       "\tU[0] = \n",
       "\t\t[[0.43758721 0.891773   0.96366276]\n",
       "\t\t [0.38344152 0.79172504 0.52889492]\n",
       "\t\t [0.56804456 0.92559664 0.07103606]\n",
       "\t\t [0.0871293  0.0202184  0.83261985]\n",
       "\t\t [0.77815675 0.87001215 0.97861834]]\n",
       "\tU[1] = \n",
       "\t\t[[0.79915856 0.46147936]\n",
       "\t\t [0.78052918 0.11827443]\n",
       "\t\t [0.63992102 0.14335329]\n",
       "\t\t [0.94466892 0.52184832]]\n",
       "\tU[2] = \n",
       "\t\t[[0.41466194]\n",
       "\t\t [0.26455561]\n",
       "\t\t [0.77423369]]"
      ]
     },
     "execution_count": 12,
     "metadata": {},
     "output_type": "execute_result"
    }
   ],
   "source": [
    "X = generate_sample_ttensor() # Create a ttensor.\n",
    "X"
   ]
  },
  {
   "cell_type": "code",
   "execution_count": 13,
   "metadata": {},
   "outputs": [
    {
     "data": {
      "text/plain": [
       "tensor of shape 5 x 4 x 3\n",
       "data[0, :, :] = \n",
       "[[0.66497416 0.42425559 1.24160273]\n",
       " [0.45354281 0.28936173 0.84682989]\n",
       " [0.39917702 0.25467618 0.74532111]\n",
       " [0.77210991 0.49260853 1.44164064]]\n",
       "data[1, :, :] = \n",
       "[[0.50252742 0.32061407 0.93829123]\n",
       " [0.34644731 0.22103447 0.64686714]\n",
       " [0.30417958 0.19406752 0.56794717]\n",
       " [0.58375429 0.37243706 1.08995351]]\n",
       "data[2, :, :] = \n",
       "[[0.48119404 0.3070033  0.89845873]\n",
       " [0.3381225  0.21572321 0.63132351]\n",
       " [0.29560878 0.18859932 0.55194425]\n",
       " [0.55942684 0.35691607 1.04453065]]\n",
       "data[3, :, :] = \n",
       "[[0.25371838 0.16187312 0.47372884]\n",
       " [0.16355973 0.10435162 0.30538962]\n",
       " [0.14584965 0.09305254 0.27232236]\n",
       " [0.29392047 0.18752218 0.54879195]]\n",
       "data[4, :, :] = \n",
       "[[0.77085415 0.49180735 1.43929596]\n",
       " [0.52368038 0.33410972 0.97778686]\n",
       " [0.46132233 0.29432509 0.86135538]\n",
       " [0.89490068 0.57094943 1.67090873]]"
      ]
     },
     "execution_count": 13,
     "metadata": {},
     "output_type": "execute_result"
    }
   ],
   "source": [
    "X.full() # Converts to a tensor."
   ]
  },
  {
   "cell_type": "code",
   "execution_count": 14,
   "metadata": {
    "scrolled": false
   },
   "outputs": [
    {
     "data": {
      "text/plain": [
       "tensor of shape 5 x 4 x 3\n",
       "data[0, :, :] = \n",
       "[[0.66497416 0.42425559 1.24160273]\n",
       " [0.45354281 0.28936173 0.84682989]\n",
       " [0.39917702 0.25467618 0.74532111]\n",
       " [0.77210991 0.49260853 1.44164064]]\n",
       "data[1, :, :] = \n",
       "[[0.50252742 0.32061407 0.93829123]\n",
       " [0.34644731 0.22103447 0.64686714]\n",
       " [0.30417958 0.19406752 0.56794717]\n",
       " [0.58375429 0.37243706 1.08995351]]\n",
       "data[2, :, :] = \n",
       "[[0.48119404 0.3070033  0.89845873]\n",
       " [0.3381225  0.21572321 0.63132351]\n",
       " [0.29560878 0.18859932 0.55194425]\n",
       " [0.55942684 0.35691607 1.04453065]]\n",
       "data[3, :, :] = \n",
       "[[0.25371838 0.16187312 0.47372884]\n",
       " [0.16355973 0.10435162 0.30538962]\n",
       " [0.14584965 0.09305254 0.27232236]\n",
       " [0.29392047 0.18752218 0.54879195]]\n",
       "data[4, :, :] = \n",
       "[[0.77085415 0.49180735 1.43929596]\n",
       " [0.52368038 0.33410972 0.97778686]\n",
       " [0.46132233 0.29432509 0.86135538]\n",
       " [0.89490068 0.57094943 1.67090873]]"
      ]
     },
     "execution_count": 14,
     "metadata": {},
     "output_type": "execute_result"
    }
   ],
   "source": [
    "ttb.tensor.from_tensor_type(X) # Also converts to a tensor."
   ]
  },
  {
   "cell_type": "markdown",
   "metadata": {},
   "source": [
    "## Use reconstruct to compute part of a full tensor"
   ]
  },
  {
   "cell_type": "code",
   "execution_count": 15,
   "metadata": {},
   "outputs": [
    {
     "data": {
      "text/plain": [
       "tensor of shape 5 x 4 x 1\n",
       "data[0, :, :] = \n",
       "[[0.42425559]\n",
       " [0.28936173]\n",
       " [0.25467618]\n",
       " [0.49260853]]\n",
       "data[1, :, :] = \n",
       "[[0.32061407]\n",
       " [0.22103447]\n",
       " [0.19406752]\n",
       " [0.37243706]]\n",
       "data[2, :, :] = \n",
       "[[0.3070033 ]\n",
       " [0.21572321]\n",
       " [0.18859932]\n",
       " [0.35691607]]\n",
       "data[3, :, :] = \n",
       "[[0.16187312]\n",
       " [0.10435162]\n",
       " [0.09305254]\n",
       " [0.18752218]]\n",
       "data[4, :, :] = \n",
       "[[0.49180735]\n",
       " [0.33410972]\n",
       " [0.29432509]\n",
       " [0.57094943]]"
      ]
     },
     "execution_count": 15,
     "metadata": {},
     "output_type": "execute_result"
    }
   ],
   "source": [
    "X = generate_sample_ttensor() # Create a ttensor.\n",
    "X.reconstruct(1,2) # Extract first front slice."
   ]
  },
  {
   "cell_type": "markdown",
   "metadata": {},
   "source": [
    "## Use double to convert a ttensor to a (multidimensional) array"
   ]
  },
  {
   "cell_type": "code",
   "execution_count": 16,
   "metadata": {},
   "outputs": [
    {
     "data": {
      "text/plain": [
       "array([[[0.66497416, 0.42425559, 1.24160273],\n",
       "        [0.45354281, 0.28936173, 0.84682989],\n",
       "        [0.39917702, 0.25467618, 0.74532111],\n",
       "        [0.77210991, 0.49260853, 1.44164064]],\n",
       "\n",
       "       [[0.50252742, 0.32061407, 0.93829123],\n",
       "        [0.34644731, 0.22103447, 0.64686714],\n",
       "        [0.30417958, 0.19406752, 0.56794717],\n",
       "        [0.58375429, 0.37243706, 1.08995351]],\n",
       "\n",
       "       [[0.48119404, 0.3070033 , 0.89845873],\n",
       "        [0.3381225 , 0.21572321, 0.63132351],\n",
       "        [0.29560878, 0.18859932, 0.55194425],\n",
       "        [0.55942684, 0.35691607, 1.04453065]],\n",
       "\n",
       "       [[0.25371838, 0.16187312, 0.47372884],\n",
       "        [0.16355973, 0.10435162, 0.30538962],\n",
       "        [0.14584965, 0.09305254, 0.27232236],\n",
       "        [0.29392047, 0.18752218, 0.54879195]],\n",
       "\n",
       "       [[0.77085415, 0.49180735, 1.43929596],\n",
       "        [0.52368038, 0.33410972, 0.97778686],\n",
       "        [0.46132233, 0.29432509, 0.86135538],\n",
       "        [0.89490068, 0.57094943, 1.67090873]]])"
      ]
     },
     "execution_count": 16,
     "metadata": {},
     "output_type": "execute_result"
    }
   ],
   "source": [
    "X = generate_sample_ttensor() # Create the ttensor.\n",
    "X.double() # Converts to an array."
   ]
  },
  {
   "cell_type": "markdown",
   "metadata": {},
   "source": [
    "## Use ndims and size to get the size of a ttensor"
   ]
  },
  {
   "cell_type": "code",
   "execution_count": 17,
   "metadata": {},
   "outputs": [
    {
     "data": {
      "text/plain": [
       "3"
      ]
     },
     "execution_count": 17,
     "metadata": {},
     "output_type": "execute_result"
    }
   ],
   "source": [
    "X = generate_sample_ttensor() # Create the ttensor.\n",
    "X.ndims # Number of dimensions."
   ]
  },
  {
   "cell_type": "code",
   "execution_count": 18,
   "metadata": {},
   "outputs": [
    {
     "data": {
      "text/plain": [
       "(5, 4, 3)"
      ]
     },
     "execution_count": 18,
     "metadata": {},
     "output_type": "execute_result"
    }
   ],
   "source": [
    "X.shape # Row vector of the sizes."
   ]
  },
  {
   "cell_type": "code",
   "execution_count": 19,
   "metadata": {},
   "outputs": [
    {
     "data": {
      "text/plain": [
       "4"
      ]
     },
     "execution_count": 19,
     "metadata": {},
     "output_type": "execute_result"
    }
   ],
   "source": [
    "X.shape[1] # Size of the 2nd mode."
   ]
  },
  {
   "cell_type": "markdown",
   "metadata": {},
   "source": [
    "## Subscripted reference for a ttensor"
   ]
  },
  {
   "cell_type": "code",
   "execution_count": 20,
   "metadata": {},
   "outputs": [
    {
     "data": {
      "text/plain": [
       "0.5488135039273248"
      ]
     },
     "execution_count": 20,
     "metadata": {},
     "output_type": "execute_result"
    }
   ],
   "source": [
    "X = generate_sample_ttensor() # Create the ttensor.\n",
    "X.core[0,0,0] # Access an element of the core."
   ]
  },
  {
   "cell_type": "code",
   "execution_count": 21,
   "metadata": {},
   "outputs": [
    {
     "data": {
      "text/plain": [
       "array([[0.79915856, 0.46147936],\n",
       "       [0.78052918, 0.11827443],\n",
       "       [0.63992102, 0.14335329],\n",
       "       [0.94466892, 0.52184832]])"
      ]
     },
     "execution_count": 21,
     "metadata": {},
     "output_type": "execute_result"
    }
   ],
   "source": [
    "X.u[1] # Extract a matrix."
   ]
  },
  {
   "cell_type": "markdown",
   "metadata": {},
   "source": [
    "## **TODO**: We don't have a `__getitem__/subscripted reference ` for ttensor "
   ]
  },
  {
   "cell_type": "code",
   "execution_count": 22,
   "metadata": {},
   "outputs": [],
   "source": [
    "# X[1] # No __getitem__()"
   ]
  },
  {
   "cell_type": "markdown",
   "metadata": {},
   "source": [
    "## Subscripted assignment for a ttensor"
   ]
  },
  {
   "cell_type": "code",
   "execution_count": 23,
   "metadata": {},
   "outputs": [
    {
     "data": {
      "text/plain": [
       "Tensor of shape: (5, 4, 3)\n",
       "\tCore is a \ttensor of shape 3 x 2 x 1\n",
       "\tdata[0, :, :] = \n",
       "\t[[1.]\n",
       "\t [1.]]\n",
       "\tdata[1, :, :] = \n",
       "\t[[1.]\n",
       "\t [1.]]\n",
       "\tdata[2, :, :] = \n",
       "\t[[1.]\n",
       "\t [1.]]\n",
       "\tU[0] = \n",
       "\t\t[[0.43758721 0.891773   0.96366276]\n",
       "\t\t [0.38344152 0.79172504 0.52889492]\n",
       "\t\t [0.56804456 0.92559664 0.07103606]\n",
       "\t\t [0.0871293  0.0202184  0.83261985]\n",
       "\t\t [0.77815675 0.87001215 0.97861834]]\n",
       "\tU[1] = \n",
       "\t\t[[0.79915856 0.46147936]\n",
       "\t\t [0.78052918 0.11827443]\n",
       "\t\t [0.63992102 0.14335329]\n",
       "\t\t [0.94466892 0.52184832]]\n",
       "\tU[2] = \n",
       "\t\t[[0.41466194]\n",
       "\t\t [0.26455561]\n",
       "\t\t [0.77423369]]"
      ]
     },
     "execution_count": 23,
     "metadata": {},
     "output_type": "execute_result"
    }
   ],
   "source": [
    "X = generate_sample_ttensor() # Create a ttensor.\n",
    "X.core = ttb.tenones(X.core.shape) # Insert a new core.\n",
    "X"
   ]
  },
  {
   "cell_type": "code",
   "execution_count": 24,
   "metadata": {},
   "outputs": [
    {
     "data": {
      "text/plain": [
       "Tensor of shape: (5, 4, 3)\n",
       "\tCore is a \ttensor of shape 3 x 2 x 1\n",
       "\tdata[0, :, :] = \n",
       "\t[[1.]\n",
       "\t [1.]]\n",
       "\tdata[1, :, :] = \n",
       "\t[[1.]\n",
       "\t [7.]]\n",
       "\tdata[2, :, :] = \n",
       "\t[[1.]\n",
       "\t [1.]]\n",
       "\tU[0] = \n",
       "\t\t[[0.43758721 0.891773   0.96366276]\n",
       "\t\t [0.38344152 0.79172504 0.52889492]\n",
       "\t\t [0.56804456 0.92559664 0.07103606]\n",
       "\t\t [0.0871293  0.0202184  0.83261985]\n",
       "\t\t [0.77815675 0.87001215 0.97861834]]\n",
       "\tU[1] = \n",
       "\t\t[[0.79915856 0.46147936]\n",
       "\t\t [0.78052918 0.11827443]\n",
       "\t\t [0.63992102 0.14335329]\n",
       "\t\t [0.94466892 0.52184832]]\n",
       "\tU[2] = \n",
       "\t\t[[0.41466194]\n",
       "\t\t [0.26455561]\n",
       "\t\t [0.77423369]]"
      ]
     },
     "execution_count": 24,
     "metadata": {},
     "output_type": "execute_result"
    }
   ],
   "source": [
    "X.core[1,1,0] = 7 # Change a single element.\n",
    "X"
   ]
  },
  {
   "cell_type": "markdown",
   "metadata": {},
   "source": [
    "## **TODO**: We don't have a `__getitem__/subscripted reference ` for ttensor "
   ]
  },
  {
   "cell_type": "code",
   "execution_count": 25,
   "metadata": {},
   "outputs": [],
   "source": [
    "# X[2][0:2,1] = [1,1] "
   ]
  },
  {
   "cell_type": "markdown",
   "metadata": {},
   "source": [
    "## Last index"
   ]
  },
  {
   "cell_type": "markdown",
   "metadata": {},
   "source": [
    "## **TODO**: We don't have a `__getitem__/subscripted reference ` for ttensor "
   ]
  },
  {
   "cell_type": "code",
   "execution_count": 26,
   "metadata": {},
   "outputs": [],
   "source": [
    "# X[-1]"
   ]
  },
  {
   "cell_type": "markdown",
   "metadata": {},
   "source": [
    "## Basic operations (uplus, uminus, mtimes, etc.) on a ttensor"
   ]
  },
  {
   "cell_type": "code",
   "execution_count": 27,
   "metadata": {},
   "outputs": [],
   "source": [
    "X = generate_sample_ttensor() # Create ttensor."
   ]
  },
  {
   "cell_type": "markdown",
   "metadata": {},
   "source": [
    "### Addition"
   ]
  },
  {
   "cell_type": "code",
   "execution_count": 28,
   "metadata": {},
   "outputs": [
    {
     "data": {
      "text/plain": [
       "Tensor of shape: (5, 4, 3)\n",
       "\tCore is a \ttensor of shape 3 x 2 x 1\n",
       "\tdata[0, :, :] = \n",
       "\t[[0.5488135 ]\n",
       "\t [0.71518937]]\n",
       "\tdata[1, :, :] = \n",
       "\t[[0.60276338]\n",
       "\t [0.54488318]]\n",
       "\tdata[2, :, :] = \n",
       "\t[[0.4236548 ]\n",
       "\t [0.64589411]]\n",
       "\tU[0] = \n",
       "\t\t[[0.43758721 0.891773   0.96366276]\n",
       "\t\t [0.38344152 0.79172504 0.52889492]\n",
       "\t\t [0.56804456 0.92559664 0.07103606]\n",
       "\t\t [0.0871293  0.0202184  0.83261985]\n",
       "\t\t [0.77815675 0.87001215 0.97861834]]\n",
       "\tU[1] = \n",
       "\t\t[[0.79915856 0.46147936]\n",
       "\t\t [0.78052918 0.11827443]\n",
       "\t\t [0.63992102 0.14335329]\n",
       "\t\t [0.94466892 0.52184832]]\n",
       "\tU[2] = \n",
       "\t\t[[0.41466194]\n",
       "\t\t [0.26455561]\n",
       "\t\t [0.77423369]]"
      ]
     },
     "execution_count": 28,
     "metadata": {},
     "output_type": "execute_result"
    }
   ],
   "source": [
    "+X # Calls uplus."
   ]
  },
  {
   "cell_type": "markdown",
   "metadata": {},
   "source": [
    "### Subtraction"
   ]
  },
  {
   "cell_type": "code",
   "execution_count": 29,
   "metadata": {},
   "outputs": [
    {
     "data": {
      "text/plain": [
       "Tensor of shape: (5, 4, 3)\n",
       "\tCore is a \ttensor of shape 3 x 2 x 1\n",
       "\tdata[0, :, :] = \n",
       "\t[[-0.5488135 ]\n",
       "\t [-0.71518937]]\n",
       "\tdata[1, :, :] = \n",
       "\t[[-0.60276338]\n",
       "\t [-0.54488318]]\n",
       "\tdata[2, :, :] = \n",
       "\t[[-0.4236548 ]\n",
       "\t [-0.64589411]]\n",
       "\tU[0] = \n",
       "\t\t[[0.43758721 0.891773   0.96366276]\n",
       "\t\t [0.38344152 0.79172504 0.52889492]\n",
       "\t\t [0.56804456 0.92559664 0.07103606]\n",
       "\t\t [0.0871293  0.0202184  0.83261985]\n",
       "\t\t [0.77815675 0.87001215 0.97861834]]\n",
       "\tU[1] = \n",
       "\t\t[[0.79915856 0.46147936]\n",
       "\t\t [0.78052918 0.11827443]\n",
       "\t\t [0.63992102 0.14335329]\n",
       "\t\t [0.94466892 0.52184832]]\n",
       "\tU[2] = \n",
       "\t\t[[0.41466194]\n",
       "\t\t [0.26455561]\n",
       "\t\t [0.77423369]]"
      ]
     },
     "execution_count": 29,
     "metadata": {},
     "output_type": "execute_result"
    }
   ],
   "source": [
    "-X # Calls uminus."
   ]
  },
  {
   "cell_type": "markdown",
   "metadata": {},
   "source": [
    "### Multiplication"
   ]
  },
  {
   "cell_type": "code",
   "execution_count": 30,
   "metadata": {},
   "outputs": [
    {
     "data": {
      "text/plain": [
       "Tensor of shape: (5, 4, 3)\n",
       "\tCore is a \ttensor of shape 3 x 2 x 1\n",
       "\tdata[0, :, :] = \n",
       "\t[[2.74406752]\n",
       "\t [3.57594683]]\n",
       "\tdata[1, :, :] = \n",
       "\t[[3.01381688]\n",
       "\t [2.72441591]]\n",
       "\tdata[2, :, :] = \n",
       "\t[[2.118274  ]\n",
       "\t [3.22947057]]\n",
       "\tU[0] = \n",
       "\t\t[[0.43758721 0.891773   0.96366276]\n",
       "\t\t [0.38344152 0.79172504 0.52889492]\n",
       "\t\t [0.56804456 0.92559664 0.07103606]\n",
       "\t\t [0.0871293  0.0202184  0.83261985]\n",
       "\t\t [0.77815675 0.87001215 0.97861834]]\n",
       "\tU[1] = \n",
       "\t\t[[0.79915856 0.46147936]\n",
       "\t\t [0.78052918 0.11827443]\n",
       "\t\t [0.63992102 0.14335329]\n",
       "\t\t [0.94466892 0.52184832]]\n",
       "\tU[2] = \n",
       "\t\t[[0.41466194]\n",
       "\t\t [0.26455561]\n",
       "\t\t [0.77423369]]"
      ]
     },
     "execution_count": 30,
     "metadata": {},
     "output_type": "execute_result"
    }
   ],
   "source": [
    "5*X # Calls mtimes."
   ]
  },
  {
   "cell_type": "markdown",
   "metadata": {},
   "source": [
    "## Use permute to reorder the modes of a ttensor"
   ]
  },
  {
   "cell_type": "code",
   "execution_count": 31,
   "metadata": {},
   "outputs": [
    {
     "data": {
      "text/plain": [
       "Tensor of shape: (3, 4, 5)\n",
       "\tCore is a \ttensor of shape 1 x 2 x 3\n",
       "\tdata[0, :, :] = \n",
       "\t[[0.5488135  0.60276338 0.4236548 ]\n",
       "\t [0.71518937 0.54488318 0.64589411]]\n",
       "\tU[0] = \n",
       "\t\t[[0.41466194]\n",
       "\t\t [0.26455561]\n",
       "\t\t [0.77423369]]\n",
       "\tU[1] = \n",
       "\t\t[[0.79915856 0.46147936]\n",
       "\t\t [0.78052918 0.11827443]\n",
       "\t\t [0.63992102 0.14335329]\n",
       "\t\t [0.94466892 0.52184832]]\n",
       "\tU[2] = \n",
       "\t\t[[0.43758721 0.891773   0.96366276]\n",
       "\t\t [0.38344152 0.79172504 0.52889492]\n",
       "\t\t [0.56804456 0.92559664 0.07103606]\n",
       "\t\t [0.0871293  0.0202184  0.83261985]\n",
       "\t\t [0.77815675 0.87001215 0.97861834]]"
      ]
     },
     "execution_count": 31,
     "metadata": {},
     "output_type": "execute_result"
    }
   ],
   "source": [
    "X = generate_sample_ttensor() # Create ttensor.\n",
    "X.permute(np.array([2,1,0]))"
   ]
  },
  {
   "cell_type": "markdown",
   "metadata": {},
   "source": [
    "## Displaying a ttensor"
   ]
  },
  {
   "cell_type": "markdown",
   "metadata": {},
   "source": [
    "The ttensor displays by displaying the core and each of the component matrices."
   ]
  },
  {
   "cell_type": "code",
   "execution_count": 32,
   "metadata": {},
   "outputs": [
    {
     "name": "stdout",
     "output_type": "stream",
     "text": [
      "Tensor of shape: (5, 4, 3)\n",
      "\tCore is a \ttensor of shape 3 x 2 x 1\n",
      "\tdata[0, :, :] = \n",
      "\t[[0.5488135 ]\n",
      "\t [0.71518937]]\n",
      "\tdata[1, :, :] = \n",
      "\t[[0.60276338]\n",
      "\t [0.54488318]]\n",
      "\tdata[2, :, :] = \n",
      "\t[[0.4236548 ]\n",
      "\t [0.64589411]]\n",
      "\tU[0] = \n",
      "\t\t[[0.43758721 0.891773   0.96366276]\n",
      "\t\t [0.38344152 0.79172504 0.52889492]\n",
      "\t\t [0.56804456 0.92559664 0.07103606]\n",
      "\t\t [0.0871293  0.0202184  0.83261985]\n",
      "\t\t [0.77815675 0.87001215 0.97861834]]\n",
      "\tU[1] = \n",
      "\t\t[[0.79915856 0.46147936]\n",
      "\t\t [0.78052918 0.11827443]\n",
      "\t\t [0.63992102 0.14335329]\n",
      "\t\t [0.94466892 0.52184832]]\n",
      "\tU[2] = \n",
      "\t\t[[0.41466194]\n",
      "\t\t [0.26455561]\n",
      "\t\t [0.77423369]]\n",
      "\n"
     ]
    }
   ],
   "source": [
    "X = generate_sample_ttensor() # Create ttensor.\n",
    "print(X)"
   ]
  },
  {
   "cell_type": "code",
   "execution_count": 33,
   "metadata": {},
   "outputs": [
    {
     "data": {
      "text/plain": [
       "Tensor of shape: (5, 4, 3)\n",
       "\tCore is a \ttensor of shape 3 x 2 x 1\n",
       "\tdata[0, :, :] = \n",
       "\t[[0.5488135 ]\n",
       "\t [0.71518937]]\n",
       "\tdata[1, :, :] = \n",
       "\t[[0.60276338]\n",
       "\t [0.54488318]]\n",
       "\tdata[2, :, :] = \n",
       "\t[[0.4236548 ]\n",
       "\t [0.64589411]]\n",
       "\tU[0] = \n",
       "\t\t[[0.43758721 0.891773   0.96366276]\n",
       "\t\t [0.38344152 0.79172504 0.52889492]\n",
       "\t\t [0.56804456 0.92559664 0.07103606]\n",
       "\t\t [0.0871293  0.0202184  0.83261985]\n",
       "\t\t [0.77815675 0.87001215 0.97861834]]\n",
       "\tU[1] = \n",
       "\t\t[[0.79915856 0.46147936]\n",
       "\t\t [0.78052918 0.11827443]\n",
       "\t\t [0.63992102 0.14335329]\n",
       "\t\t [0.94466892 0.52184832]]\n",
       "\tU[2] = \n",
       "\t\t[[0.41466194]\n",
       "\t\t [0.26455561]\n",
       "\t\t [0.77423369]]"
      ]
     },
     "execution_count": 33,
     "metadata": {},
     "output_type": "execute_result"
    }
   ],
   "source": [
    "X # In the python interface"
   ]
  }
 ],
 "metadata": {
  "kernelspec": {
   "display_name": "Python 3 (ipykernel)",
   "language": "python",
   "name": "python3"
  },
  "language_info": {
   "codemirror_mode": {
    "name": "ipython",
    "version": 3
   },
   "file_extension": ".py",
   "mimetype": "text/x-python",
   "name": "python",
   "nbconvert_exporter": "python",
   "pygments_lexer": "ipython3",
   "version": "3.11.3"
  }
 },
 "nbformat": 4,
 "nbformat_minor": 1
}
