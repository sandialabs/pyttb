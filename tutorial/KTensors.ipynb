{
 "cells": [
  {
   "cell_type": "markdown",
   "metadata": {},
   "source": [
    "# Tensors\n",
    "\n",
    "```\n",
    "Copyright 2022 National Technology & Engineering Solutions of Sandia,\n",
    "LLC (NTESS). Under the terms of Contract DE-NA0003525 with NTESS, the\n",
    "U.S. Government retains certain rights in this software.\n",
    "```"
   ]
  },
  {
   "cell_type": "markdown",
   "metadata": {},
   "source": [
    "Kruskal format is a decomposition of a tensor $\\mathcal{X}$ as the sum of the outer products as the columns of matrices. For example, we might write:\n",
    "\n",
    "$\n",
    "\\mathcal{X} = \\sum_{r} a_r \\circ b_r \\circ c_r\n",
    "$\n",
    "\n",
    "where a subscript denotes column index and a circle denotes outer product. In other words, the tensor X is built from the columns of the matrices A,B, and C. It's often helpful to explicitly specify a weight for each outer product, which we do here:\n",
    "\n",
    "$\n",
    "\\mathcal{X} = \\sum_{r} \\lambda_r \\, a_r \\circ b_r \\circ c_r\n",
    "$"
   ]
  },
  {
   "cell_type": "markdown",
   "metadata": {},
   "source": [
    "The **`ktensor`** class stores the components of the tensor $\\mathcal{X}$ and can perform many operations, e.g., **`ttm`**, without explicitly forming the tensor $\\mathcal{X}$."
   ]
  },
  {
   "cell_type": "markdown",
   "metadata": {},
   "source": [
    "## Contents"
   ]
  },
  {
   "cell_type": "markdown",
   "metadata": {},
   "source": [
    "* [Kruskal tensor format via ktensor](#Kruskal-tensor-format-via-ktensor)\n",
    "* [Specifying weights in a ktensor](#Specifying-weights-in-a-ktensor)\n",
    "* [Creating a one-dimensional ktensor](#Creating-a-one-dimensional-ktensor)\n",
    "* [Constituent parts of a ktensor](#Constituent-parts-of-a-ktensor)\n",
    "* [Creating a ktensor from its constituent parts](#Creating-a-ktensor-from-its-constituent-parts)\n",
    "* [Creating an empty ktensor](#Creating-an-empty-ktensor)\n",
    "* [Use full or tensor to convert a ktensor to a tensor\n",
    "](#Use-full-or-tensor-to-convert-a-ktensor-to-a-tensor)\n",
    "* [Use double to convert a ktensor to a multidimensional array](#Use-double-to-convert-a-ktensor-to-a-multidimensional-array)\n",
    "* [Use tendiag or sptendiag to convert a ktensor to a ttensor](#Use-tendiag-or-sptendiag-to-convert-a-ktensor-to-a-ttensor)\n",
    "* [____Break HERE____](#____Break-HERE____)\n",
    "* [Creating an empty tensor](#Creating-an-empty-tensor)\n",
    "* [Create a tensor of all zeroes](#Create-a-tensor-of-all-zeroes)\n",
    "* [Convert tensor to an array](#Convert-tensor-to-an-array)\n",
    "* [Use len, ndims, and size to get the size of a tensor](#Use-len,-ndims,-and-size-to-get-the-size-of-a-tensor)\n",
    "* [Subscripted reference of a tensor](#Subscripted-reference-of-a-tensor)\n",
    "* [Subscripted assignment for a tensor](#Subscripted-assignment-for-a-tensor)\n",
    "* [Basic operations on a tensor](#Basic-operations-on-a-tensor)\n",
    "     * [Addition](#Addition)\n",
    "     * [Subtraction](#Subtraction)\n",
    "     * [Multiplication](#Multiplication)\n",
    "     * [Division](#Division)\n",
    "     * [Power](#Power)\n",
    "     * [Equality](#Equality)\n",
    "* [Use permute to reorder the modes of a tensor](#Use-permute-to-reorder-the-modes-of-a-tensor)\n",
    "* [Display tensor](#Display-tensor)"
   ]
  },
  {
   "cell_type": "code",
   "execution_count": null,
   "metadata": {},
   "outputs": [],
   "source": []
  },
  {
   "cell_type": "markdown",
   "metadata": {},
   "source": [
    "## Kruskal tensor format via ktensor"
   ]
  },
  {
   "cell_type": "code",
   "execution_count": 1,
   "metadata": {},
   "outputs": [],
   "source": [
    "import pyttb as ttb\n",
    "import numpy as np"
   ]
  },
  {
   "cell_type": "markdown",
   "metadata": {},
   "source": [
    "Kruskal format stores a tensor as a sum of rank-1 outer products. For example, consider a tensor of the following form:\n",
    "\n",
    "$\n",
    "X = a_1 \\circ b_1 \\circ c_1 + a_2 \\circ b_2 \\circ c_2\n",
    "$\n",
    "\n",
    "This can be stored in Kruskal form as follows."
   ]
  },
  {
   "cell_type": "code",
   "execution_count": 2,
   "metadata": {},
   "outputs": [
    {
     "data": {
      "text/plain": [
       "ktensor of shape 4 x 3 x 2\n",
       "weights=[1. 1.]\n",
       "factor_matrices[0] =\n",
       "[[0.5488135  0.71518937]\n",
       " [0.60276338 0.54488318]\n",
       " [0.4236548  0.64589411]\n",
       " [0.43758721 0.891773  ]]\n",
       "factor_matrices[1] =\n",
       "[[0.96366276 0.38344152]\n",
       " [0.79172504 0.52889492]\n",
       " [0.56804456 0.92559664]]\n",
       "factor_matrices[2] =\n",
       "[[0.07103606 0.0871293 ]\n",
       " [0.0202184  0.83261985]]"
      ]
     },
     "execution_count": 2,
     "metadata": {},
     "output_type": "execute_result"
    }
   ],
   "source": [
    "np.random.seed(0)\n",
    "A = np.random.rand(4,2) # First column is a_1, second is a_2.\n",
    "B = np.random.rand(3,2) # Likewise for B.\n",
    "C = np.random.rand(2,2) # Likewise for C.\n",
    "X = ttb.ktensor.from_factor_matrices([A,B,C]) # Create the ktensor.\n",
    "X"
   ]
  },
  {
   "cell_type": "markdown",
   "metadata": {},
   "source": [
    "For Kruskal format, there can be any number of matrices, but every matrix must have the same number of columns. The number of rows can vary."
   ]
  },
  {
   "cell_type": "code",
   "execution_count": 3,
   "metadata": {},
   "outputs": [
    {
     "data": {
      "text/plain": [
       "ktensor of shape 4 x 2 x 3\n",
       "weights=[1.]\n",
       "factor_matrices[0] =\n",
       "[[0.77815675]\n",
       " [0.87001215]\n",
       " [0.97861834]\n",
       " [0.79915856]]\n",
       "factor_matrices[1] =\n",
       "[[0.46147936]\n",
       " [0.78052918]]\n",
       "factor_matrices[2] =\n",
       "[[0.11827443]\n",
       " [0.63992102]\n",
       " [0.14335329]]"
      ]
     },
     "execution_count": 3,
     "metadata": {},
     "output_type": "execute_result"
    }
   ],
   "source": [
    "Y = ttb.ktensor.from_factor_matrices(\n",
    "    [np.random.rand(4,1), np.random.rand(2,1), np.random.rand(3,1)]\n",
    ") # Another ktensor.\n",
    "Y"
   ]
  },
  {
   "cell_type": "markdown",
   "metadata": {},
   "source": [
    "## Specifying weights in a ktensor"
   ]
  },
  {
   "cell_type": "markdown",
   "metadata": {},
   "source": [
    "Weights for each rank-1 tensor can be specified by passing in a column vector. For example: \n",
    "\n",
    "$\n",
    "X = \\lambda_1 \\, a_1 \\circ b_1 \\circ c_1 + \\lambda_2 \\, a_2 \\circ b_2 \\circ c_2 $"
   ]
  },
  {
   "cell_type": "markdown",
   "metadata": {},
   "source": [
    "## **TODO** : Propose only using the instantiation of X once here, since X is not modified going forward until section ***Subscripted assignment for a ktensor***, and it would save space in many of the subsequent code blocks without confusing the user."
   ]
  },
  {
   "cell_type": "code",
   "execution_count": 4,
   "metadata": {},
   "outputs": [
    {
     "data": {
      "text/plain": [
       "ktensor of shape 4 x 3 x 2\n",
       "weights=[5.   0.25]\n",
       "factor_matrices[0] =\n",
       "[[0.5488135  0.71518937]\n",
       " [0.60276338 0.54488318]\n",
       " [0.4236548  0.64589411]\n",
       " [0.43758721 0.891773  ]]\n",
       "factor_matrices[1] =\n",
       "[[0.96366276 0.38344152]\n",
       " [0.79172504 0.52889492]\n",
       " [0.56804456 0.92559664]]\n",
       "factor_matrices[2] =\n",
       "[[0.07103606 0.0871293 ]\n",
       " [0.0202184  0.83261985]]"
      ]
     },
     "execution_count": 4,
     "metadata": {},
     "output_type": "execute_result"
    }
   ],
   "source": [
    "np.random.seed(0)\n",
    "A = np.random.rand(4,2) # Create some data.\n",
    "B = np.random.rand(3,2)\n",
    "C = np.random.rand(2,2)\n",
    "weights = np.array([5.0, 0.25])\n",
    "X = ttb.ktensor.from_data(weights, [A,B,C]) # Create the ktensor.\n",
    "X"
   ]
  },
  {
   "cell_type": "markdown",
   "metadata": {},
   "source": [
    "## Creating a one-dimensional ktensor"
   ]
  },
  {
   "cell_type": "code",
   "execution_count": 5,
   "metadata": {},
   "outputs": [
    {
     "data": {
      "text/plain": [
       "ktensor of shape 4\n",
       "weights=[1. 1. 1. 1. 1.]\n",
       "factor_matrices[0] =\n",
       "[[0.5488135  0.71518937 0.60276338 0.54488318 0.4236548 ]\n",
       " [0.64589411 0.43758721 0.891773   0.96366276 0.38344152]\n",
       " [0.79172504 0.52889492 0.56804456 0.92559664 0.07103606]\n",
       " [0.0871293  0.0202184  0.83261985 0.77815675 0.87001215]]"
      ]
     },
     "execution_count": 5,
     "metadata": {},
     "output_type": "execute_result"
    }
   ],
   "source": [
    "np.random.seed(0)\n",
    "Y = ttb.ktensor.from_factor_matrices(np.random.rand(4,5)) # A one-dimensional ktensor.\n",
    "Y"
   ]
  },
  {
   "cell_type": "markdown",
   "metadata": {},
   "source": [
    "## Constituent parts of a ktensor"
   ]
  },
  {
   "cell_type": "code",
   "execution_count": 6,
   "metadata": {},
   "outputs": [
    {
     "data": {
      "text/plain": [
       "array([5.  , 0.25])"
      ]
     },
     "execution_count": 6,
     "metadata": {},
     "output_type": "execute_result"
    }
   ],
   "source": [
    "# np.random.seed(0)\n",
    "# A = np.random.rand(4,2) # Create some data.\n",
    "# B = np.random.rand(3,2)\n",
    "# C = np.random.rand(2,2)\n",
    "# weights = np.array([5.0, 0.25])\n",
    "# X = ttb.ktensor.from_data(weights, [A,B,C]) # Create the ktensor.\n",
    "\n",
    "X.weights # Weights or multipliers."
   ]
  },
  {
   "cell_type": "code",
   "execution_count": 7,
   "metadata": {},
   "outputs": [
    {
     "data": {
      "text/plain": [
       "[array([[0.5488135 , 0.71518937],\n",
       "        [0.60276338, 0.54488318],\n",
       "        [0.4236548 , 0.64589411],\n",
       "        [0.43758721, 0.891773  ]]),\n",
       " array([[0.96366276, 0.38344152],\n",
       "        [0.79172504, 0.52889492],\n",
       "        [0.56804456, 0.92559664]]),\n",
       " array([[0.07103606, 0.0871293 ],\n",
       "        [0.0202184 , 0.83261985]])]"
      ]
     },
     "execution_count": 7,
     "metadata": {},
     "output_type": "execute_result"
    }
   ],
   "source": [
    "X.factor_matrices # Cell array of matrices."
   ]
  },
  {
   "cell_type": "markdown",
   "metadata": {},
   "source": [
    "## Creating a ktensor from its constituent parts"
   ]
  },
  {
   "cell_type": "code",
   "execution_count": 8,
   "metadata": {},
   "outputs": [
    {
     "data": {
      "text/plain": [
       "ktensor of shape 4 x 3 x 2\n",
       "weights=[5.   0.25]\n",
       "factor_matrices[0] =\n",
       "[[0.5488135  0.71518937]\n",
       " [0.60276338 0.54488318]\n",
       " [0.4236548  0.64589411]\n",
       " [0.43758721 0.891773  ]]\n",
       "factor_matrices[1] =\n",
       "[[0.96366276 0.38344152]\n",
       " [0.79172504 0.52889492]\n",
       " [0.56804456 0.92559664]]\n",
       "factor_matrices[2] =\n",
       "[[0.07103606 0.0871293 ]\n",
       " [0.0202184  0.83261985]]"
      ]
     },
     "execution_count": 8,
     "metadata": {},
     "output_type": "execute_result"
    }
   ],
   "source": [
    "# np.random.seed(0)\n",
    "# A = np.random.rand(4,2) # Create some data.\n",
    "# B = np.random.rand(3,2)\n",
    "# C = np.random.rand(2,2)\n",
    "# weights = np.array([5.0, 0.25])\n",
    "# X = ttb.ktensor.from_data(weights, [A,B,C]) # Create the ktensor.\n",
    "\n",
    "Y = ttb.ktensor.from_data(X.weights, X.factor_matrices) # Recreate X.\n",
    "Y"
   ]
  },
  {
   "cell_type": "markdown",
   "metadata": {},
   "source": [
    "## Creating an empty ktensor"
   ]
  },
  {
   "cell_type": "code",
   "execution_count": 9,
   "metadata": {},
   "outputs": [
    {
     "data": {
      "text/plain": [
       "ktensor of shape \n",
       "weights=[]"
      ]
     },
     "execution_count": 9,
     "metadata": {},
     "output_type": "execute_result"
    }
   ],
   "source": [
    "Z = ttb.ktensor() # Empty ktensor.\n",
    "Z"
   ]
  },
  {
   "cell_type": "markdown",
   "metadata": {},
   "source": [
    "## Use full or tensor to convert a ktensor to a tensor"
   ]
  },
  {
   "cell_type": "code",
   "execution_count": 10,
   "metadata": {},
   "outputs": [
    {
     "data": {
      "text/plain": [
       "tensor of shape 4 x 3 x 2\n",
       "data[0, :, :] = \n",
       "[[0.19381804 0.11054766]\n",
       " [0.16256856 0.12266212]\n",
       " [0.12514704 0.16930925]]\n",
       "data[1, :, :] = \n",
       "[[0.21086124 0.10221034]\n",
       " [0.17577751 0.10823074]\n",
       " [0.13259822 0.13959484]]\n",
       "data[2, :, :] = \n",
       "[[0.1504007  0.09282405]\n",
       " [0.12657497 0.10501592]\n",
       " [0.09849813 0.1487711 ]]\n",
       "data[3, :, :] = \n",
       "[[0.15722304 0.11380622]\n",
       " [0.13332549 0.13320036]\n",
       " [0.10626643 0.19694404]]"
      ]
     },
     "execution_count": 10,
     "metadata": {},
     "output_type": "execute_result"
    }
   ],
   "source": [
    "# np.random.seed(0)\n",
    "# A = np.random.rand(4,2) # Create some data.\n",
    "# B = np.random.rand(3,2)\n",
    "# C = np.random.rand(2,2)\n",
    "# weights = np.array([5.0, 0.25])\n",
    "# X = ttb.ktensor.from_data(weights, [A,B,C]) # Create the ktensor.\n",
    "\n",
    "X.full() # Converts to a tensor."
   ]
  },
  {
   "cell_type": "code",
   "execution_count": 11,
   "metadata": {},
   "outputs": [
    {
     "data": {
      "text/plain": [
       "tensor of shape 4 x 3 x 2\n",
       "data[0, :, :] = \n",
       "[[0.19381804 0.11054766]\n",
       " [0.16256856 0.12266212]\n",
       " [0.12514704 0.16930925]]\n",
       "data[1, :, :] = \n",
       "[[0.21086124 0.10221034]\n",
       " [0.17577751 0.10823074]\n",
       " [0.13259822 0.13959484]]\n",
       "data[2, :, :] = \n",
       "[[0.1504007  0.09282405]\n",
       " [0.12657497 0.10501592]\n",
       " [0.09849813 0.1487711 ]]\n",
       "data[3, :, :] = \n",
       "[[0.15722304 0.11380622]\n",
       " [0.13332549 0.13320036]\n",
       " [0.10626643 0.19694404]]"
      ]
     },
     "execution_count": 11,
     "metadata": {},
     "output_type": "execute_result"
    }
   ],
   "source": [
    "ttb.tensor.from_tensor_type(X) # Same as above."
   ]
  },
  {
   "cell_type": "markdown",
   "metadata": {},
   "source": [
    "## Use double to convert a ktensor to a multidimensional array"
   ]
  },
  {
   "cell_type": "code",
   "execution_count": 12,
   "metadata": {},
   "outputs": [
    {
     "data": {
      "text/plain": [
       "array([[[0.19381804, 0.11054766],\n",
       "        [0.16256856, 0.12266212],\n",
       "        [0.12514704, 0.16930925]],\n",
       "\n",
       "       [[0.21086124, 0.10221034],\n",
       "        [0.17577751, 0.10823074],\n",
       "        [0.13259822, 0.13959484]],\n",
       "\n",
       "       [[0.1504007 , 0.09282405],\n",
       "        [0.12657497, 0.10501592],\n",
       "        [0.09849813, 0.1487711 ]],\n",
       "\n",
       "       [[0.15722304, 0.11380622],\n",
       "        [0.13332549, 0.13320036],\n",
       "        [0.10626643, 0.19694404]]])"
      ]
     },
     "execution_count": 12,
     "metadata": {},
     "output_type": "execute_result"
    }
   ],
   "source": [
    "# np.random.seed(0)\n",
    "# A = np.random.rand(4,2) # Create some data.\n",
    "# B = np.random.rand(3,2)\n",
    "# C = np.random.rand(2,2)\n",
    "# weights = np.array([5.0, 0.25])\n",
    "# X = ttb.ktensor.from_data(weights, [A,B,C]) # Create the ktensor.\n",
    "\n",
    "X.double() # Converts to an array."
   ]
  },
  {
   "cell_type": "markdown",
   "metadata": {},
   "source": [
    "## Use tendiag or sptendiag to convert a ktensor to a ttensor"
   ]
  },
  {
   "cell_type": "markdown",
   "metadata": {},
   "source": [
    "A ktensor can be regarded as a ttensor with a diagonal core."
   ]
  },
  {
   "cell_type": "markdown",
   "metadata": {},
   "source": [
    "## TODO: tendiag() is bugging for me. [See issue]()"
   ]
  },
  {
   "cell_type": "code",
   "execution_count": 13,
   "metadata": {},
   "outputs": [],
   "source": [
    "# np.random.seed(0)\n",
    "# A = np.random.rand(4,2) # Create some data.\n",
    "# B = np.random.rand(3,2)\n",
    "# C = np.random.rand(2,2)\n",
    "# weights = np.array([5.0, 0.25])\n",
    "# X = ttb.ktensor.from_data(weights, [A,B,C]) # Create the ktensor.\n",
    "\n",
    "R = len(X.weights) # Number of factors in X.\n",
    "# core = ttb.tendiag(X.weights, ((R, ) * X.ndims)) # Create a diagonal core.\n",
    "# Y = ttb.ttensor.from_data(core, X.factor_matrices)\n",
    "# Y"
   ]
  },
  {
   "cell_type": "code",
   "execution_count": 14,
   "metadata": {},
   "outputs": [
    {
     "data": {
      "text/plain": [
       "0.6953902774728465"
      ]
     },
     "execution_count": 14,
     "metadata": {},
     "output_type": "execute_result"
    }
   ],
   "source": [
    "X.norm() # - Y.norm() # They are the same."
   ]
  },
  {
   "cell_type": "markdown",
   "metadata": {},
   "source": [
    "# ____Break HERE____"
   ]
  },
  {
   "cell_type": "code",
   "execution_count": 15,
   "metadata": {},
   "outputs": [
    {
     "data": {
      "text/plain": [
       "2"
      ]
     },
     "execution_count": 15,
     "metadata": {},
     "output_type": "execute_result"
    }
   ],
   "source": [
    "len(X.weights)"
   ]
  },
  {
   "cell_type": "code",
   "execution_count": 16,
   "metadata": {},
   "outputs": [
    {
     "data": {
      "text/plain": [
       "3"
      ]
     },
     "execution_count": 16,
     "metadata": {},
     "output_type": "execute_result"
    }
   ],
   "source": [
    "X.ndims"
   ]
  },
  {
   "cell_type": "code",
   "execution_count": null,
   "metadata": {},
   "outputs": [],
   "source": []
  }
 ],
 "metadata": {
  "kernelspec": {
   "display_name": "Python 3 (ipykernel)",
   "language": "python",
   "name": "python3"
  },
  "language_info": {
   "codemirror_mode": {
    "name": "ipython",
    "version": 3
   },
   "file_extension": ".py",
   "mimetype": "text/x-python",
   "name": "python",
   "nbconvert_exporter": "python",
   "pygments_lexer": "ipython3",
   "version": "3.11.3"
  }
 },
 "nbformat": 4,
 "nbformat_minor": 1
}
