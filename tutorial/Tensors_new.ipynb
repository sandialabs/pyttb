{
 "cells": [
  {
   "cell_type": "markdown",
   "metadata": {},
   "source": [
    "# Tensors\n",
    "\n",
    "```\n",
    "Copyright 2022 National Technology & Engineering Solutions of Sandia,\n",
    "LLC (NTESS). Under the terms of Contract DE-NA0003525 with NTESS, the\n",
    "U.S. Government retains certain rights in this software.\n",
    "```"
   ]
  },
  {
   "cell_type": "markdown",
   "metadata": {},
   "source": [
    "Tensors are extensions of multidimensial arrays with additional operations defined on them.  Here we explain the basics for creating and working with tensors."
   ]
  },
  {
   "cell_type": "markdown",
   "metadata": {},
   "source": [
    "## Contents"
   ]
  },
  {
   "cell_type": "markdown",
   "metadata": {},
   "source": [
    "* [Creating a tensor from an array](#Creating-a-tensor-from-an-array)\n",
    "* [Creating a one-dimensional tensor](#Creating-a-one-dimensional-tensor)\n",
    "* [Specifying trailing singleton dimensions in a tensor](#Specifying-trailing-singleton-dimensions-in-a-tensor)\n",
    "* [The constituent parts of a tensor](#The-constitutent-parts-of-a-tensor)\n",
    "* [Creating a tensor from its constituent parts](#Creating-a-tensor-from-its-constituent-parts)\n",
    "* [Creating an empty tensor](#Creating-an-empty-tensor)\n",
    "* [Use tenones to create a tensor of all ones](#Use-tenones-to-create-a-tensor-of-all-ones)\n",
    "* [Use tenzeros to create a tensor of all zeros](#Use-tenzeros-to-create-a-tensor-of-all-zeros)\n",
    "* [Use tenrand to create a random tensor](#Use-tenrand-to-create-a-random-tensor)\n",
    "* [Use squeeze to remove singleton dimensions from a tensor](#Use-squeeze-to-remove-singleton-dimensions-from-a-tensor)\n",
    "* [Use double to convert a tensor to a (multidimensional) array](#Use-double-to-convert-a-tensor-to-a-(multidimensional)-array)\n",
    "* [Use ndims and size to get the size of a tensor](#Use-ndims-and-size-to-get-the-size-of-a-tensor)\n",
    "* [Subscripted reference for a tensor](#Subscripted-reference-for-a-tensor)\n",
    "* [Subscripted assignment for a tensor](#Subscripted-assignment-for-a-tensor)\n",
    "* [Using end for the last array index](#Using-end-for-the-last-array-index)\n",
    "* [Use find for subscripts of nonzero elements of a tensor](#Use-find-for-subscripts-of-nonzero-elements-of-a-tensor)\n",
    "* [Computing the Frobenius norm of a tensor](#Computing-the-Frobenius-norm-of-a-tensor)\n",
    "* [Using reshape to rearrange elements in a tensor](#Using-reshape-to-rearrange-elements-in-a-tensor)\n",
    "* [Basic operations (plus, minus, and, or, etc.) on a tensor](#Basic-operations-(plus,-minus,-and,-or,-etc.)-on-a-tensor)\n",
    "* [Using tenfun for elementwise operations on one or more tensors](#Using-tenfun-for-elementwise-operations-on-one-or-more-tensors)\n",
    "* [Use permute to reorder the modes of a tensor](#Use-permute-to-reorder-the-modes-of-a-tensor)\n",
    "* [Symmetrizing and checking for symmetry in a tensor](#Symmetrizing-and-checking-for-symmetry-in-a-tensor)\n",
    "* [Displaying a tensor](#Displaying-a-tensor)"
   ]
  },
  {
   "cell_type": "code",
   "execution_count": 1,
   "metadata": {},
   "outputs": [],
   "source": [
    "import pyttb as ttb\n",
    "import numpy as np\n",
    "import sys"
   ]
  },
  {
   "cell_type": "markdown",
   "metadata": {},
   "source": [
    "## Creating a tensor from an array"
   ]
  },
  {
   "cell_type": "code",
   "execution_count": 2,
   "metadata": {},
   "outputs": [
    {
     "data": {
      "text/plain": [
       "tensor of shape 2 x 4 x 3\n",
       "data[0, :, :] = \n",
       "[[1. 1. 1.]\n",
       " [1. 1. 1.]\n",
       " [1. 1. 1.]\n",
       " [1. 1. 1.]]\n",
       "data[1, :, :] = \n",
       "[[1. 1. 1.]\n",
       " [1. 1. 1.]\n",
       " [1. 1. 1.]\n",
       " [1. 1. 1.]]"
      ]
     },
     "execution_count": 2,
     "metadata": {},
     "output_type": "execute_result"
    }
   ],
   "source": [
    "M = np.ones((2,4,3)) # A 2x4x3 array.\n",
    "X = ttb.tensor.from_data(M) # Convert to a tensor object\n",
    "X"
   ]
  },
  {
   "cell_type": "markdown",
   "metadata": {},
   "source": [
    "Optionally, you can specify a different shape for the tensor, so long as the input array has the right number of elements. "
   ]
  },
  {
   "cell_type": "code",
   "execution_count": 3,
   "metadata": {},
   "outputs": [
    {
     "data": {
      "text/plain": [
       "tensor of shape 4 x 2 x 3\n",
       "data[0, :, :] = \n",
       "[[1. 1. 1.]\n",
       " [1. 1. 1.]]\n",
       "data[1, :, :] = \n",
       "[[1. 1. 1.]\n",
       " [1. 1. 1.]]\n",
       "data[2, :, :] = \n",
       "[[1. 1. 1.]\n",
       " [1. 1. 1.]]\n",
       "data[3, :, :] = \n",
       "[[1. 1. 1.]\n",
       " [1. 1. 1.]]"
      ]
     },
     "execution_count": 3,
     "metadata": {},
     "output_type": "execute_result"
    }
   ],
   "source": [
    "X = X.reshape((4,2,3))\n",
    "X"
   ]
  },
  {
   "cell_type": "markdown",
   "metadata": {},
   "source": [
    "## Creating a one-dimensional tensor"
   ]
  },
  {
   "cell_type": "markdown",
   "metadata": {},
   "source": [
    "`np.random.rand(m,n)` creates a two-dimensional tensor with `m` rows and `n` columns."
   ]
  },
  {
   "cell_type": "code",
   "execution_count": 4,
   "metadata": {},
   "outputs": [
    {
     "data": {
      "text/plain": [
       "tensor of shape 5 x 1\n",
       "data[:, :] = \n",
       "[[0.5488135 ]\n",
       " [0.71518937]\n",
       " [0.60276338]\n",
       " [0.54488318]\n",
       " [0.4236548 ]]"
      ]
     },
     "execution_count": 4,
     "metadata": {},
     "output_type": "execute_result"
    }
   ],
   "source": [
    "np.random.seed(0)\n",
    "X = ttb.tensor.from_data(np.random.rand(5,1)) # Creates a 2-way tensor.\n",
    "X"
   ]
  },
  {
   "cell_type": "markdown",
   "metadata": {},
   "source": [
    "To specify a 1-way tensor, use `(m,)` syntax, signifying a vector with `m` elements."
   ]
  },
  {
   "cell_type": "code",
   "execution_count": 5,
   "metadata": {},
   "outputs": [
    {
     "data": {
      "text/plain": [
       "tensor of shape 5\n",
       "data[:] = \n",
       "[0.5488135  0.71518937 0.60276338 0.54488318 0.4236548 ]"
      ]
     },
     "execution_count": 5,
     "metadata": {},
     "output_type": "execute_result"
    }
   ],
   "source": [
    "np.random.seed(0)\n",
    "X = ttb.tensor.from_data(np.random.rand(5), shape=(5,)) # Creates a 1-way tensor.\n",
    "X"
   ]
  },
  {
   "cell_type": "markdown",
   "metadata": {},
   "source": [
    "## Specifying trailing singleton dimensions in a tensor"
   ]
  },
  {
   "cell_type": "markdown",
   "metadata": {},
   "source": [
    "Likewise, trailing singleton dimensions must be explictly specified."
   ]
  },
  {
   "cell_type": "code",
   "execution_count": 6,
   "metadata": {},
   "outputs": [
    {
     "data": {
      "text/plain": [
       "tensor of shape 4 x 3\n",
       "data[:, :] = \n",
       "[[0.5488135  0.71518937 0.60276338]\n",
       " [0.54488318 0.4236548  0.64589411]\n",
       " [0.43758721 0.891773   0.96366276]\n",
       " [0.38344152 0.79172504 0.52889492]]"
      ]
     },
     "execution_count": 6,
     "metadata": {},
     "output_type": "execute_result"
    }
   ],
   "source": [
    "np.random.seed(0)\n",
    "Y = ttb.tensor.from_data(np.random.rand(4,3)) # Creates a 2-way tensor.\n",
    "Y"
   ]
  },
  {
   "cell_type": "code",
   "execution_count": 7,
   "metadata": {},
   "outputs": [
    {
     "data": {
      "text/plain": [
       "tensor of shape 3 x 4 x 1\n",
       "data[0, :, :] = \n",
       "[[0.5488135 ]\n",
       " [0.71518937]\n",
       " [0.60276338]\n",
       " [0.54488318]]\n",
       "data[1, :, :] = \n",
       "[[0.4236548 ]\n",
       " [0.64589411]\n",
       " [0.43758721]\n",
       " [0.891773  ]]\n",
       "data[2, :, :] = \n",
       "[[0.96366276]\n",
       " [0.38344152]\n",
       " [0.79172504]\n",
       " [0.52889492]]"
      ]
     },
     "execution_count": 7,
     "metadata": {},
     "output_type": "execute_result"
    }
   ],
   "source": [
    "np.random.seed(0)\n",
    "Y = ttb.tensor().from_data(np.random.rand(3,4,1), (3,4,1)) # Creates a 3-way tensor.\n",
    "Y"
   ]
  },
  {
   "cell_type": "markdown",
   "metadata": {},
   "source": [
    "Using the `whos` commmand equivalent for obtaining details about the workspace tensors."
   ]
  },
  {
   "cell_type": "code",
   "execution_count": 8,
   "metadata": {},
   "outputs": [
    {
     "name": "stdout",
     "output_type": "stream",
     "text": [
      "Variable   Type       Data/Info\n",
      "-------------------------------\n",
      "M          ndarray    2x4x3: 24 elems, type `float64`, 192 bytes\n",
      "X          tensor     tensor of shape 5\\ndata[:<...> 0.54488318 0.4236548 ]\\n\n",
      "Y          tensor     tensor of shape 3 x 4 x 1<...>172504]\\n [0.52889492]]\\n\n",
      "np         module     <module 'numpy' from '/op<...>kages/numpy/__init__.py'>\n",
      "sys        module     <module 'sys' (built-in)>\n",
      "ttb        module     <module 'pyttb' from '/Us<...>-fork/pyttb/__init__.py'>\n"
     ]
    }
   ],
   "source": [
    "%whos"
   ]
  },
  {
   "cell_type": "markdown",
   "metadata": {},
   "source": [
    "## The constitutent parts of a tensor"
   ]
  },
  {
   "cell_type": "code",
   "execution_count": 9,
   "metadata": {},
   "outputs": [
    {
     "data": {
      "text/plain": [
       "array([[[0.5488135 , 0.71518937, 0.60276338],\n",
       "        [0.54488318, 0.4236548 , 0.64589411],\n",
       "        [0.43758721, 0.891773  , 0.96366276],\n",
       "        [0.38344152, 0.79172504, 0.52889492]],\n",
       "\n",
       "       [[0.56804456, 0.92559664, 0.07103606],\n",
       "        [0.0871293 , 0.0202184 , 0.83261985],\n",
       "        [0.77815675, 0.87001215, 0.97861834],\n",
       "        [0.79915856, 0.46147936, 0.78052918]]])"
      ]
     },
     "execution_count": 9,
     "metadata": {},
     "output_type": "execute_result"
    }
   ],
   "source": [
    "np.random.seed(0)\n",
    "X = ttb.tenrand((2,4,3)) # Create data.\n",
    "X.data # The array."
   ]
  },
  {
   "cell_type": "code",
   "execution_count": 10,
   "metadata": {},
   "outputs": [
    {
     "data": {
      "text/plain": [
       "(2, 4, 3)"
      ]
     },
     "execution_count": 10,
     "metadata": {},
     "output_type": "execute_result"
    }
   ],
   "source": [
    "X.shape # The size."
   ]
  },
  {
   "cell_type": "markdown",
   "metadata": {},
   "source": [
    "## Creating a tensor from its constituent parts"
   ]
  },
  {
   "cell_type": "code",
   "execution_count": 11,
   "metadata": {},
   "outputs": [
    {
     "data": {
      "text/plain": [
       "tensor of shape 2 x 4 x 3\n",
       "data[0, :, :] = \n",
       "[[0.5488135  0.71518937 0.60276338]\n",
       " [0.54488318 0.4236548  0.64589411]\n",
       " [0.43758721 0.891773   0.96366276]\n",
       " [0.38344152 0.79172504 0.52889492]]\n",
       "data[1, :, :] = \n",
       "[[0.56804456 0.92559664 0.07103606]\n",
       " [0.0871293  0.0202184  0.83261985]\n",
       " [0.77815675 0.87001215 0.97861834]\n",
       " [0.79915856 0.46147936 0.78052918]]"
      ]
     },
     "execution_count": 11,
     "metadata": {},
     "output_type": "execute_result"
    }
   ],
   "source": [
    "np.random.seed(0)\n",
    "X = ttb.tenrand((2,4,3)) # Create data.\n",
    "Y = ttb.tensor.from_tensor_type(X) # Copies X.\n",
    "Y"
   ]
  },
  {
   "cell_type": "markdown",
   "metadata": {},
   "source": [
    "## Creating an empty tensor"
   ]
  },
  {
   "cell_type": "markdown",
   "metadata": {},
   "source": [
    "An empty constructor exists."
   ]
  },
  {
   "cell_type": "code",
   "execution_count": 12,
   "metadata": {},
   "outputs": [
    {
     "data": {
      "text/plain": [
       "empty tensor of shape ()\n",
       "data = []"
      ]
     },
     "execution_count": 12,
     "metadata": {},
     "output_type": "execute_result"
    }
   ],
   "source": [
    "X = ttb.tensor() # Creates an empty tensor\n",
    "X"
   ]
  },
  {
   "cell_type": "markdown",
   "metadata": {},
   "source": [
    "## Use tenones to create a tensor of all ones"
   ]
  },
  {
   "cell_type": "code",
   "execution_count": 13,
   "metadata": {},
   "outputs": [
    {
     "data": {
      "text/plain": [
       "tensor of shape 2 x 3 x 4\n",
       "data[0, :, :] = \n",
       "[[1. 1. 1. 1.]\n",
       " [1. 1. 1. 1.]\n",
       " [1. 1. 1. 1.]]\n",
       "data[1, :, :] = \n",
       "[[1. 1. 1. 1.]\n",
       " [1. 1. 1. 1.]\n",
       " [1. 1. 1. 1.]]"
      ]
     },
     "execution_count": 13,
     "metadata": {},
     "output_type": "execute_result"
    }
   ],
   "source": [
    "X = ttb.tenones((2,3,4)) # Creates a 2x3x4 tensor of ones.\n",
    "X"
   ]
  },
  {
   "cell_type": "markdown",
   "metadata": {},
   "source": [
    "## Use tenzeros to create a tensor of all zeros"
   ]
  },
  {
   "cell_type": "code",
   "execution_count": 14,
   "metadata": {},
   "outputs": [
    {
     "data": {
      "text/plain": [
       "tensor of shape 2 x 1 x 4\n",
       "data[0, :, :] = \n",
       "[[0. 0. 0. 0.]]\n",
       "data[1, :, :] = \n",
       "[[0. 0. 0. 0.]]"
      ]
     },
     "execution_count": 14,
     "metadata": {},
     "output_type": "execute_result"
    }
   ],
   "source": [
    "X = ttb.tenzeros((2,1,4)) # Creates a 2x1x4 tensor of zeroes.\n",
    "X"
   ]
  },
  {
   "cell_type": "markdown",
   "metadata": {},
   "source": [
    "## Use tenrand to create a random tensor"
   ]
  },
  {
   "cell_type": "code",
   "execution_count": 15,
   "metadata": {},
   "outputs": [
    {
     "data": {
      "text/plain": [
       "tensor of shape 2 x 5 x 4\n",
       "data[0, :, :] = \n",
       "[[0.5488135  0.71518937 0.60276338 0.54488318]\n",
       " [0.4236548  0.64589411 0.43758721 0.891773  ]\n",
       " [0.96366276 0.38344152 0.79172504 0.52889492]\n",
       " [0.56804456 0.92559664 0.07103606 0.0871293 ]\n",
       " [0.0202184  0.83261985 0.77815675 0.87001215]]\n",
       "data[1, :, :] = \n",
       "[[0.97861834 0.79915856 0.46147936 0.78052918]\n",
       " [0.11827443 0.63992102 0.14335329 0.94466892]\n",
       " [0.52184832 0.41466194 0.26455561 0.77423369]\n",
       " [0.45615033 0.56843395 0.0187898  0.6176355 ]\n",
       " [0.61209572 0.616934   0.94374808 0.6818203 ]]"
      ]
     },
     "execution_count": 15,
     "metadata": {},
     "output_type": "execute_result"
    }
   ],
   "source": [
    "np.random.seed(0)\n",
    "X = ttb.tenrand((2,5,4))\n",
    "X"
   ]
  },
  {
   "cell_type": "markdown",
   "metadata": {},
   "source": [
    "## Use squeeze to remove singleton dimensions from a tensor"
   ]
  },
  {
   "cell_type": "code",
   "execution_count": 16,
   "metadata": {},
   "outputs": [
    {
     "data": {
      "text/plain": [
       "tensor of shape 2 x 5 x 4\n",
       "data[0, :, :] = \n",
       "[[0.5488135  0.71518937 0.60276338 0.54488318]\n",
       " [0.4236548  0.64589411 0.43758721 0.891773  ]\n",
       " [0.96366276 0.38344152 0.79172504 0.52889492]\n",
       " [0.56804456 0.92559664 0.07103606 0.0871293 ]\n",
       " [0.0202184  0.83261985 0.77815675 0.87001215]]\n",
       "data[1, :, :] = \n",
       "[[0.97861834 0.79915856 0.46147936 0.78052918]\n",
       " [0.11827443 0.63992102 0.14335329 0.94466892]\n",
       " [0.52184832 0.41466194 0.26455561 0.77423369]\n",
       " [0.45615033 0.56843395 0.0187898  0.6176355 ]\n",
       " [0.61209572 0.616934   0.94374808 0.6818203 ]]"
      ]
     },
     "execution_count": 16,
     "metadata": {},
     "output_type": "execute_result"
    }
   ],
   "source": [
    "np.random.seed(0)\n",
    "X = ttb.tenrand((2,5,4)) # Create the data.\n",
    "X.squeeze() # Removes singleton dimensions."
   ]
  },
  {
   "cell_type": "markdown",
   "metadata": {},
   "source": [
    "## Use double to convert a tensor to a (multidimensional) array"
   ]
  },
  {
   "cell_type": "code",
   "execution_count": 17,
   "metadata": {},
   "outputs": [
    {
     "data": {
      "text/plain": [
       "array([[[0.5488135 , 0.71518937, 0.60276338, 0.54488318],\n",
       "        [0.4236548 , 0.64589411, 0.43758721, 0.891773  ],\n",
       "        [0.96366276, 0.38344152, 0.79172504, 0.52889492],\n",
       "        [0.56804456, 0.92559664, 0.07103606, 0.0871293 ],\n",
       "        [0.0202184 , 0.83261985, 0.77815675, 0.87001215]],\n",
       "\n",
       "       [[0.97861834, 0.79915856, 0.46147936, 0.78052918],\n",
       "        [0.11827443, 0.63992102, 0.14335329, 0.94466892],\n",
       "        [0.52184832, 0.41466194, 0.26455561, 0.77423369],\n",
       "        [0.45615033, 0.56843395, 0.0187898 , 0.6176355 ],\n",
       "        [0.61209572, 0.616934  , 0.94374808, 0.6818203 ]]])"
      ]
     },
     "execution_count": 17,
     "metadata": {},
     "output_type": "execute_result"
    }
   ],
   "source": [
    "np.random.seed(0)\n",
    "X = ttb.tenrand((2,5,4)) # Create the data.\n",
    "X.double() # Converts Y to an array of doubles."
   ]
  },
  {
   "cell_type": "code",
   "execution_count": 18,
   "metadata": {},
   "outputs": [
    {
     "data": {
      "text/plain": [
       "array([[[0.5488135 , 0.71518937, 0.60276338, 0.54488318],\n",
       "        [0.4236548 , 0.64589411, 0.43758721, 0.891773  ],\n",
       "        [0.96366276, 0.38344152, 0.79172504, 0.52889492],\n",
       "        [0.56804456, 0.92559664, 0.07103606, 0.0871293 ],\n",
       "        [0.0202184 , 0.83261985, 0.77815675, 0.87001215]],\n",
       "\n",
       "       [[0.97861834, 0.79915856, 0.46147936, 0.78052918],\n",
       "        [0.11827443, 0.63992102, 0.14335329, 0.94466892],\n",
       "        [0.52184832, 0.41466194, 0.26455561, 0.77423369],\n",
       "        [0.45615033, 0.56843395, 0.0187898 , 0.6176355 ],\n",
       "        [0.61209572, 0.616934  , 0.94374808, 0.6818203 ]]])"
      ]
     },
     "execution_count": 18,
     "metadata": {},
     "output_type": "execute_result"
    }
   ],
   "source": [
    "X.data # Same thing."
   ]
  },
  {
   "cell_type": "markdown",
   "metadata": {},
   "source": [
    "## Use ndims and size to get the size of a tensor"
   ]
  },
  {
   "cell_type": "code",
   "execution_count": 19,
   "metadata": {},
   "outputs": [
    {
     "data": {
      "text/plain": [
       "3"
      ]
     },
     "execution_count": 19,
     "metadata": {},
     "output_type": "execute_result"
    }
   ],
   "source": [
    "X.ndims # Number of dimensions (or ways)."
   ]
  },
  {
   "cell_type": "code",
   "execution_count": 20,
   "metadata": {},
   "outputs": [
    {
     "data": {
      "text/plain": [
       "(2, 5, 4)"
      ]
     },
     "execution_count": 20,
     "metadata": {},
     "output_type": "execute_result"
    }
   ],
   "source": [
    "X.shape # Row vector with the sizes of all dimensions."
   ]
  },
  {
   "cell_type": "code",
   "execution_count": 21,
   "metadata": {},
   "outputs": [
    {
     "data": {
      "text/plain": [
       "4"
      ]
     },
     "execution_count": 21,
     "metadata": {},
     "output_type": "execute_result"
    }
   ],
   "source": [
    "X.shape[2] # Size of a single dimension."
   ]
  },
  {
   "cell_type": "markdown",
   "metadata": {},
   "source": [
    "## Subscripted reference for a tensor"
   ]
  },
  {
   "cell_type": "code",
   "execution_count": 22,
   "metadata": {},
   "outputs": [
    {
     "data": {
      "text/plain": [
       "0.5488135039273248"
      ]
     },
     "execution_count": 22,
     "metadata": {},
     "output_type": "execute_result"
    }
   ],
   "source": [
    "np.random.seed(0)\n",
    "X = ttb.tenrand((2,3,4,1)) # Create a 3x4x2x1 random tensor.\n",
    "X[0,0,0,0] # Extract a single element."
   ]
  },
  {
   "cell_type": "markdown",
   "metadata": {},
   "source": [
    "It is possible to extract a subtensor that contains a single element. Observe that singleton dimensions are **not** dropped unless they are specifically specified, e.g., as above."
   ]
  },
  {
   "cell_type": "code",
   "execution_count": 23,
   "metadata": {},
   "outputs": [
    {
     "data": {
      "text/plain": [
       "tensor of shape 1\n",
       "data[:] = \n",
       "[0.5488135]"
      ]
     },
     "execution_count": 23,
     "metadata": {},
     "output_type": "execute_result"
    }
   ],
   "source": [
    "X[0,0,0,:] # Produces a tensor of order 1 and size 1."
   ]
  },
  {
   "cell_type": "code",
   "execution_count": 24,
   "metadata": {},
   "outputs": [
    {
     "data": {
      "text/plain": [
       "tensor of shape 3 x 1\n",
       "data[:, :] = \n",
       "[[0.5488135 ]\n",
       " [0.4236548 ]\n",
       " [0.96366276]]"
      ]
     },
     "execution_count": 24,
     "metadata": {},
     "output_type": "execute_result"
    }
   ],
   "source": [
    "X[0,:,0,:] # Produces a tensor of size 3x1."
   ]
  },
  {
   "cell_type": "markdown",
   "metadata": {},
   "source": [
    "Moreover, the subtensor is automatically renumbered/resized in the same way that MATLAB works for arrays except that singleton dimensions are handled explicitly."
   ]
  },
  {
   "cell_type": "code",
   "execution_count": 25,
   "metadata": {},
   "outputs": [
    {
     "data": {
      "text/plain": [
       "tensor of shape 2 x 2 x 1\n",
       "data[0, :, :] = \n",
       "[[0.71518937]\n",
       " [0.54488318]]\n",
       "data[1, :, :] = \n",
       "[[0.92559664]\n",
       " [0.0871293 ]]"
      ]
     },
     "execution_count": 25,
     "metadata": {},
     "output_type": "execute_result"
    }
   ],
   "source": [
    "X[0:2,0,[1, 3],:] # Produces a tensor of size 2x2x1."
   ]
  },
  {
   "cell_type": "markdown",
   "metadata": {},
   "source": [
    "It's also possible to extract a list of elements by passing in an array of subscripts or a column array of linear indices."
   ]
  },
  {
   "cell_type": "code",
   "execution_count": 26,
   "metadata": {},
   "outputs": [
    {
     "data": {
      "text/plain": [
       "array([[0.5488135 , 0.5488135 , 0.5488135 , 0.5488135 ],\n",
       "       [0.4236548 , 0.0202184 , 0.96366276, 0.5488135 ]])"
      ]
     },
     "execution_count": 26,
     "metadata": {},
     "output_type": "execute_result"
    }
   ],
   "source": [
    "subs = [[0,0,0,0], [2,3,4,0]]; X[subs] # Extract 2 values by subscript."
   ]
  },
  {
   "cell_type": "code",
   "execution_count": 27,
   "metadata": {},
   "outputs": [
    {
     "data": {
      "text/plain": [
       "array([0.5488135 , 0.78052918])"
      ]
     },
     "execution_count": 27,
     "metadata": {},
     "output_type": "execute_result"
    }
   ],
   "source": [
    "inds = [[0], [23]]; X[inds] # Same thing with linear indices."
   ]
  },
  {
   "cell_type": "markdown",
   "metadata": {},
   "source": [
    "The difference between extracting a subtensor and a list of linear indices is ambiguous for 1-dimensional tensors. We can specify 'extract' as a second argument whenever we are using a list of subscripts."
   ]
  },
  {
   "cell_type": "code",
   "execution_count": 28,
   "metadata": {},
   "outputs": [],
   "source": [
    "np.random.seed(0)\n",
    "X = ttb.tenrand((10,)) # Create a random tensor."
   ]
  },
  {
   "cell_type": "code",
   "execution_count": 29,
   "metadata": {},
   "outputs": [
    {
     "data": {
      "text/plain": [
       "array([0.5488135 , 0.71518937, 0.60276338, 0.54488318, 0.4236548 ])"
      ]
     },
     "execution_count": 29,
     "metadata": {},
     "output_type": "execute_result"
    }
   ],
   "source": [
    "X[0:5] # Extract a subtensor."
   ]
  },
  {
   "cell_type": "markdown",
   "metadata": {},
   "source": [
    "### **TODO/WIP** : 'extract' is not behaving as expected yet."
   ]
  },
  {
   "cell_type": "code",
   "execution_count": 30,
   "metadata": {},
   "outputs": [],
   "source": [
    "# X[:6, 'extract']"
   ]
  },
  {
   "cell_type": "markdown",
   "metadata": {},
   "source": [
    "## Subscripted assignment for a tensor"
   ]
  },
  {
   "cell_type": "markdown",
   "metadata": {},
   "source": [
    "We can assign a single element, an entire subtensor, or a list of values for a tensor."
   ]
  },
  {
   "cell_type": "code",
   "execution_count": 31,
   "metadata": {},
   "outputs": [
    {
     "data": {
      "text/plain": [
       "tensor of shape 2 x 3 x 4\n",
       "data[0, :, :] = \n",
       "[[0.         0.71518937 0.60276338 0.54488318]\n",
       " [0.4236548  0.64589411 0.43758721 0.891773  ]\n",
       " [0.96366276 0.38344152 0.79172504 0.52889492]]\n",
       "data[1, :, :] = \n",
       "[[0.56804456 0.92559664 0.07103606 0.0871293 ]\n",
       " [0.0202184  0.83261985 0.77815675 0.87001215]\n",
       " [0.97861834 0.79915856 0.46147936 0.78052918]]"
      ]
     },
     "execution_count": 31,
     "metadata": {},
     "output_type": "execute_result"
    }
   ],
   "source": [
    "np.random.seed(0)\n",
    "X = ttb.tenrand((2,3,4)) # Create some data.\n",
    "X[0,0,0] = 0 # Replaces the [0,0,0] element.\n",
    "X"
   ]
  },
  {
   "cell_type": "code",
   "execution_count": 32,
   "metadata": {},
   "outputs": [
    {
     "data": {
      "text/plain": [
       "tensor of shape 2 x 3 x 4\n",
       "data[0, :, :] = \n",
       "[[1.         1.         0.60276338 0.54488318]\n",
       " [1.         1.         0.43758721 0.891773  ]\n",
       " [0.96366276 0.38344152 0.79172504 0.52889492]]\n",
       "data[1, :, :] = \n",
       "[[0.56804456 0.92559664 0.07103606 0.0871293 ]\n",
       " [0.0202184  0.83261985 0.77815675 0.87001215]\n",
       " [0.97861834 0.79915856 0.46147936 0.78052918]]"
      ]
     },
     "execution_count": 32,
     "metadata": {},
     "output_type": "execute_result"
    }
   ],
   "source": [
    "X[0, 0:2, 0:2] = np.ones((2,2)) # Replaces a subtensor.\n",
    "X"
   ]
  },
  {
   "cell_type": "code",
   "execution_count": 33,
   "metadata": {},
   "outputs": [],
   "source": [
    "X[(0,0,0)], X[1,0,0] = [5,7] # Replaces the (0,0,0) and (1,0,0) elements."
   ]
  },
  {
   "cell_type": "code",
   "execution_count": 34,
   "metadata": {},
   "outputs": [
    {
     "data": {
      "text/plain": [
       "tensor of shape 2 x 3 x 4\n",
       "data[0, :, :] = \n",
       "[[5.         1.         0.60276338 0.54488318]\n",
       " [1.         1.         0.43758721 0.891773  ]\n",
       " [0.96366276 0.38344152 0.79172504 0.52889492]]\n",
       "data[1, :, :] = \n",
       "[[7.         0.92559664 0.07103606 0.0871293 ]\n",
       " [0.0202184  0.83261985 0.77815675 0.87001215]\n",
       " [0.97861834 0.79915856 0.46147936 0.78052918]]"
      ]
     },
     "execution_count": 34,
     "metadata": {},
     "output_type": "execute_result"
    }
   ],
   "source": [
    "X[[0,1]] = [5,7] # Same as above using linear indices.\n",
    "X"
   ]
  },
  {
   "cell_type": "markdown",
   "metadata": {},
   "source": [
    "It is possible to **grow** the tensor automatically by assigning elements outside the original range of the tensor."
   ]
  },
  {
   "cell_type": "code",
   "execution_count": 35,
   "metadata": {},
   "outputs": [
    {
     "data": {
      "text/plain": [
       "tensor of shape 3 x 3 x 4\n",
       "data[0, :, :] = \n",
       "[[5.         1.         0.60276338 0.54488318]\n",
       " [1.         1.         0.43758721 0.891773  ]\n",
       " [0.96366276 0.38344152 0.79172504 0.52889492]]\n",
       "data[1, :, :] = \n",
       "[[7.         0.92559664 0.07103606 0.0871293 ]\n",
       " [0.0202184  0.83261985 0.77815675 0.87001215]\n",
       " [0.97861834 0.79915856 0.46147936 0.78052918]]\n",
       "data[2, :, :] = \n",
       "[[0. 0. 0. 0.]\n",
       " [0. 1. 0. 0.]\n",
       " [0. 0. 0. 0.]]"
      ]
     },
     "execution_count": 35,
     "metadata": {},
     "output_type": "execute_result"
    }
   ],
   "source": [
    "X[2,1,1] = 1 # Grows the size of the tensor.\n",
    "X"
   ]
  },
  {
   "cell_type": "markdown",
   "metadata": {},
   "source": [
    "## Using end for the last array index"
   ]
  },
  {
   "cell_type": "markdown",
   "metadata": {},
   "source": [
    "### TODO/WIP: end() is not working as expected."
   ]
  },
  {
   "cell_type": "code",
   "execution_count": 36,
   "metadata": {},
   "outputs": [
    {
     "data": {
      "text/plain": [
       "23"
      ]
     },
     "execution_count": 36,
     "metadata": {},
     "output_type": "execute_result"
    }
   ],
   "source": [
    "np.random.seed(0)\n",
    "X = ttb.tenrand((2,3,4)) # Create some data.\n",
    "X.end() # Same as np.prod(X.shape)-1, i.e. 3*3*4-1"
   ]
  },
  {
   "cell_type": "code",
   "execution_count": 37,
   "metadata": {},
   "outputs": [
    {
     "data": {
      "text/plain": [
       "99.0"
      ]
     },
     "execution_count": 37,
     "metadata": {},
     "output_type": "execute_result"
    }
   ],
   "source": [
    "X[2,2,3] = 99 # Inserting 99 into last element\n",
    "X[X.end()] # Same as X[2,2,3]"
   ]
  },
  {
   "cell_type": "code",
   "execution_count": 38,
   "metadata": {},
   "outputs": [
    {
     "data": {
      "text/plain": [
       "array([0.5488135 , 0.56804456, 0.        , 0.4236548 , 0.0202184 ,\n",
       "       0.        , 0.96366276, 0.97861834, 0.        , 0.71518937,\n",
       "       0.92559664, 0.        , 0.64589411, 0.83261985, 0.        ,\n",
       "       0.38344152, 0.79915856, 0.        , 0.60276338, 0.07103606,\n",
       "       0.        , 0.43758721, 0.77815675, 0.        , 0.79172504,\n",
       "       0.46147936, 0.        , 0.54488318, 0.0871293 , 0.        ,\n",
       "       0.891773  , 0.87001215, 0.        , 0.52889492, 0.78052918])"
      ]
     },
     "execution_count": 38,
     "metadata": {},
     "output_type": "execute_result"
    }
   ],
   "source": [
    "X[0:X.end()]"
   ]
  },
  {
   "cell_type": "markdown",
   "metadata": {},
   "source": [
    "## Use find for subscripts of nonzero elements of a tensor"
   ]
  },
  {
   "cell_type": "code",
   "execution_count": 39,
   "metadata": {},
   "outputs": [
    {
     "data": {
      "text/plain": [
       "tensor of shape 2 x 2 x 2\n",
       "data[0, :, :] = \n",
       "[[1.64644051 2.1455681 ]\n",
       " [1.80829013 1.63464955]]\n",
       "data[1, :, :] = \n",
       "[[1.2709644  1.93768234]\n",
       " [1.31276163 2.675319  ]]"
      ]
     },
     "execution_count": 39,
     "metadata": {},
     "output_type": "execute_result"
    }
   ],
   "source": [
    "np.random.seed(0)\n",
    "X = ttb.tensor.from_data(3*np.random.rand(2,2,2)) # Generate some data.\n",
    "X"
   ]
  },
  {
   "cell_type": "code",
   "execution_count": 40,
   "metadata": {},
   "outputs": [],
   "source": [
    "S, V = X.find() # Find all the nonzero subscripts and values."
   ]
  },
  {
   "cell_type": "code",
   "execution_count": 41,
   "metadata": {},
   "outputs": [
    {
     "data": {
      "text/plain": [
       "array([[0, 0, 0],\n",
       "       [1, 0, 0],\n",
       "       [0, 1, 0],\n",
       "       [1, 1, 0],\n",
       "       [0, 0, 1],\n",
       "       [1, 0, 1],\n",
       "       [0, 1, 1],\n",
       "       [1, 1, 1]])"
      ]
     },
     "execution_count": 41,
     "metadata": {},
     "output_type": "execute_result"
    }
   ],
   "source": [
    "S # Nonzero subscripts"
   ]
  },
  {
   "cell_type": "code",
   "execution_count": 42,
   "metadata": {},
   "outputs": [
    {
     "data": {
      "text/plain": [
       "array([[1.64644051],\n",
       "       [1.2709644 ],\n",
       "       [1.80829013],\n",
       "       [1.31276163],\n",
       "       [2.1455681 ],\n",
       "       [1.93768234],\n",
       "       [1.63464955],\n",
       "       [2.675319  ]])"
      ]
     },
     "execution_count": 42,
     "metadata": {},
     "output_type": "execute_result"
    }
   ],
   "source": [
    "V # Values"
   ]
  },
  {
   "cell_type": "code",
   "execution_count": 43,
   "metadata": {},
   "outputs": [
    {
     "data": {
      "text/plain": [
       "(array([[0, 0, 1],\n",
       "        [1, 1, 1]]),\n",
       " array([[ True],\n",
       "        [ True]]))"
      ]
     },
     "execution_count": 43,
     "metadata": {},
     "output_type": "execute_result"
    }
   ],
   "source": [
    "larger_entries = (X >= 2)\n",
    "S = larger_entries.find() # Find subscripts of values >= 2.\n",
    "S"
   ]
  },
  {
   "cell_type": "markdown",
   "metadata": {},
   "source": [
    "### **TODO:** Clarify the extraction functionality"
   ]
  },
  {
   "cell_type": "code",
   "execution_count": 44,
   "metadata": {},
   "outputs": [],
   "source": [
    "# V = X[S]"
   ]
  },
  {
   "cell_type": "markdown",
   "metadata": {},
   "source": [
    "## Computing the Frobenius norm of a tensor"
   ]
  },
  {
   "cell_type": "markdown",
   "metadata": {},
   "source": [
    "`norm` computes the Frobenius norm of a tensor. This corresponds to the Euclidean norm of the vectorized tensor."
   ]
  },
  {
   "cell_type": "code",
   "execution_count": 45,
   "metadata": {},
   "outputs": [
    {
     "data": {
      "text/plain": [
       "4.242640687119285"
      ]
     },
     "execution_count": 45,
     "metadata": {},
     "output_type": "execute_result"
    }
   ],
   "source": [
    "np.random.seed(0)\n",
    "X = ttb.tensor.from_data(np.ones((3,2,3)))\n",
    "X.norm()"
   ]
  },
  {
   "cell_type": "markdown",
   "metadata": {},
   "source": [
    "## Using reshape to rearrange elements in a tensor"
   ]
  },
  {
   "cell_type": "markdown",
   "metadata": {},
   "source": [
    "**reshape** reshapes a tensor into a given size array. The total number of elements in the tensor cannot change."
   ]
  },
  {
   "cell_type": "code",
   "execution_count": 46,
   "metadata": {},
   "outputs": [
    {
     "data": {
      "text/plain": [
       "tensor of shape 6 x 30\n",
       "data[:, :] = \n",
       "[[0.5488135  0.79172504 0.97861834 0.71518937 0.52889492 0.79915856\n",
       "  0.60276338 0.56804456 0.46147936 0.54488318 0.92559664 0.78052918\n",
       "  0.4236548  0.07103606 0.11827443 0.64589411 0.0871293  0.63992102\n",
       "  0.43758721 0.0202184  0.14335329 0.891773   0.83261985 0.94466892\n",
       "  0.96366276 0.77815675 0.52184832 0.38344152 0.87001215 0.41466194]\n",
       " [0.15896958 0.97645947 0.31798318 0.11037514 0.4686512  0.41426299\n",
       "  0.65632959 0.97676109 0.0641475  0.13818295 0.60484552 0.69247212\n",
       "  0.19658236 0.73926358 0.56660145 0.36872517 0.03918779 0.26538949\n",
       "  0.82099323 0.28280696 0.52324805 0.09710128 0.12019656 0.09394051\n",
       "  0.83794491 0.2961402  0.5759465  0.09609841 0.11872772 0.9292962 ]\n",
       " [0.72525428 0.61801543 0.8965466  0.50132438 0.4287687  0.36756187\n",
       "  0.95608363 0.13547406 0.43586493 0.6439902  0.29828233 0.89192336\n",
       "  0.42385505 0.56996491 0.80619399 0.60639321 0.59087276 0.70388858\n",
       "  0.0191932  0.57432525 0.10022689 0.30157482 0.65320082 0.91948261\n",
       "  0.66017354 0.65210327 0.7142413  0.29007761 0.43141844 0.99884701]\n",
       " [0.26455561 0.3595079  0.57019677 0.77423369 0.43703195 0.43860151\n",
       "  0.45615033 0.6976312  0.98837384 0.56843395 0.06022547 0.10204481\n",
       "  0.0187898  0.66676672 0.20887676 0.6176355  0.67063787 0.16130952\n",
       "  0.61209572 0.21038256 0.65310833 0.616934   0.1289263  0.2532916\n",
       "  0.94374808 0.31542835 0.46631077 0.6818203  0.36371077 0.24442559]\n",
       " [0.31856895 0.67781654 0.44712538 0.66741038 0.27000797 0.84640867\n",
       "  0.13179786 0.73519402 0.69947928 0.7163272  0.96218855 0.29743695\n",
       "  0.28940609 0.24875314 0.81379782 0.18319136 0.57615733 0.39650574\n",
       "  0.58651293 0.59204193 0.8811032  0.02010755 0.57225191 0.58127287\n",
       "  0.82894003 0.22308163 0.88173536 0.00469548 0.95274901 0.69253159]\n",
       " [0.1494483  0.69742877 0.52103661 0.86812606 0.45354268 0.05433799\n",
       "  0.16249293 0.7220556  0.19999652 0.61555956 0.86638233 0.01852179\n",
       "  0.12381998 0.97552151 0.7936977  0.84800823 0.85580334 0.22392469\n",
       "  0.80731896 0.01171408 0.34535168 0.56910074 0.35997806 0.92808129\n",
       "  0.4071833  0.72999056 0.7044144  0.069167   0.17162968 0.03183893]]"
      ]
     },
     "execution_count": 46,
     "metadata": {},
     "output_type": "execute_result"
    }
   ],
   "source": [
    "np.random.seed(0)\n",
    "X = ttb.tensor.from_data(np.random.rand(3,2,3,10))\n",
    "X.reshape((6,30))"
   ]
  },
  {
   "cell_type": "markdown",
   "metadata": {},
   "source": [
    "## Basic operations (plus, minus, and, or, etc.) on a tensor"
   ]
  },
  {
   "cell_type": "markdown",
   "metadata": {},
   "source": [
    "Tensors support plus, minus, times, divide, power, equals, and not-equals operators.  Tensors can use their operators with another tensor or a scalar (with the exception of equalities which only takes tensors). All mathematical operators are elementwise operations."
   ]
  },
  {
   "cell_type": "code",
   "execution_count": 47,
   "metadata": {},
   "outputs": [],
   "source": [
    "np.random.seed(0)\n",
    "A = ttb.tensor.from_data(np.floor(3 * np.random.rand(2,2,3))) # Generate some data.\n",
    "B = ttb.tensor.from_data(np.floor(3 * np.random.rand(2,2,3)))"
   ]
  },
  {
   "cell_type": "code",
   "execution_count": 48,
   "metadata": {},
   "outputs": [
    {
     "data": {
      "text/plain": [
       "tensor of shape 2 x 2 x 3\n",
       "data[0, :, :] = \n",
       "[[ True  True False]\n",
       " [False False  True]]\n",
       "data[1, :, :] = \n",
       "[[ True  True  True]\n",
       " [ True  True  True]]"
      ]
     },
     "execution_count": 48,
     "metadata": {},
     "output_type": "execute_result"
    }
   ],
   "source": [
    "A.logical_and(B) # Calls and."
   ]
  },
  {
   "cell_type": "code",
   "execution_count": 49,
   "metadata": {},
   "outputs": [
    {
     "data": {
      "text/plain": [
       "tensor of shape 2 x 2 x 3\n",
       "data[0, :, :] = \n",
       "[[ True  True  True]\n",
       " [ True  True  True]]\n",
       "data[1, :, :] = \n",
       "[[ True  True  True]\n",
       " [ True  True  True]]"
      ]
     },
     "execution_count": 49,
     "metadata": {},
     "output_type": "execute_result"
    }
   ],
   "source": [
    "A.logical_or(B)"
   ]
  },
  {
   "cell_type": "code",
   "execution_count": 50,
   "metadata": {},
   "outputs": [
    {
     "data": {
      "text/plain": [
       "tensor of shape 2 x 2 x 3\n",
       "data[0, :, :] = \n",
       "[[False False  True]\n",
       " [ True  True False]]\n",
       "data[1, :, :] = \n",
       "[[False False False]\n",
       " [False False False]]"
      ]
     },
     "execution_count": 50,
     "metadata": {},
     "output_type": "execute_result"
    }
   ],
   "source": [
    "A.logical_xor(B)"
   ]
  },
  {
   "cell_type": "code",
   "execution_count": 51,
   "metadata": {},
   "outputs": [
    {
     "data": {
      "text/plain": [
       "tensor of shape 2 x 2 x 3\n",
       "data[0, :, :] = \n",
       "[[ True  True False]\n",
       " [False False False]]\n",
       "data[1, :, :] = \n",
       "[[False  True  True]\n",
       " [False False False]]"
      ]
     },
     "execution_count": 51,
     "metadata": {},
     "output_type": "execute_result"
    }
   ],
   "source": [
    "A == B # Calls eq."
   ]
  },
  {
   "cell_type": "code",
   "execution_count": 52,
   "metadata": {},
   "outputs": [
    {
     "data": {
      "text/plain": [
       "tensor of shape 2 x 2 x 3\n",
       "data[0, :, :] = \n",
       "[[False False  True]\n",
       " [ True  True  True]]\n",
       "data[1, :, :] = \n",
       "[[ True False False]\n",
       " [ True  True  True]]"
      ]
     },
     "execution_count": 52,
     "metadata": {},
     "output_type": "execute_result"
    }
   ],
   "source": [
    "A != B # Calls neq."
   ]
  },
  {
   "cell_type": "code",
   "execution_count": 53,
   "metadata": {},
   "outputs": [
    {
     "data": {
      "text/plain": [
       "tensor of shape 2 x 2 x 3\n",
       "data[0, :, :] = \n",
       "[[False False  True]\n",
       " [ True  True False]]\n",
       "data[1, :, :] = \n",
       "[[False False False]\n",
       " [False  True False]]"
      ]
     },
     "execution_count": 53,
     "metadata": {},
     "output_type": "execute_result"
    }
   ],
   "source": [
    "A > B # Calls gt."
   ]
  },
  {
   "cell_type": "code",
   "execution_count": 54,
   "metadata": {},
   "outputs": [
    {
     "data": {
      "text/plain": [
       "tensor of shape 2 x 2 x 3\n",
       "data[0, :, :] = \n",
       "[[ True  True  True]\n",
       " [ True  True False]]\n",
       "data[1, :, :] = \n",
       "[[False  True  True]\n",
       " [False  True False]]"
      ]
     },
     "execution_count": 54,
     "metadata": {},
     "output_type": "execute_result"
    }
   ],
   "source": [
    "A >= B # Calls ge."
   ]
  },
  {
   "cell_type": "code",
   "execution_count": 55,
   "metadata": {},
   "outputs": [
    {
     "data": {
      "text/plain": [
       "tensor of shape 2 x 2 x 3\n",
       "data[0, :, :] = \n",
       "[[False False False]\n",
       " [False False  True]]\n",
       "data[1, :, :] = \n",
       "[[ True False False]\n",
       " [ True False  True]]"
      ]
     },
     "execution_count": 55,
     "metadata": {},
     "output_type": "execute_result"
    }
   ],
   "source": [
    "A < B # Calls lt."
   ]
  },
  {
   "cell_type": "code",
   "execution_count": 56,
   "metadata": {},
   "outputs": [
    {
     "data": {
      "text/plain": [
       "tensor of shape 2 x 2 x 3\n",
       "data[0, :, :] = \n",
       "[[ True  True False]\n",
       " [False False  True]]\n",
       "data[1, :, :] = \n",
       "[[ True  True  True]\n",
       " [ True False  True]]"
      ]
     },
     "execution_count": 56,
     "metadata": {},
     "output_type": "execute_result"
    }
   ],
   "source": [
    "A <= B # Calls le."
   ]
  },
  {
   "cell_type": "code",
   "execution_count": 57,
   "metadata": {},
   "outputs": [
    {
     "data": {
      "text/plain": [
       "tensor of shape 2 x 2 x 3\n",
       "data[0, :, :] = \n",
       "[[False False False]\n",
       " [False False False]]\n",
       "data[1, :, :] = \n",
       "[[False False False]\n",
       " [False False False]]"
      ]
     },
     "execution_count": 57,
     "metadata": {},
     "output_type": "execute_result"
    }
   ],
   "source": [
    "A.logical_not() # Calls not."
   ]
  },
  {
   "cell_type": "code",
   "execution_count": 58,
   "metadata": {},
   "outputs": [
    {
     "data": {
      "text/plain": [
       "tensor of shape 2 x 2 x 3\n",
       "data[0, :, :] = \n",
       "[[1. 2. 1.]\n",
       " [1. 1. 1.]]\n",
       "data[1, :, :] = \n",
       "[[1. 2. 2.]\n",
       " [1. 2. 1.]]"
      ]
     },
     "execution_count": 58,
     "metadata": {},
     "output_type": "execute_result"
    }
   ],
   "source": [
    "+A # Calls uplus."
   ]
  },
  {
   "cell_type": "code",
   "execution_count": 59,
   "metadata": {},
   "outputs": [
    {
     "data": {
      "text/plain": [
       "tensor of shape 2 x 2 x 3\n",
       "data[0, :, :] = \n",
       "[[-1. -2. -1.]\n",
       " [-1. -1. -1.]]\n",
       "data[1, :, :] = \n",
       "[[-1. -2. -2.]\n",
       " [-1. -2. -1.]]"
      ]
     },
     "execution_count": 59,
     "metadata": {},
     "output_type": "execute_result"
    }
   ],
   "source": [
    "-A # Calls uminus."
   ]
  },
  {
   "cell_type": "code",
   "execution_count": 60,
   "metadata": {},
   "outputs": [
    {
     "data": {
      "text/plain": [
       "tensor of shape 2 x 2 x 3\n",
       "data[0, :, :] = \n",
       "[[2. 4. 1.]\n",
       " [1. 1. 3.]]\n",
       "data[1, :, :] = \n",
       "[[3. 4. 4.]\n",
       " [3. 3. 3.]]"
      ]
     },
     "execution_count": 60,
     "metadata": {},
     "output_type": "execute_result"
    }
   ],
   "source": [
    "A + B # Calls plus."
   ]
  },
  {
   "cell_type": "code",
   "execution_count": 61,
   "metadata": {},
   "outputs": [
    {
     "data": {
      "text/plain": [
       "tensor of shape 2 x 2 x 3\n",
       "data[0, :, :] = \n",
       "[[ 0.  0.  1.]\n",
       " [ 1.  1. -1.]]\n",
       "data[1, :, :] = \n",
       "[[-1.  0.  0.]\n",
       " [-1.  1. -1.]]"
      ]
     },
     "execution_count": 61,
     "metadata": {},
     "output_type": "execute_result"
    }
   ],
   "source": [
    "A - B # Calls minus."
   ]
  },
  {
   "cell_type": "code",
   "execution_count": 62,
   "metadata": {},
   "outputs": [
    {
     "data": {
      "text/plain": [
       "tensor of shape 2 x 2 x 3\n",
       "data[0, :, :] = \n",
       "[[1. 4. 0.]\n",
       " [0. 0. 2.]]\n",
       "data[1, :, :] = \n",
       "[[2. 4. 4.]\n",
       " [2. 2. 2.]]"
      ]
     },
     "execution_count": 62,
     "metadata": {},
     "output_type": "execute_result"
    }
   ],
   "source": [
    "A * B # Calls times."
   ]
  },
  {
   "cell_type": "code",
   "execution_count": 63,
   "metadata": {},
   "outputs": [
    {
     "data": {
      "text/plain": [
       "tensor of shape 2 x 2 x 3\n",
       "data[0, :, :] = \n",
       "[[ 5. 10.  5.]\n",
       " [ 5.  5.  5.]]\n",
       "data[1, :, :] = \n",
       "[[ 5. 10. 10.]\n",
       " [ 5. 10.  5.]]"
      ]
     },
     "execution_count": 63,
     "metadata": {},
     "output_type": "execute_result"
    }
   ],
   "source": [
    "5 * A # Calls mtimes."
   ]
  },
  {
   "cell_type": "code",
   "execution_count": 64,
   "metadata": {},
   "outputs": [
    {
     "data": {
      "text/plain": [
       "tensor of shape 2 x 2 x 3\n",
       "data[0, :, :] = \n",
       "[[1. 4. 1.]\n",
       " [1. 1. 1.]]\n",
       "data[1, :, :] = \n",
       "[[1. 4. 4.]\n",
       " [1. 2. 1.]]"
      ]
     },
     "execution_count": 64,
     "metadata": {},
     "output_type": "execute_result"
    }
   ],
   "source": [
    "A ** B # Calls power."
   ]
  },
  {
   "cell_type": "code",
   "execution_count": 65,
   "metadata": {},
   "outputs": [
    {
     "data": {
      "text/plain": [
       "tensor of shape 2 x 2 x 3\n",
       "data[0, :, :] = \n",
       "[[1. 4. 1.]\n",
       " [1. 1. 1.]]\n",
       "data[1, :, :] = \n",
       "[[1. 4. 4.]\n",
       " [1. 4. 1.]]"
      ]
     },
     "execution_count": 65,
     "metadata": {},
     "output_type": "execute_result"
    }
   ],
   "source": [
    "A ** 2 # Calls power."
   ]
  },
  {
   "cell_type": "code",
   "execution_count": 66,
   "metadata": {},
   "outputs": [
    {
     "data": {
      "text/plain": [
       "tensor of shape 2 x 2 x 3\n",
       "data[0, :, :] = \n",
       "[[1.  1.  inf]\n",
       " [inf inf 0.5]]\n",
       "data[1, :, :] = \n",
       "[[0.5 1.  1. ]\n",
       " [0.5 2.  0.5]]"
      ]
     },
     "execution_count": 66,
     "metadata": {},
     "output_type": "execute_result"
    }
   ],
   "source": [
    "A / B # Calls ldivide."
   ]
  },
  {
   "cell_type": "code",
   "execution_count": 67,
   "metadata": {},
   "outputs": [
    {
     "data": {
      "text/plain": [
       "tensor of shape 2 x 2 x 3\n",
       "data[0, :, :] = \n",
       "[[2. 1. 2.]\n",
       " [2. 2. 2.]]\n",
       "data[1, :, :] = \n",
       "[[2. 1. 1.]\n",
       " [2. 1. 2.]]"
      ]
     },
     "execution_count": 67,
     "metadata": {},
     "output_type": "execute_result"
    }
   ],
   "source": [
    "A.__rtruediv__(2) # Calls rdivide."
   ]
  },
  {
   "cell_type": "code",
   "execution_count": 68,
   "metadata": {},
   "outputs": [
    {
     "data": {
      "text/plain": [
       "tensor of shape 2 x 2 x 3\n",
       "data[0, :, :] = \n",
       "[[1.  1.  inf]\n",
       " [inf inf 0.5]]\n",
       "data[1, :, :] = \n",
       "[[0.5 1.  1. ]\n",
       " [0.5 2.  0.5]]"
      ]
     },
     "execution_count": 68,
     "metadata": {},
     "output_type": "execute_result"
    }
   ],
   "source": [
    "A / B "
   ]
  },
  {
   "cell_type": "markdown",
   "metadata": {},
   "source": [
    "## Using tenfun for elementwise operations on one or more tensors"
   ]
  },
  {
   "cell_type": "markdown",
   "metadata": {},
   "source": [
    "The function **tenfun** applies a specified function to a number of tensors. This can be used for any function that is not predefined for tensors."
   ]
  },
  {
   "cell_type": "code",
   "execution_count": 69,
   "metadata": {},
   "outputs": [
    {
     "data": {
      "text/plain": [
       "tensor of shape 2 x 2 x 3\n",
       "data[0, :, :] = \n",
       "[[2. 3. 2.]\n",
       " [2. 2. 2.]]\n",
       "data[1, :, :] = \n",
       "[[2. 3. 3.]\n",
       " [2. 3. 2.]]"
      ]
     },
     "execution_count": 69,
     "metadata": {},
     "output_type": "execute_result"
    }
   ],
   "source": [
    "np.random.seed(0)\n",
    "A = ttb.tensor.from_data(np.floor(3 * np.random.rand(2,2,3))) # Generate some data.\n",
    "ttb.tt_tenfun(lambda x : x + 1, A) # Increment every element of A by one."
   ]
  },
  {
   "cell_type": "code",
   "execution_count": 70,
   "metadata": {},
   "outputs": [
    {
     "data": {
      "text/plain": [
       "tensor of shape 2 x 2 x 3\n",
       "data[0, :, :] = \n",
       "[[1. 2. 1.]\n",
       " [1. 1. 2.]]\n",
       "data[1, :, :] = \n",
       "[[2. 2. 2.]\n",
       " [2. 2. 2.]]"
      ]
     },
     "execution_count": 70,
     "metadata": {},
     "output_type": "execute_result"
    }
   ],
   "source": [
    "# Wrap np.maximum in a function with a function signature that Python's inspect.signature can handle.\n",
    "def max_elements(a, b):\n",
    "    return np.maximum(a, b)\n",
    "\n",
    "ttb.tt_tenfun(max_elements, A, B) # Max of A and B, elementwise."
   ]
  },
  {
   "cell_type": "code",
   "execution_count": 71,
   "metadata": {},
   "outputs": [
    {
     "data": {
      "text/plain": [
       "tensor of shape 2 x 2 x 3\n",
       "data[0, :, :] = \n",
       "[[1. 2. 1.]\n",
       " [1. 1. 2.]]\n",
       "data[1, :, :] = \n",
       "[[1. 2. 2.]\n",
       " [1. 2. 1.]]"
      ]
     },
     "execution_count": 71,
     "metadata": {},
     "output_type": "execute_result"
    }
   ],
   "source": [
    "np.random.seed(0)\n",
    "C = ttb.tensor.from_data(np.floor(5 * np.random.rand(2,2,3))) # Create another tensor.\n",
    "def elementwise_mean(X):\n",
    "    # finding mean for the columns\n",
    "    return np.floor(np.mean(X, axis = 0))\n",
    "\n",
    "ttb.tt_tenfun(elementwise_mean, A, B, C) # Elementwise means for A, B, and C."
   ]
  },
  {
   "cell_type": "markdown",
   "metadata": {},
   "source": [
    "## Use permute to reorder the modes of a tensor"
   ]
  },
  {
   "cell_type": "code",
   "execution_count": 72,
   "metadata": {},
   "outputs": [
    {
     "name": "stdout",
     "output_type": "stream",
     "text": [
      "X is a tensor of shape 2 x 3 x 4\n",
      "data[0, :, :] = \n",
      "[[ 1  7 13 19]\n",
      " [ 3  9 15 21]\n",
      " [ 5 11 17 23]]\n",
      "data[1, :, :] = \n",
      "[[ 2  8 14 20]\n",
      " [ 4 10 16 22]\n",
      " [ 6 12 18 24]]\n",
      "\n"
     ]
    }
   ],
   "source": [
    "X = ttb.tensor.from_data(np.arange(1,25), shape=(2,3,4))\n",
    "print(f\"X is a {X}\")"
   ]
  },
  {
   "cell_type": "code",
   "execution_count": 73,
   "metadata": {},
   "outputs": [
    {
     "data": {
      "text/plain": [
       "tensor of shape 4 x 3 x 2\n",
       "data[0, :, :] = \n",
       "[[1 2]\n",
       " [3 4]\n",
       " [5 6]]\n",
       "data[1, :, :] = \n",
       "[[ 7  8]\n",
       " [ 9 10]\n",
       " [11 12]]\n",
       "data[2, :, :] = \n",
       "[[13 14]\n",
       " [15 16]\n",
       " [17 18]]\n",
       "data[3, :, :] = \n",
       "[[19 20]\n",
       " [21 22]\n",
       " [23 24]]"
      ]
     },
     "execution_count": 73,
     "metadata": {},
     "output_type": "execute_result"
    }
   ],
   "source": [
    "X.permute(np.array((2,1,0))) # Reverse the modes."
   ]
  },
  {
   "cell_type": "markdown",
   "metadata": {},
   "source": [
    "Permuting a 1-dimensional tensor works correctly."
   ]
  },
  {
   "cell_type": "code",
   "execution_count": 74,
   "metadata": {},
   "outputs": [
    {
     "data": {
      "text/plain": [
       "tensor of shape 4\n",
       "data[:] = \n",
       "[1 2 3 4]"
      ]
     },
     "execution_count": 74,
     "metadata": {},
     "output_type": "execute_result"
    }
   ],
   "source": [
    "X = ttb.tensor.from_data(np.arange(1,5), (4,))\n",
    "X.permute(np.array(1,))"
   ]
  },
  {
   "cell_type": "markdown",
   "metadata": {},
   "source": [
    "## Symmetrizing and checking for symmetry in a tensor"
   ]
  },
  {
   "cell_type": "markdown",
   "metadata": {},
   "source": [
    "A tensor can be symmetrized in a collection of modes with the command **symmetrize**. The new, symmetric tensor is formed by averaging over all elements in the tensor which are required to be equal."
   ]
  },
  {
   "cell_type": "code",
   "execution_count": 75,
   "metadata": {},
   "outputs": [],
   "source": [
    "np.random.rand(0)\n",
    "X = ttb.tensor.from_data(np.arange(1,5), (4,)) # Create some data\n",
    "W = ttb.tensor.from_data(np.random.rand(4,4,4))\n",
    "Y = X.symmetrize()"
   ]
  },
  {
   "cell_type": "markdown",
   "metadata": {},
   "source": [
    "A second argument can also be passed to **symmetrize** which specifies an array of modes with respect to which the tensor should be symmetrized."
   ]
  },
  {
   "cell_type": "code",
   "execution_count": 76,
   "metadata": {},
   "outputs": [],
   "source": [
    "np.random.seed(0)\n",
    "X = ttb.tensor.from_data(np.random.rand(3,3,2))\n",
    "Z = X.symmetrize(np.array((0,1)))"
   ]
  },
  {
   "cell_type": "markdown",
   "metadata": {},
   "source": [
    "Additionally, one can check for symmetry in tensors with the **issymmetric** function. Similar to **symmetrize**, a collection of modes can be passed as a second argument."
   ]
  },
  {
   "cell_type": "code",
   "execution_count": 77,
   "metadata": {},
   "outputs": [
    {
     "data": {
      "text/plain": [
       "True"
      ]
     },
     "execution_count": 77,
     "metadata": {},
     "output_type": "execute_result"
    }
   ],
   "source": [
    "Y.issymmetric()"
   ]
  },
  {
   "cell_type": "code",
   "execution_count": 78,
   "metadata": {},
   "outputs": [
    {
     "data": {
      "text/plain": [
       "False"
      ]
     },
     "execution_count": 78,
     "metadata": {},
     "output_type": "execute_result"
    }
   ],
   "source": [
    "Z.issymmetric(np.array((1,2)))"
   ]
  },
  {
   "cell_type": "markdown",
   "metadata": {},
   "source": [
    "## Displaying a tensor"
   ]
  },
  {
   "cell_type": "code",
   "execution_count": 79,
   "metadata": {},
   "outputs": [
    {
     "name": "stdout",
     "output_type": "stream",
     "text": [
      "tensor of shape 3 x 3 x 2\n",
      "data[0, :, :] = \n",
      "[[0.5488135  0.71518937]\n",
      " [0.60276338 0.54488318]\n",
      " [0.4236548  0.64589411]]\n",
      "data[1, :, :] = \n",
      "[[0.43758721 0.891773  ]\n",
      " [0.96366276 0.38344152]\n",
      " [0.79172504 0.52889492]]\n",
      "data[2, :, :] = \n",
      "[[0.56804456 0.92559664]\n",
      " [0.07103606 0.0871293 ]\n",
      " [0.0202184  0.83261985]]\n",
      "\n"
     ]
    }
   ],
   "source": [
    "print(X)"
   ]
  },
  {
   "cell_type": "code",
   "execution_count": 80,
   "metadata": {},
   "outputs": [
    {
     "data": {
      "text/plain": [
       "tensor of shape 3 x 3 x 2\n",
       "data[0, :, :] = \n",
       "[[0.5488135  0.71518937]\n",
       " [0.60276338 0.54488318]\n",
       " [0.4236548  0.64589411]]\n",
       "data[1, :, :] = \n",
       "[[0.43758721 0.891773  ]\n",
       " [0.96366276 0.38344152]\n",
       " [0.79172504 0.52889492]]\n",
       "data[2, :, :] = \n",
       "[[0.56804456 0.92559664]\n",
       " [0.07103606 0.0871293 ]\n",
       " [0.0202184  0.83261985]]"
      ]
     },
     "execution_count": 80,
     "metadata": {},
     "output_type": "execute_result"
    }
   ],
   "source": [
    "X #In the python interface"
   ]
  }
 ],
 "metadata": {
  "kernelspec": {
   "display_name": "Python 3 (ipykernel)",
   "language": "python",
   "name": "python3"
  },
  "language_info": {
   "codemirror_mode": {
    "name": "ipython",
    "version": 3
   },
   "file_extension": ".py",
   "mimetype": "text/x-python",
   "name": "python",
   "nbconvert_exporter": "python",
   "pygments_lexer": "ipython3",
   "version": "3.11.3"
  }
 },
 "nbformat": 4,
 "nbformat_minor": 1
}
