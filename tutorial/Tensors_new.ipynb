{
 "cells": [
  {
   "cell_type": "markdown",
   "metadata": {},
   "source": [
    "# Tensors\n",
    "\n",
    "```\n",
    "Copyright 2022 National Technology & Engineering Solutions of Sandia,\n",
    "LLC (NTESS). Under the terms of Contract DE-NA0003525 with NTESS, the\n",
    "U.S. Government retains certain rights in this software.\n",
    "```"
   ]
  },
  {
   "cell_type": "markdown",
   "metadata": {},
   "source": [
    "Tensors are extensions of multidimensial arrays with additional operations defined on them.  Here we explain the basics for creating and working with tensors."
   ]
  },
  {
   "cell_type": "markdown",
   "metadata": {},
   "source": [
    "## Contents"
   ]
  },
  {
   "cell_type": "markdown",
   "metadata": {},
   "source": [
    "* [Creating a tensor from an array](#Creating-a-tensor-from-an-array)\n",
    "* [Creating a one-dimensional tensor](#Creating-a-one-dimensional-tensor)\n",
    "* [Specifying trailing singleton dimensions in a tensor](#Specifying-trailing-singleton-dimensions-in-a-tensor)\n",
    "* [The constituent parts of a tensor](#The-constitutent-parts-of-a-tensor)\n",
    "* [Creating a tensor from its constituent parts](#Creating-a-tensor-from-its-constituent-parts)\n",
    "* [Creating an empty tensor](#Creating-an-empty-tensor)\n",
    "* [Use tenones to create a tensor of all ones](#Use-tenones-to-create-a-tensor-of-all-ones)\n",
    "* [Use tenzeros to create a tensor of all zeros](#Use-tenzeros-to-create-a-tensor-of-all-zeros)\n",
    "* [Use tenrand to create a random tensor](#Use-tenrand-to-create-a-random-tensor)\n",
    "* [Use squeeze to remove singleton dimensions from a tensor](#Use-squeeze-to-remove-singleton-dimensions-from-a-tensor)\n",
    "* [Use double to convert a tensor to a (multidimensional) array](#Use-double-to-convert-a-tensor-to-a-(multidimensional)-array)\n",
    "* [Use ndims and size to get the size of a tensor](#Use-ndims-and-size-to-get-the-size-of-a-tensor)\n",
    "* [Subscripted reference for a tensor](#Subscripted-reference-for-a-tensor)"
   ]
  },
  {
   "cell_type": "code",
   "execution_count": 1,
   "metadata": {},
   "outputs": [],
   "source": [
    "import pyttb as ttb\n",
    "import numpy as np\n",
    "import sys\n",
    "X = ttb.tensor()"
   ]
  },
  {
   "cell_type": "markdown",
   "metadata": {},
   "source": [
    "## Creating a tensor from an array"
   ]
  },
  {
   "cell_type": "code",
   "execution_count": 2,
   "metadata": {},
   "outputs": [
    {
     "name": "stdout",
     "output_type": "stream",
     "text": [
      "X is a tensor of size (2, 4, 3)\n",
      "[[[1. 1. 1.]\n",
      "  [1. 1. 1.]\n",
      "  [1. 1. 1.]\n",
      "  [1. 1. 1.]]\n",
      "\n",
      " [[1. 1. 1.]\n",
      "  [1. 1. 1.]\n",
      "  [1. 1. 1.]\n",
      "  [1. 1. 1.]]]\n"
     ]
    }
   ],
   "source": [
    "M = np.ones((2,4,3)) # A 2x4x3 array.\n",
    "X = X.from_data(M) # Convert to a tensor object\n",
    "print(f\"X is a tensor of size {X.shape}\\n{X.data}\")"
   ]
  },
  {
   "cell_type": "markdown",
   "metadata": {},
   "source": [
    "Optionally, you can specify a different shape for the tensor, so long as the input array has the right number of elements. "
   ]
  },
  {
   "cell_type": "code",
   "execution_count": 3,
   "metadata": {},
   "outputs": [
    {
     "name": "stdout",
     "output_type": "stream",
     "text": [
      "X is a tensor of size (4, 2, 3)\n",
      "[[[1. 1. 1.]\n",
      "  [1. 1. 1.]]\n",
      "\n",
      " [[1. 1. 1.]\n",
      "  [1. 1. 1.]]\n",
      "\n",
      " [[1. 1. 1.]\n",
      "  [1. 1. 1.]]\n",
      "\n",
      " [[1. 1. 1.]\n",
      "  [1. 1. 1.]]]\n"
     ]
    }
   ],
   "source": [
    "X = X.reshape((4,2,3))\n",
    "print(f\"X is a tensor of size {X.shape}\\n{X.data}\")"
   ]
  },
  {
   "cell_type": "markdown",
   "metadata": {},
   "source": [
    "## Creating a one-dimensional tensor"
   ]
  },
  {
   "cell_type": "markdown",
   "metadata": {},
   "source": [
    "`np.random.rand(m,n)` creates a two-dimensional tensor with `m` rows and `n` columns."
   ]
  },
  {
   "cell_type": "code",
   "execution_count": 4,
   "metadata": {},
   "outputs": [
    {
     "name": "stdout",
     "output_type": "stream",
     "text": [
      "X is a tensor of shape 5 x 1\n",
      "data[:, :] = \n",
      "[[0.5488135 ]\n",
      " [0.71518937]\n",
      " [0.60276338]\n",
      " [0.54488318]\n",
      " [0.4236548 ]]\n",
      "\n"
     ]
    }
   ],
   "source": [
    "np.random.seed(0)\n",
    "X = X.from_data(np.random.rand(5,1)) # Creates a 2-way tensor.\n",
    "print(f\"X is a {X}\")"
   ]
  },
  {
   "cell_type": "markdown",
   "metadata": {},
   "source": [
    "To specify a 1-way tensor, use `(m,)` syntax, signifying a vector with `m` elements."
   ]
  },
  {
   "cell_type": "code",
   "execution_count": 5,
   "metadata": {},
   "outputs": [
    {
     "name": "stdout",
     "output_type": "stream",
     "text": [
      "X is a tensor of shape 5\n",
      "data[:] = \n",
      "[0.5488135  0.71518937 0.60276338 0.54488318 0.4236548 ]\n",
      "\n"
     ]
    }
   ],
   "source": [
    "np.random.seed(0)\n",
    "X = X.from_data(np.random.rand(5), shape=(5,)) # Creates a 1-way tensor.\n",
    "print(f\"X is a {X}\")"
   ]
  },
  {
   "cell_type": "markdown",
   "metadata": {},
   "source": [
    "## Specifying trailing singleton dimensions in a tensor"
   ]
  },
  {
   "cell_type": "markdown",
   "metadata": {},
   "source": [
    "Likewise, trailing singleton dimensions must be explictly specified."
   ]
  },
  {
   "cell_type": "code",
   "execution_count": 6,
   "metadata": {},
   "outputs": [
    {
     "name": "stdout",
     "output_type": "stream",
     "text": [
      "Y is a tensor of shape 4 x 3\n",
      "data[:, :] = \n",
      "[[0.5488135  0.71518937 0.60276338]\n",
      " [0.54488318 0.4236548  0.64589411]\n",
      " [0.43758721 0.891773   0.96366276]\n",
      " [0.38344152 0.79172504 0.52889492]]\n",
      "\n"
     ]
    }
   ],
   "source": [
    "np.random.seed(0)\n",
    "Y = ttb.tensor().from_data(np.random.rand(4,3)) # Creates a 2-way tensor.\n",
    "print(f\"Y is a {Y}\")"
   ]
  },
  {
   "cell_type": "code",
   "execution_count": 7,
   "metadata": {},
   "outputs": [
    {
     "name": "stdout",
     "output_type": "stream",
     "text": [
      "Y is a tensor of shape 4 x 3 x 1\n",
      "data[0, :, :] = \n",
      "[[0.5488135 ]\n",
      " [0.71518937]\n",
      " [0.60276338]]\n",
      "data[1, :, :] = \n",
      "[[0.54488318]\n",
      " [0.4236548 ]\n",
      " [0.64589411]]\n",
      "data[2, :, :] = \n",
      "[[0.43758721]\n",
      " [0.891773  ]\n",
      " [0.96366276]]\n",
      "data[3, :, :] = \n",
      "[[0.38344152]\n",
      " [0.79172504]\n",
      " [0.52889492]]\n",
      "\n"
     ]
    }
   ],
   "source": [
    "np.random.seed(0)\n",
    "Y = Y.from_data(np.random.rand(4,3,1), (4,3,1))\n",
    "print(f\"Y is a {Y}\")"
   ]
  },
  {
   "cell_type": "markdown",
   "metadata": {},
   "source": [
    "Using the `whos` commmand equivalent for obtaining details about the workspace tensors."
   ]
  },
  {
   "cell_type": "code",
   "execution_count": 8,
   "metadata": {},
   "outputs": [
    {
     "name": "stdout",
     "output_type": "stream",
     "text": [
      "Name      Size      Bytes     Class     Num. Attributes\n",
      "-------------------------------------------------------\n",
      "X         5         56        tensor    36   \n",
      "Y         4x3x1     56        tensor    36   \n"
     ]
    }
   ],
   "source": [
    "def whos(*args):\n",
    "    print(f\"{'Name': <10}{'Size': <10}{'Bytes': <10}{'Class': <10}{'Num. Attributes': <5}\")\n",
    "    print(\"-\"*55)\n",
    "    for name in args:\n",
    "        var = globals()[name]\n",
    "        size = 'x'.join(map(str, var.shape)) if hasattr(var, 'shape') else 'N/A'\n",
    "        attributes = [attr for attr in dir(var) if not attr.startswith('__')]\n",
    "        print(f\"{name: <10}{size: <10}{str(sys.getsizeof(var)): <10}{str(type(var).__name__): <10}{len(attributes): <5}\")\n",
    "\n",
    "whos('X', 'Y')"
   ]
  },
  {
   "cell_type": "markdown",
   "metadata": {},
   "source": [
    "## The constitutent parts of a tensor"
   ]
  },
  {
   "cell_type": "code",
   "execution_count": 9,
   "metadata": {},
   "outputs": [
    {
     "name": "stdout",
     "output_type": "stream",
     "text": [
      "tensor of shape 2 x 4 x 3\n",
      "data[0, :, :] = \n",
      "[[0.5488135  0.71518937 0.60276338]\n",
      " [0.54488318 0.4236548  0.64589411]\n",
      " [0.43758721 0.891773   0.96366276]\n",
      " [0.38344152 0.79172504 0.52889492]]\n",
      "data[1, :, :] = \n",
      "[[0.56804456 0.92559664 0.07103606]\n",
      " [0.0871293  0.0202184  0.83261985]\n",
      " [0.77815675 0.87001215 0.97861834]\n",
      " [0.79915856 0.46147936 0.78052918]]\n",
      "\n"
     ]
    }
   ],
   "source": [
    "np.random.seed(0)\n",
    "X = ttb.tenrand((2,4,3)) # Create data.\n",
    "print(X) # The array."
   ]
  },
  {
   "cell_type": "code",
   "execution_count": 10,
   "metadata": {},
   "outputs": [
    {
     "name": "stdout",
     "output_type": "stream",
     "text": [
      "(2, 4, 3)\n"
     ]
    }
   ],
   "source": [
    "print(X.shape) # The size."
   ]
  },
  {
   "cell_type": "markdown",
   "metadata": {},
   "source": [
    "## Creating a tensor from its constituent parts"
   ]
  },
  {
   "cell_type": "code",
   "execution_count": 11,
   "metadata": {},
   "outputs": [
    {
     "name": "stdout",
     "output_type": "stream",
     "text": [
      "tensor of shape 2 x 4 x 3\n",
      "data[0, :, :] = \n",
      "[[0.5488135  0.71518937 0.60276338]\n",
      " [0.54488318 0.4236548  0.64589411]\n",
      " [0.43758721 0.891773   0.96366276]\n",
      " [0.38344152 0.79172504 0.52889492]]\n",
      "data[1, :, :] = \n",
      "[[0.56804456 0.92559664 0.07103606]\n",
      " [0.0871293  0.0202184  0.83261985]\n",
      " [0.77815675 0.87001215 0.97861834]\n",
      " [0.79915856 0.46147936 0.78052918]]\n",
      "\n"
     ]
    }
   ],
   "source": [
    "Y = ttb.tensor().from_tensor_type(X) # Copies X.\n",
    "print(Y)"
   ]
  },
  {
   "cell_type": "markdown",
   "metadata": {},
   "source": [
    "## Creating an empty tensor"
   ]
  },
  {
   "cell_type": "markdown",
   "metadata": {},
   "source": [
    "An empty constructor exists."
   ]
  },
  {
   "cell_type": "code",
   "execution_count": 12,
   "metadata": {},
   "outputs": [
    {
     "name": "stdout",
     "output_type": "stream",
     "text": [
      "X is an empty tensor of shape ()\n",
      "data = []\n"
     ]
    }
   ],
   "source": [
    "X = ttb.tensor() # Creates an empty tensor\n",
    "print(f\"X is an {X}\")"
   ]
  },
  {
   "cell_type": "markdown",
   "metadata": {},
   "source": [
    "## Use tenones to create a tensor of all ones"
   ]
  },
  {
   "cell_type": "code",
   "execution_count": 13,
   "metadata": {},
   "outputs": [
    {
     "name": "stdout",
     "output_type": "stream",
     "text": [
      "X is a tensor of shape 2 x 3 x 4\n",
      "data[0, :, :] = \n",
      "[[1. 1. 1. 1.]\n",
      " [1. 1. 1. 1.]\n",
      " [1. 1. 1. 1.]]\n",
      "data[1, :, :] = \n",
      "[[1. 1. 1. 1.]\n",
      " [1. 1. 1. 1.]\n",
      " [1. 1. 1. 1.]]\n",
      "\n"
     ]
    }
   ],
   "source": [
    "X = ttb.tenones((2,3,4)) # Creates a 2x3x4 tensor of ones.\n",
    "print(f\"X is a {X}\")"
   ]
  },
  {
   "cell_type": "markdown",
   "metadata": {},
   "source": [
    "## Use tenzeros to create a tensor of all zeros"
   ]
  },
  {
   "cell_type": "code",
   "execution_count": 14,
   "metadata": {},
   "outputs": [
    {
     "name": "stdout",
     "output_type": "stream",
     "text": [
      "X is a tensor of shape 2 x 1 x 4\n",
      "data[0, :, :] = \n",
      "[[0. 0. 0. 0.]]\n",
      "data[1, :, :] = \n",
      "[[0. 0. 0. 0.]]\n",
      "\n"
     ]
    }
   ],
   "source": [
    "X = ttb.tenzeros((2,1,4)) # Creates a 2x1x4 tensor of zeroes.\n",
    "print(f\"X is a {X}\")"
   ]
  },
  {
   "cell_type": "markdown",
   "metadata": {},
   "source": [
    "## Use tenrand to create a random tensor"
   ]
  },
  {
   "cell_type": "code",
   "execution_count": 15,
   "metadata": {},
   "outputs": [
    {
     "data": {
      "text/plain": [
       "3"
      ]
     },
     "execution_count": 15,
     "metadata": {},
     "output_type": "execute_result"
    }
   ],
   "source": [
    "X.ndims  #reddturns number of dims as an int, is a property"
   ]
  },
  {
   "cell_type": "code",
   "execution_count": 16,
   "metadata": {},
   "outputs": [
    {
     "data": {
      "text/plain": [
       "2"
      ]
     },
     "execution_count": 16,
     "metadata": {},
     "output_type": "execute_result"
    }
   ],
   "source": [
    "X.shape[0]  #returns size of single dimension"
   ]
  },
  {
   "cell_type": "code",
   "execution_count": null,
   "metadata": {},
   "outputs": [],
   "source": []
  },
  {
   "cell_type": "code",
   "execution_count": 17,
   "metadata": {},
   "outputs": [
    {
     "name": "stdout",
     "output_type": "stream",
     "text": [
      "X is a tensor of shape 2 x 5 x 4\n",
      "data[0, :, :] = \n",
      "[[0.5488135  0.71518937 0.60276338 0.54488318]\n",
      " [0.4236548  0.64589411 0.43758721 0.891773  ]\n",
      " [0.96366276 0.38344152 0.79172504 0.52889492]\n",
      " [0.56804456 0.92559664 0.07103606 0.0871293 ]\n",
      " [0.0202184  0.83261985 0.77815675 0.87001215]]\n",
      "data[1, :, :] = \n",
      "[[0.97861834 0.79915856 0.46147936 0.78052918]\n",
      " [0.11827443 0.63992102 0.14335329 0.94466892]\n",
      " [0.52184832 0.41466194 0.26455561 0.77423369]\n",
      " [0.45615033 0.56843395 0.0187898  0.6176355 ]\n",
      " [0.61209572 0.616934   0.94374808 0.6818203 ]]\n",
      "\n"
     ]
    }
   ],
   "source": [
    "np.random.seed(0)\n",
    "X = ttb.tenrand((2,5,4))\n",
    "print(f\"X is a {X}\")"
   ]
  },
  {
   "cell_type": "markdown",
   "metadata": {},
   "source": [
    "## Use squeeze to remove singleton dimensions from a tensor"
   ]
  },
  {
   "cell_type": "code",
   "execution_count": 18,
   "metadata": {},
   "outputs": [
    {
     "data": {
      "text/plain": [
       "tensor of shape 2 x 4 x 3\n",
       "data[0, :, :] = \n",
       "[[0.5488135  0.71518937 0.60276338]\n",
       " [0.54488318 0.4236548  0.64589411]\n",
       " [0.43758721 0.891773   0.96366276]\n",
       " [0.38344152 0.79172504 0.52889492]]\n",
       "data[1, :, :] = \n",
       "[[0.56804456 0.92559664 0.07103606]\n",
       " [0.0871293  0.0202184  0.83261985]\n",
       " [0.77815675 0.87001215 0.97861834]\n",
       " [0.79915856 0.46147936 0.78052918]]"
      ]
     },
     "execution_count": 18,
     "metadata": {},
     "output_type": "execute_result"
    }
   ],
   "source": [
    "Y.squeeze() # Removes singleton dimensions."
   ]
  },
  {
   "cell_type": "markdown",
   "metadata": {},
   "source": [
    "## Use double to convert a tensor to a (multidimensional) array"
   ]
  },
  {
   "cell_type": "code",
   "execution_count": 19,
   "metadata": {},
   "outputs": [
    {
     "data": {
      "text/plain": [
       "array([[[0.5488135 , 0.71518937, 0.60276338],\n",
       "        [0.54488318, 0.4236548 , 0.64589411],\n",
       "        [0.43758721, 0.891773  , 0.96366276],\n",
       "        [0.38344152, 0.79172504, 0.52889492]],\n",
       "\n",
       "       [[0.56804456, 0.92559664, 0.07103606],\n",
       "        [0.0871293 , 0.0202184 , 0.83261985],\n",
       "        [0.77815675, 0.87001215, 0.97861834],\n",
       "        [0.79915856, 0.46147936, 0.78052918]]])"
      ]
     },
     "execution_count": 19,
     "metadata": {},
     "output_type": "execute_result"
    }
   ],
   "source": [
    "Y.double() # Converts Y to an array of doubles."
   ]
  },
  {
   "cell_type": "code",
   "execution_count": 20,
   "metadata": {},
   "outputs": [
    {
     "name": "stdout",
     "output_type": "stream",
     "text": [
      "[[[0.5488135  0.71518937 0.60276338]\n",
      "  [0.54488318 0.4236548  0.64589411]\n",
      "  [0.43758721 0.891773   0.96366276]\n",
      "  [0.38344152 0.79172504 0.52889492]]\n",
      "\n",
      " [[0.56804456 0.92559664 0.07103606]\n",
      "  [0.0871293  0.0202184  0.83261985]\n",
      "  [0.77815675 0.87001215 0.97861834]\n",
      "  [0.79915856 0.46147936 0.78052918]]]\n"
     ]
    }
   ],
   "source": [
    "print(Y.data) # Same thing."
   ]
  },
  {
   "cell_type": "markdown",
   "metadata": {},
   "source": [
    "## Use ndims and size to get the size of a tensor"
   ]
  },
  {
   "cell_type": "code",
   "execution_count": 21,
   "metadata": {},
   "outputs": [
    {
     "data": {
      "text/plain": [
       "3"
      ]
     },
     "execution_count": 21,
     "metadata": {},
     "output_type": "execute_result"
    }
   ],
   "source": [
    "Y.ndims # Number of dimensions (or ways)."
   ]
  },
  {
   "cell_type": "code",
   "execution_count": 22,
   "metadata": {},
   "outputs": [
    {
     "data": {
      "text/plain": [
       "(2, 4, 3)"
      ]
     },
     "execution_count": 22,
     "metadata": {},
     "output_type": "execute_result"
    }
   ],
   "source": [
    "Y.shape # Row vector with the sizes of all dimensions."
   ]
  },
  {
   "cell_type": "code",
   "execution_count": 23,
   "metadata": {},
   "outputs": [
    {
     "data": {
      "text/plain": [
       "3"
      ]
     },
     "execution_count": 23,
     "metadata": {},
     "output_type": "execute_result"
    }
   ],
   "source": [
    "Y.shape[2] # Size of a single dimension."
   ]
  },
  {
   "cell_type": "markdown",
   "metadata": {},
   "source": [
    "## Subscripted reference for a tensor"
   ]
  },
  {
   "cell_type": "code",
   "execution_count": 24,
   "metadata": {},
   "outputs": [
    {
     "data": {
      "text/plain": [
       "0.5488135039273248"
      ]
     },
     "execution_count": 24,
     "metadata": {},
     "output_type": "execute_result"
    }
   ],
   "source": [
    "np.random.seed(0)\n",
    "X = ttb.tenrand((2,3,4,1)) # Create a 3x4x2x1 random tensor.\n",
    "X[0,0,0,0] # Extract a single element."
   ]
  },
  {
   "cell_type": "markdown",
   "metadata": {},
   "source": [
    "**TODO**:Check valididty of this comment -> It is possible to extract a subtensor that contains a single element. Observe that singleton dimensions are **not** dropped unless they are specifically specified, e.g., as above."
   ]
  },
  {
   "cell_type": "code",
   "execution_count": 25,
   "metadata": {},
   "outputs": [
    {
     "data": {
      "text/plain": [
       "tensor of shape 1\n",
       "data[:] = \n",
       "[0.5488135]"
      ]
     },
     "execution_count": 25,
     "metadata": {},
     "output_type": "execute_result"
    }
   ],
   "source": [
    "X[0,0,0,:] # Produces a tensor of order 1 and size 1."
   ]
  },
  {
   "cell_type": "code",
   "execution_count": 26,
   "metadata": {},
   "outputs": [
    {
     "data": {
      "text/plain": [
       "tensor of shape 3 x 1\n",
       "data[:, :] = \n",
       "[[0.5488135 ]\n",
       " [0.4236548 ]\n",
       " [0.96366276]]"
      ]
     },
     "execution_count": 26,
     "metadata": {},
     "output_type": "execute_result"
    }
   ],
   "source": [
    "X[0,:,0,:] # Produces a tensor of size 3x1."
   ]
  },
  {
   "cell_type": "markdown",
   "metadata": {},
   "source": [
    "**TODO**:Check valididty of this comment -> Moreover, the subtensor is automatically renumbered/resized in the same way that MATLAB works for arrays except that singleton dimensions are handled explicitly."
   ]
  },
  {
   "cell_type": "code",
   "execution_count": 27,
   "metadata": {},
   "outputs": [
    {
     "data": {
      "text/plain": [
       "tensor of shape 2 x 2 x 1\n",
       "data[0, :, :] = \n",
       "[[0.71518937]\n",
       " [0.54488318]]\n",
       "data[1, :, :] = \n",
       "[[0.92559664]\n",
       " [0.0871293 ]]"
      ]
     },
     "execution_count": 27,
     "metadata": {},
     "output_type": "execute_result"
    }
   ],
   "source": [
    "X[0:2,0,[1, 3],:] # Produces a tensor of size 2x2x1."
   ]
  },
  {
   "cell_type": "markdown",
   "metadata": {},
   "source": [
    "It's also possible to extract a list of elements by passing in an array of subscripts or a column array of linear indices."
   ]
  },
  {
   "cell_type": "markdown",
   "metadata": {},
   "source": [
    "**TODO** :<u>THE BELOW FUNCTIONALITY IS UNCLEAR TO ME -JM</u>"
   ]
  },
  {
   "cell_type": "code",
   "execution_count": 28,
   "metadata": {},
   "outputs": [
    {
     "data": {
      "text/plain": [
       "array([[0.5488135 , 0.5488135 , 0.5488135 , 0.5488135 ],\n",
       "       [0.4236548 , 0.0202184 , 0.56804456, 0.5488135 ]])"
      ]
     },
     "execution_count": 28,
     "metadata": {},
     "output_type": "execute_result"
    }
   ],
   "source": [
    "subs = [[0,0,0,0], [2,3,1,0]]; X[subs] # Extract 2 values by subscript."
   ]
  },
  {
   "cell_type": "markdown",
   "metadata": {},
   "source": [
    "## Subscripted assignment for a tensor"
   ]
  },
  {
   "cell_type": "markdown",
   "metadata": {},
   "source": [
    "## Subscripted assignment for a tensor"
   ]
  },
  {
   "cell_type": "code",
   "execution_count": 29,
   "metadata": {},
   "outputs": [
    {
     "ename": "ValueError",
     "evalue": "setting an array element with a sequence. The requested array has an inhomogeneous shape after 1 dimensions. The detected shape was (2,) + inhomogeneous part.",
     "output_type": "error",
     "traceback": [
      "\u001b[0;31m---------------------------------------------------------------------------\u001b[0m",
      "\u001b[0;31mValueError\u001b[0m                                Traceback (most recent call last)",
      "Cell \u001b[0;32mIn[29], line 1\u001b[0m\n\u001b[0;32m----> 1\u001b[0m X[\u001b[38;5;241m1\u001b[39m,\u001b[38;5;241m2\u001b[39m,\u001b[38;5;241m0\u001b[39m] \u001b[38;5;241m=\u001b[39m \u001b[38;5;241m2.3\u001b[39m    \u001b[38;5;66;03m#Assign a single element\u001b[39;00m\n\u001b[1;32m      2\u001b[0m \u001b[38;5;28mprint\u001b[39m(X[\u001b[38;5;241m1\u001b[39m,\u001b[38;5;241m2\u001b[39m,\u001b[38;5;241m0\u001b[39m])\n",
      "File \u001b[0;32m~/code/pyttb-fork/pyttb/tensor.py:1310\u001b[0m, in \u001b[0;36mtensor.__setitem__\u001b[0;34m(self, key, value)\u001b[0m\n\u001b[1;32m   1308\u001b[0m \u001b[38;5;66;03m# Case 1: Rectangular Subtensor\u001b[39;00m\n\u001b[1;32m   1309\u001b[0m \u001b[38;5;28;01mif\u001b[39;00m access_type \u001b[38;5;241m==\u001b[39m \u001b[38;5;124m\"\u001b[39m\u001b[38;5;124msubtensor\u001b[39m\u001b[38;5;124m\"\u001b[39m:\n\u001b[0;32m-> 1310\u001b[0m     \u001b[38;5;28;01mreturn\u001b[39;00m \u001b[38;5;28mself\u001b[39m\u001b[38;5;241m.\u001b[39m_set_subtensor(key, value)\n\u001b[1;32m   1312\u001b[0m \u001b[38;5;66;03m# Case 2a: Subscript indexing\u001b[39;00m\n\u001b[1;32m   1313\u001b[0m \u001b[38;5;28;01mif\u001b[39;00m access_type \u001b[38;5;241m==\u001b[39m \u001b[38;5;124m\"\u001b[39m\u001b[38;5;124msubscripts\u001b[39m\u001b[38;5;124m\"\u001b[39m:\n",
      "File \u001b[0;32m~/code/pyttb-fork/pyttb/tensor.py:1366\u001b[0m, in \u001b[0;36mtensor._set_subtensor\u001b[0;34m(self, key, value)\u001b[0m\n\u001b[1;32m   1363\u001b[0m     newsiz \u001b[38;5;241m=\u001b[39m (bsiz[n:] \u001b[38;5;241m+\u001b[39m \u001b[38;5;241m1\u001b[39m)\u001b[38;5;241m.\u001b[39mastype(\u001b[38;5;28mint\u001b[39m)\n\u001b[1;32m   1364\u001b[0m \u001b[38;5;28;01melse\u001b[39;00m:\n\u001b[1;32m   1365\u001b[0m     newsiz \u001b[38;5;241m=\u001b[39m np\u001b[38;5;241m.\u001b[39mconcatenate(\n\u001b[0;32m-> 1366\u001b[0m         (np\u001b[38;5;241m.\u001b[39mmax((\u001b[38;5;28mself\u001b[39m\u001b[38;5;241m.\u001b[39mshape, bsiz[\u001b[38;5;241m0\u001b[39m:n] \u001b[38;5;241m+\u001b[39m \u001b[38;5;241m1\u001b[39m), axis\u001b[38;5;241m=\u001b[39m\u001b[38;5;241m0\u001b[39m), bsiz[n:] \u001b[38;5;241m+\u001b[39m \u001b[38;5;241m1\u001b[39m)\n\u001b[1;32m   1367\u001b[0m     )\u001b[38;5;241m.\u001b[39mastype(\u001b[38;5;28mint\u001b[39m)\n\u001b[1;32m   1368\u001b[0m \u001b[38;5;28;01mif\u001b[39;00m \u001b[38;5;129;01mnot\u001b[39;00m np\u001b[38;5;241m.\u001b[39marray_equal(newsiz, \u001b[38;5;28mself\u001b[39m\u001b[38;5;241m.\u001b[39mshape):\n\u001b[1;32m   1369\u001b[0m     \u001b[38;5;66;03m# We need to enlarge x.data.\u001b[39;00m\n\u001b[1;32m   1370\u001b[0m     newData \u001b[38;5;241m=\u001b[39m np\u001b[38;5;241m.\u001b[39mzeros(shape\u001b[38;5;241m=\u001b[39m\u001b[38;5;28mtuple\u001b[39m(newsiz))\n",
      "File \u001b[0;32m<__array_function__ internals>:200\u001b[0m, in \u001b[0;36mamax\u001b[0;34m(*args, **kwargs)\u001b[0m\n",
      "File \u001b[0;32m/opt/miniconda3/envs/myenv/lib/python3.11/site-packages/numpy/core/fromnumeric.py:2820\u001b[0m, in \u001b[0;36mamax\u001b[0;34m(a, axis, out, keepdims, initial, where)\u001b[0m\n\u001b[1;32m   2703\u001b[0m \u001b[38;5;129m@array_function_dispatch\u001b[39m(_amax_dispatcher)\n\u001b[1;32m   2704\u001b[0m \u001b[38;5;28;01mdef\u001b[39;00m \u001b[38;5;21mamax\u001b[39m(a, axis\u001b[38;5;241m=\u001b[39m\u001b[38;5;28;01mNone\u001b[39;00m, out\u001b[38;5;241m=\u001b[39m\u001b[38;5;28;01mNone\u001b[39;00m, keepdims\u001b[38;5;241m=\u001b[39mnp\u001b[38;5;241m.\u001b[39m_NoValue, initial\u001b[38;5;241m=\u001b[39mnp\u001b[38;5;241m.\u001b[39m_NoValue,\n\u001b[1;32m   2705\u001b[0m          where\u001b[38;5;241m=\u001b[39mnp\u001b[38;5;241m.\u001b[39m_NoValue):\n\u001b[1;32m   2706\u001b[0m \u001b[38;5;250m    \u001b[39m\u001b[38;5;124;03m\"\"\"\u001b[39;00m\n\u001b[1;32m   2707\u001b[0m \u001b[38;5;124;03m    Return the maximum of an array or maximum along an axis.\u001b[39;00m\n\u001b[1;32m   2708\u001b[0m \n\u001b[0;32m   (...)\u001b[0m\n\u001b[1;32m   2818\u001b[0m \u001b[38;5;124;03m    5\u001b[39;00m\n\u001b[1;32m   2819\u001b[0m \u001b[38;5;124;03m    \"\"\"\u001b[39;00m\n\u001b[0;32m-> 2820\u001b[0m     \u001b[38;5;28;01mreturn\u001b[39;00m _wrapreduction(a, np\u001b[38;5;241m.\u001b[39mmaximum, \u001b[38;5;124m'\u001b[39m\u001b[38;5;124mmax\u001b[39m\u001b[38;5;124m'\u001b[39m, axis, \u001b[38;5;28;01mNone\u001b[39;00m, out,\n\u001b[1;32m   2821\u001b[0m                           keepdims\u001b[38;5;241m=\u001b[39mkeepdims, initial\u001b[38;5;241m=\u001b[39minitial, where\u001b[38;5;241m=\u001b[39mwhere)\n",
      "File \u001b[0;32m/opt/miniconda3/envs/myenv/lib/python3.11/site-packages/numpy/core/fromnumeric.py:86\u001b[0m, in \u001b[0;36m_wrapreduction\u001b[0;34m(obj, ufunc, method, axis, dtype, out, **kwargs)\u001b[0m\n\u001b[1;32m     83\u001b[0m         \u001b[38;5;28;01melse\u001b[39;00m:\n\u001b[1;32m     84\u001b[0m             \u001b[38;5;28;01mreturn\u001b[39;00m reduction(axis\u001b[38;5;241m=\u001b[39maxis, out\u001b[38;5;241m=\u001b[39mout, \u001b[38;5;241m*\u001b[39m\u001b[38;5;241m*\u001b[39mpasskwargs)\n\u001b[0;32m---> 86\u001b[0m \u001b[38;5;28;01mreturn\u001b[39;00m ufunc\u001b[38;5;241m.\u001b[39mreduce(obj, axis, dtype, out, \u001b[38;5;241m*\u001b[39m\u001b[38;5;241m*\u001b[39mpasskwargs)\n",
      "\u001b[0;31mValueError\u001b[0m: setting an array element with a sequence. The requested array has an inhomogeneous shape after 1 dimensions. The detected shape was (2,) + inhomogeneous part."
     ]
    }
   ],
   "source": [
    "X[1,2,0] = 2.3    #Assign a single element\n",
    "print(X[1,2,0])"
   ]
  },
  {
   "cell_type": "markdown",
   "metadata": {},
   "source": [
    "## Basic operations (plus, minus, etc.) on a tensor"
   ]
  },
  {
   "cell_type": "markdown",
   "metadata": {},
   "source": [
    "Tensors support plus, minus, times, divide, power, equals, and not-equals operators.  Tensors can use there operators with another tensor or a scalar (with the exception of equalities which only takes tensors).  All mathematical operators are elementwise operations."
   ]
  },
  {
   "cell_type": "markdown",
   "metadata": {},
   "source": [
    "### Addition"
   ]
  },
  {
   "cell_type": "code",
   "execution_count": null,
   "metadata": {},
   "outputs": [],
   "source": [
    "X = ttb.tensor.from_data(np.ones([2,3]))   #Initializes the tensor with all 1's\n",
    "Y = ttb.tensor.from_data(np.ones([2,3])*2)   #Initializes the tensor with all 2's"
   ]
  },
  {
   "cell_type": "code",
   "execution_count": null,
   "metadata": {},
   "outputs": [],
   "source": [
    "X + 1"
   ]
  },
  {
   "cell_type": "code",
   "execution_count": null,
   "metadata": {},
   "outputs": [],
   "source": [
    "X + Y"
   ]
  },
  {
   "cell_type": "code",
   "execution_count": null,
   "metadata": {},
   "outputs": [],
   "source": [
    "X += 1\n",
    "print(X)"
   ]
  },
  {
   "cell_type": "markdown",
   "metadata": {},
   "source": [
    "### Subtraction"
   ]
  },
  {
   "cell_type": "code",
   "execution_count": null,
   "metadata": {},
   "outputs": [],
   "source": [
    "X = ttb.tensor.from_data(np.ones([2,3]))   #Initializes the tensor with all 1's\n",
    "Y = ttb.tensor.from_data(np.ones([2,3])*2)   #Initializes the tensor with all 2's"
   ]
  },
  {
   "cell_type": "code",
   "execution_count": null,
   "metadata": {},
   "outputs": [],
   "source": [
    "X - 2"
   ]
  },
  {
   "cell_type": "code",
   "execution_count": null,
   "metadata": {},
   "outputs": [],
   "source": [
    "Y - X"
   ]
  },
  {
   "cell_type": "code",
   "execution_count": null,
   "metadata": {},
   "outputs": [],
   "source": [
    "Y -= 1\n",
    "print(Y)"
   ]
  },
  {
   "cell_type": "markdown",
   "metadata": {},
   "source": [
    "### Multiplication"
   ]
  },
  {
   "cell_type": "code",
   "execution_count": null,
   "metadata": {},
   "outputs": [],
   "source": [
    "X = ttb.tensor.from_data(np.ones([2,3]))   #Initializes the tensor with all 1's\n",
    "Y = ttb.tensor.from_data(np.ones([2,3])*2)   #Initializes the tensor with all 2's"
   ]
  },
  {
   "cell_type": "code",
   "execution_count": null,
   "metadata": {},
   "outputs": [],
   "source": [
    "X * 3"
   ]
  },
  {
   "cell_type": "code",
   "execution_count": null,
   "metadata": {},
   "outputs": [],
   "source": [
    "X * Y"
   ]
  },
  {
   "cell_type": "code",
   "execution_count": null,
   "metadata": {},
   "outputs": [],
   "source": [
    "X *= 2\n",
    "print(X)"
   ]
  },
  {
   "cell_type": "markdown",
   "metadata": {},
   "source": [
    "### Division"
   ]
  },
  {
   "cell_type": "code",
   "execution_count": null,
   "metadata": {},
   "outputs": [],
   "source": [
    "X = ttb.tensor.from_data(np.ones([2,3]))   #Initializes the tensor with all 1's\n",
    "Y = ttb.tensor.from_data(np.ones([2,3])*2)   #Initializes the tensor with all 2's"
   ]
  },
  {
   "cell_type": "code",
   "execution_count": null,
   "metadata": {},
   "outputs": [],
   "source": [
    "X / 3"
   ]
  },
  {
   "cell_type": "code",
   "execution_count": null,
   "metadata": {},
   "outputs": [],
   "source": [
    "X / Y"
   ]
  },
  {
   "cell_type": "code",
   "execution_count": null,
   "metadata": {},
   "outputs": [],
   "source": [
    "X /= 4\n",
    "print(X)"
   ]
  },
  {
   "cell_type": "markdown",
   "metadata": {},
   "source": [
    "### Power"
   ]
  },
  {
   "cell_type": "code",
   "execution_count": null,
   "metadata": {},
   "outputs": [],
   "source": [
    "X = ttb.tensor.from_data(np.ones([2,3]))   #Initializes the tensor with all 1's\n",
    "Y = ttb.tensor.from_data(np.ones([2,3])*2)   #Initializes the tensor with all 2's"
   ]
  },
  {
   "cell_type": "code",
   "execution_count": null,
   "metadata": {},
   "outputs": [],
   "source": [
    "Y ** 2"
   ]
  },
  {
   "cell_type": "code",
   "execution_count": null,
   "metadata": {},
   "outputs": [],
   "source": [
    "X ** Y"
   ]
  },
  {
   "cell_type": "code",
   "execution_count": null,
   "metadata": {},
   "outputs": [],
   "source": [
    "Y ** 3"
   ]
  },
  {
   "cell_type": "markdown",
   "metadata": {},
   "source": [
    "### Equality"
   ]
  },
  {
   "cell_type": "code",
   "execution_count": null,
   "metadata": {},
   "outputs": [],
   "source": [
    "X = ttb.tensor.from_data(np.ones([2,3]))   #Initializes the tensor with all 1's\n",
    "Y = ttb.tensor.from_data(np.ones([2,3])*2)   #Initializes the tensor with all 2's"
   ]
  },
  {
   "cell_type": "code",
   "execution_count": null,
   "metadata": {},
   "outputs": [],
   "source": [
    "X == Y  # Elementwise Comparison"
   ]
  },
  {
   "cell_type": "code",
   "execution_count": null,
   "metadata": {},
   "outputs": [],
   "source": [
    "X.isequal(Y)  # Exact Comparison"
   ]
  },
  {
   "cell_type": "code",
   "execution_count": null,
   "metadata": {},
   "outputs": [],
   "source": [
    "X != Y  # Elementwise Comparison"
   ]
  },
  {
   "cell_type": "code",
   "execution_count": null,
   "metadata": {},
   "outputs": [],
   "source": [
    "not X.isequal(Y) # Exact Comparison"
   ]
  },
  {
   "cell_type": "markdown",
   "metadata": {},
   "source": [
    "## Use permute to reorder the modes of a tensor"
   ]
  },
  {
   "cell_type": "code",
   "execution_count": null,
   "metadata": {},
   "outputs": [],
   "source": [
    "print(X)\n",
    "X = X.permute(np.array([1, 0]))\n",
    "print(X)"
   ]
  },
  {
   "cell_type": "markdown",
   "metadata": {},
   "source": [
    "## Display tensor"
   ]
  },
  {
   "cell_type": "code",
   "execution_count": null,
   "metadata": {},
   "outputs": [],
   "source": [
    "print(X)"
   ]
  },
  {
   "cell_type": "code",
   "execution_count": null,
   "metadata": {},
   "outputs": [],
   "source": [
    "X    #In the python interface"
   ]
  },
  {
   "cell_type": "code",
   "execution_count": null,
   "metadata": {},
   "outputs": [],
   "source": []
  }
 ],
 "metadata": {
  "kernelspec": {
   "display_name": "Python 3 (ipykernel)",
   "language": "python",
   "name": "python3"
  },
  "language_info": {
   "codemirror_mode": {
    "name": "ipython",
    "version": 3
   },
   "file_extension": ".py",
   "mimetype": "text/x-python",
   "name": "python",
   "nbconvert_exporter": "python",
   "pygments_lexer": "ipython3",
   "version": "3.11.3"
  }
 },
 "nbformat": 4,
 "nbformat_minor": 1
}
