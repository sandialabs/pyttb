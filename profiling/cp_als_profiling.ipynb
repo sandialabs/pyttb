{
 "cells": [
  {
   "cell_type": "markdown",
   "metadata": {},
   "source": [
    "# CP_ALS Profiling"
   ]
  },
  {
   "cell_type": "markdown",
   "metadata": {},
   "source": [
    "#### ***Only testing cp_als.py here***"
   ]
  },
  {
   "cell_type": "code",
   "execution_count": null,
   "metadata": {},
   "outputs": [],
   "source": [
    "import cProfile\n",
    "import pstats\n",
    "import os\n",
    "from pyttb import ktensor, cp_als, import_data"
   ]
  },
  {
   "cell_type": "code",
   "execution_count": null,
   "metadata": {},
   "outputs": [],
   "source": [
    "def profile(test_files, ranks):\n",
    "    \"\"\"\n",
    "    Profiles the performance of the cp_als algorithm with a set of tensors from test_files and ranks.\n",
    "\n",
    "    Parameters\n",
    "    ----------\n",
    "    test_files:\n",
    "        A list of strings representing the file paths to the test tensors.\n",
    "    ranks:\n",
    "        A list of integers representing the tensor testing ranks.\n",
    "    \"\"\"\n",
    "\n",
    "    for test_file in test_files:\n",
    "        try:\n",
    "            print(\"*\" * 50)\n",
    "            tensor = import_data(test_file)\n",
    "            # cp_als() only handles tensors and sptensors, so convert ktensor to tensor\n",
    "            if isinstance(tensor, ktensor):\n",
    "                tensor = tensor.full()\n",
    "            for rank in ranks:\n",
    "                # initialize and enable a profiler\n",
    "                profiler = cProfile.Profile()\n",
    "                profiler.enable()\n",
    "\n",
    "                try:\n",
    "                    M, Minit, output = cp_als(tensor, rank)\n",
    "                # ensure the profiler is always disabled before the next profiler starts\n",
    "                finally:\n",
    "                    profiler.disable()\n",
    "\n",
    "                stats = pstats.Stats(profiler).sort_stats(\"cumulative\")\n",
    "                print(f\"Test file: {test_file}, Rank: {rank}\")\n",
    "                stats.print_stats(10)\n",
    "        except Exception as e:\n",
    "            print(\n",
    "                f\"Error when testing {os.path.basename(test_file)} with Rank = {rank}: {type(e).__name__}: {e}\"\n",
    "            )"
   ]
  },
  {
   "cell_type": "code",
   "execution_count": null,
   "metadata": {},
   "outputs": [],
   "source": [
    "# \"../tests/data/invalid_dims.tns\",\n",
    "# \"../tests/data/invalid_type.tns\",\n",
    "ranks = [2, 3, 4]\n",
    "test_files = [\n",
    "    \"../tests/data/ktensor.tns\",\n",
    "    \"../tests/data/matrix.tns\",\n",
    "    \"../tests/data/sptensor_0_based.tns\",\n",
    "    \"../tests/data/sptensor.tns\",\n",
    "    \"../tests/data/tensor.tns\",\n",
    "]"
   ]
  },
  {
   "cell_type": "code",
   "execution_count": null,
   "metadata": {},
   "outputs": [],
   "source": [
    "profile(test_files, ranks)"
   ]
  }
 ],
 "metadata": {
  "kernelspec": {
   "display_name": "Python 3.11.2 64-bit",
   "language": "python",
   "name": "python3"
  },
  "language_info": {
   "codemirror_mode": {
    "name": "ipython",
    "version": 3
   },
   "file_extension": ".py",
   "mimetype": "text/x-python",
   "name": "python",
   "nbconvert_exporter": "python",
   "pygments_lexer": "ipython3",
   "version": "3.11.2"
  },
  "orig_nbformat": 4,
  "vscode": {
   "interpreter": {
    "hash": "b0fa6594d8f4cbf19f97940f81e996739fb7646882a419484c72d19e05852a7e"
   }
  }
 },
 "nbformat": 4,
 "nbformat_minor": 2
}
