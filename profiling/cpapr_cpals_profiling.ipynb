{
 "cells": [
  {
   "cell_type": "markdown",
   "metadata": {},
   "source": [
    "## CP_APR & CP_ALS Profiling"
   ]
  },
  {
   "cell_type": "code",
   "execution_count": null,
   "metadata": {},
   "outputs": [],
   "source": [
    "import cProfile\n",
    "import glob\n",
    "import os\n",
    "import pstats\n",
    "\n",
    "from pyttb import cp_als, cp_apr, import_data, ktensor"
   ]
  },
  {
   "cell_type": "code",
   "execution_count": null,
   "metadata": {},
   "outputs": [],
   "source": [
    "def profile(test_files, ranks, algorithm):\n",
    "    \"\"\"\n",
    "    Profiles the performance of the cp_apr or cp_als algorithm with a set of tensors from test_files and ranks.\n",
    "\n",
    "    Parameters\n",
    "    ----------\n",
    "    test_files:\n",
    "        A list of strings representing the file paths to the test tensors.\n",
    "    ranks:\n",
    "        A list of integers representing the tensor testing ranks.\n",
    "    algorithm:\n",
    "        The algorithm to profile. Should be either 'cp_apr' or 'cp_als'.\n",
    "    \"\"\"\n",
    "\n",
    "    # handle the input function.\n",
    "    alg_func = cp_apr if algorithm == \"cp_apr\" else cp_als\n",
    "\n",
    "    for test_file in test_files:\n",
    "        try:\n",
    "            print(\"*\" * 50)\n",
    "            tensor = import_data(test_file)\n",
    "            # cp_als() and cp_apr() only handles tensors and sptensors, so convert ktensor to tensor\n",
    "            if isinstance(tensor, ktensor):\n",
    "                tensor = tensor.full()\n",
    "            for rank in ranks:\n",
    "                # initialize and enable a profiler\n",
    "                profiler = cProfile.Profile()\n",
    "                profiler.enable()\n",
    "\n",
    "                try:\n",
    "                    M, Minit, output = alg_func(tensor, rank)\n",
    "                # ensure the profiler is always disabled before the next profiler starts\n",
    "                finally:\n",
    "                    profiler.disable()\n",
    "\n",
    "                # sort the statistics based on cumulative time spent on funcs and sub-funcs\n",
    "                stats = pstats.Stats(profiler).sort_stats(\"cumulative\")\n",
    "                print(f\"Test file: {test_file}, Rank: {rank}, Algorithm: {algorithm}\")\n",
    "                stats.print_stats(10)\n",
    "        except Exception as e:\n",
    "            print(\n",
    "                f\"Error when testing {os.path.basename(test_file)} with Rank = {rank} and Algorithm = {algorithm}: {type(e).__name__}: {e}\"\n",
    "            )"
   ]
  },
  {
   "cell_type": "code",
   "execution_count": null,
   "metadata": {},
   "outputs": [],
   "source": [
    "ranks = [2, 3, 4]\n",
    "test_files = glob.glob(\"data/*.tns\")"
   ]
  },
  {
   "cell_type": "code",
   "execution_count": null,
   "metadata": {},
   "outputs": [],
   "source": [
    "# takes ~5m30s for cp_apr and ~9s for cp_als\n",
    "profile(test_files, ranks, 'cp_apr')\n",
    "# profile(test_files, ranks, \"cp_als\")"
   ]
  }
 ],
 "metadata": {
  "kernelspec": {
   "display_name": "Python 3.11.2 64-bit",
   "language": "python",
   "name": "python3"
  },
  "language_info": {
   "codemirror_mode": {
    "name": "ipython",
    "version": 3
   },
   "file_extension": ".py",
   "mimetype": "text/x-python",
   "name": "python",
   "nbconvert_exporter": "python",
   "pygments_lexer": "ipython3",
   "version": "3.11.2"
  },
  "orig_nbformat": 4,
  "vscode": {
   "interpreter": {
    "hash": "b0fa6594d8f4cbf19f97940f81e996739fb7646882a419484c72d19e05852a7e"
   }
  }
 },
 "nbformat": 4,
 "nbformat_minor": 2
}
