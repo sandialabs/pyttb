{
 "cells": [
  {
   "cell_type": "markdown",
   "id": "bd6c352a",
   "metadata": {},
   "source": [
    "# Converting Sparse Tensors to Matrices and vice versa\n",
    "```\n",
    "Copyright 2022 National Technology & Engineering Solutions of Sandia,\n",
    "LLC (NTESS). Under the terms of Contract DE-NA0003525 with NTESS, the\n",
    "U.S. Government retains certain rights in this software.\n",
    "```"
   ]
  },
  {
   "cell_type": "markdown",
   "id": "c73f1a3d",
   "metadata": {},
   "source": [
    "We show how to convert an `sptensor` to a matrix stored in _coordinate_ format with extra information so that is can be convertered back to an `sptensor`."
   ]
  },
  {
   "cell_type": "code",
   "execution_count": null,
   "id": "77bd3fcc",
   "metadata": {},
   "outputs": [],
   "source": [
    "import pyttb as ttb\n",
    "import numpy as np"
   ]
  },
  {
   "cell_type": "markdown",
   "id": "5bcdd7a1",
   "metadata": {},
   "source": [
    "## Creating an `sptenmat` (sparse tensor as sparse matrix) object\n",
    "A sparse tensor can be converted to a sparse matrix, with row and column indices stored explicitly.\n",
    "\n",
    "First, we crease a sparse tensor to be converted."
   ]
  },
  {
   "cell_type": "code",
   "execution_count": null,
   "id": "708ea1cf",
   "metadata": {},
   "outputs": [],
   "source": [
    "np.random.seed(0)  # Random seed for reproducibility\n",
    "X = ttb.sptenrand((10, 10, 10, 10), nonzeros=10)\n",
    "X"
   ]
  },
  {
   "cell_type": "markdown",
   "id": "980a4581",
   "metadata": {},
   "source": [
    "Similar options as `tenmat` are available for `sptenmat`."
   ]
  },
  {
   "cell_type": "code",
   "execution_count": null,
   "id": "f7f260aa",
   "metadata": {},
   "outputs": [],
   "source": [
    "A = ttb.sptenmat.from_tensor_type(X, np.array([0]))  # Mode-0 matricization\n",
    "A"
   ]
  },
  {
   "cell_type": "code",
   "execution_count": null,
   "id": "55e67cf1",
   "metadata": {},
   "outputs": [],
   "source": [
    "A = ttb.sptenmat.from_tensor_type(X, np.array([1, 2]))  # Multiple modes mapped to rows.\n",
    "A"
   ]
  },
  {
   "cell_type": "code",
   "execution_count": null,
   "id": "84a1ce5c",
   "metadata": {},
   "outputs": [],
   "source": [
    "A = ttb.sptenmat.from_tensor_type(\n",
    "    X, cdims=np.array([1, 2])\n",
    ")  # Specify column dimensions.\n",
    "A"
   ]
  },
  {
   "cell_type": "code",
   "execution_count": null,
   "id": "42a84f89",
   "metadata": {},
   "outputs": [],
   "source": [
    "A = ttb.sptenmat.from_tensor_type(\n",
    "    X, np.arange(4)\n",
    ")  # All modes mapped to rows, i.e., vectorize.\n",
    "A"
   ]
  },
  {
   "cell_type": "code",
   "execution_count": null,
   "id": "11b543d2",
   "metadata": {},
   "outputs": [],
   "source": [
    "A = ttb.sptenmat.from_tensor_type(\n",
    "    X, np.array([1])\n",
    ")  # By default, columns are ordered as [0, 2, 3]\n",
    "A"
   ]
  },
  {
   "cell_type": "code",
   "execution_count": null,
   "id": "dd329fc3",
   "metadata": {},
   "outputs": [],
   "source": [
    "A = ttb.sptenmat.from_tensor_type(\n",
    "    X, np.array([1]), np.array([3, 0, 2])\n",
    ")  # Specify explicit ordering\n",
    "A"
   ]
  },
  {
   "cell_type": "code",
   "execution_count": null,
   "id": "006533b3",
   "metadata": {},
   "outputs": [],
   "source": [
    "A = ttb.sptenmat.from_tensor_type(\n",
    "    X, np.array([1]), cdims_cyclic=\"fc\"\n",
    ")  # Forward cyclic column ordering\n",
    "A"
   ]
  },
  {
   "cell_type": "code",
   "execution_count": null,
   "id": "26a3eae4",
   "metadata": {},
   "outputs": [],
   "source": [
    "A = ttb.sptenmat.from_tensor_type(\n",
    "    X, np.array([1]), cdims_cyclic=\"bc\"\n",
    ")  # Backward cyclic column ordering\n",
    "A"
   ]
  },
  {
   "cell_type": "markdown",
   "id": "9340605f",
   "metadata": {},
   "source": [
    "## Constituent parts of an `sptenmat`"
   ]
  },
  {
   "cell_type": "code",
   "execution_count": null,
   "id": "3ba3ef1e",
   "metadata": {},
   "outputs": [],
   "source": [
    "A.subs  # Subscripts of the nonzeros."
   ]
  },
  {
   "cell_type": "code",
   "execution_count": null,
   "id": "ff21b5dc",
   "metadata": {},
   "outputs": [],
   "source": [
    "A.vals  # Corresponding nonzero values."
   ]
  },
  {
   "cell_type": "code",
   "execution_count": null,
   "id": "75193c11",
   "metadata": {},
   "outputs": [],
   "source": [
    "A.tshape  # Shape of the original tensor."
   ]
  },
  {
   "cell_type": "code",
   "execution_count": null,
   "id": "3210d52c",
   "metadata": {},
   "outputs": [],
   "source": [
    "A.rdims  # Dimensions that were mapped to the rows."
   ]
  },
  {
   "cell_type": "code",
   "execution_count": null,
   "id": "848e916c",
   "metadata": {},
   "outputs": [],
   "source": [
    "A.cdims  # Dimensions that were mapped to the columns."
   ]
  },
  {
   "cell_type": "markdown",
   "id": "640de7d7",
   "metadata": {},
   "source": [
    "## Creating an `sptenmat` from its constituent parts"
   ]
  },
  {
   "cell_type": "code",
   "execution_count": null,
   "id": "6c178790",
   "metadata": {},
   "outputs": [],
   "source": [
    "B = ttb.sptenmat.from_data(\n",
    "    A.subs, A.vals, A.rdims, A.cdims, A.tshape\n",
    ")  # Effectively copies A\n",
    "B"
   ]
  },
  {
   "cell_type": "markdown",
   "id": "655152ac",
   "metadata": {},
   "source": [
    "## Creating an `sptenmat` with no nonzeros"
   ]
  },
  {
   "cell_type": "code",
   "execution_count": null,
   "id": "a137cad4",
   "metadata": {},
   "outputs": [],
   "source": [
    "A = ttb.sptenmat.from_data(\n",
    "    rdims=A.rdims, cdims=A.cdims, tshape=A.tshape\n",
    ")  # An empty sptenmat\n",
    "A"
   ]
  },
  {
   "cell_type": "markdown",
   "id": "f0ff0cee",
   "metadata": {},
   "source": [
    "# Creating an empty sptenmat"
   ]
  },
  {
   "cell_type": "code",
   "execution_count": null,
   "id": "b951ba95",
   "metadata": {},
   "outputs": [],
   "source": [
    "A = ttb.sptenmat()  # A really empty sptenmat\n",
    "A"
   ]
  },
  {
   "cell_type": "markdown",
   "id": "e0eae957",
   "metadata": {},
   "source": [
    "## Use `double` to convert an `sptenmat` to a SciPy COO Matrix"
   ]
  },
  {
   "cell_type": "code",
   "execution_count": null,
   "id": "18e3878d",
   "metadata": {},
   "outputs": [],
   "source": [
    "X = ttb.sptenrand((10, 10, 10, 10), nonzeros=10)  # Create sptensor\n",
    "A = ttb.sptenmat.from_tensor_type(X, np.array([0]))  # Convert to an sptenmat\n",
    "A"
   ]
  },
  {
   "cell_type": "code",
   "execution_count": null,
   "id": "b0659ae7",
   "metadata": {},
   "outputs": [],
   "source": [
    "B = A.double()  # Convert to scipy\n",
    "B"
   ]
  },
  {
   "cell_type": "markdown",
   "id": "5ac68973",
   "metadata": {},
   "source": [
    "## Use `full` to convert an `sptenmat` to a `tenmat`"
   ]
  },
  {
   "cell_type": "code",
   "execution_count": null,
   "id": "ba2bf34b",
   "metadata": {},
   "outputs": [],
   "source": [
    "B = ttb.sptenmat.from_tensor_type(ttb.sptenrand((3, 3, 3), nonzeros=3), np.array([0]))\n",
    "B"
   ]
  },
  {
   "cell_type": "code",
   "execution_count": null,
   "id": "0fed6882",
   "metadata": {},
   "outputs": [],
   "source": [
    "C = B.full()\n",
    "C"
   ]
  },
  {
   "cell_type": "markdown",
   "id": "c4c3139d",
   "metadata": {},
   "source": [
    "## Use `to_sptensor` to convert an `sptenmat` to an `sptensor`."
   ]
  },
  {
   "cell_type": "code",
   "execution_count": null,
   "id": "4253e876",
   "metadata": {},
   "outputs": [],
   "source": [
    "Y = B.to_sptensor()\n",
    "Y"
   ]
  },
  {
   "cell_type": "code",
   "execution_count": null,
   "id": "86ae431e",
   "metadata": {},
   "outputs": [],
   "source": [
    "## Access `shape` and `tshape` for dimensions of an `sptenmat`"
   ]
  },
  {
   "cell_type": "code",
   "execution_count": null,
   "id": "5b71f868",
   "metadata": {},
   "outputs": [],
   "source": [
    "print(f\"Matrix shape: {A.shape}\\n\" f\"Original tensor shape: {A.tshape}\")"
   ]
  },
  {
   "cell_type": "code",
   "execution_count": null,
   "id": "37b27807",
   "metadata": {},
   "outputs": [],
   "source": [
    "## Subscripted assignment for an `sptenmat`"
   ]
  },
  {
   "cell_type": "code",
   "execution_count": null,
   "id": "8a173aff",
   "metadata": {},
   "outputs": [],
   "source": [
    "A[0:2, 0:2] = 1\n",
    "A"
   ]
  },
  {
   "cell_type": "code",
   "execution_count": null,
   "id": "d020a1fa",
   "metadata": {},
   "outputs": [],
   "source": [
    "## Basic operations for `sptenmat`"
   ]
  },
  {
   "cell_type": "code",
   "execution_count": null,
   "id": "26a17ebd",
   "metadata": {},
   "outputs": [],
   "source": [
    "A.norm()  # Norm of the matrix."
   ]
  },
  {
   "cell_type": "code",
   "execution_count": null,
   "id": "16306c5d",
   "metadata": {},
   "outputs": [],
   "source": [
    "+A  # Positive version of matrix (no change)"
   ]
  },
  {
   "cell_type": "code",
   "execution_count": null,
   "id": "8182869d",
   "metadata": {},
   "outputs": [],
   "source": [
    "-A  # Negative version of matrix"
   ]
  }
 ],
 "metadata": {},
 "nbformat": 4,
 "nbformat_minor": 5
}
