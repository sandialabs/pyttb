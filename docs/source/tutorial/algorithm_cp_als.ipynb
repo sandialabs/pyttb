{
 "cells": [
  {
   "cell_type": "markdown",
   "metadata": {},
   "source": [
    "# Alternating least squares for Canonical Polyadic (CP) Decomposition\n",
    "\n",
    "```\n",
    "Copyright 2022 National Technology & Engineering Solutions of Sandia,\n",
    "LLC (NTESS). Under the terms of Contract DE-NA0003525 with NTESS, the\n",
    "U.S. Government retains certain rights in this software.\n",
    "```"
   ]
  },
  {
   "cell_type": "markdown",
   "metadata": {},
   "source": [
    "The function `cp_als` computes an estimate of the best rank-$R$ CP model of a tensor $\\mathcal{X}$ using the well-known alternating least-squares algorithm (see, e.g., Kolda and Bader, SIAM Review, 2009, for more information). The input $\\mathcal{X}$ can be almost any type of tensor including a `tensor`, `sptensor`, `ktensor`, or `ttensor`. The output CP model is a `ktensor`."
   ]
  },
  {
   "cell_type": "code",
   "execution_count": 1,
   "metadata": {},
   "outputs": [],
   "source": [
    "import os\n",
    "import sys\n",
    "import pyttb as ttb\n",
    "import numpy as np"
   ]
  },
  {
   "cell_type": "markdown",
   "metadata": {},
   "source": [
    "## Generate data"
   ]
  },
  {
   "cell_type": "code",
   "execution_count": 2,
   "metadata": {},
   "outputs": [],
   "source": [
    "# Pick the rank and shape\n",
    "R = 3\n",
    "tensor_shape = (6, 8, 10)\n",
    "\n",
    "# Set seed for reproducibility\n",
    "np.random.seed(0)\n",
    "\n",
    "# Create a low-rank dense tensor from a Kruskal tensor\n",
    "factor_matrices = [np.random.rand(s,R) for s in tensor_shape]\n",
    "M_true = ttb.ktensor(factor_matrices)\n",
    "X = M_true.to_tensor()"
   ]
  },
  {
   "cell_type": "markdown",
   "metadata": {},
   "source": [
    "## Basic call to the method, specifying the data tensor and its rank\n",
    "This uses a *random* initial guess. At each iteration, it reports the *fit* `f` which is defined as \n",
    "```\n",
    "f = 1 - ( X.norm()**2 + M.norm()**2 - 2*<X,M> ) / X.norm()\n",
    "``` \n",
    "and is loosely the proportion of the data described by the CP model, i.e., a fit of 1 is perfect."
   ]
  },
  {
   "cell_type": "code",
   "execution_count": 3,
   "metadata": {},
   "outputs": [
    {
     "name": "stdout",
     "output_type": "stream",
     "text": [
      "CP_ALS:\n",
      " Iter 0: f = 8.426960e-01 f-delta = 8.4e-01\n",
      " Iter 1: f = 9.014378e-01 f-delta = 5.9e-02\n",
      " Iter 2: f = 9.128262e-01 f-delta = 1.1e-02\n",
      " Iter 3: f = 9.209368e-01 f-delta = 8.1e-03\n",
      " Iter 4: f = 9.286166e-01 f-delta = 7.7e-03\n",
      " Iter 5: f = 9.365676e-01 f-delta = 8.0e-03\n",
      " Iter 6: f = 9.444309e-01 f-delta = 7.9e-03\n",
      " Iter 7: f = 9.514539e-01 f-delta = 7.0e-03\n",
      " Iter 8: f = 9.570292e-01 f-delta = 5.6e-03\n",
      " Iter 9: f = 9.610205e-01 f-delta = 4.0e-03\n",
      " Final f = 9.610205e-01\n"
     ]
    }
   ],
   "source": [
    "# Compute a solution with final ktensor stored in M1\n",
    "np.random.seed(1)  # Set seed for reproducibility\n",
    "few_iters = 10  # Cut off solve early for demo\n",
    "M1, M1_init, M1_info = ttb.cp_als(X, R, maxiters=few_iters)"
   ]
  },
  {
   "cell_type": "markdown",
   "metadata": {},
   "source": [
    "The `cp_als` method returns a the following objects:\n",
    "1. `M1`: the solution as a `ktensor`. \n",
    "2. `M1_init`: the initial guess as a `ktensor` that was generated at runtime since no initial guess was provided. \n",
    "3. `M1_info`: a dictionary containing runtime information with keys:\n",
    "    * `params`: parameters used by `cp_als`\n",
    "    * `iters`: number of iterations performed\n",
    "    * `normresidual`: the norm of the residual `X.norm()**2 + M.norm()**2 - 2*<X,M>`\n",
    "    * `fit`: the fit `f` described above"
   ]
  },
  {
   "cell_type": "code",
   "execution_count": 4,
   "metadata": {},
   "outputs": [
    {
     "name": "stdout",
     "output_type": "stream",
     "text": [
      "M1_info:\n",
      "\tparams: {'stoptol': 0.0001, 'maxiters': 10, 'dimorder': [0, 1, 2], 'printitn': 1, 'fixsigns': True}\n",
      "\titers: 9\n",
      "\tnormresidual: 0.37921276695158984\n",
      "\tfit: 0.9610204980860142\n"
     ]
    }
   ],
   "source": [
    "print(\"M1_info:\")\n",
    "for k, v in M1_info.items(): print(f\"\\t{k}: {v}\")"
   ]
  },
  {
   "cell_type": "markdown",
   "metadata": {},
   "source": [
    "## Run again with a different initial guess, output the initial guess"
   ]
  },
  {
   "cell_type": "code",
   "execution_count": 5,
   "metadata": {},
   "outputs": [
    {
     "name": "stdout",
     "output_type": "stream",
     "text": [
      "CP_ALS:\n",
      " Iter 0: f = 9.232027e-01 f-delta = 9.2e-01\n",
      " Iter 1: f = 9.415585e-01 f-delta = 1.8e-02\n",
      " Iter 2: f = 9.460143e-01 f-delta = 4.5e-03\n",
      " Iter 3: f = 9.485320e-01 f-delta = 2.5e-03\n",
      " Iter 4: f = 9.502871e-01 f-delta = 1.8e-03\n",
      " Iter 5: f = 9.516351e-01 f-delta = 1.3e-03\n",
      " Iter 6: f = 9.527532e-01 f-delta = 1.1e-03\n",
      " Iter 7: f = 9.537623e-01 f-delta = 1.0e-03\n",
      " Iter 8: f = 9.547515e-01 f-delta = 9.9e-04\n",
      " Iter 9: f = 9.557875e-01 f-delta = 1.0e-03\n",
      " Final f = 9.557875e-01\n"
     ]
    }
   ],
   "source": [
    "# Compute a solution with final ktensor stored in M2\n",
    "np.random.seed(2)  # Set seed for reproducibility\n",
    "M2, M2_init, _ = ttb.cp_als(X, R, maxiters=few_iters)  # Will not use third output, so leaving unassigned"
   ]
  },
  {
   "cell_type": "markdown",
   "metadata": {},
   "source": [
    "## Increase the maximum number of iterations\n",
    "Note that the previous run kicked out at only 10 iterations, before reaching the specified convegence tolerance. Let's increase the maximum number of iterations and try again, using the same initial guess."
   ]
  },
  {
   "cell_type": "code",
   "execution_count": 6,
   "metadata": {},
   "outputs": [
    {
     "name": "stdout",
     "output_type": "stream",
     "text": [
      "CP_ALS:\n",
      " Iter 0: f = 9.232027e-01 f-delta = 9.2e-01\n",
      " Iter 1: f = 9.415585e-01 f-delta = 1.8e-02\n",
      " Iter 2: f = 9.460143e-01 f-delta = 4.5e-03\n",
      " Iter 3: f = 9.485320e-01 f-delta = 2.5e-03\n",
      " Iter 4: f = 9.502871e-01 f-delta = 1.8e-03\n",
      " Iter 5: f = 9.516351e-01 f-delta = 1.3e-03\n",
      " Iter 6: f = 9.527532e-01 f-delta = 1.1e-03\n",
      " Iter 7: f = 9.537623e-01 f-delta = 1.0e-03\n",
      " Iter 8: f = 9.547515e-01 f-delta = 9.9e-04\n",
      " Iter 9: f = 9.557875e-01 f-delta = 1.0e-03\n",
      " Iter 10: f = 9.569224e-01 f-delta = 1.1e-03\n",
      " Iter 11: f = 9.581995e-01 f-delta = 1.3e-03\n",
      " Iter 12: f = 9.596531e-01 f-delta = 1.5e-03\n",
      " Iter 13: f = 9.613014e-01 f-delta = 1.6e-03\n",
      " Iter 14: f = 9.631317e-01 f-delta = 1.8e-03\n",
      " Iter 15: f = 9.650854e-01 f-delta = 2.0e-03\n",
      " Iter 16: f = 9.670592e-01 f-delta = 2.0e-03\n",
      " Iter 17: f = 9.689361e-01 f-delta = 1.9e-03\n",
      " Iter 18: f = 9.706308e-01 f-delta = 1.7e-03\n",
      " Iter 19: f = 9.721134e-01 f-delta = 1.5e-03\n",
      " Iter 20: f = 9.733984e-01 f-delta = 1.3e-03\n",
      " Iter 21: f = 9.745196e-01 f-delta = 1.1e-03\n",
      " Iter 22: f = 9.755127e-01 f-delta = 9.9e-04\n",
      " Iter 23: f = 9.764073e-01 f-delta = 8.9e-04\n",
      " Iter 24: f = 9.772262e-01 f-delta = 8.2e-04\n",
      " Iter 25: f = 9.779860e-01 f-delta = 7.6e-04\n",
      " Iter 26: f = 9.786985e-01 f-delta = 7.1e-04\n",
      " Iter 27: f = 9.793724e-01 f-delta = 6.7e-04\n",
      " Iter 28: f = 9.800139e-01 f-delta = 6.4e-04\n",
      " Iter 29: f = 9.806278e-01 f-delta = 6.1e-04\n",
      " Iter 30: f = 9.812174e-01 f-delta = 5.9e-04\n",
      " Iter 31: f = 9.817854e-01 f-delta = 5.7e-04\n",
      " Iter 32: f = 9.823337e-01 f-delta = 5.5e-04\n",
      " Iter 33: f = 9.828638e-01 f-delta = 5.3e-04\n",
      " Iter 34: f = 9.833771e-01 f-delta = 5.1e-04\n",
      " Iter 35: f = 9.838744e-01 f-delta = 5.0e-04\n",
      " Iter 36: f = 9.843567e-01 f-delta = 4.8e-04\n",
      " Iter 37: f = 9.848247e-01 f-delta = 4.7e-04\n",
      " Iter 38: f = 9.852789e-01 f-delta = 4.5e-04\n",
      " Iter 39: f = 9.857198e-01 f-delta = 4.4e-04\n",
      " Iter 40: f = 9.861479e-01 f-delta = 4.3e-04\n",
      " Iter 41: f = 9.865637e-01 f-delta = 4.2e-04\n",
      " Iter 42: f = 9.869675e-01 f-delta = 4.0e-04\n",
      " Iter 43: f = 9.873597e-01 f-delta = 3.9e-04\n",
      " Iter 44: f = 9.877407e-01 f-delta = 3.8e-04\n",
      " Iter 45: f = 9.881107e-01 f-delta = 3.7e-04\n",
      " Iter 46: f = 9.884700e-01 f-delta = 3.6e-04\n",
      " Iter 47: f = 9.888190e-01 f-delta = 3.5e-04\n",
      " Iter 48: f = 9.891579e-01 f-delta = 3.4e-04\n",
      " Iter 49: f = 9.894870e-01 f-delta = 3.3e-04\n",
      " Iter 50: f = 9.898065e-01 f-delta = 3.2e-04\n",
      " Iter 51: f = 9.901168e-01 f-delta = 3.1e-04\n",
      " Iter 52: f = 9.904180e-01 f-delta = 3.0e-04\n",
      " Iter 53: f = 9.907104e-01 f-delta = 2.9e-04\n",
      " Iter 54: f = 9.909942e-01 f-delta = 2.8e-04\n",
      " Iter 55: f = 9.912696e-01 f-delta = 2.8e-04\n",
      " Iter 56: f = 9.915369e-01 f-delta = 2.7e-04\n",
      " Iter 57: f = 9.917963e-01 f-delta = 2.6e-04\n",
      " Iter 58: f = 9.920480e-01 f-delta = 2.5e-04\n",
      " Iter 59: f = 9.922922e-01 f-delta = 2.4e-04\n",
      " Iter 60: f = 9.925290e-01 f-delta = 2.4e-04\n",
      " Iter 61: f = 9.927588e-01 f-delta = 2.3e-04\n",
      " Iter 62: f = 9.929816e-01 f-delta = 2.2e-04\n",
      " Iter 63: f = 9.931977e-01 f-delta = 2.2e-04\n",
      " Iter 64: f = 9.934073e-01 f-delta = 2.1e-04\n",
      " Iter 65: f = 9.936105e-01 f-delta = 2.0e-04\n",
      " Iter 66: f = 9.938075e-01 f-delta = 2.0e-04\n",
      " Iter 67: f = 9.939984e-01 f-delta = 1.9e-04\n",
      " Iter 68: f = 9.941835e-01 f-delta = 1.9e-04\n",
      " Iter 69: f = 9.943629e-01 f-delta = 1.8e-04\n",
      " Iter 70: f = 9.945368e-01 f-delta = 1.7e-04\n",
      " Iter 71: f = 9.947053e-01 f-delta = 1.7e-04\n",
      " Iter 72: f = 9.948686e-01 f-delta = 1.6e-04\n",
      " Iter 73: f = 9.950268e-01 f-delta = 1.6e-04\n",
      " Iter 74: f = 9.951801e-01 f-delta = 1.5e-04\n",
      " Iter 75: f = 9.953287e-01 f-delta = 1.5e-04\n",
      " Iter 76: f = 9.954725e-01 f-delta = 1.4e-04\n",
      " Iter 77: f = 9.956119e-01 f-delta = 1.4e-04\n",
      " Iter 78: f = 9.957469e-01 f-delta = 1.4e-04\n",
      " Iter 79: f = 9.958777e-01 f-delta = 1.3e-04\n",
      " Iter 80: f = 9.960044e-01 f-delta = 1.3e-04\n",
      " Iter 81: f = 9.961270e-01 f-delta = 1.2e-04\n",
      " Iter 82: f = 9.962458e-01 f-delta = 1.2e-04\n",
      " Iter 83: f = 9.963609e-01 f-delta = 1.2e-04\n",
      " Iter 84: f = 9.964723e-01 f-delta = 1.1e-04\n",
      " Iter 85: f = 9.965802e-01 f-delta = 1.1e-04\n",
      " Iter 86: f = 9.966847e-01 f-delta = 1.0e-04\n",
      " Iter 87: f = 9.967859e-01 f-delta = 1.0e-04\n",
      " Iter 88: f = 9.968838e-01 f-delta = 9.8e-05\n",
      " Final f = 9.968838e-01\n"
     ]
    }
   ],
   "source": [
    "more_iters = 10 * few_iters\n",
    "M2_better, _, _ = ttb.cp_als(X, R, maxiters=more_iters, init=M2_init)"
   ]
  },
  {
   "cell_type": "markdown",
   "metadata": {},
   "source": [
    "## Compare the two solutions\n",
    "Use the `ktensor` `score()` member function to compare the two solutions. A score of 1 indicates a perfect match."
   ]
  },
  {
   "cell_type": "code",
   "execution_count": 7,
   "metadata": {},
   "outputs": [],
   "source": [
    "score_M2 = M2.score(M_true)\n",
    "score_M2_better = M2_better.score(M_true)"
   ]
  },
  {
   "cell_type": "markdown",
   "metadata": {},
   "source": [
    "Here, `score()` returns a tuple with the score as the first element:"
   ]
  },
  {
   "cell_type": "code",
   "execution_count": 8,
   "metadata": {},
   "outputs": [
    {
     "name": "stdout",
     "output_type": "stream",
     "text": [
      "Score of M2 and M_true: 0.5167723537387389\n",
      "Score of M2_better and M_true: 0.9519267496183975\n"
     ]
    }
   ],
   "source": [
    "print(f\"Score of M2 and M_true: {score_M2[0]}\")\n",
    "print(f\"Score of M2_better and M_true: {score_M2_better[0]}\")"
   ]
  },
  {
   "cell_type": "markdown",
   "metadata": {},
   "source": [
    "See the `ktensor` documentation for more information about the return values of `score()`."
   ]
  },
  {
   "cell_type": "markdown",
   "metadata": {},
   "source": [
    "## Rerun with same initial guess\n",
    "Using the same initial guess (and all other parameters) gives the exact same solution."
   ]
  },
  {
   "cell_type": "code",
   "execution_count": 9,
   "metadata": {},
   "outputs": [
    {
     "name": "stdout",
     "output_type": "stream",
     "text": [
      "CP_ALS:\n",
      " Iter 0: f = 9.232027e-01 f-delta = 9.2e-01\n",
      " Iter 1: f = 9.415585e-01 f-delta = 1.8e-02\n",
      " Iter 2: f = 9.460143e-01 f-delta = 4.5e-03\n",
      " Iter 3: f = 9.485320e-01 f-delta = 2.5e-03\n",
      " Iter 4: f = 9.502871e-01 f-delta = 1.8e-03\n",
      " Iter 5: f = 9.516351e-01 f-delta = 1.3e-03\n",
      " Iter 6: f = 9.527532e-01 f-delta = 1.1e-03\n",
      " Iter 7: f = 9.537623e-01 f-delta = 1.0e-03\n",
      " Iter 8: f = 9.547515e-01 f-delta = 9.9e-04\n",
      " Iter 9: f = 9.557875e-01 f-delta = 1.0e-03\n",
      " Final f = 9.557875e-01\n",
      "Score: 1.0000000000000007\n"
     ]
    }
   ],
   "source": [
    "M2_rerun, _, _ = ttb.cp_als(X, R, maxiters=few_iters, init=M2_init)\n",
    "score_M2_rerun = M2.score(M2_rerun)  # Score of 1 indicates the same solution\n",
    "print(f\"Score: {score_M2_rerun[0]}\")"
   ]
  },
  {
   "cell_type": "markdown",
   "metadata": {},
   "source": [
    "## Changing the output frequency\n",
    "Using the `printitn` option to change the output frequency."
   ]
  },
  {
   "cell_type": "code",
   "execution_count": 10,
   "metadata": {},
   "outputs": [
    {
     "name": "stdout",
     "output_type": "stream",
     "text": [
      "CP_ALS:\n",
      " Iter 0: f = 8.805093e-01 f-delta = 8.8e-01\n",
      " Iter 2: f = 9.379232e-01 f-delta = 1.5e-02\n",
      " Iter 4: f = 9.445392e-01 f-delta = 3.0e-03\n",
      " Iter 6: f = 9.492378e-01 f-delta = 2.2e-03\n",
      " Iter 8: f = 9.532334e-01 f-delta = 2.0e-03\n",
      " Final f = 9.552078e-01\n"
     ]
    }
   ],
   "source": [
    "M = ttb.cp_als(X, R, maxiters=few_iters, printitn=2)"
   ]
  },
  {
   "cell_type": "markdown",
   "metadata": {},
   "source": [
    "## Suppress all output\n",
    "Set `printitn` to zero to suppress all output."
   ]
  },
  {
   "cell_type": "code",
   "execution_count": 11,
   "metadata": {},
   "outputs": [],
   "source": [
    "M = ttb.cp_als(X, R, maxiters=few_iters, printitn=0)  # No output"
   ]
  },
  {
   "cell_type": "markdown",
   "metadata": {},
   "source": [
    "## Use HOSVD initial guess\n",
    "Use the `\"nvecs\"` option to use the leading mode-$n$ singular vectors as the initial guess. The initialization process will require more computation in general, but it may lead to better solutions."
   ]
  },
  {
   "cell_type": "code",
   "execution_count": 12,
   "metadata": {},
   "outputs": [
    {
     "name": "stdout",
     "output_type": "stream",
     "text": [
      "Score of M2 and M_true: 0.5167723537387389\n",
      "Score of M3 and M_true: 0.5406177000260891\n"
     ]
    }
   ],
   "source": [
    "M3, _, _ = ttb.cp_als(X, R, maxiters=few_iters, init=\"nvecs\", printitn=0)\n",
    "score_M3 = M3.score(M_true)\n",
    "print(f\"Score of M2 and M_true: {score_M2[0]}\")\n",
    "print(f\"Score of M3 and M_true: {score_M3[0]}\")\n"
   ]
  },
  {
   "cell_type": "markdown",
   "metadata": {},
   "source": [
    "## Change the order of the dimensions in CP\n",
    "Changing the order of the dimensions in which `cp_als` iterates over the input tensor can lead to a different solution."
   ]
  },
  {
   "cell_type": "code",
   "execution_count": 13,
   "metadata": {},
   "outputs": [
    {
     "name": "stdout",
     "output_type": "stream",
     "text": [
      "Score of M3 and M_true: 0.5406177000260891\n",
      "Score of M4 and M_true: 0.631431759054776\n"
     ]
    }
   ],
   "source": [
    "M4, _, M4_info = ttb.cp_als(X, R, maxiters=few_iters, init=\"nvecs\", printitn=0, dimorder=[2, 1, 0])\n",
    "score_M4 = M4.score(M_true)\n",
    "print(f\"Score of M3 and M_true: {score_M3[0]}\")\n",
    "print(f\"Score of M4 and M_true: {score_M4[0]}\")\n"
   ]
  },
  {
   "cell_type": "markdown",
   "metadata": {},
   "source": [
    "In the last example, we also collected the third output argument `M4_info` which has runtime information in it. The field `M4_info[\"iters\"]` has the total number of iterations. The field `M4_info[\"params\"]` has the information used to run the method. Unless the initialization method is `\"random\"`, passing the parameters back to the method will yield the exact same results."
   ]
  },
  {
   "cell_type": "code",
   "execution_count": 14,
   "metadata": {},
   "outputs": [
    {
     "name": "stdout",
     "output_type": "stream",
     "text": [
      "Score of M4 and M4_rerun: 0.9999999999999986\n",
      "M4_info:\n",
      "\tparams: {'stoptol': 0.0001, 'maxiters': 10, 'dimorder': [2, 1, 0], 'printitn': 0, 'fixsigns': True}\n",
      "\titers: 9\n",
      "\tnormresidual: 0.45173622073800845\n",
      "\tfit: 0.9535657698910707\n",
      "M4_rerun_info:\n",
      "\tparams: {'stoptol': 0.0001, 'maxiters': 10, 'dimorder': [2, 1, 0], 'printitn': 0, 'fixsigns': True}\n",
      "\titers: 9\n",
      "\tnormresidual: 0.4517362207380714\n",
      "\tfit: 0.9535657698910641\n"
     ]
    }
   ],
   "source": [
    "M4_rerun, _, M4_rerun_info = ttb.cp_als(X, R, init=\"nvecs\", **M4_info[\"params\"])\n",
    "score_M4_rerun = M4.score(M4_rerun)\n",
    "print(f\"Score of M4 and M4_rerun: {score_M4_rerun[0]}\")\n",
    "\n",
    "print(\"M4_info:\")\n",
    "for k, v in M4_info.items(): print(f\"\\t{k}: {v}\")\n",
    "\n",
    "print(\"M4_rerun_info:\")\n",
    "for k, v in M4_rerun_info.items(): print(f\"\\t{k}: {v}\")"
   ]
  },
  {
   "cell_type": "markdown",
   "metadata": {},
   "source": [
    "## Change the stopping tolerance\n",
    "It's also possible to loosen or tighten the stopping tolerance on the change in the fit. Note that you may need to increase the number of iterations for it to converge."
   ]
  },
  {
   "cell_type": "code",
   "execution_count": 15,
   "metadata": {},
   "outputs": [
    {
     "name": "stdout",
     "output_type": "stream",
     "text": [
      "CP_ALS:\n",
      " Iter 0: f = 8.214438e-01 f-delta = 8.2e-01\n",
      " Iter 100: f = 9.983903e-01 f-delta = 5.1e-05\n",
      " Iter 200: f = 9.999079e-01 f-delta = 2.5e-06\n",
      " Iter 300: f = 9.999932e-01 f-delta = 1.8e-07\n",
      " Iter 400: f = 9.999995e-01 f-delta = 1.3e-08\n",
      " Iter 449: f = 9.999999e-01 f-delta = 0.0e+00\n",
      " Final f = 9.999999e-01\n"
     ]
    }
   ],
   "source": [
    "M5 = ttb.cp_als(X, R, init=\"nvecs\", maxiters=1000, stoptol=1e-12, printitn=100)"
   ]
  },
  {
   "cell_type": "markdown",
   "metadata": {},
   "source": [
    "## Control sign ambiguity of factor matrices\n",
    "The default behavior of `cp_als` is to make a call to `fixsigns()` to fix the sign ambiguity of the factor matrices. You can turn off this behavior by passing the `fixsigns` parameter value of `False` when calling `cp_als`."
   ]
  },
  {
   "cell_type": "code",
   "execution_count": 25,
   "metadata": {},
   "outputs": [
    {
     "name": "stdout",
     "output_type": "stream",
     "text": [
      "X2=\n",
      "ktensor of shape (2, 2)\n",
      "weights=[1. 1.]\n",
      "factor_matrices[0] =\n",
      "[[  1.   1.]\n",
      " [ -1. -10.]]\n",
      "factor_matrices[1] =\n",
      "[[  1.   1.]\n",
      " [ -2. -10.]]\n",
      "\n",
      "M_fixsigns=\n",
      "ktensor of shape (2, 2)\n",
      "weights=[101.           3.16227766]\n",
      "factor_matrices[0] =\n",
      "[[-0.09950372 -0.70710678]\n",
      " [ 0.99503719  0.70710678]]\n",
      "factor_matrices[1] =\n",
      "[[-0.09950372 -0.4472136 ]\n",
      " [ 0.99503719  0.89442719]]\n",
      "\n",
      "M_no_fixsigns=\n",
      "ktensor of shape (2, 2)\n",
      "weights=[101.           3.16227766]\n",
      "factor_matrices[0] =\n",
      "[[ 0.09950372  0.70710678]\n",
      " [-0.99503719 -0.70710678]]\n",
      "factor_matrices[1] =\n",
      "[[ 0.09950372  0.4472136 ]\n",
      " [-0.99503719 -0.89442719]]\n",
      "\n"
     ]
    }
   ],
   "source": [
    "# Create rank-2 tensor \n",
    "X2 = ttb.ktensor(\n",
    "    factor_matrices=[\n",
    "        np.array([[1.0, 1.0], [-1.0, -10.0]]),\n",
    "        np.array([[1.0, 1.0], [-2.0, -10.0]]),\n",
    "    ],\n",
    "    weights=np.array([1.0, 1.0])\n",
    ")\n",
    "print(f\"X2=\\n{X2}\\n\")\n",
    "\n",
    "M_fixsigns, _, _ = ttb.cp_als(X2, 2, printitn=0, init=ttb.ktensor(X2.factor_matrices))\n",
    "print(f\"M_fixsigns=\\n{M_fixsigns}\\n\")  # default behavior, fixsigns called\n",
    "\n",
    "M_no_fixsigns, _, _ = ttb.cp_als(X2, 2, printitn=0, init=ttb.ktensor(X2.factor_matrices), fixsigns=False)\n",
    "print(f\"M_no_fixsigns=\\n{M_no_fixsigns}\\n\")  # fixsigns not called\n"
   ]
  },
  {
   "cell_type": "markdown",
   "metadata": {},
   "source": [
    "## Recommendations\n",
    "* Run multiple times with different guesses and select the solution with the best fit.\n",
    "* Try different ranks and choose the solution that is the best descriptor for your data based on the combination of the fit and the interpretation of the factors, e.g., by visualizing the results."
   ]
  }
 ],
 "metadata": {
  "kernelspec": {
   "display_name": "base",
   "language": "python",
   "name": "python3"
  },
  "language_info": {
   "codemirror_mode": {
    "name": "ipython",
    "version": 3
   },
   "file_extension": ".py",
   "mimetype": "text/x-python",
   "name": "python",
   "nbconvert_exporter": "python",
   "pygments_lexer": "ipython3",
   "version": "3.9.13"
  }
 },
 "nbformat": 4,
 "nbformat_minor": 2
}
