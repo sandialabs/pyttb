{
 "cells": [
  {
   "cell_type": "markdown",
   "metadata": {},
   "source": [
    "# Alternating least squares for Tucker model\n",
    "\n",
    "```\n",
    "Copyright 2022 National Technology & Engineering Solutions of Sandia,\n",
    "LLC (NTESS). Under the terms of Contract DE-NA0003525 with NTESS, the\n",
    "U.S. Government retains certain rights in this software.\n",
    "```"
   ]
  },
  {
   "cell_type": "markdown",
   "metadata": {},
   "source": [
    "The function `pyttb.tucker_als()` computes the best rank(R1,R2,..,Rn) approximation of tensor X, according to the specified dimensions in vector R. The input X can be a `tensor`, `sptensor`, `ktensor`, or `ttensor`. The result returned in T is a ttensor.\n",
    "\n",
    "The method is originally from Tucker (1966) and later revisited in De Lathauwer et al. (2000).\n",
    "\n",
    "* L. R. Tucker, Some mathematical notes on three-mode factor analysis, Psychometrika, 31:279-311, 1966, http://dx.doi.org/10.1007/BF02289464\n",
    "* L. De Lathauwer, B. De Moor, J. Vandewalle, On the best rank-1 and rank-(R_1, R_2, R_N) approximation of higher-order tensors, SIAM J. Matrix Analysis and Applications, 21:1324-1342, 2000, http://doi.org/10.1137/S0895479898346995\n",
    "\n",
    "Note: Oftentimes it's better to use `pyttb.hosvd()` instead."
   ]
  },
  {
   "cell_type": "code",
   "execution_count": 15,
   "metadata": {},
   "outputs": [],
   "source": [
    "import os\n",
    "import sys\n",
    "import pyttb as ttb\n",
    "import numpy as np"
   ]
  },
  {
   "cell_type": "markdown",
   "metadata": {},
   "source": [
    "## Create a data tensor of size [5 4 3]"
   ]
  },
  {
   "cell_type": "code",
   "execution_count": 16,
   "metadata": {},
   "outputs": [
    {
     "data": {
      "text/plain": [
       "Sparse tensor of shape [5, 4, 3] with 10 nonzeros\n",
       "[0, 0, 2] = 0.26455561210462697\n",
       "[0, 2, 0] = 0.7742336894342167\n",
       "[1, 3, 1] = 0.45615033221654855\n",
       "[2, 1, 1] = 0.5684339488686485\n",
       "[2, 2, 1] = 0.018789800436355142\n",
       "[2, 3, 0] = 0.6176354970758771\n",
       "[2, 3, 2] = 0.6120957227224214\n",
       "[3, 1, 2] = 0.6169339968747569\n",
       "[3, 3, 2] = 0.9437480785146242\n",
       "[4, 2, 1] = 0.6818202991034834"
      ]
     },
     "execution_count": 16,
     "metadata": {},
     "output_type": "execute_result"
    }
   ],
   "source": [
    "np.random.seed(0)  # Set seed for reproducibility\n",
    "X = ttb.sptenrand(\n",
    "    [5, 4, 3], nonzeros=10\n",
    ")  # Create a tensor with 10 nonzeros using the 'nonzeros' param.\n",
    "X"
   ]
  },
  {
   "cell_type": "markdown",
   "metadata": {},
   "source": [
    "## Create a [2 2 2] approximation"
   ]
  },
  {
   "cell_type": "code",
   "execution_count": 17,
   "metadata": {},
   "outputs": [
    {
     "name": "stdout",
     "output_type": "stream",
     "text": [
      "\n",
      "Tucker Alternating Least-Squares:\n",
      "\n",
      " Iter 0: fit = 3.447071e-01 fitdelta = 3.4e-01\n",
      "\n",
      " Iter 1: fit = 3.633748e-01 fitdelta = 1.9e-02\n",
      "\n",
      " Iter 2: fit = 3.666282e-01 fitdelta = 3.3e-03\n",
      "\n",
      " Iter 3: fit = 3.689686e-01 fitdelta = 2.3e-03\n",
      "\n",
      " Iter 4: fit = 3.706438e-01 fitdelta = 1.7e-03\n",
      "\n",
      " Iter 5: fit = 3.717753e-01 fitdelta = 1.1e-03\n",
      "\n",
      " Iter 6: fit = 3.725083e-01 fitdelta = 7.3e-04\n",
      "\n",
      " Iter 7: fit = 3.729702e-01 fitdelta = 4.6e-04\n",
      "\n",
      " Iter 8: fit = 3.732561e-01 fitdelta = 2.9e-04\n",
      "\n",
      " Iter 9: fit = 3.734310e-01 fitdelta = 1.7e-04\n",
      "\n",
      " Iter 10: fit = 3.735372e-01 fitdelta = 1.1e-04\n",
      "\n",
      " Iter 11: fit = 3.736015e-01 fitdelta = 6.4e-05\n",
      "\n"
     ]
    },
    {
     "data": {
      "text/plain": [
       "(Tensor of shape: (5, 4, 3)\n",
       " \tCore is a\n",
       " \ttensor of shape (2, 2, 2)\n",
       " \tdata[0, :, :] =\n",
       " \t[[ 1.27279000e+00 -1.58509942e-01]\n",
       " \t [-1.67070163e-03  9.78557798e-04]]\n",
       " \tdata[1, :, :] =\n",
       " \t[[1.01465015e-04 3.11484405e-03]\n",
       " \t [2.79556305e-01 7.21683557e-01]]\tU[0] = \n",
       " \t\t[[ 5.54196607e-04  9.98323007e-01]\n",
       " \t\t [ 3.62027807e-02 -5.10572842e-06]\n",
       " \t\t [ 5.43516219e-01  1.94246971e-03]\n",
       " \t\t [ 8.38617413e-01 -1.92351491e-03]\n",
       " \t\t [ 7.34446743e-05  5.78247452e-02]]\n",
       " \tU[1] = \n",
       " \t\t[[-5.54213670e-05 -5.63307471e-04]\n",
       " \t\t [ 4.16133877e-01 -1.66331412e-03]\n",
       " \t\t [ 2.36213646e-03  9.99996772e-01]\n",
       " \t\t [ 9.09300288e-01 -1.83657557e-03]]\n",
       " \tU[2] = \n",
       " \t\t[[ 0.35603206  0.93309453]\n",
       " \t\t [ 0.11412179  0.01048844]\n",
       " \t\t [ 0.92747905 -0.35947823]],\n",
       " [None,\n",
       "  array([[0.3595079 , 0.43703195],\n",
       "         [0.6976312 , 0.06022547],\n",
       "         [0.66676672, 0.67063787],\n",
       "         [0.21038256, 0.1289263 ]]),\n",
       "  array([[0.31542835, 0.36371077],\n",
       "         [0.57019677, 0.43860151],\n",
       "         [0.98837384, 0.10204481]])],\n",
       " {'params': (0.0001, 1000, 1, [0, 1, 2]),\n",
       "  'iters': 11,\n",
       "  'normresidual': 1.2038024607325752,\n",
       "  'fit': 0.3736014755013253})"
      ]
     },
     "execution_count": 17,
     "metadata": {},
     "output_type": "execute_result"
    }
   ],
   "source": [
    "T = ttb.tucker_als(X,2) # best rank(2,2,2) approximation\n",
    "T"
   ]
  },
  {
   "cell_type": "markdown",
   "metadata": {},
   "source": [
    "## Create a [2 2 1] approximation"
   ]
  },
  {
   "cell_type": "code",
   "execution_count": 18,
   "metadata": {},
   "outputs": [
    {
     "name": "stdout",
     "output_type": "stream",
     "text": [
      "\n",
      "Tucker Alternating Least-Squares:\n",
      "\n",
      " Iter 0: fit = 9.473514e-02 fitdelta = 9.5e-02\n",
      "\n",
      " Iter 1: fit = 2.296442e-01 fitdelta = 1.3e-01\n",
      "\n",
      " Iter 2: fit = 2.670080e-01 fitdelta = 3.7e-02\n",
      "\n",
      " Iter 3: fit = 2.755574e-01 fitdelta = 8.5e-03\n",
      "\n",
      " Iter 4: fit = 2.770953e-01 fitdelta = 1.5e-03\n",
      "\n",
      " Iter 5: fit = 2.773711e-01 fitdelta = 2.8e-04\n",
      "\n",
      " Iter 6: fit = 2.774238e-01 fitdelta = 5.3e-05\n",
      "\n"
     ]
    },
    {
     "data": {
      "text/plain": [
       "(Tensor of shape: (5, 4, 3)\n",
       " \tCore is a\n",
       " \ttensor of shape (2, 2, 1)\n",
       " \tdata[0, :, :] =\n",
       " \t[[ 1.27097122e+00]\n",
       " \t [-2.09211686e-05]]\n",
       " \tdata[1, :, :] =\n",
       " \t[[-3.74534404e-05]\n",
       " \t [ 3.86751630e-01]]\tU[0] = \n",
       " \t\t[[ 3.03244294e-04  9.82053530e-01]\n",
       " \t\t [ 4.42778953e-02  1.49740989e-04]\n",
       " \t\t [ 6.01599455e-01  6.18051935e-03]\n",
       " \t\t [ 7.97569723e-01 -5.06514409e-03]\n",
       " \t\t [ 9.11526161e-05  1.88432980e-01]]\n",
       " \tU[1] = \n",
       " \t\t[[ 5.74845811e-05  6.08196916e-01]\n",
       " \t\t [ 3.89880068e-01 -6.10988633e-03]\n",
       " \t\t [ 1.26736143e-03  7.93761336e-01]\n",
       " \t\t [ 9.20864769e-01  1.45643367e-03]]\n",
       " \tU[2] = \n",
       " \t\t[[0.3786518 ]\n",
       " \t\t [0.13177771]\n",
       " \t\t [0.91610996]],\n",
       " [None,\n",
       "  array([[0.20887676, 0.16130952],\n",
       "         [0.65310833, 0.2532916 ],\n",
       "         [0.46631077, 0.24442559],\n",
       "         [0.15896958, 0.11037514]]),\n",
       "  array([[0.65632959],\n",
       "         [0.13818295],\n",
       "         [0.19658236]])],\n",
       " {'params': (0.0001, 1000, 1, [0, 1, 2]),\n",
       "  'iters': 6,\n",
       "  'normresidual': 1.3886352427479627,\n",
       "  'fit': 0.27742375057545454})"
      ]
     },
     "execution_count": 18,
     "metadata": {},
     "output_type": "execute_result"
    }
   ],
   "source": [
    "T = ttb.tucker_als(X, [2, 2, 1])  # best rank(2,2,1) approximation\n",
    "T"
   ]
  },
  {
   "cell_type": "markdown",
   "metadata": {},
   "source": [
    "## Use a different ordering of the dimensions"
   ]
  },
  {
   "cell_type": "code",
   "execution_count": 22,
   "metadata": {},
   "outputs": [
    {
     "name": "stdout",
     "output_type": "stream",
     "text": [
      "\n",
      "Tucker Alternating Least-Squares:\n",
      "\n"
     ]
    },
    {
     "ename": "AttributeError",
     "evalue": "'NoneType' object has no attribute 'shape'",
     "output_type": "error",
     "traceback": [
      "\u001b[0;31m---------------------------------------------------------------------------\u001b[0m",
      "\u001b[0;31mAttributeError\u001b[0m                            Traceback (most recent call last)",
      "Cell \u001b[0;32mIn[22], line 2\u001b[0m\n\u001b[1;32m      1\u001b[0m \u001b[39m# TODO this will pass when issue #239 is resolved\u001b[39;00m\n\u001b[0;32m----> 2\u001b[0m T \u001b[39m=\u001b[39m ttb\u001b[39m.\u001b[39;49mtucker_als(X, \u001b[39m2\u001b[39;49m, dimorder\u001b[39m=\u001b[39;49m[\u001b[39m2\u001b[39;49m, \u001b[39m1\u001b[39;49m, \u001b[39m0\u001b[39;49m])\n\u001b[1;32m      3\u001b[0m T\n",
      "File \u001b[0;32m~/Tamales/pyttb/pyttb/tucker_als.py:151\u001b[0m, in \u001b[0;36mtucker_als\u001b[0;34m(input_tensor, rank, stoptol, maxiters, dimorder, init, printitn)\u001b[0m\n\u001b[1;32m    149\u001b[0m \u001b[39m# Iterate over all N modes of the tensor\u001b[39;00m\n\u001b[1;32m    150\u001b[0m \u001b[39mfor\u001b[39;00m n \u001b[39min\u001b[39;00m dimorder:\n\u001b[0;32m--> 151\u001b[0m     Utilde \u001b[39m=\u001b[39m input_tensor\u001b[39m.\u001b[39;49mttm(U, exclude_dims\u001b[39m=\u001b[39;49mn, transpose\u001b[39m=\u001b[39;49m\u001b[39mTrue\u001b[39;49;00m)\n\u001b[1;32m    152\u001b[0m     \u001b[39m# Maximize norm(Utilde x_n W') wrt W and\u001b[39;00m\n\u001b[1;32m    153\u001b[0m     \u001b[39m# maintain orthonormality of W\u001b[39;00m\n\u001b[1;32m    154\u001b[0m     U[n] \u001b[39m=\u001b[39m Utilde\u001b[39m.\u001b[39mnvecs(n, rank[n])\n",
      "File \u001b[0;32m~/Tamales/pyttb/pyttb/sptensor.py:2586\u001b[0m, in \u001b[0;36msptensor.ttm\u001b[0;34m(self, matrices, dims, exclude_dims, transpose)\u001b[0m\n\u001b[1;32m   2584\u001b[0m [dims, vidx] \u001b[39m=\u001b[39m tt_dimscheck(\u001b[39mself\u001b[39m\u001b[39m.\u001b[39mndims, \u001b[39mlen\u001b[39m(matrices), dims, exclude_dims)\n\u001b[1;32m   2585\u001b[0m \u001b[39m# Calculate individual products\u001b[39;00m\n\u001b[0;32m-> 2586\u001b[0m Y \u001b[39m=\u001b[39m \u001b[39mself\u001b[39;49m\u001b[39m.\u001b[39;49mttm(matrices[vidx[\u001b[39m0\u001b[39;49m]], dims[\u001b[39m0\u001b[39;49m], transpose\u001b[39m=\u001b[39;49mtranspose)\n\u001b[1;32m   2587\u001b[0m \u001b[39mfor\u001b[39;00m i \u001b[39min\u001b[39;00m \u001b[39mrange\u001b[39m(\u001b[39m1\u001b[39m, dims\u001b[39m.\u001b[39msize):\n\u001b[1;32m   2588\u001b[0m     Y \u001b[39m=\u001b[39m Y\u001b[39m.\u001b[39mttm(matrices[vidx[i]], dims[i], transpose\u001b[39m=\u001b[39mtranspose)\n",
      "File \u001b[0;32m~/Tamales/pyttb/pyttb/sptensor.py:2592\u001b[0m, in \u001b[0;36msptensor.ttm\u001b[0;34m(self, matrices, dims, exclude_dims, transpose)\u001b[0m\n\u001b[1;32m   2589\u001b[0m     \u001b[39mreturn\u001b[39;00m Y\n\u001b[1;32m   2591\u001b[0m \u001b[39m# Check matrices\u001b[39;00m\n\u001b[0;32m-> 2592\u001b[0m \u001b[39mif\u001b[39;00m \u001b[39mlen\u001b[39m(matrices\u001b[39m.\u001b[39;49mshape) \u001b[39m!=\u001b[39m \u001b[39m2\u001b[39m:\n\u001b[1;32m   2593\u001b[0m     \u001b[39massert\u001b[39;00m \u001b[39mFalse\u001b[39;00m, \u001b[39m\"\u001b[39m\u001b[39mSptensor.ttm: second argument must be a matrix\u001b[39m\u001b[39m\"\u001b[39m\n\u001b[1;32m   2595\u001b[0m \u001b[39m# Flip matrices if transposed\u001b[39;00m\n",
      "\u001b[0;31mAttributeError\u001b[0m: 'NoneType' object has no attribute 'shape'"
     ]
    }
   ],
   "source": [
    "# TODO this will pass when issue #239 is resolved\n",
    "T = ttb.tucker_als(X, 2, dimorder=[2, 1, 0])\n",
    "T"
   ]
  },
  {
   "cell_type": "markdown",
   "metadata": {},
   "source": [
    "## Use the n-vecs initialization method\n",
    "This initialization is more expensive but generally works very well."
   ]
  },
  {
   "cell_type": "code",
   "execution_count": 25,
   "metadata": {},
   "outputs": [
    {
     "name": "stdout",
     "output_type": "stream",
     "text": [
      " Computing 2 leading e-vector for factor 1.\n",
      "\n",
      " Computing 2 leading e-vector for factor 2.\n",
      "\n",
      "\n",
      "Tucker Alternating Least-Squares:\n",
      "\n",
      " Iter 0: fit = 3.431977e-01 fitdelta = 3.4e-01\n",
      "\n",
      " Iter 1: fit = 3.452953e-01 fitdelta = 2.1e-03\n",
      "\n",
      " Iter 2: fit = 3.454463e-01 fitdelta = 1.5e-04\n",
      "\n",
      " Iter 3: fit = 3.454585e-01 fitdelta = 1.2e-05\n",
      "\n"
     ]
    },
    {
     "data": {
      "text/plain": [
       "(Tensor of shape: (5, 4, 3)\n",
       " \tCore is a\n",
       " \ttensor of shape (2, 2, 2)\n",
       " \tdata[0, :, :] =\n",
       " \t[[ 1.28134569 -0.05410898]\n",
       " \t [-0.00423492  0.03494158]]\n",
       " \tdata[1, :, :] =\n",
       " \t[[-0.01678659  0.01336928]\n",
       " \t [ 0.10347465  0.67364048]]\tU[0] = \n",
       " \t\t[[-2.25372685e-04 -2.31002840e-03]\n",
       " \t\t [ 3.60504385e-02 -8.44144689e-03]\n",
       " \t\t [ 5.42954195e-01  4.24222481e-02]\n",
       " \t\t [ 8.38872743e-01 -4.36495907e-02]\n",
       " \t\t [ 1.39132432e-02  9.98107445e-01]]\n",
       " \tU[1] = \n",
       " \t\t[[-3.81204622e-05  2.66340731e-06]\n",
       " \t\t [ 4.16865412e-01  4.75019433e-02]\n",
       " \t\t [ 6.11161335e-03  9.98464506e-01]\n",
       " \t\t [ 9.08947675e-01 -2.84990509e-02]]\n",
       " \tU[2] = \n",
       " \t\t[[ 0.23592519 -0.03977318]\n",
       " \t\t [ 0.15389222  0.98808283]\n",
       " \t\t [ 0.95950846 -0.14869568]],\n",
       " [None,\n",
       "  array([[ 1.11022302e-16-0.j,  3.33066907e-16-0.j],\n",
       "         [ 3.85357475e-01-0.j,  1.35152399e-02-0.j],\n",
       "         [ 3.98308926e-03-0.j,  9.99859058e-01-0.j],\n",
       "         [ 9.22758772e-01-0.j, -9.96005336e-03+0.j]]),\n",
       "  array([[-0.        , -0.        ],\n",
       "         [-0.38920902,  0.92114947],\n",
       "         [ 0.92114947,  0.38920902]])],\n",
       " {'params': (0.0001, 1000, 1, [0, 1, 2]),\n",
       "  'iters': 3,\n",
       "  'normresidual': 1.2578871401165315,\n",
       "  'fit': 0.34545851644517145})"
      ]
     },
     "execution_count": 25,
     "metadata": {},
     "output_type": "execute_result"
    }
   ],
   "source": [
    "T = ttb.tucker_als(X,2,dimorder=[0,1,2],init='nvecs')\n",
    "T"
   ]
  },
  {
   "cell_type": "markdown",
   "metadata": {},
   "source": [
    "## Specify the initial guess manually"
   ]
  },
  {
   "cell_type": "code",
   "execution_count": 33,
   "metadata": {},
   "outputs": [
    {
     "name": "stdout",
     "output_type": "stream",
     "text": [
      "\n",
      "Tucker Alternating Least-Squares:\n",
      "\n",
      " Iter 0: fit = 3.398505e-01 fitdelta = 3.4e-01\n",
      "\n",
      " Iter 1: fit = 3.714782e-01 fitdelta = 3.2e-02\n",
      "\n",
      " Iter 2: fit = 3.724886e-01 fitdelta = 1.0e-03\n",
      "\n",
      " Iter 3: fit = 3.729588e-01 fitdelta = 4.7e-04\n",
      "\n",
      " Iter 4: fit = 3.732491e-01 fitdelta = 2.9e-04\n",
      "\n",
      " Iter 5: fit = 3.734267e-01 fitdelta = 1.8e-04\n",
      "\n",
      " Iter 6: fit = 3.735346e-01 fitdelta = 1.1e-04\n",
      "\n",
      " Iter 7: fit = 3.735999e-01 fitdelta = 6.5e-05\n",
      "\n"
     ]
    },
    {
     "data": {
      "text/plain": [
       "(Tensor of shape: (5, 4, 3)\n",
       " \tCore is a\n",
       " \ttensor of shape (2, 2, 2)\n",
       " \tdata[0, :, :] =\n",
       " \t[[ 1.27278784e+00 -1.58527233e-01]\n",
       " \t [-1.67876238e-03  9.87712368e-04]]\n",
       " \tdata[1, :, :] =\n",
       " \t[[9.95682670e-05 3.13179795e-03]\n",
       " \t [2.79593992e-01 7.21663863e-01]]\tU[0] = \n",
       " \t\t[[ 5.58398660e-04  9.98295928e-01]\n",
       " \t\t [ 3.62027631e-02 -4.51500354e-06]\n",
       " \t\t [ 5.43516316e-01  1.95799764e-03]\n",
       " \t\t [ 8.38617348e-01 -1.93865746e-03]\n",
       " \t\t [ 7.38463749e-05  5.82893441e-02]]\n",
       " \tU[1] = \n",
       " \t\t[[-5.58833615e-05 -5.67033272e-04]\n",
       " \t\t [ 4.16133822e-01 -1.67148835e-03]\n",
       " \t\t [ 2.36988942e-03  9.99996747e-01]\n",
       " \t\t [ 9.09300293e-01 -1.84136151e-03]]\n",
       " \tU[2] = \n",
       " \t\t[[ 0.35604215  0.93306836]\n",
       " \t\t [ 0.11417365  0.01090217]\n",
       " \t\t [ 0.9274688  -0.35953383]],\n",
       " [array([[0.3960597 , 0.56542131],\n",
       "         [0.18327984, 0.14484776],\n",
       "         [0.48805628, 0.35561274],\n",
       "         [0.94043195, 0.76532525],\n",
       "         [0.74866362, 0.90371974]]),\n",
       "  array([[0.08342244, 0.55219247],\n",
       "         [0.58447607, 0.96193638],\n",
       "         [0.29214753, 0.24082878],\n",
       "         [0.10029394, 0.01642963]]),\n",
       "  array([[0.92952932, 0.66991655],\n",
       "         [0.78515291, 0.28173011],\n",
       "         [0.58641017, 0.06395527]])],\n",
       " {'params': (0.0001, 1000, 1, [0, 1, 2]),\n",
       "  'iters': 7,\n",
       "  'normresidual': 1.2038054680748758,\n",
       "  'fit': 0.37359991063097386})"
      ]
     },
     "execution_count": 33,
     "metadata": {},
     "output_type": "execute_result"
    }
   ],
   "source": [
    "U0 = [np.random.rand(5,2), np.random.rand(4,2), np.random.rand(3,2)]\n",
    "T = ttb.tucker_als(X,2,dimorder=[0,1,2],init=U0)\n",
    "T"
   ]
  },
  {
   "cell_type": "code",
   "execution_count": null,
   "metadata": {},
   "outputs": [],
   "source": []
  }
 ],
 "metadata": {
  "kernelspec": {
   "display_name": "Python 3 (ipykernel)",
   "language": "python",
   "name": "python3"
  },
  "language_info": {
   "codemirror_mode": {
    "name": "ipython",
    "version": 3
   },
   "file_extension": ".py",
   "mimetype": "text/x-python",
   "name": "python",
   "nbconvert_exporter": "python",
   "pygments_lexer": "ipython3",
   "version": "3.11.3"
  }
 },
 "nbformat": 4,
 "nbformat_minor": 2
}
