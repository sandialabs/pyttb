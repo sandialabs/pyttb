{
 "cells": [
  {
   "cell_type": "markdown",
   "metadata": {},
   "source": [
    "# Alternating least squares for Tucker model\n",
    "\n",
    "```\n",
    "Copyright 2022 National Technology & Engineering Solutions of Sandia,\n",
    "LLC (NTESS). Under the terms of Contract DE-NA0003525 with NTESS, the\n",
    "U.S. Government retains certain rights in this software.\n",
    "```"
   ]
  },
  {
   "cell_type": "markdown",
   "metadata": {},
   "source": [
    "The function `pyttb.tucker_als()` computes the best rank(R1,R2,..,Rn) approximation of tensor X, according to the specified dimensions in vector R. The input X can be a `tensor`, `sptensor`, `ktensor`, or `ttensor`. The result returned in T is a ttensor.\n",
    "\n",
    "The method is originally from Tucker (1966) and later revisited in De Lathauwer et al. (2000).\n",
    "\n",
    "* L. R. Tucker, Some mathematical notes on three-mode factor analysis, Psychometrika, 31:279-311, 1966, http://dx.doi.org/10.1007/BF02289464\n",
    "* L. De Lathauwer, B. De Moor, J. Vandewalle, On the best rank-1 and rank-(R_1, R_2, R_N) approximation of higher-order tensors, SIAM J. Matrix Analysis and Applications, 21:1324-1342, 2000, http://doi.org/10.1137/S0895479898346995\n",
    "\n",
    "Note: Oftentimes it's better to use `pyttb.hosvd()` instead."
   ]
  },
  {
   "cell_type": "code",
   "execution_count": 1,
   "metadata": {
    "vscode": {
     "languageId": "python"
    }
   },
   "outputs": [],
   "source": [
    "import os\n",
    "import sys\n",
    "import pyttb as ttb\n",
    "import numpy as np"
   ]
  },
  {
   "cell_type": "markdown",
   "metadata": {},
   "source": [
    "## Create a data tensor of size [5 4 3]"
   ]
  },
  {
   "cell_type": "code",
   "execution_count": 6,
   "metadata": {
    "vscode": {
     "languageId": "python"
    }
   },
   "outputs": [
    {
     "data": {
      "text/plain": [
       "Sparse tensor of shape [5, 4, 3] with 10 nonzeros\n",
       "[0, 0, 2] = 0.26455561210462697\n",
       "[0, 2, 0] = 0.7742336894342167\n",
       "[1, 3, 1] = 0.45615033221654855\n",
       "[2, 1, 1] = 0.5684339488686485\n",
       "[2, 2, 1] = 0.018789800436355142\n",
       "[2, 3, 0] = 0.6176354970758771\n",
       "[2, 3, 2] = 0.6120957227224214\n",
       "[3, 1, 2] = 0.6169339968747569\n",
       "[3, 3, 2] = 0.9437480785146242\n",
       "[4, 2, 1] = 0.6818202991034834"
      ]
     },
     "execution_count": 6,
     "metadata": {},
     "output_type": "execute_result"
    }
   ],
   "source": [
    "np.random.seed(0)  # Set seed for reproducibility\n",
    "X = ttb.sptenrand(\n",
    "    [5, 4, 3], nonzeros=10\n",
    ")  # Create a tensor with 10 nonzeros using the 'nonzeros' param.\n",
    "X"
   ]
  },
  {
   "cell_type": "markdown",
   "metadata": {},
   "source": [
    "## Create a [2 2 2] approximation"
   ]
  },
  {
   "cell_type": "code",
   "execution_count": 8,
   "metadata": {
    "vscode": {
     "languageId": "python"
    }
   },
   "outputs": [
    {
     "name": "stdout",
     "output_type": "stream",
     "text": [
      "\n",
      "Tucker Alternating Least-Squares:\n",
      "\n",
      " Iter 0: fit = 2.454640e-01 fitdelta = 2.5e-01\n",
      "\n",
      " Iter 1: fit = 3.358806e-01 fitdelta = 9.0e-02\n",
      "\n",
      " Iter 2: fit = 3.412451e-01 fitdelta = 5.4e-03\n",
      "\n",
      " Iter 3: fit = 3.425671e-01 fitdelta = 1.3e-03\n",
      "\n",
      " Iter 4: fit = 3.427868e-01 fitdelta = 2.2e-04\n",
      "\n",
      " Iter 5: fit = 3.428189e-01 fitdelta = 3.2e-05\n",
      "\n"
     ]
    },
    {
     "data": {
      "text/plain": [
       "(Tensor of shape: (5, 4, 3)\n",
       " \tCore is a\n",
       " \ttensor of shape (2, 2, 2)\n",
       " \tdata[0, :, :] =\n",
       " \t[[ 1.2689554   0.11194756]\n",
       " \t [-0.12536739  0.18855606]]\n",
       " \tdata[1, :, :] =\n",
       " \t[[-0.10701124  0.52431793]\n",
       " \t [-0.31346702  0.19877614]]\tU[0] = \n",
       " \t\t[[ 0.00381688  0.00745441]\n",
       " \t\t [ 0.00975275  0.34470201]\n",
       " \t\t [ 0.60107657  0.74786527]\n",
       " \t\t [ 0.79911369 -0.56687524]\n",
       " \t\t [ 0.0038189   0.02179377]]\n",
       " \tU[1] = \n",
       " \t\t[[ 4.48227937e-04 -4.26255320e-03]\n",
       " \t\t [ 4.67528867e-01  8.83154751e-01]\n",
       " \t\t [ 9.00516344e-03  3.81939166e-02]\n",
       " \t\t [ 8.83931821e-01 -4.67504803e-01]]\n",
       " \tU[2] = \n",
       " \t\t[[ 0.26624679  0.48346097]\n",
       " \t\t [ 0.02250262  0.86176665]\n",
       " \t\t [ 0.96364219 -0.15370014]],\n",
       " [None,\n",
       "  array([[0.20887676, 0.16130952],\n",
       "         [0.65310833, 0.2532916 ],\n",
       "         [0.46631077, 0.24442559],\n",
       "         [0.15896958, 0.11037514]]),\n",
       "  array([[0.65632959, 0.13818295],\n",
       "         [0.19658236, 0.36872517],\n",
       "         [0.82099323, 0.09710128]])],\n",
       " {'params': (0.0001, 1000, 1, [0, 1, 2]),\n",
       "  'iters': 5,\n",
       "  'normresidual': 1.2629599549077313,\n",
       "  'fit': 0.34281887763073604})"
      ]
     },
     "execution_count": 8,
     "metadata": {},
     "output_type": "execute_result"
    }
   ],
   "source": [
    "T = ttb.tucker_als(X,2) # best rank(2,2,2) approximation\n",
    "T"
   ]
  },
  {
   "cell_type": "markdown",
   "metadata": {},
   "source": [
    "## Create a [2 2 1] approximation"
   ]
  },
  {
   "cell_type": "code",
   "execution_count": 10,
   "metadata": {
    "vscode": {
     "languageId": "python"
    }
   },
   "outputs": [
    {
     "name": "stdout",
     "output_type": "stream",
     "text": [
      "\n",
      "Tucker Alternating Least-Squares:\n",
      "\n",
      " Iter 0: fit = 2.606811e-01 fitdelta = 2.6e-01\n",
      "\n",
      " Iter 1: fit = 2.755508e-01 fitdelta = 1.5e-02\n",
      "\n",
      " Iter 2: fit = 2.771089e-01 fitdelta = 1.6e-03\n",
      "\n",
      " Iter 3: fit = 2.773749e-01 fitdelta = 2.7e-04\n",
      "\n",
      " Iter 4: fit = 2.774246e-01 fitdelta = 5.0e-05\n",
      "\n"
     ]
    },
    {
     "data": {
      "text/plain": [
       "(Tensor of shape: (5, 4, 3)\n",
       " \tCore is a\n",
       " \ttensor of shape (2, 2, 1)\n",
       " \tdata[0, :, :] =\n",
       " \t[[ 1.27113063e+00]\n",
       " \t [-3.44979928e-05]]\n",
       " \tdata[1, :, :] =\n",
       " \t[[-3.24739230e-06]\n",
       " \t [ 3.86233238e-01]]\tU[0] = \n",
       " \t\t[[ 3.13047624e-04  9.81411281e-01]\n",
       " \t\t [ 4.50029657e-02 -5.84406945e-04]\n",
       " \t\t [ 6.00463934e-01 -1.03134231e-03]\n",
       " \t\t [ 7.98384425e-01  4.00510151e-04]\n",
       " \t\t [ 9.68899202e-05  1.91912304e-01]]\n",
       " \tU[1] = \n",
       " \t\t[[ 5.92616393e-05  6.09934876e-01]\n",
       " \t\t [ 3.90965433e-01  3.77609119e-04]\n",
       " \t\t [ 1.28844755e-03  7.92450372e-01]\n",
       " \t\t [ 9.20404458e-01 -1.30899909e-03]]\n",
       " \tU[2] = \n",
       " \t\t[[0.3776111 ]\n",
       " \t\t [0.13241503]\n",
       " \t\t [0.91644755]],\n",
       " [None,\n",
       "  array([[0.83794491, 0.09609841],\n",
       "         [0.97645947, 0.4686512 ],\n",
       "         [0.97676109, 0.60484552],\n",
       "         [0.73926358, 0.03918779]]),\n",
       "  array([[0.28280696],\n",
       "         [0.12019656],\n",
       "         [0.2961402 ]])],\n",
       " {'params': (0.0001, 1000, 1, [0, 1, 2]),\n",
       "  'iters': 4,\n",
       "  'normresidual': 1.3886336103784271,\n",
       "  'fit': 0.27742459997882585})"
      ]
     },
     "execution_count": 10,
     "metadata": {},
     "output_type": "execute_result"
    }
   ],
   "source": [
    "T = ttb.tucker_als(X, [2, 2, 1])  # best rank(2,2,1) approximation\n",
    "T"
   ]
  },
  {
   "cell_type": "markdown",
   "metadata": {},
   "source": [
    "## Use a different ordering of the dimensions"
   ]
  },
  {
   "cell_type": "code",
   "execution_count": 14,
   "metadata": {
    "vscode": {
     "languageId": "python"
    }
   },
   "outputs": [
    {
     "name": "stdout",
     "output_type": "stream",
     "text": [
      "\n",
      "Tucker Alternating Least-Squares:\n",
      "\n",
      " Iter 0: fit = 3.153217e-01 fitdelta = 3.2e-01\n",
      "\n",
      " Iter 1: fit = 3.683153e-01 fitdelta = 5.3e-02\n",
      "\n",
      " Iter 2: fit = 3.704574e-01 fitdelta = 2.1e-03\n",
      "\n",
      " Iter 3: fit = 3.716642e-01 fitdelta = 1.2e-03\n",
      "\n",
      " Iter 4: fit = 3.724378e-01 fitdelta = 7.7e-04\n",
      "\n",
      " Iter 5: fit = 3.729262e-01 fitdelta = 4.9e-04\n",
      "\n",
      " Iter 6: fit = 3.732290e-01 fitdelta = 3.0e-04\n",
      "\n",
      " Iter 7: fit = 3.734145e-01 fitdelta = 1.9e-04\n",
      "\n",
      " Iter 8: fit = 3.735273e-01 fitdelta = 1.1e-04\n",
      "\n",
      " Iter 9: fit = 3.735955e-01 fitdelta = 6.8e-05\n",
      "\n"
     ]
    },
    {
     "data": {
      "text/plain": [
       "(Tensor of shape: (5, 4, 3)\n",
       " \tCore is a\n",
       " \ttensor of shape (2, 2, 2)\n",
       " \tdata[0, :, :] =\n",
       " \t[[ 1.27278179e+00 -1.58575462e-01]\n",
       " \t [-1.70139892e-03  1.01337672e-03]]\n",
       " \tdata[1, :, :] =\n",
       " \t[[9.42780553e-05 3.17938562e-03]\n",
       " \t [2.79699270e-01 7.21608548e-01]]\tU[0] = \n",
       " \t\t[[ 5.70169646e-04  9.98218746e-01]\n",
       " \t\t [ 3.62027550e-02 -2.80504549e-06]\n",
       " \t\t [ 5.43516232e-01  2.00156717e-03]\n",
       " \t\t [ 8.38617395e-01 -1.98112511e-03]\n",
       " \t\t [ 7.49955057e-05  5.95936635e-02]]\n",
       " \tU[1] = \n",
       " \t\t[[-5.71808764e-05 -5.77424673e-04]\n",
       " \t\t [ 4.16133815e-01 -1.69434578e-03]\n",
       " \t\t [ 2.39165439e-03  9.99996678e-01]\n",
       " \t\t [ 9.09300239e-01 -1.85483828e-03]]\n",
       " \tU[2] = \n",
       " \t\t[[ 0.35606995  0.93299414]\n",
       " \t\t [ 0.1143193   0.01206384]\n",
       " \t\t [ 0.92744018 -0.3596893 ]],\n",
       " [None,\n",
       "  array([[0.57225191, 0.22308163],\n",
       "         [0.95274901, 0.44712538],\n",
       "         [0.84640867, 0.69947928],\n",
       "         [0.29743695, 0.81379782]]),\n",
       "  array([[0.39650574, 0.8811032 ],\n",
       "         [0.58127287, 0.88173536],\n",
       "         [0.69253159, 0.72525428]])],\n",
       " {'params': (0.0001, 1000, 1, [0, 1, 2]),\n",
       "  'iters': 9,\n",
       "  'normresidual': 1.203814039418249,\n",
       "  'fit': 0.37359545053306153})"
      ]
     },
     "execution_count": 14,
     "metadata": {},
     "output_type": "execute_result"
    }
   ],
   "source": [
    "dims = [2, 1, 0]\n",
    "# T = ttb.tucker_als(X, 2, dimorder=dims)\n",
    "T = ttb.tucker_als(X, 2)\n",
    "T"
   ]
  },
  {
   "cell_type": "code",
   "execution_count": 12,
   "metadata": {
    "vscode": {
     "languageId": "python"
    }
   },
   "outputs": [
    {
     "data": {
      "text/plain": [
       "[5, 4, 3]"
      ]
     },
     "execution_count": 12,
     "metadata": {},
     "output_type": "execute_result"
    }
   ],
   "source": [
    "X.shape"
   ]
  },
  {
   "cell_type": "code",
   "execution_count": null,
   "metadata": {
    "vscode": {
     "languageId": "python"
    }
   },
   "outputs": [],
   "source": []
  }
 ],
 "metadata": {
  "kernelspec": {
   "display_name": "Python 3 (ipykernel)",
   "language": "python",
   "name": "python3"
  }
 },
 "nbformat": 4,
 "nbformat_minor": 2
}
