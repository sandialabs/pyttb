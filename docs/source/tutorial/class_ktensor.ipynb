{
 "cells": [
  {
   "cell_type": "markdown",
   "metadata": {},
   "source": [
    "# Kruskal Tensors"
   ]
  },
  {
   "cell_type": "markdown",
   "metadata": {},
   "source": [
    "Kruskal format is a decomposition of a tensor $\\mathcal{X}$ as the sum of the outer products as the columns of matrices. For example, we might write:\n",
    "\n",
    "$\n",
    "\\mathcal{X} = \\sum_{r} a_r \\circ b_r \\circ c_r\n",
    "$\n",
    "\n",
    "where a subscript denotes column index and a circle denotes outer product. In other words, the tensor X is built from the columns of the matrices A,B, and C. It's often helpful to explicitly specify a weight for each outer product, which we do here:\n",
    "\n",
    "$\n",
    "\\mathcal{X} = \\sum_{r} \\lambda_r \\, a_r \\circ b_r \\circ c_r\n",
    "$"
   ]
  },
  {
   "cell_type": "markdown",
   "metadata": {},
   "source": [
    "The `ktensor` class stores the components of the tensor $\\mathcal{X}$ and can perform many operations, e.g., `ttm`, without explicitly forming the tensor $\\mathcal{X}$."
   ]
  },
  {
   "cell_type": "markdown",
   "metadata": {},
   "source": [
    "## Kruskal tensor format via ktensor"
   ]
  },
  {
   "cell_type": "code",
   "execution_count": 1,
   "metadata": {},
   "outputs": [],
   "source": [
    "import pyttb as ttb\n",
    "import numpy as np"
   ]
  },
  {
   "cell_type": "markdown",
   "metadata": {},
   "source": [
    "Kruskal format stores a tensor as a sum of rank-1 outer products. For example, consider a tensor of the following form:\n",
    "\n",
    "$\n",
    "X = a_1 \\circ b_1 \\circ c_1 + a_2 \\circ b_2 \\circ c_2\n",
    "$\n",
    "\n",
    "This can be stored in Kruskal form as follows."
   ]
  },
  {
   "cell_type": "code",
   "execution_count": 2,
   "metadata": {},
   "outputs": [
    {
     "data": {
      "text/plain": [
       "ktensor of shape (4, 3, 2)\n",
       "weights=[1. 1.]\n",
       "factor_matrices[0] =\n",
       "[[0.5488135  0.71518937]\n",
       " [0.60276338 0.54488318]\n",
       " [0.4236548  0.64589411]\n",
       " [0.43758721 0.891773  ]]\n",
       "factor_matrices[1] =\n",
       "[[0.96366276 0.38344152]\n",
       " [0.79172504 0.52889492]\n",
       " [0.56804456 0.92559664]]\n",
       "factor_matrices[2] =\n",
       "[[0.07103606 0.0871293 ]\n",
       " [0.0202184  0.83261985]]"
      ]
     },
     "execution_count": 2,
     "metadata": {},
     "output_type": "execute_result"
    }
   ],
   "source": [
    "np.random.seed(0)\n",
    "A = np.random.rand(4, 2)  # First column is a_1, second is a_2.\n",
    "B = np.random.rand(3, 2)  # Likewise for B.\n",
    "C = np.random.rand(2, 2)  # Likewise for C.\n",
    "X = ttb.ktensor([A, B, C])  # Create the ktensor.\n",
    "X"
   ]
  },
  {
   "cell_type": "markdown",
   "metadata": {},
   "source": [
    "For Kruskal format, there can be any number of matrices, but every matrix must have the same number of columns. The number of rows can vary."
   ]
  },
  {
   "cell_type": "code",
   "execution_count": 3,
   "metadata": {},
   "outputs": [
    {
     "data": {
      "text/plain": [
       "ktensor of shape (4, 2, 3)\n",
       "weights=[1.]\n",
       "factor_matrices[0] =\n",
       "[[0.77815675]\n",
       " [0.87001215]\n",
       " [0.97861834]\n",
       " [0.79915856]]\n",
       "factor_matrices[1] =\n",
       "[[0.46147936]\n",
       " [0.78052918]]\n",
       "factor_matrices[2] =\n",
       "[[0.11827443]\n",
       " [0.63992102]\n",
       " [0.14335329]]"
      ]
     },
     "execution_count": 3,
     "metadata": {},
     "output_type": "execute_result"
    }
   ],
   "source": [
    "Y = ttb.ktensor(\n",
    "    [np.random.rand(4, 1), np.random.rand(2, 1), np.random.rand(3, 1)]\n",
    ")  # Another ktensor.\n",
    "Y"
   ]
  },
  {
   "cell_type": "markdown",
   "metadata": {},
   "source": [
    "## Specifying weights in a ktensor"
   ]
  },
  {
   "cell_type": "markdown",
   "metadata": {},
   "source": [
    "Weights for each rank-1 tensor can be specified by passing in a column vector. For example: \n",
    "\n",
    "$\n",
    "X = \\lambda_1 \\, a_1 \\circ b_1 \\circ c_1 + \\lambda_2 \\, a_2 \\circ b_2 \\circ c_2 $"
   ]
  },
  {
   "cell_type": "code",
   "execution_count": 4,
   "metadata": {},
   "outputs": [],
   "source": [
    "# Upcoming ktensors will be generated with this same initialization.\n",
    "def generate_sample_ktensor() -> ttb.ktensor:\n",
    "    np.random.seed(0)\n",
    "    A = np.random.rand(4, 2)  # Create some data.\n",
    "    B = np.random.rand(3, 2)\n",
    "    C = np.random.rand(2, 2)\n",
    "    weights = np.array([5.0, 0.25])\n",
    "\n",
    "    return ttb.ktensor([A, B, C], weights)  # Create the ktensor."
   ]
  },
  {
   "cell_type": "code",
   "execution_count": 5,
   "metadata": {},
   "outputs": [
    {
     "data": {
      "text/plain": [
       "ktensor of shape (4, 3, 2)\n",
       "weights=[5.   0.25]\n",
       "factor_matrices[0] =\n",
       "[[0.5488135  0.71518937]\n",
       " [0.60276338 0.54488318]\n",
       " [0.4236548  0.64589411]\n",
       " [0.43758721 0.891773  ]]\n",
       "factor_matrices[1] =\n",
       "[[0.96366276 0.38344152]\n",
       " [0.79172504 0.52889492]\n",
       " [0.56804456 0.92559664]]\n",
       "factor_matrices[2] =\n",
       "[[0.07103606 0.0871293 ]\n",
       " [0.0202184  0.83261985]]"
      ]
     },
     "execution_count": 5,
     "metadata": {},
     "output_type": "execute_result"
    }
   ],
   "source": [
    "X = generate_sample_ktensor()\n",
    "X"
   ]
  },
  {
   "cell_type": "markdown",
   "metadata": {},
   "source": [
    "## Creating a one-dimensional ktensor"
   ]
  },
  {
   "cell_type": "code",
   "execution_count": 6,
   "metadata": {},
   "outputs": [
    {
     "data": {
      "text/plain": [
       "ktensor of shape (4,)\n",
       "weights=[1. 1. 1. 1. 1.]\n",
       "factor_matrices[0] =\n",
       "[[0.5488135  0.71518937 0.60276338 0.54488318 0.4236548 ]\n",
       " [0.64589411 0.43758721 0.891773   0.96366276 0.38344152]\n",
       " [0.79172504 0.52889492 0.56804456 0.92559664 0.07103606]\n",
       " [0.0871293  0.0202184  0.83261985 0.77815675 0.87001215]]"
      ]
     },
     "execution_count": 6,
     "metadata": {},
     "output_type": "execute_result"
    }
   ],
   "source": [
    "np.random.seed(0)\n",
    "Y = ttb.ktensor([np.random.rand(4, 5)])  # A one-dimensional ktensor.\n",
    "Y"
   ]
  },
  {
   "cell_type": "markdown",
   "metadata": {},
   "source": [
    "## Constituent parts of a ktensor"
   ]
  },
  {
   "cell_type": "code",
   "execution_count": 7,
   "metadata": {},
   "outputs": [
    {
     "data": {
      "text/plain": [
       "array([5.  , 0.25])"
      ]
     },
     "execution_count": 7,
     "metadata": {},
     "output_type": "execute_result"
    }
   ],
   "source": [
    "X = generate_sample_ktensor()\n",
    "X.weights  # Weights or multipliers."
   ]
  },
  {
   "cell_type": "code",
   "execution_count": 8,
   "metadata": {},
   "outputs": [
    {
     "data": {
      "text/plain": [
       "[array([[0.5488135 , 0.71518937],\n",
       "        [0.60276338, 0.54488318],\n",
       "        [0.4236548 , 0.64589411],\n",
       "        [0.43758721, 0.891773  ]]),\n",
       " array([[0.96366276, 0.38344152],\n",
       "        [0.79172504, 0.52889492],\n",
       "        [0.56804456, 0.92559664]]),\n",
       " array([[0.07103606, 0.0871293 ],\n",
       "        [0.0202184 , 0.83261985]])]"
      ]
     },
     "execution_count": 8,
     "metadata": {},
     "output_type": "execute_result"
    }
   ],
   "source": [
    "X.factor_matrices  # Cell array of matrices."
   ]
  },
  {
   "cell_type": "markdown",
   "metadata": {},
   "source": [
    "## Creating a ktensor from its constituent parts"
   ]
  },
  {
   "cell_type": "code",
   "execution_count": 9,
   "metadata": {},
   "outputs": [
    {
     "data": {
      "text/plain": [
       "ktensor of shape (4, 3, 2)\n",
       "weights=[5.   0.25]\n",
       "factor_matrices[0] =\n",
       "[[0.5488135  0.71518937]\n",
       " [0.60276338 0.54488318]\n",
       " [0.4236548  0.64589411]\n",
       " [0.43758721 0.891773  ]]\n",
       "factor_matrices[1] =\n",
       "[[0.96366276 0.38344152]\n",
       " [0.79172504 0.52889492]\n",
       " [0.56804456 0.92559664]]\n",
       "factor_matrices[2] =\n",
       "[[0.07103606 0.0871293 ]\n",
       " [0.0202184  0.83261985]]"
      ]
     },
     "execution_count": 9,
     "metadata": {},
     "output_type": "execute_result"
    }
   ],
   "source": [
    "X = generate_sample_ktensor()\n",
    "Y = ttb.ktensor(X.factor_matrices, X.weights)  # Recreate X.\n",
    "Y"
   ]
  },
  {
   "cell_type": "markdown",
   "metadata": {},
   "source": [
    "## Creating an empty ktensor"
   ]
  },
  {
   "cell_type": "code",
   "execution_count": 10,
   "metadata": {},
   "outputs": [
    {
     "data": {
      "text/plain": [
       "ktensor of shape ()\n",
       "weights=[]\n",
       "factor_matrices=[]"
      ]
     },
     "execution_count": 10,
     "metadata": {},
     "output_type": "execute_result"
    }
   ],
   "source": [
    "Z = ttb.ktensor()  # Empty ktensor.\n",
    "Z"
   ]
  },
  {
   "cell_type": "markdown",
   "metadata": {},
   "source": [
    "## Use full or to_tensor to convert a ktensor to a tensor"
   ]
  },
  {
   "cell_type": "code",
   "execution_count": 11,
   "metadata": {},
   "outputs": [
    {
     "data": {
      "text/plain": [
       "tensor of shape (4, 3, 2)\n",
       "data[0, :, :] =\n",
       "[[0.19381804 0.11054766]\n",
       " [0.16256856 0.12266212]\n",
       " [0.12514704 0.16930925]]\n",
       "data[1, :, :] =\n",
       "[[0.21086124 0.10221034]\n",
       " [0.17577751 0.10823074]\n",
       " [0.13259822 0.13959484]]\n",
       "data[2, :, :] =\n",
       "[[0.1504007  0.09282405]\n",
       " [0.12657497 0.10501592]\n",
       " [0.09849813 0.1487711 ]]\n",
       "data[3, :, :] =\n",
       "[[0.15722304 0.11380622]\n",
       " [0.13332549 0.13320036]\n",
       " [0.10626643 0.19694404]]"
      ]
     },
     "execution_count": 11,
     "metadata": {},
     "output_type": "execute_result"
    }
   ],
   "source": [
    "X = generate_sample_ktensor()\n",
    "X.full()  # Converts to a tensor."
   ]
  },
  {
   "cell_type": "code",
   "execution_count": 12,
   "metadata": {},
   "outputs": [
    {
     "data": {
      "text/plain": [
       "tensor of shape (4, 3, 2)\n",
       "data[0, :, :] =\n",
       "[[0.19381804 0.11054766]\n",
       " [0.16256856 0.12266212]\n",
       " [0.12514704 0.16930925]]\n",
       "data[1, :, :] =\n",
       "[[0.21086124 0.10221034]\n",
       " [0.17577751 0.10823074]\n",
       " [0.13259822 0.13959484]]\n",
       "data[2, :, :] =\n",
       "[[0.1504007  0.09282405]\n",
       " [0.12657497 0.10501592]\n",
       " [0.09849813 0.1487711 ]]\n",
       "data[3, :, :] =\n",
       "[[0.15722304 0.11380622]\n",
       " [0.13332549 0.13320036]\n",
       " [0.10626643 0.19694404]]"
      ]
     },
     "execution_count": 12,
     "metadata": {},
     "output_type": "execute_result"
    }
   ],
   "source": [
    "X.to_tensor()  # Same as above."
   ]
  },
  {
   "cell_type": "markdown",
   "metadata": {},
   "source": [
    "## Use double to convert a ktensor to a multidimensional array"
   ]
  },
  {
   "cell_type": "code",
   "execution_count": 13,
   "metadata": {},
   "outputs": [
    {
     "data": {
      "text/plain": [
       "array([[[0.19381804, 0.11054766],\n",
       "        [0.16256856, 0.12266212],\n",
       "        [0.12514704, 0.16930925]],\n",
       "\n",
       "       [[0.21086124, 0.10221034],\n",
       "        [0.17577751, 0.10823074],\n",
       "        [0.13259822, 0.13959484]],\n",
       "\n",
       "       [[0.1504007 , 0.09282405],\n",
       "        [0.12657497, 0.10501592],\n",
       "        [0.09849813, 0.1487711 ]],\n",
       "\n",
       "       [[0.15722304, 0.11380622],\n",
       "        [0.13332549, 0.13320036],\n",
       "        [0.10626643, 0.19694404]]])"
      ]
     },
     "execution_count": 13,
     "metadata": {},
     "output_type": "execute_result"
    }
   ],
   "source": [
    "X = generate_sample_ktensor()\n",
    "X.double()  # Converts to an array."
   ]
  },
  {
   "cell_type": "markdown",
   "metadata": {},
   "source": [
    "## Use tendiag or sptendiag to convert a ktensor to a ttensor"
   ]
  },
  {
   "cell_type": "markdown",
   "metadata": {},
   "source": [
    "A ktensor can be regarded as a ttensor with a diagonal core."
   ]
  },
  {
   "cell_type": "code",
   "execution_count": 14,
   "metadata": {},
   "outputs": [
    {
     "data": {
      "text/plain": [
       "Tensor of shape: (4, 3, 2)\n",
       "\tCore is a\n",
       "\ttensor of shape (2, 2, 2)\n",
       "\tdata[0, :, :] =\n",
       "\t[[5. 0.]\n",
       "\t [0. 0.]]\n",
       "\tdata[1, :, :] =\n",
       "\t[[0.   0.  ]\n",
       "\t [0.   0.25]]\tU[0] = \n",
       "\t\t[[0.5488135  0.71518937]\n",
       "\t\t [0.60276338 0.54488318]\n",
       "\t\t [0.4236548  0.64589411]\n",
       "\t\t [0.43758721 0.891773  ]]\n",
       "\tU[1] = \n",
       "\t\t[[0.96366276 0.38344152]\n",
       "\t\t [0.79172504 0.52889492]\n",
       "\t\t [0.56804456 0.92559664]]\n",
       "\tU[2] = \n",
       "\t\t[[0.07103606 0.0871293 ]\n",
       "\t\t [0.0202184  0.83261985]]"
      ]
     },
     "execution_count": 14,
     "metadata": {},
     "output_type": "execute_result"
    }
   ],
   "source": [
    "X = generate_sample_ktensor()\n",
    "R = len(X.weights)  # Number of factors in X.\n",
    "core = ttb.tendiag(X.weights, ((R,) * X.ndims))  # Create a diagonal core.\n",
    "Y = ttb.ttensor(core, X.factor_matrices)  # Assemble the ttensor\n",
    "Y"
   ]
  },
  {
   "cell_type": "code",
   "execution_count": 15,
   "metadata": {},
   "outputs": [
    {
     "data": {
      "text/plain": [
       "8.554842949272357e-17"
      ]
     },
     "execution_count": 15,
     "metadata": {},
     "output_type": "execute_result"
    }
   ],
   "source": [
    "(X.full() - Y.full()).norm()  # They are the same."
   ]
  },
  {
   "cell_type": "code",
   "execution_count": 16,
   "metadata": {},
   "outputs": [
    {
     "data": {
      "text/plain": [
       "Tensor of shape: (4, 3, 2)\n",
       "\tCore is a\n",
       "\tsparse tensor of shape (2, 2, 2) with 2 nonzeros\n",
       "\t[0, 0, 0] = 5.0\n",
       "\t[1, 1, 1] = 0.25\tU[0] = \n",
       "\t\t[[0.5488135  0.71518937]\n",
       "\t\t [0.60276338 0.54488318]\n",
       "\t\t [0.4236548  0.64589411]\n",
       "\t\t [0.43758721 0.891773  ]]\n",
       "\tU[1] = \n",
       "\t\t[[0.96366276 0.38344152]\n",
       "\t\t [0.79172504 0.52889492]\n",
       "\t\t [0.56804456 0.92559664]]\n",
       "\tU[2] = \n",
       "\t\t[[0.07103606 0.0871293 ]\n",
       "\t\t [0.0202184  0.83261985]]"
      ]
     },
     "execution_count": 16,
     "metadata": {},
     "output_type": "execute_result"
    }
   ],
   "source": [
    "core = ttb.sptendiag(X.weights, ((R,) * X.ndims))  # Sparse diagonal core.\n",
    "Y = ttb.ttensor(core, X.factor_matrices)  # Assemble the ttensor\n",
    "Y"
   ]
  },
  {
   "cell_type": "code",
   "execution_count": 17,
   "metadata": {},
   "outputs": [
    {
     "data": {
      "text/plain": [
       "8.554842949272357e-17"
      ]
     },
     "execution_count": 17,
     "metadata": {},
     "output_type": "execute_result"
    }
   ],
   "source": [
    "(X.full() - Y.full()).norm()  # They are the same."
   ]
  },
  {
   "cell_type": "markdown",
   "metadata": {},
   "source": [
    "## Use ndims and shape for the dimensions of a ktensor"
   ]
  },
  {
   "cell_type": "code",
   "execution_count": 18,
   "metadata": {},
   "outputs": [
    {
     "data": {
      "text/plain": [
       "3"
      ]
     },
     "execution_count": 18,
     "metadata": {},
     "output_type": "execute_result"
    }
   ],
   "source": [
    "X = generate_sample_ktensor()\n",
    "X.ndims  # Number of dimensions."
   ]
  },
  {
   "cell_type": "code",
   "execution_count": 19,
   "metadata": {},
   "outputs": [
    {
     "data": {
      "text/plain": [
       "(4, 3, 2)"
      ]
     },
     "execution_count": 19,
     "metadata": {},
     "output_type": "execute_result"
    }
   ],
   "source": [
    "X.shape  # Tuple of the sizes."
   ]
  },
  {
   "cell_type": "code",
   "execution_count": 20,
   "metadata": {},
   "outputs": [
    {
     "data": {
      "text/plain": [
       "3"
      ]
     },
     "execution_count": 20,
     "metadata": {},
     "output_type": "execute_result"
    }
   ],
   "source": [
    "X.shape[1]  # Size of the 2nd mode."
   ]
  },
  {
   "cell_type": "markdown",
   "metadata": {},
   "source": [
    "## Subscripted reference for a ktensor"
   ]
  },
  {
   "cell_type": "code",
   "execution_count": 21,
   "metadata": {},
   "outputs": [
    {
     "data": {
      "text/plain": [
       "0.25"
      ]
     },
     "execution_count": 21,
     "metadata": {},
     "output_type": "execute_result"
    }
   ],
   "source": [
    "X = generate_sample_ktensor()\n",
    "X.weights[1]  # Weight of the 2nd factor."
   ]
  },
  {
   "cell_type": "code",
   "execution_count": 22,
   "metadata": {},
   "outputs": [
    {
     "data": {
      "text/plain": [
       "array([[0.96366276, 0.38344152],\n",
       "       [0.79172504, 0.52889492],\n",
       "       [0.56804456, 0.92559664]])"
      ]
     },
     "execution_count": 22,
     "metadata": {},
     "output_type": "execute_result"
    }
   ],
   "source": [
    "X.factor_matrices[1]  # Extract a matrix."
   ]
  },
  {
   "cell_type": "markdown",
   "metadata": {},
   "source": [
    "## Subscripted assignment for a ktensor"
   ]
  },
  {
   "cell_type": "code",
   "execution_count": 23,
   "metadata": {},
   "outputs": [
    {
     "data": {
      "text/plain": [
       "ktensor of shape (4, 3, 2)\n",
       "weights=[1. 1.]\n",
       "factor_matrices[0] =\n",
       "[[0.5488135  0.71518937]\n",
       " [0.60276338 0.54488318]\n",
       " [0.4236548  0.64589411]\n",
       " [0.43758721 0.891773  ]]\n",
       "factor_matrices[1] =\n",
       "[[0.96366276 0.38344152]\n",
       " [0.79172504 0.52889492]\n",
       " [0.56804456 0.92559664]]\n",
       "factor_matrices[2] =\n",
       "[[0.07103606 0.0871293 ]\n",
       " [0.0202184  0.83261985]]"
      ]
     },
     "execution_count": 23,
     "metadata": {},
     "output_type": "execute_result"
    }
   ],
   "source": [
    "X = generate_sample_ktensor()\n",
    "X.weights = np.ones(X.weights.size)  # Insert new multipliers.\n",
    "X"
   ]
  },
  {
   "cell_type": "code",
   "execution_count": 24,
   "metadata": {},
   "outputs": [],
   "source": [
    "X.weights[0] = 7  # Change a single element of weights."
   ]
  },
  {
   "cell_type": "code",
   "execution_count": 25,
   "metadata": {},
   "outputs": [
    {
     "data": {
      "text/plain": [
       "ktensor of shape (4, 3, 2)\n",
       "weights=[7. 1.]\n",
       "factor_matrices[0] =\n",
       "[[0.5488135  0.71518937]\n",
       " [0.60276338 0.54488318]\n",
       " [0.4236548  0.64589411]\n",
       " [0.43758721 0.891773  ]]\n",
       "factor_matrices[1] =\n",
       "[[0.96366276 0.38344152]\n",
       " [0.79172504 0.52889492]\n",
       " [0.56804456 0.92559664]]\n",
       "factor_matrices[2] =\n",
       "[[1.         0.0871293 ]\n",
       " [1.         0.83261985]]"
      ]
     },
     "execution_count": 25,
     "metadata": {},
     "output_type": "execute_result"
    }
   ],
   "source": [
    "X.factor_matrices[2][:, [0]] = np.ones((2, 1))  # Change the matrix for mode 3.\n",
    "X"
   ]
  },
  {
   "cell_type": "markdown",
   "metadata": {},
   "source": [
    "## Use negative indexing and empty termination of slice for the last array index"
   ]
  },
  {
   "cell_type": "code",
   "execution_count": 26,
   "metadata": {},
   "outputs": [
    {
     "data": {
      "text/plain": [
       "(4, 3, 2)"
      ]
     },
     "execution_count": 26,
     "metadata": {},
     "output_type": "execute_result"
    }
   ],
   "source": [
    "X = generate_sample_ktensor()\n",
    "X.factor_matrices[0][-1:, :]\n",
    "X.shape"
   ]
  },
  {
   "cell_type": "code",
   "execution_count": 27,
   "metadata": {},
   "outputs": [
    {
     "data": {
      "text/plain": [
       "0.7151893663724195"
      ]
     },
     "execution_count": 27,
     "metadata": {},
     "output_type": "execute_result"
    }
   ],
   "source": [
    "X = generate_sample_ktensor()\n",
    "X.factor_matrices[0][0][\n",
    "    1 : (np.prod(X.shape) - 1)\n",
    "].item()  # Calculates factor_matrix[0][1]"
   ]
  },
  {
   "cell_type": "markdown",
   "metadata": {},
   "source": [
    "## Adding and subtracting ktensors"
   ]
  },
  {
   "cell_type": "markdown",
   "metadata": {},
   "source": [
    "Adding two ktensors is the same as concatenating the matrices."
   ]
  },
  {
   "cell_type": "code",
   "execution_count": 28,
   "metadata": {},
   "outputs": [
    {
     "data": {
      "text/plain": [
       "(ktensor of shape (4, 2, 3)\n",
       " weights=[1. 1.]\n",
       " factor_matrices[0] =\n",
       " [[0.5488135  0.71518937]\n",
       "  [0.60276338 0.54488318]\n",
       "  [0.4236548  0.64589411]\n",
       "  [0.43758721 0.891773  ]]\n",
       " factor_matrices[1] =\n",
       " [[0.96366276 0.38344152]\n",
       "  [0.79172504 0.52889492]]\n",
       " factor_matrices[2] =\n",
       " [[0.56804456 0.92559664]\n",
       "  [0.07103606 0.0871293 ]\n",
       "  [0.0202184  0.83261985]],\n",
       " ktensor of shape (4, 2, 3)\n",
       " weights=[1. 1.]\n",
       " factor_matrices[0] =\n",
       " [[0.77815675 0.87001215]\n",
       "  [0.97861834 0.79915856]\n",
       "  [0.46147936 0.78052918]\n",
       "  [0.11827443 0.63992102]]\n",
       " factor_matrices[1] =\n",
       " [[0.14335329 0.94466892]\n",
       "  [0.52184832 0.41466194]]\n",
       " factor_matrices[2] =\n",
       " [[0.26455561 0.77423369]\n",
       "  [0.45615033 0.56843395]\n",
       "  [0.0187898  0.6176355 ]])"
      ]
     },
     "execution_count": 28,
     "metadata": {},
     "output_type": "execute_result"
    }
   ],
   "source": [
    "np.random.seed(0)\n",
    "X = ttb.ktensor(\n",
    "    [np.random.rand(4, 2), np.random.rand(2, 2), np.random.rand(3, 2)]\n",
    ")  # Data.\n",
    "Y = ttb.ktensor(\n",
    "    [np.random.rand(4, 2), np.random.rand(2, 2), np.random.rand(3, 2)]\n",
    ")  # More data.\n",
    "X, Y"
   ]
  },
  {
   "cell_type": "code",
   "execution_count": 29,
   "metadata": {},
   "outputs": [
    {
     "data": {
      "text/plain": [
       "ktensor of shape (4, 2, 3)\n",
       "weights=[1. 1. 1. 1.]\n",
       "factor_matrices[0] =\n",
       "[[0.5488135  0.71518937 0.77815675 0.87001215]\n",
       " [0.60276338 0.54488318 0.97861834 0.79915856]\n",
       " [0.4236548  0.64589411 0.46147936 0.78052918]\n",
       " [0.43758721 0.891773   0.11827443 0.63992102]]\n",
       "factor_matrices[1] =\n",
       "[[0.96366276 0.38344152 0.14335329 0.94466892]\n",
       " [0.79172504 0.52889492 0.52184832 0.41466194]]\n",
       "factor_matrices[2] =\n",
       "[[0.56804456 0.92559664 0.26455561 0.77423369]\n",
       " [0.07103606 0.0871293  0.45615033 0.56843395]\n",
       " [0.0202184  0.83261985 0.0187898  0.6176355 ]]"
      ]
     },
     "execution_count": 29,
     "metadata": {},
     "output_type": "execute_result"
    }
   ],
   "source": [
    "Z = X + Y  # Concatenates the factor matrices.\n",
    "Z"
   ]
  },
  {
   "cell_type": "code",
   "execution_count": 30,
   "metadata": {},
   "outputs": [
    {
     "data": {
      "text/plain": [
       "ktensor of shape (4, 2, 3)\n",
       "weights=[ 1.  1. -1. -1.]\n",
       "factor_matrices[0] =\n",
       "[[0.5488135  0.71518937 0.77815675 0.87001215]\n",
       " [0.60276338 0.54488318 0.97861834 0.79915856]\n",
       " [0.4236548  0.64589411 0.46147936 0.78052918]\n",
       " [0.43758721 0.891773   0.11827443 0.63992102]]\n",
       "factor_matrices[1] =\n",
       "[[0.96366276 0.38344152 0.14335329 0.94466892]\n",
       " [0.79172504 0.52889492 0.52184832 0.41466194]]\n",
       "factor_matrices[2] =\n",
       "[[0.56804456 0.92559664 0.26455561 0.77423369]\n",
       " [0.07103606 0.0871293  0.45615033 0.56843395]\n",
       " [0.0202184  0.83261985 0.0187898  0.6176355 ]]"
      ]
     },
     "execution_count": 30,
     "metadata": {},
     "output_type": "execute_result"
    }
   ],
   "source": [
    "Z = X - Y  # Concatenates as with plus, but changes the weights.\n",
    "Z"
   ]
  },
  {
   "cell_type": "code",
   "execution_count": 31,
   "metadata": {},
   "outputs": [
    {
     "data": {
      "text/plain": [
       "1.9329521701561158e-16"
      ]
     },
     "execution_count": 31,
     "metadata": {},
     "output_type": "execute_result"
    }
   ],
   "source": [
    "(Z.full() - (X.full() - Y.full())).norm()  # Should be zero."
   ]
  },
  {
   "cell_type": "markdown",
   "metadata": {},
   "source": [
    "## Basic operations with a ktensor"
   ]
  },
  {
   "cell_type": "code",
   "execution_count": 32,
   "metadata": {},
   "outputs": [
    {
     "data": {
      "text/plain": [
       "ktensor of shape (4, 2, 3)\n",
       "weights=[1. 1.]\n",
       "factor_matrices[0] =\n",
       "[[0.5488135  0.71518937]\n",
       " [0.60276338 0.54488318]\n",
       " [0.4236548  0.64589411]\n",
       " [0.43758721 0.891773  ]]\n",
       "factor_matrices[1] =\n",
       "[[0.96366276 0.38344152]\n",
       " [0.79172504 0.52889492]]\n",
       "factor_matrices[2] =\n",
       "[[0.56804456 0.92559664]\n",
       " [0.07103606 0.0871293 ]\n",
       " [0.0202184  0.83261985]]"
      ]
     },
     "execution_count": 32,
     "metadata": {},
     "output_type": "execute_result"
    }
   ],
   "source": [
    "+X  # Calls uplus."
   ]
  },
  {
   "cell_type": "code",
   "execution_count": 33,
   "metadata": {},
   "outputs": [
    {
     "data": {
      "text/plain": [
       "ktensor of shape (4, 2, 3)\n",
       "weights=[-1. -1.]\n",
       "factor_matrices[0] =\n",
       "[[0.5488135  0.71518937]\n",
       " [0.60276338 0.54488318]\n",
       " [0.4236548  0.64589411]\n",
       " [0.43758721 0.891773  ]]\n",
       "factor_matrices[1] =\n",
       "[[0.96366276 0.38344152]\n",
       " [0.79172504 0.52889492]]\n",
       "factor_matrices[2] =\n",
       "[[0.56804456 0.92559664]\n",
       " [0.07103606 0.0871293 ]\n",
       " [0.0202184  0.83261985]]"
      ]
     },
     "execution_count": 33,
     "metadata": {},
     "output_type": "execute_result"
    }
   ],
   "source": [
    "-X  # Calls uminus."
   ]
  },
  {
   "cell_type": "code",
   "execution_count": 34,
   "metadata": {},
   "outputs": [
    {
     "data": {
      "text/plain": [
       "ktensor of shape (4, 2, 3)\n",
       "weights=[5. 5.]\n",
       "factor_matrices[0] =\n",
       "[[0.5488135  0.71518937]\n",
       " [0.60276338 0.54488318]\n",
       " [0.4236548  0.64589411]\n",
       " [0.43758721 0.891773  ]]\n",
       "factor_matrices[1] =\n",
       "[[0.96366276 0.38344152]\n",
       " [0.79172504 0.52889492]]\n",
       "factor_matrices[2] =\n",
       "[[0.56804456 0.92559664]\n",
       " [0.07103606 0.0871293 ]\n",
       " [0.0202184  0.83261985]]"
      ]
     },
     "execution_count": 34,
     "metadata": {},
     "output_type": "execute_result"
    }
   ],
   "source": [
    "5 * X  # Calls mtimes."
   ]
  },
  {
   "cell_type": "markdown",
   "metadata": {},
   "source": [
    "## Use permute to reorder the modes of a ktensor"
   ]
  },
  {
   "cell_type": "code",
   "execution_count": 35,
   "metadata": {},
   "outputs": [
    {
     "data": {
      "text/plain": [
       "ktensor of shape (2, 3, 4)\n",
       "weights=[1. 1.]\n",
       "factor_matrices[0] =\n",
       "[[0.96366276 0.38344152]\n",
       " [0.79172504 0.52889492]]\n",
       "factor_matrices[1] =\n",
       "[[0.56804456 0.92559664]\n",
       " [0.07103606 0.0871293 ]\n",
       " [0.0202184  0.83261985]]\n",
       "factor_matrices[2] =\n",
       "[[0.5488135  0.71518937]\n",
       " [0.60276338 0.54488318]\n",
       " [0.4236548  0.64589411]\n",
       " [0.43758721 0.891773  ]]"
      ]
     },
     "execution_count": 35,
     "metadata": {},
     "output_type": "execute_result"
    }
   ],
   "source": [
    "np.random.seed(0)\n",
    "X = ttb.ktensor(\n",
    "    [np.random.rand(4, 2), np.random.rand(2, 2), np.random.rand(3, 2)]\n",
    ")  # Data.\n",
    "X.permute(np.array((1, 2, 0)))  # Reorders modes of X."
   ]
  },
  {
   "cell_type": "markdown",
   "metadata": {},
   "source": [
    "## Use arrange to normalize the factors of a ktensor"
   ]
  },
  {
   "cell_type": "markdown",
   "metadata": {},
   "source": [
    "The function `arrange` normalizes the columns of the factors and then arranges the rank-one pieces in decreasing order of size."
   ]
  },
  {
   "cell_type": "code",
   "execution_count": 36,
   "metadata": {},
   "outputs": [
    {
     "data": {
      "text/plain": [
       "ktensor of shape (3, 4, 2)\n",
       "weights=[1. 1.]\n",
       "factor_matrices[0] =\n",
       "[[0.5488135  0.71518937]\n",
       " [0.60276338 0.54488318]\n",
       " [0.4236548  0.64589411]]\n",
       "factor_matrices[1] =\n",
       "[[0.43758721 0.891773  ]\n",
       " [0.96366276 0.38344152]\n",
       " [0.79172504 0.52889492]\n",
       " [0.56804456 0.92559664]]\n",
       "factor_matrices[2] =\n",
       "[[0.07103606 0.0871293 ]\n",
       " [0.0202184  0.83261985]]"
      ]
     },
     "execution_count": 36,
     "metadata": {},
     "output_type": "execute_result"
    }
   ],
   "source": [
    "np.random.seed(0)\n",
    "X = ttb.ktensor(\n",
    "    [np.random.rand(3, 2), np.random.rand(4, 2), np.random.rand(2, 2)]\n",
    ")  # Unit weights.\n",
    "X"
   ]
  },
  {
   "cell_type": "code",
   "execution_count": 37,
   "metadata": {},
   "outputs": [
    {
     "data": {
      "text/plain": [
       "ktensor of shape (3, 4, 2)\n",
       "weights=[1.33623212 0.09761402]\n",
       "factor_matrices[0] =\n",
       "[[0.64602825 0.59738279]\n",
       " [0.49219122 0.65610716]\n",
       " [0.58343407 0.4611477 ]]\n",
       "factor_matrices[1] =\n",
       "[[0.61851988 0.3041712 ]\n",
       " [0.26594907 0.66985152]\n",
       " [0.36683329 0.55033591]\n",
       " [0.64197943 0.3948534 ]]\n",
       "factor_matrices[2] =\n",
       "[[0.10407646 0.96180106]\n",
       " [0.9945693  0.27374937]]"
      ]
     },
     "execution_count": 37,
     "metadata": {},
     "output_type": "execute_result"
    }
   ],
   "source": [
    "X.arrange()  # Normalized and rearranged.\n",
    "X"
   ]
  },
  {
   "cell_type": "markdown",
   "metadata": {},
   "source": [
    "## Use fixsigns for sign indeterminacies in a ktensor"
   ]
  },
  {
   "cell_type": "markdown",
   "metadata": {},
   "source": [
    "The largest magnitude entry for each factor is changed to be positive provided that we can flip the signs of pairs of vectors in that rank-1 component."
   ]
  },
  {
   "cell_type": "code",
   "execution_count": 38,
   "metadata": {},
   "outputs": [
    {
     "data": {
      "text/plain": [
       "ktensor of shape (4, 2, 3)\n",
       "weights=[1. 1.]\n",
       "factor_matrices[0] =\n",
       "[[-0.5488135   0.71518937]\n",
       " [-0.60276338  0.54488318]\n",
       " [-0.4236548   0.64589411]\n",
       " [-0.43758721  0.891773  ]]\n",
       "factor_matrices[1] =\n",
       "[[-0.96366276  0.38344152]\n",
       " [-0.79172504  0.52889492]]\n",
       "factor_matrices[2] =\n",
       "[[0.56804456 0.92559664]\n",
       " [0.07103606 0.0871293 ]\n",
       " [0.0202184  0.83261985]]"
      ]
     },
     "execution_count": 38,
     "metadata": {},
     "output_type": "execute_result"
    }
   ],
   "source": [
    "np.random.seed(0)\n",
    "X = ttb.ktensor(\n",
    "    [np.random.rand(4, 2), np.random.rand(2, 2), np.random.rand(3, 2)]\n",
    ")  # Data.\n",
    "Y = X\n",
    "Y.factor_matrices[0][:, 0] = -Y.factor_matrices[0][\n",
    "    :, 0\n",
    "]  # switch the sign on a pair of columns\n",
    "Y.factor_matrices[1][:, 0] = -Y.factor_matrices[1][:, 0]\n",
    "Y"
   ]
  },
  {
   "cell_type": "code",
   "execution_count": 39,
   "metadata": {},
   "outputs": [
    {
     "data": {
      "text/plain": [
       "ktensor of shape (4, 2, 3)\n",
       "weights=[1. 1.]\n",
       "factor_matrices[0] =\n",
       "[[0.5488135  0.71518937]\n",
       " [0.60276338 0.54488318]\n",
       " [0.4236548  0.64589411]\n",
       " [0.43758721 0.891773  ]]\n",
       "factor_matrices[1] =\n",
       "[[0.96366276 0.38344152]\n",
       " [0.79172504 0.52889492]]\n",
       "factor_matrices[2] =\n",
       "[[0.56804456 0.92559664]\n",
       " [0.07103606 0.0871293 ]\n",
       " [0.0202184  0.83261985]]"
      ]
     },
     "execution_count": 39,
     "metadata": {},
     "output_type": "execute_result"
    }
   ],
   "source": [
    "Y.fixsigns()"
   ]
  },
  {
   "cell_type": "markdown",
   "metadata": {},
   "source": [
    "## Use ktensor to store the 'skinny' SVD of a matrix"
   ]
  },
  {
   "cell_type": "code",
   "execution_count": 40,
   "metadata": {},
   "outputs": [
    {
     "data": {
      "text/plain": [
       "array([[0.5488135 , 0.71518937, 0.60276338],\n",
       "       [0.54488318, 0.4236548 , 0.64589411],\n",
       "       [0.43758721, 0.891773  , 0.96366276],\n",
       "       [0.38344152, 0.79172504, 0.52889492]])"
      ]
     },
     "execution_count": 40,
     "metadata": {},
     "output_type": "execute_result"
    }
   ],
   "source": [
    "np.random.seed(0)\n",
    "A = np.random.rand(4, 3)\n",
    "A"
   ]
  },
  {
   "cell_type": "code",
   "execution_count": 41,
   "metadata": {},
   "outputs": [
    {
     "data": {
      "text/plain": [
       "ktensor of shape (4, 3)\n",
       "weights=[2.21425506 0.29626672 0.21874633]\n",
       "factor_matrices[0] =\n",
       "[[-0.48665747 -0.08953811  0.54332309]\n",
       " [-0.41275168 -0.81483266  0.00407301]\n",
       " [-0.62010377  0.2250203  -0.73183668]\n",
       " [-0.45636813  0.52668447  0.41133746]]\n",
       "factor_matrices[1] =\n",
       "[[-0.42376582 -0.65045995  0.63033672]\n",
       " [-0.64907895  0.70346017  0.28955189]\n",
       " [-0.63175869 -0.2864361  -0.72030224]]"
      ]
     },
     "execution_count": 41,
     "metadata": {},
     "output_type": "execute_result"
    }
   ],
   "source": [
    "[U, S, Vh] = np.linalg.svd(A, full_matrices=False)  # Compute the SVD.\n",
    "# Numpy Expects U*S*Vh where pyttb expects U*S*V'\n",
    "X = ttb.ktensor([U, Vh.transpose()], S)  # Store the SVD as a ktensor.\n",
    "X"
   ]
  },
  {
   "cell_type": "code",
   "execution_count": 42,
   "metadata": {},
   "outputs": [
    {
     "name": "stdout",
     "output_type": "stream",
     "text": [
      "U*S*Vh:\n",
      "[[0.5488135  0.71518937 0.60276338]\n",
      " [0.54488318 0.4236548  0.64589411]\n",
      " [0.43758721 0.891773   0.96366276]\n",
      " [0.38344152 0.79172504 0.52889492]]\n",
      "\n",
      "X.factor_matrices[0]@np.diag(X.weights)@(X.factor_matrices[1].transpose()):\n",
      "[[0.5488135  0.71518937 0.60276338]\n",
      " [0.54488318 0.4236548  0.64589411]\n",
      " [0.43758721 0.891773   0.96366276]\n",
      " [0.38344152 0.79172504 0.52889492]]\n",
      "\n",
      "X.full():\n",
      "tensor of shape (4, 3)\n",
      "data[:, :] =\n",
      "[[0.5488135  0.71518937 0.60276338]\n",
      " [0.54488318 0.4236548  0.64589411]\n",
      " [0.43758721 0.891773   0.96366276]\n",
      " [0.38344152 0.79172504 0.52889492]]\n"
     ]
    }
   ],
   "source": [
    "print(f\"U*S*Vh:\\n{U@np.diag(S)@Vh}\")\n",
    "print(\n",
    "    f\"\\nX.factor_matrices[0]@np.diag(X.weights)@(X.factor_matrices[1].transpose()):\\n\\\n",
    "{X.factor_matrices[0]@np.diag(X.weights)@(X.factor_matrices[1].transpose())}\"\n",
    ")\n",
    "print(f\"\\nX.full():\\n{X.full()}\")  # Reassemble the original matrix."
   ]
  },
  {
   "cell_type": "markdown",
   "metadata": {},
   "source": [
    "## Displaying a ktensor"
   ]
  },
  {
   "cell_type": "code",
   "execution_count": 43,
   "metadata": {},
   "outputs": [
    {
     "data": {
      "text/plain": [
       "ktensor of shape (4, 3, 2)\n",
       "weights=[5.   0.25]\n",
       "factor_matrices[0] =\n",
       "[[0.5488135  0.71518937]\n",
       " [0.60276338 0.54488318]\n",
       " [0.4236548  0.64589411]\n",
       " [0.43758721 0.891773  ]]\n",
       "factor_matrices[1] =\n",
       "[[0.96366276 0.38344152]\n",
       " [0.79172504 0.52889492]\n",
       " [0.56804456 0.92559664]]\n",
       "factor_matrices[2] =\n",
       "[[0.07103606 0.0871293 ]\n",
       " [0.0202184  0.83261985]]"
      ]
     },
     "execution_count": 43,
     "metadata": {},
     "output_type": "execute_result"
    }
   ],
   "source": [
    "X = generate_sample_ktensor()\n",
    "X"
   ]
  },
  {
   "cell_type": "code",
   "execution_count": 44,
   "metadata": {},
   "outputs": [
    {
     "name": "stdout",
     "output_type": "stream",
     "text": [
      "ktensor of shape (4, 3, 2)\n",
      "weights=[5.   0.25]\n",
      "factor_matrices[0] =\n",
      "[[0.5488135  0.71518937]\n",
      " [0.60276338 0.54488318]\n",
      " [0.4236548  0.64589411]\n",
      " [0.43758721 0.891773  ]]\n",
      "factor_matrices[1] =\n",
      "[[0.96366276 0.38344152]\n",
      " [0.79172504 0.52889492]\n",
      " [0.56804456 0.92559664]]\n",
      "factor_matrices[2] =\n",
      "[[0.07103606 0.0871293 ]\n",
      " [0.0202184  0.83261985]]\n"
     ]
    }
   ],
   "source": [
    "print(X)"
   ]
  }
 ],
 "metadata": {
  "kernelspec": {
   "display_name": "Python 3 (ipykernel)",
   "language": "python",
   "name": "python3"
  },
  "language_info": {
   "codemirror_mode": {
    "name": "ipython",
    "version": 3
   },
   "file_extension": ".py",
   "mimetype": "text/x-python",
   "name": "python",
   "nbconvert_exporter": "python",
   "pygments_lexer": "ipython3",
   "version": "3.8.15"
  }
 },
 "nbformat": 4,
 "nbformat_minor": 1
}
