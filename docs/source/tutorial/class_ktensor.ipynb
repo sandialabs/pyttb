{
 "cells": [
  {
   "cell_type": "markdown",
   "metadata": {},
   "source": [
    "# Kruskal Tensors"
   ]
  },
  {
   "cell_type": "markdown",
   "metadata": {},
   "source": [
    "Kruskal format is a decomposition of a tensor $\\mathcal{X}$ as the sum of the outer products as the columns of matrices. For example, we might write:\n",
    "\n",
    "$\n",
    "\\mathcal{X} = \\sum_{r} a_r \\circ b_r \\circ c_r\n",
    "$\n",
    "\n",
    "where a subscript denotes column index and a circle denotes outer product. In other words, the tensor X is built from the columns of the matrices A,B, and C. It's often helpful to explicitly specify a weight for each outer product, which we do here:\n",
    "\n",
    "$\n",
    "\\mathcal{X} = \\sum_{r} \\lambda_r \\, a_r \\circ b_r \\circ c_r\n",
    "$"
   ]
  },
  {
   "cell_type": "markdown",
   "metadata": {},
   "source": [
    "The **`ktensor`** class stores the components of the tensor $\\mathcal{X}$ and can perform many operations, e.g., **`ttm`**, without explicitly forming the tensor $\\mathcal{X}$."
   ]
  },
  {
   "cell_type": "markdown",
   "metadata": {},
   "source": [
    "## Kruskal tensor format via ktensor"
   ]
  },
  {
   "cell_type": "code",
   "execution_count": null,
   "metadata": {},
   "outputs": [],
   "source": [
    "import pyttb as ttb\n",
    "import numpy as np"
   ]
  },
  {
   "cell_type": "markdown",
   "metadata": {},
   "source": [
    "Kruskal format stores a tensor as a sum of rank-1 outer products. For example, consider a tensor of the following form:\n",
    "\n",
    "$\n",
    "X = a_1 \\circ b_1 \\circ c_1 + a_2 \\circ b_2 \\circ c_2\n",
    "$\n",
    "\n",
    "This can be stored in Kruskal form as follows."
   ]
  },
  {
   "cell_type": "code",
   "execution_count": null,
   "metadata": {},
   "outputs": [],
   "source": [
    "np.random.seed(0)\n",
    "A = np.random.rand(4,2) # First column is a_1, second is a_2.\n",
    "B = np.random.rand(3,2) # Likewise for B.\n",
    "C = np.random.rand(2,2) # Likewise for C.\n",
    "X = ttb.ktensor.from_factor_matrices([A,B,C]) # Create the ktensor.\n",
    "X"
   ]
  },
  {
   "cell_type": "markdown",
   "metadata": {},
   "source": [
    "For Kruskal format, there can be any number of matrices, but every matrix must have the same number of columns. The number of rows can vary."
   ]
  },
  {
   "cell_type": "code",
   "execution_count": null,
   "metadata": {},
   "outputs": [],
   "source": [
    "Y = ttb.ktensor.from_factor_matrices(\n",
    "    [np.random.rand(4,1), np.random.rand(2,1), np.random.rand(3,1)]\n",
    ") # Another ktensor.\n",
    "Y"
   ]
  },
  {
   "cell_type": "markdown",
   "metadata": {},
   "source": [
    "## Specifying weights in a ktensor"
   ]
  },
  {
   "cell_type": "markdown",
   "metadata": {},
   "source": [
    "Weights for each rank-1 tensor can be specified by passing in a column vector. For example: \n",
    "\n",
    "$\n",
    "X = \\lambda_1 \\, a_1 \\circ b_1 \\circ c_1 + \\lambda_2 \\, a_2 \\circ b_2 \\circ c_2 $"
   ]
  },
  {
   "cell_type": "code",
   "execution_count": null,
   "metadata": {},
   "outputs": [],
   "source": [
    "# Upcoming ktensors will be generated with this same initialization.\n",
    "def generate_sample_ktensor()-> ttb.ktensor:\n",
    "    np.random.seed(0)\n",
    "    A = np.random.rand(4,2) # Create some data.\n",
    "    B = np.random.rand(3,2)\n",
    "    C = np.random.rand(2,2)\n",
    "    weights = np.array([5.0, 0.25])\n",
    "    \n",
    "    return ttb.ktensor.from_data(weights, [A,B,C]) # Create the ktensor."
   ]
  },
  {
   "cell_type": "code",
   "execution_count": null,
   "metadata": {},
   "outputs": [],
   "source": [
    "X = generate_sample_ktensor()\n",
    "X"
   ]
  },
  {
   "cell_type": "markdown",
   "metadata": {},
   "source": [
    "## Creating a one-dimensional ktensor"
   ]
  },
  {
   "cell_type": "code",
   "execution_count": null,
   "metadata": {},
   "outputs": [],
   "source": [
    "np.random.seed(0)\n",
    "Y = ttb.ktensor.from_factor_matrices(np.random.rand(4,5)) # A one-dimensional ktensor.\n",
    "Y"
   ]
  },
  {
   "cell_type": "markdown",
   "metadata": {},
   "source": [
    "## Constituent parts of a ktensor"
   ]
  },
  {
   "cell_type": "code",
   "execution_count": null,
   "metadata": {},
   "outputs": [],
   "source": [
    "X = generate_sample_ktensor()\n",
    "X.weights # Weights or multipliers."
   ]
  },
  {
   "cell_type": "code",
   "execution_count": null,
   "metadata": {},
   "outputs": [],
   "source": [
    "X.factor_matrices # Cell array of matrices."
   ]
  },
  {
   "cell_type": "markdown",
   "metadata": {},
   "source": [
    "## Creating a ktensor from its constituent parts"
   ]
  },
  {
   "cell_type": "code",
   "execution_count": null,
   "metadata": {},
   "outputs": [],
   "source": [
    "X = generate_sample_ktensor()\n",
    "Y = ttb.ktensor.from_data(X.weights, X.factor_matrices) # Recreate X.\n",
    "Y"
   ]
  },
  {
   "cell_type": "markdown",
   "metadata": {},
   "source": [
    "## Creating an empty ktensor"
   ]
  },
  {
   "cell_type": "code",
   "execution_count": null,
   "metadata": {},
   "outputs": [],
   "source": [
    "Z = ttb.ktensor() # Empty ktensor.\n",
    "Z"
   ]
  },
  {
   "cell_type": "markdown",
   "metadata": {},
   "source": [
    "## Use full or tensor to convert a ktensor to a tensor"
   ]
  },
  {
   "cell_type": "code",
   "execution_count": null,
   "metadata": {},
   "outputs": [],
   "source": [
    "X = generate_sample_ktensor()\n",
    "X.full() # Converts to a tensor."
   ]
  },
  {
   "cell_type": "code",
   "execution_count": null,
   "metadata": {},
   "outputs": [],
   "source": [
    "ttb.tensor.from_tensor_type(X) # Same as above."
   ]
  },
  {
   "cell_type": "markdown",
   "metadata": {},
   "source": [
    "## Use double to convert a ktensor to a multidimensional array"
   ]
  },
  {
   "cell_type": "code",
   "execution_count": null,
   "metadata": {},
   "outputs": [],
   "source": [
    "X = generate_sample_ktensor()\n",
    "X.double() # Converts to an array."
   ]
  },
  {
   "cell_type": "markdown",
   "metadata": {},
   "source": [
    "## Use tendiag or sptendiag to convert a ktensor to a ttensor"
   ]
  },
  {
   "cell_type": "markdown",
   "metadata": {},
   "source": [
    "A ktensor can be regarded as a ttensor with a diagonal core."
   ]
  },
  {
   "cell_type": "markdown",
   "metadata": {},
   "source": [
    "### <font color='red'>**TODO:** : Depends on Open Issue</font> (https://github.com/sandialabs/pyttb/issues/148)"
   ]
  },
  {
   "cell_type": "code",
   "execution_count": null,
   "metadata": {},
   "outputs": [],
   "source": [
    "if False:\n",
    "    X = generate_sample_ktensor()\n",
    "    R = len(X.weights) # Number of factors in X.\n",
    "    # core = ttb.tendiag(X.weights, ((R, ) * X.ndims)) # Create a diagonal core.\n",
    "    # Y = ttb.ttensor.from_data(core, X.factor_matrices)\n",
    "\n",
    "    \"\"\"\n",
    "    --- Simulating correct tendiag() functionality in lieu of line 9 ---\n",
    "    \"\"\"\n",
    "    core = ttb.tensor.from_data(\n",
    "        np.array([\n",
    "            [\n",
    "                [5.0, 0.0],\n",
    "                [0.0, 0.0]\n",
    "            ],\n",
    "            [\n",
    "                [0.0, 0.0],\n",
    "                [0.0, 0.25]\n",
    "            ]\n",
    "        ])\n",
    "    )\n",
    "    Y = ttb.ttensor.from_data(core, X.factor_matrices)\n",
    "    Y"
   ]
  },
  {
   "cell_type": "code",
   "execution_count": null,
   "metadata": {},
   "outputs": [],
   "source": [
    "(X.full() - Y.full()).norm() # They are the same."
   ]
  },
  {
   "cell_type": "markdown",
   "metadata": {},
   "source": [
    "### <font color='red'>**TODO:** : Depends on Open Issue</font> (https://github.com/sandialabs/pyttb/issues/61)\n",
    "Confirm that it's fine to convert `core` into a tensor-type; bug-> core of type sptensor is disallowed due to `ValueError: TTENSOR doesn't yet support generic cores, only tensor` when trying to instance Y below"
   ]
  },
  {
   "cell_type": "code",
   "execution_count": null,
   "metadata": {},
   "outputs": [],
   "source": [
    "if False: \n",
    "    core = ttb.sptendiag(X.weights, ((R, ) * X.ndims)) # Sparse diagonal core.\n",
    "    \"\"\"\n",
    "    --- Converting core to tensor else ValueError for Y-instancing ---\n",
    "    \"\"\"\n",
    "    core = ttb.tensor.from_tensor_type(core) # <--- CONVERSION HERE\n",
    "    Y = ttb.ttensor.from_data(core, X.factor_matrices) # Assemble the ttensor\n",
    "    Y"
   ]
  },
  {
   "cell_type": "code",
   "execution_count": null,
   "metadata": {},
   "outputs": [],
   "source": [
    "if False:\n",
    "    (X.full() - Y.full()).norm() # They are the same."
   ]
  },
  {
   "cell_type": "markdown",
   "metadata": {},
   "source": [
    "## Use ndims and size for the dimensions of a ktensor"
   ]
  },
  {
   "cell_type": "code",
   "execution_count": null,
   "metadata": {},
   "outputs": [],
   "source": [
    "X = generate_sample_ktensor()\n",
    "X.ndims # Number of dimensions."
   ]
  },
  {
   "cell_type": "code",
   "execution_count": null,
   "metadata": {},
   "outputs": [],
   "source": [
    "X.shape # Tuple of the sizes."
   ]
  },
  {
   "cell_type": "code",
   "execution_count": null,
   "metadata": {},
   "outputs": [],
   "source": [
    "X.shape[1] # Size of the 2nd mode."
   ]
  },
  {
   "cell_type": "markdown",
   "metadata": {},
   "source": [
    "## Subscripted reference for a ktensor"
   ]
  },
  {
   "cell_type": "code",
   "execution_count": null,
   "metadata": {},
   "outputs": [],
   "source": [
    "X = generate_sample_ktensor()\n",
    "X[0][0][0] # Assemble the (0,0,0) element"
   ]
  },
  {
   "cell_type": "code",
   "execution_count": null,
   "metadata": {},
   "outputs": [],
   "source": [
    "X.weights[1] # Weight of the 2nd factor."
   ]
  },
  {
   "cell_type": "code",
   "execution_count": null,
   "metadata": {},
   "outputs": [],
   "source": [
    "X.factor_matrices[1] # Extract a matrix."
   ]
  },
  {
   "cell_type": "code",
   "execution_count": null,
   "metadata": {},
   "outputs": [],
   "source": [
    "X[1] # Same as above."
   ]
  },
  {
   "cell_type": "markdown",
   "metadata": {},
   "source": [
    "## Subscripted assignment for a ktensor"
   ]
  },
  {
   "cell_type": "code",
   "execution_count": null,
   "metadata": {},
   "outputs": [],
   "source": [
    "X = generate_sample_ktensor()\n",
    "X.weights = np.ones(X.weights.size) # Insert new multipliers.\n",
    "X"
   ]
  },
  {
   "cell_type": "markdown",
   "metadata": {},
   "source": [
    "### <font color='red'>**TODO:** : Depends on Open Issue</font> (https://github.com/sandialabs/pyttb/issues/165)"
   ]
  },
  {
   "cell_type": "code",
   "execution_count": null,
   "metadata": {},
   "outputs": [],
   "source": [
    "X.weights[0] = 7 # Change a single element of weights."
   ]
  },
  {
   "cell_type": "code",
   "execution_count": null,
   "metadata": {},
   "outputs": [],
   "source": [
    "X[2][:,[0]] = np.ones((2,1))\n",
    "X[2][:,[0]]"
   ]
  },
  {
   "cell_type": "code",
   "execution_count": null,
   "metadata": {},
   "outputs": [],
   "source": [
    "X.factor_matrices[2][:, [0]] = np.ones((2,1)) # Change the matrix for mode 3.\n",
    "X[2][:,[0]]"
   ]
  },
  {
   "cell_type": "markdown",
   "metadata": {},
   "source": [
    "### <font color='red'>**TODO:** : Depends on Open Issue</font> (https://github.com/sandialabs/pyttb/issues/161)"
   ]
  },
  {
   "cell_type": "markdown",
   "metadata": {},
   "source": [
    "## Use end for the last array index"
   ]
  },
  {
   "cell_type": "code",
   "execution_count": null,
   "metadata": {},
   "outputs": [],
   "source": [
    "if False:\n",
    "    X = generate_sample_ktensor()\n",
    "    X[1:2,X.end(1):,:]"
   ]
  },
  {
   "cell_type": "code",
   "execution_count": null,
   "metadata": {},
   "outputs": [],
   "source": [
    "if False:\n",
    "    X = generate_sample_ktensor()\n",
    "    X[0][0][1:X.end()] # Calculates X[0][0][1]"
   ]
  },
  {
   "cell_type": "markdown",
   "metadata": {},
   "source": [
    "### <font color='red'>**TODO:** : Depends on Open Issue</font> (https://github.com/sandialabs/pyttb/issues/161)"
   ]
  },
  {
   "cell_type": "code",
   "execution_count": null,
   "metadata": {},
   "outputs": [],
   "source": [
    "if False:\n",
    "    X[X.end()]"
   ]
  },
  {
   "cell_type": "markdown",
   "metadata": {},
   "source": [
    "## Adding and subtracting ktensors"
   ]
  },
  {
   "cell_type": "markdown",
   "metadata": {},
   "source": [
    "Adding two ktensors is the same as concatenating the matrices."
   ]
  },
  {
   "cell_type": "code",
   "execution_count": null,
   "metadata": {},
   "outputs": [],
   "source": [
    "np.random.seed(0)\n",
    "X = ttb.ktensor.from_factor_matrices([np.random.rand(4,2), np.random.rand(2,2),np.random.rand(3,2)]) # Data.\n",
    "Y = ttb.ktensor.from_factor_matrices([np.random.rand(4,2), np.random.rand(2,2),np.random.rand(3,2)]) # More data.\n",
    "X, Y"
   ]
  },
  {
   "cell_type": "code",
   "execution_count": null,
   "metadata": {},
   "outputs": [],
   "source": [
    "Z = X + Y # Concatenates the factor matrices.\n",
    "Z"
   ]
  },
  {
   "cell_type": "code",
   "execution_count": null,
   "metadata": {},
   "outputs": [],
   "source": [
    "Z = X - Y # Concatenates as with plus, but changes the weights.\n",
    "Z"
   ]
  },
  {
   "cell_type": "code",
   "execution_count": null,
   "metadata": {},
   "outputs": [],
   "source": [
    "(Z.full() - (X.full() - Y.full())).norm() # Should be zero."
   ]
  },
  {
   "cell_type": "markdown",
   "metadata": {},
   "source": [
    "## Basic operations with a ktensor"
   ]
  },
  {
   "cell_type": "code",
   "execution_count": null,
   "metadata": {},
   "outputs": [],
   "source": [
    "+X # Calls uplus."
   ]
  },
  {
   "cell_type": "code",
   "execution_count": null,
   "metadata": {},
   "outputs": [],
   "source": [
    "-X # Calls uminus."
   ]
  },
  {
   "cell_type": "code",
   "execution_count": null,
   "metadata": {},
   "outputs": [],
   "source": [
    "5*X # Calls mtimes."
   ]
  },
  {
   "cell_type": "markdown",
   "metadata": {},
   "source": [
    "## Use permute to reorder the modes of a ktensor"
   ]
  },
  {
   "cell_type": "code",
   "execution_count": null,
   "metadata": {},
   "outputs": [],
   "source": [
    "np.random.seed(0)\n",
    "X = ttb.ktensor.from_factor_matrices([np.random.rand(4,2), np.random.rand(2,2),np.random.rand(3,2)]) # Data.\n",
    "X.permute(np.array((1,2,0))) # Reorders modes of X."
   ]
  },
  {
   "cell_type": "markdown",
   "metadata": {},
   "source": [
    "## Use arrange to normalize the factors of a ktensor"
   ]
  },
  {
   "cell_type": "markdown",
   "metadata": {},
   "source": [
    "The function `arrange` normalizes the columns of the factors and then arranges the rank-one pieces in decreasing order of size."
   ]
  },
  {
   "cell_type": "code",
   "execution_count": null,
   "metadata": {},
   "outputs": [],
   "source": [
    "np.random.seed(0)\n",
    "X = ttb.ktensor.from_factor_matrices([np.random.rand(3,2), np.random.rand(4,2),np.random.rand(2,2)]) # Unit weights.\n",
    "X"
   ]
  },
  {
   "cell_type": "code",
   "execution_count": null,
   "metadata": {},
   "outputs": [],
   "source": [
    "X.arrange() # Normalized and rearranged.\n",
    "X"
   ]
  },
  {
   "cell_type": "markdown",
   "metadata": {},
   "source": [
    "## Use fixsigns for sign indeterminacies in a ktensor"
   ]
  },
  {
   "cell_type": "markdown",
   "metadata": {},
   "source": [
    "The largest magnitude entry for each factor is changed to be positive provided that we can flip the signs of pairs of vectors in that rank-1 component."
   ]
  },
  {
   "cell_type": "code",
   "execution_count": null,
   "metadata": {},
   "outputs": [],
   "source": [
    "np.random.seed(0)\n",
    "X = ttb.ktensor.from_factor_matrices([np.random.rand(4,2), np.random.rand(2,2),np.random.rand(3,2)]) # Data.\n",
    "Y = X\n",
    "Y.factor_matrices[0][:,0] = -Y.factor_matrices[0][:,0] # switch the sign on a pair of columns\n",
    "Y.factor_matrices[1][:,0] = -Y.factor_matrices[1][:,0]\n",
    "Y"
   ]
  },
  {
   "cell_type": "code",
   "execution_count": null,
   "metadata": {},
   "outputs": [],
   "source": [
    "Y.fixsigns()"
   ]
  },
  {
   "cell_type": "markdown",
   "metadata": {},
   "source": [
    "## Use ktensor to store the 'skinny' SVD of a matrix"
   ]
  },
  {
   "cell_type": "markdown",
   "metadata": {},
   "source": [
    "### <font color='red'>**TODO:** : Depends on Open Issue</font> (https://github.com/sandialabs/pyttb/issues/167)"
   ]
  },
  {
   "cell_type": "code",
   "execution_count": null,
   "metadata": {},
   "outputs": [],
   "source": [
    "np.random.seed(0)\n",
    "A = np.random.rand(4,3)\n",
    "A"
   ]
  },
  {
   "cell_type": "code",
   "execution_count": null,
   "metadata": {},
   "outputs": [],
   "source": [
    "[U,S,V] = np.linalg.svd(A, full_matrices=False) # Compute the SVD.\n",
    "X = ttb.ktensor.from_data(S, [U, V]) # Store the SVD as a ktensor.\n",
    "X"
   ]
  },
  {
   "cell_type": "code",
   "execution_count": null,
   "metadata": {},
   "outputs": [],
   "source": [
    "print(f\"U*S*V:\\n{U@np.diag(S)@V}\")\n",
    "print(f\"\\nX.factor_matrices[0]@np.diag(X.weights)@X.factor_matrices[1]:\\n\\\n",
    "{X.factor_matrices[0]@np.diag(X.weights)@X.factor_matrices[1]}\")\n",
    "print(f\"\\nX.full():\\n{X.full()}\") # Reassemble the original matrix."
   ]
  },
  {
   "cell_type": "markdown",
   "metadata": {},
   "source": [
    "## Displaying a ktensor"
   ]
  },
  {
   "cell_type": "code",
   "execution_count": null,
   "metadata": {},
   "outputs": [],
   "source": [
    "X = generate_sample_ktensor()\n",
    "X"
   ]
  },
  {
   "cell_type": "code",
   "execution_count": null,
   "metadata": {},
   "outputs": [],
   "source": [
    "print(X)"
   ]
  },
  {
   "cell_type": "markdown",
   "metadata": {},
   "source": [
    "## Displaying data"
   ]
  },
  {
   "cell_type": "markdown",
   "metadata": {},
   "source": [
    "### <font color='red'>**TODO:** : Depends on Open Issue</font> (https://github.com/sandialabs/pyttb/issues/166)"
   ]
  },
  {
   "cell_type": "code",
   "execution_count": null,
   "metadata": {},
   "outputs": [],
   "source": [
    "# not implemented in pyttb"
   ]
  }
 ],
 "metadata": {
  "kernelspec": {
   "display_name": "Python 3 (ipykernel)",
   "language": "python",
   "name": "python3"
  },
  "language_info": {
   "codemirror_mode": {
    "name": "ipython",
    "version": 3
   },
   "file_extension": ".py",
   "mimetype": "text/x-python",
   "name": "python",
   "nbconvert_exporter": "python",
   "pygments_lexer": "ipython3",
   "version": "3.8.15"
  }
 },
 "nbformat": 4,
 "nbformat_minor": 1
}
