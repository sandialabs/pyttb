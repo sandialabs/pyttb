{
 "cells": [
  {
   "cell_type": "markdown",
   "metadata": {},
   "source": [
    "# Alternating least squares for Canonical Polyadic (CP) Decomposition\n",
    "\n",
    "```\n",
    "Copyright 2022 National Technology & Engineering Solutions of Sandia,\n",
    "LLC (NTESS). Under the terms of Contract DE-NA0003525 with NTESS, the\n",
    "U.S. Government retains certain rights in this software.\n",
    "```"
   ]
  },
  {
   "cell_type": "markdown",
   "metadata": {},
   "source": [
    "The function `cp_als` computes an estimate of the best rank-R CP model of a tensor X using the well-known alternating least-squares algorithm (see, e.g., Kolda and Bader, SIAM Review, 2009, for more information). The input X can be almost any type of tensor including a `tensor`, `sptensor`, `ktensor`, or `ttensor`. The output CP model is a `ktensor`."
   ]
  },
  {
   "cell_type": "code",
   "execution_count": 119,
   "metadata": {},
   "outputs": [],
   "source": [
    "import os\n",
    "import sys\n",
    "import pyttb as ttb\n",
    "import numpy as np"
   ]
  },
  {
   "cell_type": "markdown",
   "metadata": {},
   "source": [
    "## Load some data"
   ]
  },
  {
   "cell_type": "markdown",
   "metadata": {},
   "source": [
    "### TODO: Choose whether to include sample datasets from MATLAB TTB\n",
    "```\n",
    "We use the well-known *amino acids data set* from Andersson and Bro. It contains fluorescence measurements of 5 samples containing 3 amino acids: Tryptophan, Tyrosine, and Phenylalanine. Each amino acid corresponds to a rank-one component. The tensor is of size 5 x 51 x 201 from 5 samples, 51 excitations, and 201 emissions. Further details can be found here: http://www.models.life.ku.dk/Amino_Acid_fluo. Please cite the following paper for this data: Rasmus Bro, PARAFAC: Tutorial and applications, Chemometrics and Intelligent Laboratory Systems, 1997, 38, 149-171. This dataset can be found in the `doc` directory.\n",
    "\n",
    "We will just use random data for now.\n",
    "```"
   ]
  },
  {
   "cell_type": "code",
   "execution_count": 120,
   "metadata": {},
   "outputs": [],
   "source": [
    "# Pick the size and rank\n",
    "R = 3\n",
    "np.random.seed(0)  # Set seed for reproducibility\n",
    "X = ttb.tensor(np.random.rand(6,8,10), shape=(6,8,10))"
   ]
  },
  {
   "cell_type": "markdown",
   "metadata": {},
   "source": [
    "## Basic call to the method, specifying the data tensor and its rank"
   ]
  },
  {
   "cell_type": "markdown",
   "metadata": {},
   "source": [
    "This uses a *random* initial guess. At each iteration, it reports the *fit* `f` which is defined as \n",
    "```\n",
    "f = 1 - ( X.norm()**2 + M.norm()**2 - 2*<X,M> ) / X.norm()\n",
    "``` \n",
    "and is loosely the proportion of the data described by the CP model, i.e., a fit of 1 is perfect."
   ]
  },
  {
   "cell_type": "code",
   "execution_count": 121,
   "metadata": {},
   "outputs": [
    {
     "name": "stdout",
     "output_type": "stream",
     "text": [
      "CP_ALS:\n",
      " Iter 0: f = 5.184789e-01 f-delta = 5.2e-01\n",
      " Iter 1: f = 5.291340e-01 f-delta = 1.1e-02\n",
      " Iter 2: f = 5.314778e-01 f-delta = 2.3e-03\n",
      " Iter 3: f = 5.322637e-01 f-delta = 7.9e-04\n",
      " Iter 4: f = 5.329675e-01 f-delta = 7.0e-04\n",
      " Iter 5: f = 5.337616e-01 f-delta = 7.9e-04\n",
      " Iter 6: f = 5.346022e-01 f-delta = 8.4e-04\n",
      " Iter 7: f = 5.354130e-01 f-delta = 8.1e-04\n",
      " Iter 8: f = 5.361564e-01 f-delta = 7.4e-04\n",
      " Iter 9: f = 5.368456e-01 f-delta = 6.9e-04\n",
      " Final f = 5.368456e-01\n"
     ]
    }
   ],
   "source": [
    "# Compute a solution with final ktensor stored in M1\n",
    "np.random.seed(0) # Set seed for reproducibility\n",
    "short_tutorial = 10  # Cut off solve early for demo\n",
    "M1 = ttb.cp_als(X, R, maxiters=short_tutorial)"
   ]
  },
  {
   "cell_type": "markdown",
   "metadata": {},
   "source": [
    "Since we set only a single output, `M1` is actually a *tuple* containing:\n",
    "1. `M1[0]`: the solution as a `ktensor`. \n",
    "2. `M1[1]`: the initial guess as a `ktensor` that was generated at runtime since no initial guess was provided. \n",
    "3. `M1[2]`: a dictionary containing runtime information with keys:\n",
    "    * `params`: parameters used by `cp_als`\n",
    "    * `iters`: number of iterations performed\n",
    "    * `normresidual`: the norm of the residual `X.norm()**2 + M.norm()**2 - 2*<X,M>`\n",
    "    * `fit`: the fit `f` described above"
   ]
  },
  {
   "cell_type": "code",
   "execution_count": 122,
   "metadata": {},
   "outputs": [
    {
     "name": "stdout",
     "output_type": "stream",
     "text": [
      "M1[2]['params']: (0.0001, 10, 1, [0, 1, 2])\n",
      "M1[2]['iters']: 9\n",
      "M1[2]['normresidual']: 5.866999501964479\n",
      "M1[2]['fit']: 0.5368456335608366\n"
     ]
    }
   ],
   "source": [
    "print(f\"M1[2]['params']: {M1[2]['params']}\")\n",
    "print(f\"M1[2]['iters']: {M1[2]['iters']}\")\n",
    "print(f\"M1[2]['normresidual']: {M1[2]['normresidual']}\")\n",
    "print(f\"M1[2]['fit']: {M1[2]['fit']}\")"
   ]
  },
  {
   "cell_type": "markdown",
   "metadata": {},
   "source": [
    "## Run again with a different initial guess, output the initial guess."
   ]
  },
  {
   "cell_type": "code",
   "execution_count": 123,
   "metadata": {},
   "outputs": [
    {
     "name": "stdout",
     "output_type": "stream",
     "text": [
      "CP_ALS:\n",
      " Iter 0: f = 5.177965e-01 f-delta = 5.2e-01\n",
      " Iter 1: f = 5.349302e-01 f-delta = 1.7e-02\n",
      " Iter 2: f = 5.377023e-01 f-delta = 2.8e-03\n",
      " Iter 3: f = 5.384685e-01 f-delta = 7.7e-04\n",
      " Iter 4: f = 5.391323e-01 f-delta = 6.6e-04\n",
      " Iter 5: f = 5.398404e-01 f-delta = 7.1e-04\n",
      " Iter 6: f = 5.406120e-01 f-delta = 7.7e-04\n",
      " Iter 7: f = 5.414577e-01 f-delta = 8.5e-04\n",
      " Iter 8: f = 5.424087e-01 f-delta = 9.5e-04\n",
      " Iter 9: f = 5.434735e-01 f-delta = 1.1e-03\n",
      " Final f = 5.434735e-01\n"
     ]
    }
   ],
   "source": [
    "np.random.seed(1) # Set seed for reproducibility\n",
    "M2bad, Minit, _ = ttb.cp_als(X, R, maxiters=short_tutorial)"
   ]
  },
  {
   "cell_type": "markdown",
   "metadata": {},
   "source": [
    "## Increase the maximium number of iterations\n",
    "Note that the previous run kicked out at only 10 iterations, before reaching the specified convegence tolerance. Let's increase the maximum number of iterations and try again, using the same initial guess."
   ]
  },
  {
   "cell_type": "code",
   "execution_count": 124,
   "metadata": {},
   "outputs": [
    {
     "name": "stdout",
     "output_type": "stream",
     "text": [
      "CP_ALS:\n",
      " Iter 0: f = 5.177965e-01 f-delta = 5.2e-01\n",
      " Iter 1: f = 5.349302e-01 f-delta = 1.7e-02\n",
      " Iter 2: f = 5.377023e-01 f-delta = 2.8e-03\n",
      " Iter 3: f = 5.384685e-01 f-delta = 7.7e-04\n",
      " Iter 4: f = 5.391323e-01 f-delta = 6.6e-04\n",
      " Iter 5: f = 5.398404e-01 f-delta = 7.1e-04\n",
      " Iter 6: f = 5.406120e-01 f-delta = 7.7e-04\n",
      " Iter 7: f = 5.414577e-01 f-delta = 8.5e-04\n",
      " Iter 8: f = 5.424087e-01 f-delta = 9.5e-04\n",
      " Iter 9: f = 5.434735e-01 f-delta = 1.1e-03\n",
      " Iter 10: f = 5.445673e-01 f-delta = 1.1e-03\n",
      " Iter 11: f = 5.455431e-01 f-delta = 9.8e-04\n",
      " Iter 12: f = 5.463202e-01 f-delta = 7.8e-04\n",
      " Iter 13: f = 5.469128e-01 f-delta = 5.9e-04\n",
      " Iter 14: f = 5.473693e-01 f-delta = 4.6e-04\n",
      " Iter 15: f = 5.477353e-01 f-delta = 3.7e-04\n",
      " Iter 16: f = 5.480438e-01 f-delta = 3.1e-04\n",
      " Iter 17: f = 5.483164e-01 f-delta = 2.7e-04\n",
      " Iter 18: f = 5.485659e-01 f-delta = 2.5e-04\n",
      " Iter 19: f = 5.487997e-01 f-delta = 2.3e-04\n",
      " Iter 20: f = 5.490210e-01 f-delta = 2.2e-04\n",
      " Iter 21: f = 5.492315e-01 f-delta = 2.1e-04\n",
      " Iter 22: f = 5.494313e-01 f-delta = 2.0e-04\n",
      " Iter 23: f = 5.496204e-01 f-delta = 1.9e-04\n",
      " Iter 24: f = 5.497988e-01 f-delta = 1.8e-04\n",
      " Iter 25: f = 5.499673e-01 f-delta = 1.7e-04\n",
      " Iter 26: f = 5.501272e-01 f-delta = 1.6e-04\n",
      " Iter 27: f = 5.502806e-01 f-delta = 1.5e-04\n",
      " Iter 28: f = 5.504300e-01 f-delta = 1.5e-04\n",
      " Iter 29: f = 5.505780e-01 f-delta = 1.5e-04\n",
      " Iter 30: f = 5.507275e-01 f-delta = 1.5e-04\n",
      " Iter 31: f = 5.508812e-01 f-delta = 1.5e-04\n",
      " Iter 32: f = 5.510415e-01 f-delta = 1.6e-04\n",
      " Iter 33: f = 5.512112e-01 f-delta = 1.7e-04\n",
      " Iter 34: f = 5.513928e-01 f-delta = 1.8e-04\n",
      " Iter 35: f = 5.515891e-01 f-delta = 2.0e-04\n",
      " Iter 36: f = 5.518029e-01 f-delta = 2.1e-04\n",
      " Iter 37: f = 5.520374e-01 f-delta = 2.3e-04\n",
      " Iter 38: f = 5.522959e-01 f-delta = 2.6e-04\n",
      " Iter 39: f = 5.525812e-01 f-delta = 2.9e-04\n",
      " Iter 40: f = 5.528948e-01 f-delta = 3.1e-04\n",
      " Iter 41: f = 5.532357e-01 f-delta = 3.4e-04\n",
      " Iter 42: f = 5.535976e-01 f-delta = 3.6e-04\n",
      " Iter 43: f = 5.539680e-01 f-delta = 3.7e-04\n",
      " Iter 44: f = 5.543274e-01 f-delta = 3.6e-04\n",
      " Iter 45: f = 5.546544e-01 f-delta = 3.3e-04\n",
      " Iter 46: f = 5.549343e-01 f-delta = 2.8e-04\n",
      " Iter 47: f = 5.551655e-01 f-delta = 2.3e-04\n",
      " Iter 48: f = 5.553584e-01 f-delta = 1.9e-04\n",
      " Iter 49: f = 5.555280e-01 f-delta = 1.7e-04\n",
      " Iter 50: f = 5.556868e-01 f-delta = 1.6e-04\n",
      " Iter 51: f = 5.558418e-01 f-delta = 1.6e-04\n",
      " Iter 52: f = 5.559959e-01 f-delta = 1.5e-04\n",
      " Iter 53: f = 5.561491e-01 f-delta = 1.5e-04\n",
      " Iter 54: f = 5.562997e-01 f-delta = 1.5e-04\n",
      " Iter 55: f = 5.564455e-01 f-delta = 1.5e-04\n",
      " Iter 56: f = 5.565842e-01 f-delta = 1.4e-04\n",
      " Iter 57: f = 5.567136e-01 f-delta = 1.3e-04\n",
      " Iter 58: f = 5.568320e-01 f-delta = 1.2e-04\n",
      " Iter 59: f = 5.569380e-01 f-delta = 1.1e-04\n",
      " Iter 60: f = 5.570314e-01 f-delta = 9.3e-05\n",
      " Final f = 5.570314e-01\n"
     ]
    }
   ],
   "source": [
    "less_short_tutorial = 10*short_tutorial\n",
    "M2 = ttb.cp_als(X, R, maxiters=less_short_tutorial, init=Minit)"
   ]
  },
  {
   "cell_type": "markdown",
   "metadata": {},
   "source": [
    "## Compare the two solutions\n",
    "Use the `ktensor` `score()` member function to compare the two solutions. A score of 1 indicates a perfect match."
   ]
  },
  {
   "cell_type": "code",
   "execution_count": 125,
   "metadata": {},
   "outputs": [],
   "source": [
    "M1_ktns = M1[0]\n",
    "M2_ktns = M2[0]\n",
    "score = M1_ktns.score(M2_ktns)"
   ]
  },
  {
   "cell_type": "markdown",
   "metadata": {},
   "source": [
    "Here, `score()` returned a tuple `score` with the score as the first element:"
   ]
  },
  {
   "cell_type": "code",
   "execution_count": 126,
   "metadata": {},
   "outputs": [
    {
     "data": {
      "text/plain": [
       "0.2315335558892375"
      ]
     },
     "execution_count": 126,
     "metadata": {},
     "output_type": "execute_result"
    }
   ],
   "source": [
    "score[0]"
   ]
  },
  {
   "cell_type": "markdown",
   "metadata": {},
   "source": [
    "See the `ktensor` documentation for more information about the return values of `score()`."
   ]
  },
  {
   "cell_type": "markdown",
   "metadata": {},
   "source": [
    "# Rerun with same initial guess\n",
    "Using the same initial guess (and all other parameters) gives the exact same solution."
   ]
  },
  {
   "cell_type": "code",
   "execution_count": 127,
   "metadata": {},
   "outputs": [
    {
     "name": "stdout",
     "output_type": "stream",
     "text": [
      "CP_ALS:\n",
      " Iter 0: f = 5.177965e-01 f-delta = 5.2e-01\n",
      " Iter 1: f = 5.349302e-01 f-delta = 1.7e-02\n",
      " Iter 2: f = 5.377023e-01 f-delta = 2.8e-03\n",
      " Iter 3: f = 5.384685e-01 f-delta = 7.7e-04\n",
      " Iter 4: f = 5.391323e-01 f-delta = 6.6e-04\n",
      " Iter 5: f = 5.398404e-01 f-delta = 7.1e-04\n",
      " Iter 6: f = 5.406120e-01 f-delta = 7.7e-04\n",
      " Iter 7: f = 5.414577e-01 f-delta = 8.5e-04\n",
      " Iter 8: f = 5.424087e-01 f-delta = 9.5e-04\n",
      " Iter 9: f = 5.434735e-01 f-delta = 1.1e-03\n",
      " Iter 10: f = 5.445673e-01 f-delta = 1.1e-03\n",
      " Iter 11: f = 5.455431e-01 f-delta = 9.8e-04\n",
      " Iter 12: f = 5.463202e-01 f-delta = 7.8e-04\n",
      " Iter 13: f = 5.469128e-01 f-delta = 5.9e-04\n",
      " Iter 14: f = 5.473693e-01 f-delta = 4.6e-04\n",
      " Iter 15: f = 5.477353e-01 f-delta = 3.7e-04\n",
      " Iter 16: f = 5.480438e-01 f-delta = 3.1e-04\n",
      " Iter 17: f = 5.483164e-01 f-delta = 2.7e-04\n",
      " Iter 18: f = 5.485659e-01 f-delta = 2.5e-04\n",
      " Iter 19: f = 5.487997e-01 f-delta = 2.3e-04\n",
      " Iter 20: f = 5.490210e-01 f-delta = 2.2e-04\n",
      " Iter 21: f = 5.492315e-01 f-delta = 2.1e-04\n",
      " Iter 22: f = 5.494313e-01 f-delta = 2.0e-04\n",
      " Iter 23: f = 5.496204e-01 f-delta = 1.9e-04\n",
      " Iter 24: f = 5.497988e-01 f-delta = 1.8e-04\n",
      " Iter 25: f = 5.499673e-01 f-delta = 1.7e-04\n",
      " Iter 26: f = 5.501272e-01 f-delta = 1.6e-04\n",
      " Iter 27: f = 5.502806e-01 f-delta = 1.5e-04\n",
      " Iter 28: f = 5.504300e-01 f-delta = 1.5e-04\n",
      " Iter 29: f = 5.505780e-01 f-delta = 1.5e-04\n",
      " Iter 30: f = 5.507275e-01 f-delta = 1.5e-04\n",
      " Iter 31: f = 5.508812e-01 f-delta = 1.5e-04\n",
      " Iter 32: f = 5.510415e-01 f-delta = 1.6e-04\n",
      " Iter 33: f = 5.512112e-01 f-delta = 1.7e-04\n",
      " Iter 34: f = 5.513928e-01 f-delta = 1.8e-04\n",
      " Iter 35: f = 5.515891e-01 f-delta = 2.0e-04\n",
      " Iter 36: f = 5.518029e-01 f-delta = 2.1e-04\n",
      " Iter 37: f = 5.520374e-01 f-delta = 2.3e-04\n",
      " Iter 38: f = 5.522959e-01 f-delta = 2.6e-04\n",
      " Iter 39: f = 5.525812e-01 f-delta = 2.9e-04\n",
      " Iter 40: f = 5.528948e-01 f-delta = 3.1e-04\n",
      " Iter 41: f = 5.532357e-01 f-delta = 3.4e-04\n",
      " Iter 42: f = 5.535976e-01 f-delta = 3.6e-04\n",
      " Iter 43: f = 5.539680e-01 f-delta = 3.7e-04\n",
      " Iter 44: f = 5.543274e-01 f-delta = 3.6e-04\n",
      " Iter 45: f = 5.546544e-01 f-delta = 3.3e-04\n",
      " Iter 46: f = 5.549343e-01 f-delta = 2.8e-04\n",
      " Iter 47: f = 5.551655e-01 f-delta = 2.3e-04\n",
      " Iter 48: f = 5.553584e-01 f-delta = 1.9e-04\n",
      " Iter 49: f = 5.555280e-01 f-delta = 1.7e-04\n",
      " Iter 50: f = 5.556868e-01 f-delta = 1.6e-04\n",
      " Iter 51: f = 5.558418e-01 f-delta = 1.6e-04\n",
      " Iter 52: f = 5.559959e-01 f-delta = 1.5e-04\n",
      " Iter 53: f = 5.561491e-01 f-delta = 1.5e-04\n",
      " Iter 54: f = 5.562997e-01 f-delta = 1.5e-04\n",
      " Iter 55: f = 5.564455e-01 f-delta = 1.5e-04\n",
      " Iter 56: f = 5.565842e-01 f-delta = 1.4e-04\n",
      " Iter 57: f = 5.567136e-01 f-delta = 1.3e-04\n",
      " Iter 58: f = 5.568320e-01 f-delta = 1.2e-04\n",
      " Iter 59: f = 5.569380e-01 f-delta = 1.1e-04\n",
      " Iter 60: f = 5.570314e-01 f-delta = 9.3e-05\n",
      " Final f = 5.570314e-01\n",
      "Score: 1.0000000000000004.\n"
     ]
    }
   ],
   "source": [
    "M2alt = ttb.cp_als(X, R, maxiters=less_short_tutorial, init=Minit)\n",
    "M2alt_ktns = M2alt[0]\n",
    "score = M2_ktns.score(M2alt_ktns) # Score of 1 indicates the same solution\n",
    "print(f\"Score: {score[0]}.\")"
   ]
  },
  {
   "cell_type": "markdown",
   "metadata": {},
   "source": [
    "## Changing the output frequency\n",
    "Using the `printitn` option to change the output frequency."
   ]
  },
  {
   "cell_type": "code",
   "execution_count": 128,
   "metadata": {},
   "outputs": [
    {
     "name": "stdout",
     "output_type": "stream",
     "text": [
      "CP_ALS:\n",
      " Iter 0: f = 5.177965e-01 f-delta = 5.2e-01\n",
      " Iter 20: f = 5.490210e-01 f-delta = 2.2e-04\n",
      " Iter 40: f = 5.528948e-01 f-delta = 3.1e-04\n",
      " Iter 60: f = 5.570314e-01 f-delta = 9.3e-05\n",
      " Final f = 5.570314e-01\n"
     ]
    }
   ],
   "source": [
    "M2alt2 = ttb.cp_als(X, R, maxiters=less_short_tutorial, init=Minit, printitn=20)"
   ]
  },
  {
   "cell_type": "markdown",
   "metadata": {},
   "source": [
    "## Suppress all output\n",
    "Set `printitn` to zero to suppress all output."
   ]
  },
  {
   "cell_type": "code",
   "execution_count": 130,
   "metadata": {},
   "outputs": [
    {
     "ename": "ZeroDivisionError",
     "evalue": "integer division or modulo by zero",
     "output_type": "error",
     "traceback": [
      "\u001b[0;31m---------------------------------------------------------------------------\u001b[0m",
      "\u001b[0;31mZeroDivisionError\u001b[0m                         Traceback (most recent call last)",
      "Cell \u001b[0;32mIn[130], line 2\u001b[0m\n\u001b[1;32m      1\u001b[0m \u001b[39m# TODO this will pass when issue #235 is resolved\u001b[39;00m\n\u001b[0;32m----> 2\u001b[0m M2alt2 \u001b[39m=\u001b[39m ttb\u001b[39m.\u001b[39;49mcp_als(X, R, printitn\u001b[39m=\u001b[39;49m\u001b[39m0\u001b[39;49m) \u001b[39m# No output\u001b[39;00m\n",
      "File \u001b[0;32m~/Tamales/pyttb/pyttb/cp_als.py:241\u001b[0m, in \u001b[0;36mcp_als\u001b[0;34m(input_tensor, rank, stoptol, maxiters, dimorder, init, printitn, fixsigns)\u001b[0m\n\u001b[1;32m    238\u001b[0m \u001b[39melse\u001b[39;00m:\n\u001b[1;32m    239\u001b[0m     flag \u001b[39m=\u001b[39m \u001b[39m1\u001b[39m\n\u001b[0;32m--> 241\u001b[0m \u001b[39mif\u001b[39;00m (\u001b[39mdivmod\u001b[39m(iteration, printitn)[\u001b[39m1\u001b[39m] \u001b[39m==\u001b[39m \u001b[39m0\u001b[39m) \u001b[39mor\u001b[39;00m (printitn \u001b[39m>\u001b[39m \u001b[39m0\u001b[39m \u001b[39mand\u001b[39;00m flag \u001b[39m==\u001b[39m \u001b[39m0\u001b[39m):\n\u001b[1;32m    242\u001b[0m     \u001b[39mprint\u001b[39m(\u001b[39mf\u001b[39m\u001b[39m\"\u001b[39m\u001b[39m Iter \u001b[39m\u001b[39m{\u001b[39;00miteration\u001b[39m}\u001b[39;00m\u001b[39m: f = \u001b[39m\u001b[39m{\u001b[39;00mfit\u001b[39m:\u001b[39;00m\u001b[39me\u001b[39m\u001b[39m}\u001b[39;00m\u001b[39m f-delta = \u001b[39m\u001b[39m{\u001b[39;00mfitchange\u001b[39m:\u001b[39;00m\u001b[39m7.1e\u001b[39m\u001b[39m}\u001b[39;00m\u001b[39m\"\u001b[39m)\n\u001b[1;32m    244\u001b[0m \u001b[39m# Check for convergence\u001b[39;00m\n",
      "\u001b[0;31mZeroDivisionError\u001b[0m: integer division or modulo by zero"
     ]
    }
   ],
   "source": [
    "# TODO this will pass when issue #235 is resolved\n",
    "M2alt2 = ttb.cp_als(X, R, printitn=0) # No output"
   ]
  },
  {
   "cell_type": "markdown",
   "metadata": {},
   "source": [
    "## Use HOSVD initial guess\n",
    "Use the `'nvecs'` option to use the leading mode-n singular vectors as the initial guess."
   ]
  },
  {
   "cell_type": "code",
   "execution_count": 131,
   "metadata": {},
   "outputs": [
    {
     "name": "stdout",
     "output_type": "stream",
     "text": [
      "CP_ALS:\n",
      " Iter 0: f = 5.380727e-01 f-delta = 5.4e-01\n",
      " Iter 9: f = 5.533586e-01 f-delta = 7.4e-05\n",
      " Final f = 5.533586e-01\n",
      "score(M2,M3) = 0.5193080815612473\n"
     ]
    }
   ],
   "source": [
    "M3 = ttb.cp_als(X, R, init='nvecs', printitn=20)\n",
    "s = M2[0].score(M3[0])\n",
    "print(f\"score(M2,M3) = {s[0]}\")\n"
   ]
  },
  {
   "cell_type": "markdown",
   "metadata": {},
   "source": [
    "# Change the order of the dimensions in CP"
   ]
  },
  {
   "cell_type": "code",
   "execution_count": 132,
   "metadata": {},
   "outputs": [
    {
     "name": "stdout",
     "output_type": "stream",
     "text": [
      "CP_ALS:\n",
      " Iter 0: f = 5.435056e-01 f-delta = 5.4e-01\n",
      " Iter 10: f = 5.562656e-01 f-delta = 7.8e-05\n",
      " Final f = 5.562656e-01\n",
      "score(M2,M4) = 0.4148247168226822\n"
     ]
    }
   ],
   "source": [
    "M4, _, info = ttb.cp_als(X,3,dimorder=[1,2,0], init='nvecs', printitn=20)\n",
    "s = M2[0].score(M4)\n",
    "print(f\"score(M2,M4) = {s[0]}\")"
   ]
  },
  {
   "cell_type": "markdown",
   "metadata": {},
   "source": [
    "In the last example, we also collected the third output argument `info` which has runtime information in it. The field `info['iters']` has the total number of iterations. The field `info.['params']` has the information used to run the method. Unless the initialization method is 'random', passing the parameters back to the method will yield the exact same results."
   ]
  },
  {
   "cell_type": "code",
   "execution_count": 133,
   "metadata": {},
   "outputs": [
    {
     "ename": "TypeError",
     "evalue": "pyttb.cp_als.cp_als() argument after ** must be a mapping, not tuple",
     "output_type": "error",
     "traceback": [
      "\u001b[0;31m---------------------------------------------------------------------------\u001b[0m",
      "\u001b[0;31mTypeError\u001b[0m                                 Traceback (most recent call last)",
      "Cell \u001b[0;32mIn[133], line 2\u001b[0m\n\u001b[1;32m      1\u001b[0m \u001b[39m# TODO this will pass when issue #236 is resolved\u001b[39;00m\n\u001b[0;32m----> 2\u001b[0m M4alt, _, info \u001b[39m=\u001b[39m ttb\u001b[39m.\u001b[39mcp_als(X,\u001b[39m3\u001b[39m,\u001b[39m*\u001b[39m\u001b[39m*\u001b[39minfo[\u001b[39m'\u001b[39m\u001b[39mparams\u001b[39m\u001b[39m'\u001b[39m])\n\u001b[1;32m      3\u001b[0m s \u001b[39m=\u001b[39m M4alt\u001b[39m.\u001b[39mscore(M4)\n\u001b[1;32m      4\u001b[0m \u001b[39mprint\u001b[39m(\u001b[39mf\u001b[39m\u001b[39m\"\u001b[39m\u001b[39mscore(M4alt,M4) = \u001b[39m\u001b[39m{\u001b[39;00ms[\u001b[39m0\u001b[39m]\u001b[39m}\u001b[39;00m\u001b[39m\"\u001b[39m)\n",
      "\u001b[0;31mTypeError\u001b[0m: pyttb.cp_als.cp_als() argument after ** must be a mapping, not tuple"
     ]
    }
   ],
   "source": [
    "# TODO this will pass when issue #236 is resolved\n",
    "M4alt, _, info = ttb.cp_als(X,3,**info['params'])\n",
    "s = M4alt.score(M4)\n",
    "print(f\"score(M4alt,M4) = {s[0]}\")"
   ]
  },
  {
   "cell_type": "markdown",
   "metadata": {},
   "source": [
    "## Change the tolerance\n",
    "It's also possible to loosen or tighten the tolerance on the change in the fit. You may need to increase the number of iterations for it to converge."
   ]
  },
  {
   "cell_type": "code",
   "execution_count": 134,
   "metadata": {},
   "outputs": [
    {
     "name": "stdout",
     "output_type": "stream",
     "text": [
      "CP_ALS:\n",
      " Iter 0: f = 5.380727e-01 f-delta = 5.4e-01\n",
      " Iter 100: f = 5.535944e-01 f-delta = 8.6e-09\n",
      " Iter 200: f = 5.535946e-01 f-delta = 1.7e-11\n",
      " Iter 246: f = 5.535946e-01 f-delta = 9.8e-13\n",
      " Final f = 5.535946e-01\n"
     ]
    }
   ],
   "source": [
    "M5 = ttb.cp_als(X, 3, init='nvecs', stoptol=1e-12, printitn=100)"
   ]
  },
  {
   "cell_type": "markdown",
   "metadata": {},
   "source": [
    "## Control sign ambiguity of factor matrices\n",
    "The default behavior of `cp_als` is to make a call to `fixsigns()` to fix the sign ambiguity of the factor matrices. You can turn off this behavior by passing the `fixsigns` parameter value of `False` when calling `cp_als`."
   ]
  },
  {
   "cell_type": "code",
   "execution_count": 143,
   "metadata": {},
   "outputs": [
    {
     "name": "stdout",
     "output_type": "stream",
     "text": [
      "CP_ALS:\n",
      " Iter 0: f = 1.000000e+00 f-delta = 1.0e+00\n",
      " Iter 1: f = 1.000000e+00 f-delta = 0.0e+00\n",
      " Final f = 1.000000e+00\n",
      "ktensor of shape (2, 2)\n",
      "weights=[101.   2.]\n",
      "factor_matrices[0] =\n",
      "[[-0.09950372  0.70710678]\n",
      " [ 0.99503719  0.70710678]]\n",
      "factor_matrices[1] =\n",
      "[[-0.09950372  0.70710678]\n",
      " [ 0.99503719  0.70710678]]\n",
      "CP_ALS:\n",
      " Iter 0: f = 1.000000e+00 f-delta = 1.0e+00\n",
      " Iter 1: f = 1.000000e+00 f-delta = 0.0e+00\n",
      " Final f = 1.000000e+00\n",
      "ktensor of shape (2, 2)\n",
      "weights=[101.   2.]\n",
      "factor_matrices[0] =\n",
      "[[ 0.09950372  0.70710678]\n",
      " [-0.99503719  0.70710678]]\n",
      "factor_matrices[1] =\n",
      "[[ 0.09950372  0.70710678]\n",
      " [-0.99503719  0.70710678]]\n"
     ]
    }
   ],
   "source": [
    "X = ttb.ktensor(factor_matrices=[np.array([[1.,1.],[1.,-10.]]),np.array([[1.,1.],[1.,-10.]])], weights=np.array([1.,1.]))\n",
    "M1 = ttb.cp_als(X, 2, printitn=1, init=ttb.ktensor(X.factor_matrices))\n",
    "print(M1[0]) # default behavior, fixsigns called\n",
    "M2 = ttb.cp_als(X, 2, printitn=1, init=ttb.ktensor(X.factor_matrices), fixsigns=False)\n",
    "print(M2[0]) # fixsigns not called"
   ]
  },
  {
   "cell_type": "markdown",
   "metadata": {},
   "source": [
    "## Recommendations\n",
    "* Run multiple times with different guesses and select the solution with the best fit.\n",
    "* Try different ranks and choose the solution that is the best descriptor for your data based on the combination of the fit and the interpretaton of the factors, e.g., by visualizing the results."
   ]
  }
 ],
 "metadata": {
  "kernelspec": {
   "display_name": "Python 3 (ipykernel)",
   "language": "python",
   "name": "python3"
  },
  "language_info": {
   "codemirror_mode": {
    "name": "ipython",
    "version": 3
   },
   "file_extension": ".py",
   "mimetype": "text/x-python",
   "name": "python",
   "nbconvert_exporter": "python",
   "pygments_lexer": "ipython3",
   "version": "3.11.3"
  }
 },
 "nbformat": 4,
 "nbformat_minor": 2
}
